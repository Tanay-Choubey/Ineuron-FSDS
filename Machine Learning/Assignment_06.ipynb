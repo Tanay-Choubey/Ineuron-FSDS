{
  "nbformat": 4,
  "nbformat_minor": 0,
  "metadata": {
    "colab": {
      "provenance": []
    },
    "kernelspec": {
      "name": "python3",
      "display_name": "Python 3"
    },
    "language_info": {
      "name": "python"
    }
  },
  "cells": [
    {
      "cell_type": "markdown",
      "source": [
        "# **Assignment 06**"
      ],
      "metadata": {
        "id": "wOrYB15MwJw_"
      }
    },
    {
      "cell_type": "markdown",
      "source": [
        "**Q. 1:** In the sense of machine learning, what is a model? What is the best way to train a model?\n",
        "\n",
        "**Ans 1:** A Machine Learning Model is a file that has been trained to recognize certain types of patterns. You train a model over a set of data, providing it an algorithm that it can use to reason over and learn from those data.\n",
        "\n",
        "1. Model Naming — Give Your Model a Name, Let’s start with giving your model a name, describe your model and attach tags to your model. Tags are to make your model searchable.\n",
        "\n",
        "2. Data Type Selection — Choose data type(Images/Text/CSV), It’s time to tell us about the type of data you want to train your model. ML Models support Images, Text and *.CSV (categorical data) data types.\n",
        "\n",
        "3. Data Upload — Upload your data or choose from Public Data Sets: Choose from public datasets like Jewellery Data set (Images), Gender Data Set (Images), Question or Sentence Data Set (Text), Numerai Data Set (CSV) or upload your data.\n",
        "\n",
        "4. Type category(label) for the files (images/text file) that you have uploaded and click on submit to begin upload. Wait for some time till our web app uploads all the files. You can upload images for as many categories as possible.\n",
        "\n",
        "5. Start Training - Push the button, to start the training. Now Mateverse’s intelligent backend will start with processing the data that you have uploaded and preparing it for the training."
      ],
      "metadata": {
        "id": "pT0vXGqXwPC-"
      }
    },
    {
      "cell_type": "markdown",
      "source": [
        "\n",
        "\n",
        "---\n",
        "\n"
      ],
      "metadata": {
        "id": "qQu7w7x0x-Xf"
      }
    },
    {
      "cell_type": "markdown",
      "source": [
        "**Q. 2:** In the sense of machine learning, explain the \"No Free Lunch\" theorem.\n",
        "\n",
        "**Ans 2:** The No Free Lunch Theorem, often abbreviated as NFL or NFLT, is a theoretical finding that suggests all optimization algorithms perform equally well when their performance is averaged over all possible objective functions. In computational complexity and optimization the no free lunch theorem is a result that states that for certain types of mathematical problems, the computational cost of finding a solution, averaged over all problems in the class, is the same for any solution method.\n",
        "\n",
        "In Simple Words “No Free Lunch” theorem means we can’t rely on one model to be best of all models. We have to understand data properly and make use of ML understanding and make use of models to find best out of it."
      ],
      "metadata": {
        "id": "jEmlem3nx_Iu"
      }
    },
    {
      "cell_type": "markdown",
      "source": [
        "\n",
        "\n",
        "---\n",
        "\n"
      ],
      "metadata": {
        "id": "qKRZCTIoy5FG"
      }
    },
    {
      "cell_type": "markdown",
      "source": [
        "**Q. 3:** Describe the K-fold cross-validation mechanism in detail.\n",
        "\n",
        "**Ans 3:** In K-fold cross validation, data D is subset into k subsets randomly. Let us assume S1...Sk are the subsets where Sk is the kth randomly split subset of data D. In the first iteration, D-S1 is used for training and S1 for testing the model. When the model has been trained and tested, evaluation can be done, score is noted elsewhere and the trained model is discarded.\n",
        "\n",
        "These k-iterations go on where 1/k subset of D is always set aside for testing the data and D-1/k subsets are used for training, evaluating and discarding the model. At the end of all the iterations, average of all the evaluation scores is taken and used as output."
      ],
      "metadata": {
        "id": "GJv4kzijy5_u"
      }
    },
    {
      "cell_type": "markdown",
      "source": [
        "\n",
        "\n",
        "---\n",
        "\n"
      ],
      "metadata": {
        "id": "Bcp-o1MszK2t"
      }
    },
    {
      "cell_type": "markdown",
      "source": [
        "**Q. 4:** Describe the bootstrap sampling method. What is the aim of it?\n",
        "\n",
        "**Ans 4:** The bootstrap method is a statistical technique for estimating quantities about a population by averaging estimates from multiple small data samples.\n",
        "\n",
        "Importantly, samples are constructed by drawing observations from a large data sample one at a time and returning them to the data sample after they have been chosen. This allows a given observation to be included in a given small sample more than once. This approach to sampling is called sampling with replacement."
      ],
      "metadata": {
        "id": "lJ2K6hlqzLoN"
      }
    },
    {
      "cell_type": "markdown",
      "source": [
        "\n",
        "\n",
        "---\n",
        "\n"
      ],
      "metadata": {
        "id": "ZFhj1Rs_0FSe"
      }
    },
    {
      "cell_type": "markdown",
      "source": [
        "**Q. 5:**  What is the significance of calculating the Kappa value for a classification model? Demonstrate how to measure the Kappa value of a classification model using a sample collection of results.\n",
        "\n",
        "**Ans 5:** Kappa value or Cohen's Kappa coefficient is an evaluation metric for classification models. Its significance as an evaluation metric is that it can be used to evaluate multi class classification models and also works on models trained on imbalanced datasets(scores like accuracy scores fail for imbalanced datasets).\n",
        "\n",
        "In simpler words It basically tells you how much better your classifier is performing over the performance of a classifier that simply guesses at random according to the frequency of each class. Cohen's kappa is always less than or equal to 1. Values of 0 or less, indicate that the classifier is useless Cohen suggested the Kappa result be interpreted as follows: values ≤ 0 as indicating no agreement and 0.01–0.20 as none to slight, 0.21–0.40 as fair, 0.41– 0.60 as moderate, 0.61–0.80 as substantial, and 0.81–1.00 as almost perfect agreement."
      ],
      "metadata": {
        "id": "mJTqmKog0F42"
      }
    },
    {
      "cell_type": "markdown",
      "source": [
        "\n",
        "\n",
        "---\n",
        "\n"
      ],
      "metadata": {
        "id": "u411IP250zkl"
      }
    },
    {
      "cell_type": "markdown",
      "source": [
        "**Q. 6:** Describe the model ensemble method. In machine learning, what part does it play?\n",
        "\n",
        "**Ans 6:** Ensemble methods or ensemble machine learning models are models where more than one models are being used spontaneously to produce better results than individually trained models. Ensemble modeling is a process where multiple diverse models are created to predict an outcome, either by using many different modeling algorithms or using different training data sets. The ensemble model then aggregates the prediction of each base model and results in once final prediction for the unseen data."
      ],
      "metadata": {
        "id": "SaEZYEUG00QV"
      }
    },
    {
      "cell_type": "markdown",
      "source": [
        "\n",
        "\n",
        "---\n",
        "\n"
      ],
      "metadata": {
        "id": "KGJG7XqU1Ogc"
      }
    },
    {
      "cell_type": "markdown",
      "source": [
        "**Q. 7:** What is a descriptive model's main purpose? Give examples of real-world problems that descriptive models were used to solve.\n",
        "\n",
        "**Ans 7:** A descriptive model is used for tasks that would benefit from the insight gained from summarizing data in new and interesting ways. As opposed to predictive models that predict a target of interest, in a descriptive model, no single feature is more important than any other. In fact, because there is no target to learn, the process of training a descriptive model is called unsupervised learning.\n",
        "\n",
        "It is used in customer classification as real life problem ."
      ],
      "metadata": {
        "id": "qAKFQz9x1Pdd"
      }
    },
    {
      "cell_type": "markdown",
      "source": [
        "\n",
        "\n",
        "---\n",
        "\n"
      ],
      "metadata": {
        "id": "7aqujSVP1azk"
      }
    },
    {
      "cell_type": "markdown",
      "source": [
        "**Q. 8:** Describe how to evaluate a linear regression model.\n",
        "\n",
        "**Ans 8:** Evaluation of a linear regression model can be done using R-square.R square is calculated as the sum of squared errors in predictions made,divided by summation of all sum of squares.R square measures how much of the change in target variable can be explained by the linear regressor.Its value ranges from 0 and 1 where 0 means poor preformance and 1 means good.Some other technique which can be used to evaluate a linear regression model are :\n",
        "\n",
        "1. Mean square Error (MSE)/Root Mean Square Error (RMSE).\n",
        "\n",
        "2. Mean Absolute Error(MAE).\n"
      ],
      "metadata": {
        "id": "CNWbPucJ1baN"
      }
    },
    {
      "cell_type": "markdown",
      "source": [
        "\n",
        "\n",
        "---\n",
        "\n"
      ],
      "metadata": {
        "id": "mbmVSszn1sSk"
      }
    },
    {
      "cell_type": "markdown",
      "source": [
        "**Q. 9:** Distinguish :\n",
        "1. Descriptive vs. predictive models\n",
        "2. Underfitting vs. overfitting the model\n",
        "3. Bootstrapping vs. cross-validation\n",
        "\n",
        "**Ans 9:** \n",
        "\n",
        "1. Descriptive models are used to describe data, while predictive models are used to predict future outcomes.\n",
        "\n",
        "2. Underfitting occurs when a model is too simple and unable to capture the underlying pattern of the data, while overfitting occurs when a model is too complex and captures the noise in the data instead of the underlying pattern.\n",
        "\n",
        "3. Bootstrapping is a statistical technique for estimating the sampling distribution of an estimator by resampling with replacement from the original sample, while cross-validation is a model evaluation method that splits the data into training and testing sets, and measures the performance of the model on the test set."
      ],
      "metadata": {
        "id": "G3sMTOKI1tms"
      }
    },
    {
      "cell_type": "markdown",
      "source": [
        "\n",
        "\n",
        "---\n",
        "\n"
      ],
      "metadata": {
        "id": "dZE9Mk1_2cYt"
      }
    },
    {
      "cell_type": "markdown",
      "source": [
        "**Q. 10:** Make quick notes on:\n",
        "1. LOOCV.\n",
        "2. F-measurement\n",
        "3. The width of the silhouette\n",
        "4. Receiver operating characteristic curve\n",
        "\n",
        "**Ans 10:** \n",
        "1. LOOCV: Leave-One-Out Cross-Validation is a type of cross-validation technique in which a single data point is used for testing and the remaining data points are used for training.\n",
        "\n",
        "2. F-measurement: F-measure is a measure of a test's accuracy, which is calculated by taking the harmonic mean of precision and recall.\n",
        "\n",
        "3. The width of the silhouette: The width of the silhouette is a measure of how well-defined the clusters are in a dataset. It is calculated by subtracting the mean intra-cluster distance from the mean nearest-cluster distance.\n",
        "\n",
        "4. Receiver operating characteristic curve: The receiver operating characteristic (ROC) curve is a graphical representation of the sensitivity and specificity of a binary classifier. It is used to evaluate the performance of the classifier by plotting the true positive rate against the false positive rate."
      ],
      "metadata": {
        "id": "N-w5fCSB2dFU"
      }
    },
    {
      "cell_type": "markdown",
      "source": [
        "\n",
        "\n",
        "---\n",
        "\n"
      ],
      "metadata": {
        "id": "fXsryL0V29xN"
      }
    }
  ]
}