{
  "nbformat": 4,
  "nbformat_minor": 0,
  "metadata": {
    "colab": {
      "provenance": []
    },
    "kernelspec": {
      "name": "python3",
      "display_name": "Python 3"
    },
    "language_info": {
      "name": "python"
    }
  },
  "cells": [
    {
      "cell_type": "markdown",
      "source": [
        "# **Programming Assignment 15**"
      ],
      "metadata": {
        "id": "ale4ASGurezg"
      }
    },
    {
      "cell_type": "markdown",
      "source": [
        "**Q. 1:** Please write a program using generator to print the numbers which can be divisible by 5 and 7 between 0 and n in comma separated form while n is input by console?\n",
        "\n",
        "Example:\n",
        "\n",
        "If the following n is given as input to the program: 100\n",
        "\n",
        "Then, the output of the program should be: 0,35,70\n",
        "\n",
        "**Ans 1:** "
      ],
      "metadata": {
        "id": "Zm4EXi_broxo"
      }
    },
    {
      "cell_type": "code",
      "source": [
        "def showDivisible(in_num):\n",
        "    for ele in range(0,in_num):\n",
        "        if (ele%5 == 0) and (ele%7 == 0):\n",
        "            yield ele\n",
        "for ele in showDivisible(100):\n",
        "    print(ele,end=' ')"
      ],
      "metadata": {
        "colab": {
          "base_uri": "https://localhost:8080/"
        },
        "id": "gP3QhuMWsupZ",
        "outputId": "dada7069-64fe-4d20-90c6-0e708852bbcd"
      },
      "execution_count": 1,
      "outputs": [
        {
          "output_type": "stream",
          "name": "stdout",
          "text": [
            "0 35 70 "
          ]
        }
      ]
    },
    {
      "cell_type": "markdown",
      "source": [
        "\n",
        "\n",
        "---\n",
        "\n"
      ],
      "metadata": {
        "id": "PypUaKOYtc74"
      }
    },
    {
      "cell_type": "markdown",
      "source": [
        "**Q. 2:** Please write a program using generator to print the even numbers between 0 and n in comma separated form while n is input by console.\n",
        "\n",
        "Example:\n",
        "\n",
        "If the following n is given as input to the program: 10\n",
        "\n",
        "Then, the output of the program should be: 0,2,4,6,8,10\n",
        "\n",
        "**Ans 2:** "
      ],
      "metadata": {
        "id": "htYq7AFctdwY"
      }
    },
    {
      "cell_type": "code",
      "source": [
        "def genEvenNum(in_num):\n",
        "    for i in range(in_num+1):\n",
        "        if i%2 == 0:\n",
        "            yield i\n",
        "for i in genEvenNum(10):\n",
        "    print(i, end = ' ')"
      ],
      "metadata": {
        "colab": {
          "base_uri": "https://localhost:8080/"
        },
        "id": "h-RpvO63svRW",
        "outputId": "43a97f31-16ff-4c56-a242-16ba7bea5554"
      },
      "execution_count": 2,
      "outputs": [
        {
          "output_type": "stream",
          "name": "stdout",
          "text": [
            "0 2 4 6 8 10 "
          ]
        }
      ]
    },
    {
      "cell_type": "markdown",
      "source": [
        "\n",
        "\n",
        "---\n",
        "\n"
      ],
      "metadata": {
        "id": "gyPpWOH0t6-R"
      }
    },
    {
      "cell_type": "markdown",
      "source": [
        "**Q. 3:** he Fibonacci Sequence is computed based on the following formula below, Please write a program using list comprehension to print the Fibonacci Sequence in comma separated form with a given n input by console?\n",
        "\n",
        "f(n)=0 if n=0\n",
        "\n",
        "f(n)=1 if n=1\n",
        "\n",
        "f(n)=f(n-1)+f(n-2) if n>1\n",
        "\n",
        "Example: \n",
        "\n",
        "If the following n is given as input to the program: 7 \n",
        "\n",
        "Then, the output of the program should be: 0,1,1,2,3,5,8,13\n",
        "\n",
        "**Ans 3:** "
      ],
      "metadata": {
        "id": "Hro49Tt8t7yQ"
      }
    },
    {
      "cell_type": "code",
      "source": [
        "def fibo(n):\n",
        "    i = 0\n",
        "    j = 1\n",
        "    for k in range(n+1):\n",
        "        yield i\n",
        "        i,j = j, i+j\n",
        "\n",
        "print(','.join([str(num) for num in fibo(7)]))"
      ],
      "metadata": {
        "colab": {
          "base_uri": "https://localhost:8080/"
        },
        "id": "J798e5VSt4jP",
        "outputId": "99b29890-6492-440d-8d43-bcaec408f05e"
      },
      "execution_count": 6,
      "outputs": [
        {
          "output_type": "stream",
          "name": "stdout",
          "text": [
            "0,1,1,2,3,5,8,13\n"
          ]
        }
      ]
    },
    {
      "cell_type": "markdown",
      "source": [
        "\n",
        "\n",
        "---\n",
        "\n"
      ],
      "metadata": {
        "id": "GRnLfYOhvQMI"
      }
    },
    {
      "cell_type": "markdown",
      "source": [
        "**Q. 4:** Assuming that we have some email addresses in the \"username@companyname.com\" format, please write program to print the user name of a given email address. Both user names and company names are composed of letters only?\n",
        "\n",
        "Example:\n",
        "\n",
        "If the following email address is given as input to the program: john@google.com\n",
        "\n",
        "Then, the output of the program should be: john\n",
        "\n",
        "**Ans 4:** "
      ],
      "metadata": {
        "id": "6i6dpNiQvRdQ"
      }
    },
    {
      "cell_type": "code",
      "source": [
        "def getUsernames():\n",
        "    in_string = input('Enter Email Address:')\n",
        "    out_string = in_string.split('@')\n",
        "    print(f'Username of {in_string} is {out_string[0]}')\n",
        "\n",
        "getUsernames()\n",
        "getUsernames()"
      ],
      "metadata": {
        "colab": {
          "base_uri": "https://localhost:8080/"
        },
        "id": "cjrUwHa8ux4I",
        "outputId": "84da23c1-9c6d-46f7-8865-2dedbb4a7544"
      },
      "execution_count": 8,
      "outputs": [
        {
          "output_type": "stream",
          "name": "stdout",
          "text": [
            "Enter Email Address:john@google.com\n",
            "Username of john@google.com is john\n",
            "Enter Email Address:tanaychoubey@gmail.com\n",
            "Username of tanaychoubey@gmail.com is tanaychoubey\n"
          ]
        }
      ]
    },
    {
      "cell_type": "markdown",
      "source": [
        "\n",
        "\n",
        "---\n",
        "\n"
      ],
      "metadata": {
        "id": "_RA2nOuGwWP4"
      }
    },
    {
      "cell_type": "markdown",
      "source": [
        "**Q. 5:** Define a class named Shape and its subclass Square. The Square class has an init function which takes a length as argument. Both classes have a area function which can print the area of the shape where Shape's area is 0 by default.\n",
        "\n",
        "**Ans 5:** "
      ],
      "metadata": {
        "id": "R81ZOeT4wW9Z"
      }
    },
    {
      "cell_type": "code",
      "source": [
        "class Shape:\n",
        "    def area(self):\n",
        "        return 0\n",
        "\n",
        "class Square(Shape):\n",
        "    def __init__(self, length):\n",
        "        self.length = length\n",
        "    def area(self):\n",
        "        return self.length*self.length\n",
        "\n",
        "square = Square(30)\n",
        "print(square.area())"
      ],
      "metadata": {
        "colab": {
          "base_uri": "https://localhost:8080/"
        },
        "id": "7ACakEc2vzao",
        "outputId": "432a4b4a-bfbc-4f29-d705-5bd269fb5ded"
      },
      "execution_count": 9,
      "outputs": [
        {
          "output_type": "stream",
          "name": "stdout",
          "text": [
            "900\n"
          ]
        }
      ]
    },
    {
      "cell_type": "markdown",
      "source": [
        "\n",
        "\n",
        "---\n",
        "\n"
      ],
      "metadata": {
        "id": "kW4ys9TcxC_I"
      }
    }
  ]
}