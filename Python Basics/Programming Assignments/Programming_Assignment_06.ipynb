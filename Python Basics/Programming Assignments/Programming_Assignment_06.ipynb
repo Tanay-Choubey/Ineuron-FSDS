{
  "nbformat": 4,
  "nbformat_minor": 0,
  "metadata": {
    "colab": {
      "provenance": []
    },
    "kernelspec": {
      "name": "python3",
      "display_name": "Python 3"
    },
    "language_info": {
      "name": "python"
    }
  },
  "cells": [
    {
      "cell_type": "markdown",
      "source": [
        "# **Programming Assignment 6**"
      ],
      "metadata": {
        "id": "ZO2OKpNBrunk"
      }
    },
    {
      "cell_type": "markdown",
      "source": [
        "**Q. 1:** Write a Python Program to Display Fibonacci Sequence using Recursion?\n",
        "\n",
        "**Ans 1:** "
      ],
      "metadata": {
        "id": "rtN1NBSjr2WB"
      }
    },
    {
      "cell_type": "code",
      "source": [
        "def fibo(a,b,c):\n",
        "    if c > 0:\n",
        "        c -= 1\n",
        "        print(a, end=' ')\n",
        "        temp = b\n",
        "        b = a + b\n",
        "        a = temp\n",
        "        fibo(a,b,c)\n",
        "\n",
        "print(fibo(0,1,20))"
      ],
      "metadata": {
        "colab": {
          "base_uri": "https://localhost:8080/"
        },
        "id": "m02TPBwQsQgG",
        "outputId": "e97b4b5d-e8fe-4387-ee10-c14846053572"
      },
      "execution_count": 4,
      "outputs": [
        {
          "output_type": "stream",
          "name": "stdout",
          "text": [
            "0 1 1 2 3 5 8 13 21 34 55 89 144 233 377 610 987 1597 2584 4181 None\n"
          ]
        }
      ]
    },
    {
      "cell_type": "markdown",
      "source": [
        "\n",
        "\n",
        "---\n",
        "\n"
      ],
      "metadata": {
        "id": "hFhmtRWgtMxf"
      }
    },
    {
      "cell_type": "markdown",
      "source": [
        "**Q. 2:** Write a Python Program to Find Factorial of Number Using Recursion?\n",
        "\n",
        "**Ans 2:** "
      ],
      "metadata": {
        "id": "0GT-SgVdtN6H"
      }
    },
    {
      "cell_type": "code",
      "source": [
        "def factorial(n):\n",
        "    if n == 1:\n",
        "        return n\n",
        "    else:\n",
        "        return n*factorial(n-1)\n",
        "num = 10\n",
        "if num < 0:\n",
        "    print('Sorry, factorial does not exist for negative number')\n",
        "elif num == 0:\n",
        "    print('The factorial of 0 is 1')\n",
        "else:\n",
        "    print('The factorial of',num,'is',factorial(num))"
      ],
      "metadata": {
        "colab": {
          "base_uri": "https://localhost:8080/"
        },
        "id": "vksvBvVntWof",
        "outputId": "dbe1904e-059b-4125-a3a8-9e01a5ecfeda"
      },
      "execution_count": 5,
      "outputs": [
        {
          "output_type": "stream",
          "name": "stdout",
          "text": [
            "The factorial of 10 is 3628800\n"
          ]
        }
      ]
    },
    {
      "cell_type": "markdown",
      "source": [
        "\n",
        "\n",
        "---\n",
        "\n"
      ],
      "metadata": {
        "id": "yrm2qTLBtn-8"
      }
    },
    {
      "cell_type": "markdown",
      "source": [
        "**Q. 3:** Write a Python Program to calculate your Body Mass Index?\n",
        "\n",
        "**Ans 3:** "
      ],
      "metadata": {
        "id": "yaiOdSM6tpED"
      }
    },
    {
      "cell_type": "code",
      "source": [
        "def calculateBMI():\n",
        "    in_weight = eval(input('Enter your Weight(kgs): '))\n",
        "    in_height = eval(input('Enter your Height(mts): '))\n",
        "    calc_bmi = in_weight/pow(in_height,2)\n",
        "    if (calc_bmi < 18.5):\n",
        "        status = 'Underweight'\n",
        "    elif (calc_bmi >= 18.5 and calc_bmi < 24.9):\n",
        "        status = 'Healthy'\n",
        "    elif (calc_bmi >= 24.9 and calc_bmi < 30):\n",
        "        status = 'Overweight'\n",
        "    elif (calc_bmi >=30):\n",
        "        status = 'Suffering from Obesity'\n",
        "    print(f'Your\\'re BMI is {calc_bmi} and status is {status} ')\n",
        "calculateBMI()"
      ],
      "metadata": {
        "colab": {
          "base_uri": "https://localhost:8080/"
        },
        "id": "-1zHFKTetlDH",
        "outputId": "94d02d9b-4b30-4f71-97d2-b0cec5e83294"
      },
      "execution_count": 6,
      "outputs": [
        {
          "output_type": "stream",
          "name": "stdout",
          "text": [
            "Enter your Weight(kgs): 68\n",
            "Enter your Height(mts): 1.72\n",
            "Your're BMI is 22.985397512168742 and status is Healthy \n"
          ]
        }
      ]
    },
    {
      "cell_type": "markdown",
      "source": [
        "\n",
        "\n",
        "---\n",
        "\n"
      ],
      "metadata": {
        "id": "wJCdz9dQucef"
      }
    },
    {
      "cell_type": "markdown",
      "source": [
        "**Q. 4:** Write a Python Program to Calculate the Natural Logarithm of any Number?\n",
        "\n",
        "**Ans 4:**  "
      ],
      "metadata": {
        "id": "97nyQURqudmu"
      }
    },
    {
      "cell_type": "code",
      "source": [
        "import math\n",
        "\n",
        "try:\n",
        "    num = int(input(\"Enter the number: \"))\n",
        "except Exception as e:\n",
        "    print(e)\n",
        "else:\n",
        "    print(math.log(num))"
      ],
      "metadata": {
        "colab": {
          "base_uri": "https://localhost:8080/"
        },
        "id": "ercZuAI_uEHl",
        "outputId": "e6ebac57-2f86-4e00-fdc3-c2652fdcd9d7"
      },
      "execution_count": 7,
      "outputs": [
        {
          "output_type": "stream",
          "name": "stdout",
          "text": [
            "Enter the number: 12\n",
            "2.4849066497880004\n"
          ]
        }
      ]
    },
    {
      "cell_type": "markdown",
      "source": [
        "\n",
        "\n",
        "---\n",
        "\n"
      ],
      "metadata": {
        "id": "jmxUXrtyuuqM"
      }
    },
    {
      "cell_type": "markdown",
      "source": [
        "**Q. 5:** Write a Python Program for cube sum of first n natural numbers?\n",
        "\n",
        "**Ans 5:** "
      ],
      "metadata": {
        "id": "UgrI5Ee_uv0Y"
      }
    },
    {
      "cell_type": "code",
      "source": [
        "def cubeSum(num):\n",
        "    s = 0\n",
        "    for i in range(num+1):\n",
        "        s = s+i**3\n",
        "    return s\n",
        "num = int(input(\"Enter the no of Natural Numbers: \"))\n",
        "print(\"Sum of cubes of first {} natural numbers: \".format(num),cubeSum(num))"
      ],
      "metadata": {
        "colab": {
          "base_uri": "https://localhost:8080/"
        },
        "id": "tj-lIbbyusXr",
        "outputId": "650cb12d-8039-4ca7-d477-6f8099d99678"
      },
      "execution_count": 8,
      "outputs": [
        {
          "output_type": "stream",
          "name": "stdout",
          "text": [
            "Enter the no of Natural Numbers: 5\n",
            "Sum of cubes of first 5 natural numbers:  225\n"
          ]
        }
      ]
    },
    {
      "cell_type": "markdown",
      "source": [
        "\n",
        "\n",
        "---\n",
        "\n"
      ],
      "metadata": {
        "id": "xDdMRYvCvR2d"
      }
    }
  ]
}