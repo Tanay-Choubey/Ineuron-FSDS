{
 "cells": [
  {
   "cell_type": "markdown",
   "id": "b68a5b9c-f1a9-4574-96a5-4b7e9593be5e",
   "metadata": {
    "tags": []
   },
   "source": [
    "# Assignment 21"
   ]
  },
  {
   "cell_type": "markdown",
   "id": "8fd79bfe-b7e8-4356-9203-701245d51ee8",
   "metadata": {},
   "source": [
    "**Q. 1:** Add the current date to the text file today.txt as a string.\n",
    "\n",
    "**Ans 1:** "
   ]
  },
  {
   "cell_type": "code",
   "execution_count": 1,
   "id": "325fe463-0dd8-4668-9c58-0780b183bb82",
   "metadata": {},
   "outputs": [
    {
     "name": "stdout",
     "output_type": "stream",
     "text": [
      "29-11-2022\n"
     ]
    }
   ],
   "source": [
    "import datetime\n",
    "\n",
    "\n",
    "file = open('today.txt','w')\n",
    "file.write(datetime.datetime.now().strftime(\"%d-%m-%Y\"))\n",
    "file.close()\n",
    "\n",
    "\n",
    "file = open('today.txt','r')\n",
    "print(file.read())\n",
    "file.close()"
   ]
  },
  {
   "cell_type": "markdown",
   "id": "74c404cd-8a68-4ee1-b6b4-8b200b82e4ee",
   "metadata": {},
   "source": [
    "---"
   ]
  },
  {
   "cell_type": "markdown",
   "id": "c869918b-e119-4d18-a624-937113205f17",
   "metadata": {},
   "source": [
    "**Q. 2:** Read the text file today.txt into the string today_string.\n",
    "\n",
    "**Ans 2:** "
   ]
  },
  {
   "cell_type": "code",
   "execution_count": 2,
   "id": "8072f8ff-5872-42e4-b484-d8ca2f774b6f",
   "metadata": {},
   "outputs": [
    {
     "name": "stdout",
     "output_type": "stream",
     "text": [
      "Reading text: 29-11-2022\n"
     ]
    }
   ],
   "source": [
    "today_string = \"\"\n",
    "with open('today.txt', 'r') as txt:\n",
    "    today_string = txt.readline()\n",
    "print(f\"Reading text: {today_string}\")"
   ]
  },
  {
   "cell_type": "markdown",
   "id": "831936ca-3992-4426-a3f7-846e3598d9f5",
   "metadata": {},
   "source": [
    "---"
   ]
  },
  {
   "cell_type": "markdown",
   "id": "c757185a-7b3e-486f-a5e7-dd85febf7baf",
   "metadata": {},
   "source": [
    "**Q. 3:** Parse the date from today_string.\n",
    "\n",
    "**Ans 3:** "
   ]
  },
  {
   "cell_type": "code",
   "execution_count": 4,
   "id": "cc510245-5a10-4b15-a169-e8eb55b774de",
   "metadata": {},
   "outputs": [
    {
     "name": "stdout",
     "output_type": "stream",
     "text": [
      "2022-11-29 00:00:00\n"
     ]
    }
   ],
   "source": [
    "from datetime import datetime\n",
    "parsed_data = datetime.strptime(today_string, '%d-%m-%Y')\n",
    "print(parsed_data)"
   ]
  },
  {
   "cell_type": "markdown",
   "id": "6416bcb1-73a4-46f4-a09b-2e127c3331b9",
   "metadata": {},
   "source": [
    "---"
   ]
  },
  {
   "cell_type": "markdown",
   "id": "523867a7-114b-4990-9bcb-99a92a732c91",
   "metadata": {},
   "source": [
    "**Q. 4:** List the files in your current directory.\n",
    "\n",
    "**Ans 4:** "
   ]
  },
  {
   "cell_type": "code",
   "execution_count": 5,
   "id": "6b673e33-4704-441b-8811-c0f08e249547",
   "metadata": {},
   "outputs": [
    {
     "name": "stdout",
     "output_type": "stream",
     "text": [
      "README.md\n",
      "Assignment 21.ipynb\n",
      "today.txt\n",
      "packed-refs\n",
      "HEAD\n",
      "index\n",
      "config\n",
      "description\n",
      "HEAD\n",
      "main\n",
      "HEAD\n",
      "exclude\n",
      "pack-290036e657c294196be1b61a981e44da145e2135.pack\n",
      "pack-290036e657c294196be1b61a981e44da145e2135.idx\n",
      "pre-push.sample\n",
      "prepare-commit-msg.sample\n",
      "applypatch-msg.sample\n",
      "pre-applypatch.sample\n",
      "commit-msg.sample\n",
      "pre-rebase.sample\n",
      "pre-receive.sample\n",
      "update.sample\n",
      "fsmonitor-watchman.sample\n",
      "pre-merge-commit.sample\n",
      "pre-commit.sample\n",
      "push-to-checkout.sample\n",
      "post-update.sample\n",
      "main\n",
      "HEAD\n",
      "today-checkpoint.txt\n",
      "Assignment 21-checkpoint.ipynb\n",
      "README-checkpoint.md\n"
     ]
    }
   ],
   "source": [
    "import os\n",
    "for folders, subfolders, files in os.walk(os.getcwd()):\n",
    "    for file in files:\n",
    "        print(file)"
   ]
  },
  {
   "cell_type": "markdown",
   "id": "bc88b5a3-9717-4354-ba3f-18093d48a95b",
   "metadata": {},
   "source": [
    "---"
   ]
  },
  {
   "cell_type": "markdown",
   "id": "c8337277-282e-4b39-a6e5-5bc332a5171f",
   "metadata": {},
   "source": [
    "**Q. 5:**  Create a list of all of the files in your parent directory (minimum five files should be available).\n",
    "\n",
    "**Ans 5:** "
   ]
  },
  {
   "cell_type": "code",
   "execution_count": 6,
   "id": "8613b7ea-597a-41cc-8c6b-3f3416c81f46",
   "metadata": {},
   "outputs": [
    {
     "name": "stdout",
     "output_type": "stream",
     "text": [
      "<class 'list'>\n",
      "['.profile', '.bash_logout', '.bashrc', '.ipython', '.cache', '.jupyter', '.local', '.conda', '.config', '.npm', '.wget-hsts', 'work']\n",
      "Number of files: 12\n"
     ]
    }
   ],
   "source": [
    "lst_files = os.listdir('..')\n",
    "print(type(lst_files))\n",
    "print(lst_files)\n",
    "print(f\"Number of files: {len(lst_files)}\")"
   ]
  },
  {
   "cell_type": "markdown",
   "id": "951e8496-0aba-4f1c-9d34-19074a8d9f81",
   "metadata": {},
   "source": [
    "---"
   ]
  },
  {
   "cell_type": "markdown",
   "id": "96ab35e2-1383-41eb-9c22-03872582f14f",
   "metadata": {},
   "source": [
    "**Q. 6:** Use multiprocessing to create three separate processes. Make each one wait a random number of seconds between one and five, print the current time, and then exit.\n",
    "\n",
    "**Ans 6:** "
   ]
  },
  {
   "cell_type": "code",
   "execution_count": 7,
   "id": "c0dff845-1254-42f9-a59c-83925cd567f4",
   "metadata": {},
   "outputs": [
    {
     "name": "stdout",
     "output_type": "stream",
     "text": [
      "starting processes\n",
      "Process 0 will sleep for 7\n",
      "starting processes\n",
      "Process 1 will sleep for 3\n",
      "wait starting processes\n",
      "Process 2 will sleep for 1\n",
      "7 waitseconds, time is  32022-11-29 11:08:17.631019wait \n",
      " seconds, time is1  2022-11-29 11:08:17.638395seconds, time is\n",
      " 2022-11-29 11:08:17.645919\n",
      "Finished Process!\n",
      "Finished Process!\n",
      "Finished Process!\n"
     ]
    }
   ],
   "source": [
    "import multiprocessing\n",
    "from datetime import datetime \n",
    "from time import sleep \n",
    "import random\n",
    "\n",
    "def now_sleep(seconds): \n",
    "    print('wait', seconds, 'seconds, time is', datetime.utcnow())\n",
    "    sleep(seconds) \n",
    "    print(\"Finished Process!\")\n",
    "\n",
    "if __name__ == '__main__':\n",
    "    for n in range(3): \n",
    "        print(\"starting processes\")\n",
    "        seconds = random.randint(1, 10) \n",
    "        print(f\"Process {n} will sleep for {seconds}\")\n",
    "        proc = multiprocessing.Process(target=now_sleep, args=(seconds,)) \n",
    "        proc.start()\n",
    "        \n",
    "# Note: this file is saved as multiprocessing.py in local file system"
   ]
  },
  {
   "cell_type": "markdown",
   "id": "a2b2cb3f-db55-4cd1-8b06-d956d6e0f02b",
   "metadata": {},
   "source": [
    "---"
   ]
  },
  {
   "cell_type": "markdown",
   "id": "746f90d6-58a6-41bd-bee8-a12b9d4cd6ce",
   "metadata": {},
   "source": [
    "**Q. 7:** Create a date object of your day of birth.\n",
    "\n",
    "**Ans 7:** "
   ]
  },
  {
   "cell_type": "code",
   "execution_count": 8,
   "id": "20cea603-1fca-44b0-9c67-85ce68b61477",
   "metadata": {},
   "outputs": [
    {
     "name": "stdout",
     "output_type": "stream",
     "text": [
      "1996-02-11 00:00:00 <class 'datetime.datetime'>\n"
     ]
    }
   ],
   "source": [
    "from datetime import datetime\n",
    "my_dob = datetime.strptime('11/02/1996','%d/%m/%Y')\n",
    "print(my_dob, type(my_dob))"
   ]
  },
  {
   "cell_type": "markdown",
   "id": "fa1c09fe-9782-47e2-9331-063dbc39b172",
   "metadata": {},
   "source": [
    "---"
   ]
  },
  {
   "cell_type": "markdown",
   "id": "f39422d1-f98e-444d-a891-2e91b7c62e2a",
   "metadata": {},
   "source": [
    "**Q. 8:** What day of the week was your day of birth?\n",
    "\n",
    "**Ans 8:** "
   ]
  },
  {
   "cell_type": "code",
   "execution_count": 9,
   "id": "0712dc05-ac1b-419c-b5ca-f4e35ba043bb",
   "metadata": {},
   "outputs": [
    {
     "data": {
      "text/plain": [
       "'Sunday'"
      ]
     },
     "execution_count": 9,
     "metadata": {},
     "output_type": "execute_result"
    }
   ],
   "source": [
    "from datetime import datetime\n",
    "my_dob = datetime(1996,2,11)\n",
    "my_dob.strftime(\"%A\")"
   ]
  },
  {
   "cell_type": "markdown",
   "id": "eef03f91-4c51-44d6-97d9-81402b90fb36",
   "metadata": {},
   "source": [
    "---"
   ]
  },
  {
   "cell_type": "markdown",
   "id": "18ef34b0-f8b3-4c40-a6dc-f637db5e87c2",
   "metadata": {},
   "source": [
    "**Q. 9:** When will you be (or when were you) 10,000 days old?\n",
    "\n",
    "**Ans 9:** "
   ]
  },
  {
   "cell_type": "code",
   "execution_count": 11,
   "id": "7135f8e3-72cb-4403-ba61-f0ee288dc912",
   "metadata": {},
   "outputs": [
    {
     "name": "stdout",
     "output_type": "stream",
     "text": [
      "2023-06-29 00:00:00\n"
     ]
    }
   ],
   "source": [
    "from datetime import timedelta\n",
    "\n",
    "thousand_days = my_dob + timedelta(days=10000)\n",
    "print(thousand_days)"
   ]
  },
  {
   "cell_type": "markdown",
   "id": "e7f9f8a9-c1c2-458e-8dae-1fdd08867c7f",
   "metadata": {},
   "source": [
    "---"
   ]
  }
 ],
 "metadata": {
  "kernelspec": {
   "display_name": "Python 3 (ipykernel)",
   "language": "python",
   "name": "python3"
  },
  "language_info": {
   "codemirror_mode": {
    "name": "ipython",
    "version": 3
   },
   "file_extension": ".py",
   "mimetype": "text/x-python",
   "name": "python",
   "nbconvert_exporter": "python",
   "pygments_lexer": "ipython3",
   "version": "3.10.6"
  }
 },
 "nbformat": 4,
 "nbformat_minor": 5
}
