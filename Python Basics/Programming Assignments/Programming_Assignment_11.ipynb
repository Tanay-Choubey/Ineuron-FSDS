{
  "nbformat": 4,
  "nbformat_minor": 0,
  "metadata": {
    "colab": {
      "provenance": []
    },
    "kernelspec": {
      "name": "python3",
      "display_name": "Python 3"
    },
    "language_info": {
      "name": "python"
    }
  },
  "cells": [
    {
      "cell_type": "markdown",
      "source": [
        "# **Programming Assignment 11**"
      ],
      "metadata": {
        "id": "tEaEGM4h73j4"
      }
    },
    {
      "cell_type": "markdown",
      "source": [
        "**Q. 1:** Write a Python program to find words which are greater than given length k?\n",
        "\n",
        "**Ans 1:**  "
      ],
      "metadata": {
        "id": "Cubi7g1s78Dk"
      }
    },
    {
      "cell_type": "code",
      "source": [
        "def word_k(k, s):\n",
        "    word = s.split(\" \")\n",
        "    for x in word:\n",
        "        if len(x)>k:\n",
        "            print(x)\n",
        "            \n",
        "k = 3\n",
        "s = \"My Name Is Tanay Choubey\"\n",
        "word_k(k,s)"
      ],
      "metadata": {
        "colab": {
          "base_uri": "https://localhost:8080/"
        },
        "id": "GU8lNKpr8_Kz",
        "outputId": "9265ba8e-3b45-4e52-8b01-bcd0592e67bd"
      },
      "execution_count": 3,
      "outputs": [
        {
          "output_type": "stream",
          "name": "stdout",
          "text": [
            "Name\n",
            "Tanay\n",
            "Choubey\n"
          ]
        }
      ]
    },
    {
      "cell_type": "markdown",
      "source": [
        "\n",
        "\n",
        "---\n",
        "\n"
      ],
      "metadata": {
        "id": "YzAabhK29QBS"
      }
    },
    {
      "cell_type": "markdown",
      "source": [
        "**Q. 2:** Write a Python program for removing i-th character from a string?\n",
        "\n",
        "**Ans 2:** "
      ],
      "metadata": {
        "id": "SgS_9EmL9Q5h"
      }
    },
    {
      "cell_type": "code",
      "source": [
        "def removeCharacter():\n",
        "    in_string = input(\"Enter the String: \")\n",
        "    in_char_num = int(input(\"Enter the i-th Character: \"))\n",
        "    out_string = ''\n",
        "    for ele in range(len(in_string)):\n",
        "        if ele != in_char_num:\n",
        "            out_string = out_string + in_string[ele]\n",
        "    print(out_string)\n",
        "    \n",
        "removeCharacter()"
      ],
      "metadata": {
        "colab": {
          "base_uri": "https://localhost:8080/"
        },
        "id": "PsgXveL_9Ive",
        "outputId": "3bfa204d-3db3-4698-e93b-aa781bbef68d"
      },
      "execution_count": 4,
      "outputs": [
        {
          "output_type": "stream",
          "name": "stdout",
          "text": [
            "Enter the String: Full Stack Data Science\n",
            "Enter the i-th Character: 5\n",
            "Full tack Data Science\n"
          ]
        }
      ]
    },
    {
      "cell_type": "markdown",
      "source": [
        "\n",
        "\n",
        "---\n",
        "\n"
      ],
      "metadata": {
        "id": "rOf6bW3Q93RT"
      }
    },
    {
      "cell_type": "markdown",
      "source": [
        "**Q. 3:** Write a Python program to split and join a string?\n",
        "\n",
        "**Ans 3:** "
      ],
      "metadata": {
        "id": "ZtVUyfEw94H0"
      }
    },
    {
      "cell_type": "code",
      "source": [
        "def splitJoinString():\n",
        "    in_string = input('Enter the string: ')\n",
        "    print(f\"Split String: {in_string.split(' ')}\")\n",
        "    print(f\"Join String: {' '.join(in_string.split(' '))}\")\n",
        "\n",
        "splitJoinString()"
      ],
      "metadata": {
        "colab": {
          "base_uri": "https://localhost:8080/"
        },
        "id": "g3Q26r5e9ojF",
        "outputId": "ef8fb11e-f49c-4dc5-cb9b-435e07de4972"
      },
      "execution_count": 5,
      "outputs": [
        {
          "output_type": "stream",
          "name": "stdout",
          "text": [
            "Enter the string: Today is a good day for me\n",
            "Split String: ['Today', 'is', 'a', 'good', 'day', 'for', 'me']\n",
            "Join String: Today is a good day for me\n"
          ]
        }
      ]
    },
    {
      "cell_type": "markdown",
      "source": [
        "\n",
        "\n",
        "---\n",
        "\n"
      ],
      "metadata": {
        "id": "ZJH94kaV-nov"
      }
    },
    {
      "cell_type": "markdown",
      "source": [
        "**Q. 4:** Write a Python to check if a given string is binary string or not?\n",
        "\n",
        "**Ans 4:** "
      ],
      "metadata": {
        "id": "cLYYMZG3-orr"
      }
    },
    {
      "cell_type": "code",
      "source": [
        "def checkBinary():\n",
        "    in_string = input('Enter the string: ')\n",
        "    stun = 0\n",
        "    for ele in in_string:\n",
        "        if ele in ['0','1']:\n",
        "            stun = 1\n",
        "            continue\n",
        "        else:\n",
        "            stun = 0\n",
        "            break\n",
        "    statement = 'is a binary string' if stun == 1 else 'is not a binary string' \n",
        "    print(f'{in_string} {statement}')\n",
        "\n",
        "checkBinary()\n",
        "checkBinary()"
      ],
      "metadata": {
        "colab": {
          "base_uri": "https://localhost:8080/"
        },
        "id": "ezY-K3hJ-78b",
        "outputId": "f0f83af2-70b8-4284-aa84-4d534827fb72"
      },
      "execution_count": 6,
      "outputs": [
        {
          "output_type": "stream",
          "name": "stdout",
          "text": [
            "Enter the string: 1542478\n",
            "1542478 is not a binary string\n",
            "Enter the string: 001101100\n",
            "001101100 is a binary string\n"
          ]
        }
      ]
    },
    {
      "cell_type": "markdown",
      "source": [
        "\n",
        "\n",
        "---\n",
        "\n"
      ],
      "metadata": {
        "id": "0ztWXoCK_Ybb"
      }
    },
    {
      "cell_type": "markdown",
      "source": [
        "**Q. 5:** Write a Python program to find uncommon words from two Strings?\n",
        "\n",
        "**Ans 5:** "
      ],
      "metadata": {
        "id": "u-vBAK3C_ZQE"
      }
    },
    {
      "cell_type": "code",
      "source": [
        "def uncommon(s1,s2):\n",
        "  s1=s1.split()\n",
        "  s2=s2.split()\n",
        "  k=set(s1).symmetric_difference(set(s2))\n",
        "  return k\n",
        "\n",
        "a = \"ineuron data science\"\n",
        "b = \"data science jobs\"\n",
        "print(list(uncommon(a,b)))"
      ],
      "metadata": {
        "colab": {
          "base_uri": "https://localhost:8080/"
        },
        "id": "5OFQjZ7Y-YJe",
        "outputId": "1da2530a-7fe9-488e-bfa6-e9d34dba9348"
      },
      "execution_count": 7,
      "outputs": [
        {
          "output_type": "stream",
          "name": "stdout",
          "text": [
            "['jobs', 'ineuron']\n"
          ]
        }
      ]
    },
    {
      "cell_type": "markdown",
      "source": [
        "\n",
        "\n",
        "---\n",
        "\n"
      ],
      "metadata": {
        "id": "-WKRfFzJHcKZ"
      }
    },
    {
      "cell_type": "markdown",
      "source": [
        "**Q. 6:** Write a Python to find all duplicate characters in string?\n",
        "\n",
        "**Ans 6:** "
      ],
      "metadata": {
        "id": "gPRSj67MHdVa"
      }
    },
    {
      "cell_type": "code",
      "source": [
        "def dup_char(string: str):\n",
        "    duplicate = []\n",
        "    for i in string:\n",
        "        if string.count(i) > 1:\n",
        "            duplicate.append(i)\n",
        "            \n",
        "    return set(duplicate)\n",
        "\n",
        "dup_char(\"find all duplicate characters in string\")"
      ],
      "metadata": {
        "colab": {
          "base_uri": "https://localhost:8080/"
        },
        "id": "sWrFcAUHHZ_R",
        "outputId": "4e88a958-2954-4bb1-d6b2-97293ac87e8e"
      },
      "execution_count": 8,
      "outputs": [
        {
          "output_type": "execute_result",
          "data": {
            "text/plain": [
              "{' ', 'a', 'c', 'd', 'e', 'i', 'l', 'n', 'r', 's', 't'}"
            ]
          },
          "metadata": {},
          "execution_count": 8
        }
      ]
    },
    {
      "cell_type": "markdown",
      "source": [
        "\n",
        "\n",
        "---\n",
        "\n"
      ],
      "metadata": {
        "id": "QKJHLvC_H_x1"
      }
    },
    {
      "cell_type": "markdown",
      "source": [
        "**Q. 7:** Write a Python Program to check if a string contains any special character?\n",
        "\n",
        "**Ans 7:** "
      ],
      "metadata": {
        "id": "VDhhpWHMIA1_"
      }
    },
    {
      "cell_type": "code",
      "source": [
        "def checkSpecialChar():\n",
        "    spl_chars = '[@_!#$%^&*()<>?/\\|}{~:]'\n",
        "    in_num = input('Enter the string: ')\n",
        "    count = 0\n",
        "    char_list = []\n",
        "    for ele in in_num:\n",
        "        if ele in spl_chars:\n",
        "            char_list.append(ele)\n",
        "            count = count+1\n",
        "    print(f'There are {count} Speical Characters in {in_num} which are {char_list}')\n",
        "            \n",
        "        \n",
        "checkSpecialChar()\n",
        "checkSpecialChar()"
      ],
      "metadata": {
        "colab": {
          "base_uri": "https://localhost:8080/"
        },
        "id": "xlHuL-TUH8pl",
        "outputId": "ba3445e0-e828-4ad2-cbc3-17af6911e6df"
      },
      "execution_count": 9,
      "outputs": [
        {
          "output_type": "stream",
          "name": "stdout",
          "text": [
            "Enter the string: My @ name () is # Tanay / Choubey\n",
            "There are 5 Speical Characters in My @ name () is # Tanay / Choubey which are ['@', '(', ')', '#', '/']\n",
            "Enter the string: Full Stack Data Science\n",
            "There are 0 Speical Characters in Full Stack Data Science which are []\n"
          ]
        }
      ]
    },
    {
      "cell_type": "markdown",
      "source": [
        "\n",
        "\n",
        "---\n",
        "\n"
      ],
      "metadata": {
        "id": "PwTFjjC7XE5U"
      }
    }
  ]
}