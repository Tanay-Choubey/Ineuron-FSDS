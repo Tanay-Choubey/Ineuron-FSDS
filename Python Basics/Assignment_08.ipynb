{
  "nbformat": 4,
  "nbformat_minor": 0,
  "metadata": {
    "colab": {
      "provenance": []
    },
    "kernelspec": {
      "name": "python3",
      "display_name": "Python 3"
    },
    "language_info": {
      "name": "python"
    }
  },
  "cells": [
    {
      "cell_type": "markdown",
      "source": [
        "# **Assignment 8**"
      ],
      "metadata": {
        "id": "2BiDSVHd0At1"
      }
    },
    {
      "cell_type": "markdown",
      "source": [
        "**Q. 1:** Is the Python Standard Library included with PyInputPlus?\n",
        "\n",
        "**Ans 1:** PyInputPlus is not a part of the Python Standard Library, so we need to install it separately using !pip install PyInputPlus ."
      ],
      "metadata": {
        "id": "-WBYChp30MBS"
      }
    },
    {
      "cell_type": "markdown",
      "source": [
        "\n",
        "\n",
        "---\n",
        "\n"
      ],
      "metadata": {
        "id": "SLjexmE91bNq"
      }
    },
    {
      "cell_type": "markdown",
      "source": [
        "**Q. 2:** Why is PyInputPlus commonly imported with import pyinputplus as pypi?\n",
        "\n",
        "**Ans 2:** You can import the module with import pyinputplus as pypi so that you can enter a shorter name when calling the module's functions."
      ],
      "metadata": {
        "id": "R_YSlQMO1c8o"
      }
    },
    {
      "cell_type": "code",
      "source": [
        "import pyinputplus as pypi"
      ],
      "metadata": {
        "id": "UokyZHy51DVP"
      },
      "execution_count": 2,
      "outputs": []
    },
    {
      "cell_type": "markdown",
      "source": [
        "\n",
        "\n",
        "---\n",
        "\n"
      ],
      "metadata": {
        "id": "2OPeDWWI1-QA"
      }
    },
    {
      "cell_type": "markdown",
      "source": [
        "**Q. 3:**  How do you distinguish between inputInt() and inputFloat()?\n",
        "\n",
        "**Ans 3:** Both takes additional parameters ‘min’, ‘max’, ‘greaterThan’ and ‘lessThan’ for bounds.\n",
        "\n",
        "*   inputInt() : Accepts an integer value, and returns int value.\n",
        "*   inputFloat() : Accepts integer/floating point value and returns float value.\n"
      ],
      "metadata": {
        "id": "jzwWS_Ej1_Pw"
      }
    },
    {
      "cell_type": "markdown",
      "source": [
        "\n",
        "\n",
        "---\n",
        "\n"
      ],
      "metadata": {
        "id": "CmKZ7Vhi2ukI"
      }
    },
    {
      "cell_type": "markdown",
      "source": [
        "**Q. 4:** Using PyInputPlus, how do you ensure that the user enters a whole number between 0 and 99?\n",
        "\n",
        "**Ans 4:** In the inputint function we can set the min = 0 and max =99 to ensure user enters number between 0 and 99."
      ],
      "metadata": {
        "id": "ZV1x6r4K2xsB"
      }
    },
    {
      "cell_type": "code",
      "source": [
        "import pyinputplus as pyip\n",
        "\n",
        "w = pyip.inputInt(min = 0, max =99)"
      ],
      "metadata": {
        "colab": {
          "base_uri": "https://localhost:8080/"
        },
        "id": "BmCuhrhh18_k",
        "outputId": "41a3ad6f-d315-4911-dec3-dffe1a59633b"
      },
      "execution_count": 3,
      "outputs": [
        {
          "name": "stdout",
          "output_type": "stream",
          "text": [
            "52\n"
          ]
        }
      ]
    },
    {
      "cell_type": "markdown",
      "source": [
        "\n",
        "\n",
        "---\n",
        "\n"
      ],
      "metadata": {
        "id": "gzcUas_b31JH"
      }
    },
    {
      "cell_type": "markdown",
      "source": [
        "**Q. 5:** What is transferred to the keyword arguments allowRegexes and blockRegexes?\n",
        "\n",
        "**Ans 5:** We can use allowRegexes and blockRegexes keyword arguments to take list of regular expression strings to determine what the pyinputplus function will reject or accept valid input."
      ],
      "metadata": {
        "id": "VNOjW5V632Bp"
      }
    },
    {
      "cell_type": "markdown",
      "source": [
        "\n",
        "\n",
        "---\n",
        "\n"
      ],
      "metadata": {
        "id": "gt8J_6Bq5Ft5"
      }
    },
    {
      "cell_type": "markdown",
      "source": [
        "**Q. 6:** If a blank input is entered three times, what does inputStr(limit=3) do?\n",
        "\n",
        "**Ans 6:** The statement inputStr(limit=3) will throw two exceptions ValidationException and RetryLimitException."
      ],
      "metadata": {
        "id": "fGuK3mGy5GdY"
      }
    },
    {
      "cell_type": "markdown",
      "source": [
        "\n",
        "\n",
        "---\n",
        "\n"
      ],
      "metadata": {
        "id": "lie31nl66BQo"
      }
    },
    {
      "cell_type": "markdown",
      "source": [
        "**Q. 7:** If blank input is entered three times, what does inputStr(limit=3, default='hello') do?\n",
        "\n",
        "**Ans 7:** Since the default parameter is set to hello. after blank input is entered three times instead of raising RetryLimitException exception. the function will return hello as response to the calling function."
      ],
      "metadata": {
        "id": "9Ab5v7JH6CsQ"
      }
    },
    {
      "cell_type": "markdown",
      "source": [
        "\n",
        "\n",
        "---\n",
        "\n"
      ],
      "metadata": {
        "id": "8EfS9SAT63Vo"
      }
    }
  ]
}