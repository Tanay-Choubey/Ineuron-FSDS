{
  "nbformat": 4,
  "nbformat_minor": 0,
  "metadata": {
    "colab": {
      "provenance": []
    },
    "kernelspec": {
      "name": "python3",
      "display_name": "Python 3"
    },
    "language_info": {
      "name": "python"
    }
  },
  "cells": [
    {
      "cell_type": "markdown",
      "source": [
        "# **Programming Assignment 19**"
      ],
      "metadata": {
        "id": "XNRiN7yj9ykH"
      }
    },
    {
      "cell_type": "markdown",
      "source": [
        "**Q. 1:** Create a function that takes a string and returns a string in which each character is repeated once.\n",
        "\n",
        "Examples:\n",
        "\n",
        "*double_char(\"String\") ➞ \"SSttrriinngg\"*\n",
        "\n",
        "*double_char(\"Hello World!\") ➞ \"HHeelllloo WWoorrlldd!!\"*\n",
        "\n",
        "*doublechar(\"1234!_\") ➞ \"11223344!!__\"*\n",
        "\n",
        "**Ans 1:** "
      ],
      "metadata": {
        "id": "1yBeGYj691fG"
      }
    },
    {
      "cell_type": "code",
      "source": [
        "def double_char(string):\n",
        "    return ''.join([c+c for c in string])\n",
        "\n",
        "print(double_char('String'))\n",
        "print(double_char('Hello World!'))\n",
        "print(double_char('1234!_ '))"
      ],
      "metadata": {
        "colab": {
          "base_uri": "https://localhost:8080/"
        },
        "id": "k9wvgd1W-Z5W",
        "outputId": "e65a28e8-b906-41ad-9250-eba132d3eb10"
      },
      "execution_count": 1,
      "outputs": [
        {
          "output_type": "stream",
          "name": "stdout",
          "text": [
            "SSttrriinngg\n",
            "HHeelllloo  WWoorrlldd!!\n",
            "11223344!!__  \n"
          ]
        }
      ]
    },
    {
      "cell_type": "markdown",
      "source": [
        "\n",
        "\n",
        "---\n",
        "\n"
      ],
      "metadata": {
        "id": "f2KBs_0G-jTd"
      }
    },
    {
      "cell_type": "markdown",
      "source": [
        "**Q. 2:** Create a function that reverses a boolean value and returns the string \"boolean expected\" if another variable type is given. \n",
        "\n",
        "Examples:\n",
        "\n",
        "*reverse(True) ➞ False*\n",
        "\n",
        "*reverse(False) ➞ True*\n",
        "\n",
        "*reverse(0) ➞ \"boolean expected\"*\n",
        "\n",
        "*reverse(None) ➞ \"boolean expected\"*\n",
        "\n",
        "**Ans 2:** "
      ],
      "metadata": {
        "id": "_chhracS-j-X"
      }
    },
    {
      "cell_type": "code",
      "source": [
        "def reverse(in_bool):\n",
        "    if type(in_bool) == bool:\n",
        "        return not in_bool\n",
        "    else:\n",
        "        return \"Boolean Expected\"\n",
        "\n",
        "print(f'reverse(True) ➞ {reverse(True)}')\n",
        "print(f'reverse(False) ➞ {reverse(False)}')\n",
        "print(f'reverse(0) ➞ {reverse(0)}')\n",
        "print(f'reverse(None) ➞ {reverse(None)}')"
      ],
      "metadata": {
        "colab": {
          "base_uri": "https://localhost:8080/"
        },
        "id": "csuH9r-z-8ON",
        "outputId": "f85be5e5-d6db-4493-bc8b-0a6c461487e6"
      },
      "execution_count": 2,
      "outputs": [
        {
          "output_type": "stream",
          "name": "stdout",
          "text": [
            "reverse(True) ➞ False\n",
            "reverse(False) ➞ True\n",
            "reverse(0) ➞ Boolean Expected\n",
            "reverse(None) ➞ Boolean Expected\n"
          ]
        }
      ]
    },
    {
      "cell_type": "markdown",
      "source": [
        "\n",
        "\n",
        "---\n",
        "\n"
      ],
      "metadata": {
        "id": "Ln-0Jfev-_BF"
      }
    },
    {
      "cell_type": "markdown",
      "source": [
        "**Q. 3:** Create a function that returns the thickness (in meters) of a piece of paper after folding it n number of times. The paper starts off with a thickness of 0.5mm.\n",
        "\n",
        "num_layers(1) ➞ \"0.001m\" \n",
        "\n",
        "Paper folded once is 1mm (equal to 0.001m) \n",
        "\n",
        "num_layers(4) ➞ \"0.008m\" \n",
        "\n",
        "Paper folded 4 times is 8mm (equal to 0.008m) \n",
        "\n",
        "num_layers(21) ➞ \"1048.576m\"\n",
        "\n",
        "Paper folded 21 times is 1048576mm (equal to 1048.576m)\n",
        "\n",
        "**Ans 3:** "
      ],
      "metadata": {
        "id": "wh8v56cq-_rF"
      }
    },
    {
      "cell_type": "code",
      "source": [
        "def num_layers(in_num):\n",
        "    out_num = 0.5\n",
        "    for ele in range(in_num):\n",
        "        out_num *= 2\n",
        "    print(f'Output ➞ {out_num/1000}m')\n",
        "    \n",
        "num_layers(1)\n",
        "num_layers(4)\n",
        "num_layers(21)"
      ],
      "metadata": {
        "colab": {
          "base_uri": "https://localhost:8080/"
        },
        "id": "NQ4eJQp6_pBt",
        "outputId": "be0d8064-7135-47f7-c01f-844fb59dce50"
      },
      "execution_count": 3,
      "outputs": [
        {
          "output_type": "stream",
          "name": "stdout",
          "text": [
            "Output ➞ 0.001m\n",
            "Output ➞ 0.008m\n",
            "Output ➞ 1048.576m\n"
          ]
        }
      ]
    },
    {
      "cell_type": "markdown",
      "source": [
        "\n",
        "\n",
        "---\n",
        "\n"
      ],
      "metadata": {
        "id": "fbdR29Is_rxF"
      }
    },
    {
      "cell_type": "markdown",
      "source": [
        "**Q. 4:** Create a function that takes a single string as argument and returns an ordered list containing the indices of all capital letters in the string.\n",
        "\n",
        "Examples:\n",
        "\n",
        "*index_of_caps(\"eDaBiT\") ➞ [1, 3, 5]*\n",
        "\n",
        "*index_of_caps(\"eQuINoX\") ➞ [1, 3, 4, 6]*\n",
        "\n",
        "*index_of_caps(\"determine\") ➞ []*\n",
        "\n",
        "*index_of_caps(\"STRIKE\") ➞ [0, 1, 2, 3, 4, 5]*\n",
        "\n",
        "*index_of_caps(\"sUn\") ➞ [1]*\n",
        "\n",
        "**Ans 4:** "
      ],
      "metadata": {
        "id": "s2ixaTE5_tNN"
      }
    },
    {
      "cell_type": "code",
      "source": [
        "def index_of_caps(in_string):\n",
        "    out_string = []\n",
        "    for ele in in_string:\n",
        "        if ele.isupper():\n",
        "            out_string.append(in_string.index(ele))\n",
        "    print(f'{in_string} ➞ {out_string}')\n",
        "\n",
        "index_of_caps(\"eDaBiT\")\n",
        "index_of_caps(\"eQuINoX\")\n",
        "index_of_caps(\"determine\")\n",
        "index_of_caps(\"STRIKE\")\n",
        "index_of_caps(\"sUn\")"
      ],
      "metadata": {
        "colab": {
          "base_uri": "https://localhost:8080/"
        },
        "id": "Xbm4qGxy_qfn",
        "outputId": "5373ebb4-bd41-4b88-a0d9-e60096365998"
      },
      "execution_count": 4,
      "outputs": [
        {
          "output_type": "stream",
          "name": "stdout",
          "text": [
            "eDaBiT ➞ [1, 3, 5]\n",
            "eQuINoX ➞ [1, 3, 4, 6]\n",
            "determine ➞ []\n",
            "STRIKE ➞ [0, 1, 2, 3, 4, 5]\n",
            "sUn ➞ [1]\n"
          ]
        }
      ]
    },
    {
      "cell_type": "markdown",
      "source": [
        "\n",
        "\n",
        "---\n",
        "\n"
      ],
      "metadata": {
        "id": "kDuvudn2AIDd"
      }
    },
    {
      "cell_type": "markdown",
      "source": [
        "**Q. 5:** Using list comprehensions, create a function that finds all even numbers from 1 to the given number.\n",
        "\n",
        "Examples:\n",
        "\n",
        "*find_even_nums(8) ➞ [2, 4, 6, 8]*\n",
        "\n",
        "*find_even_nums(4) ➞ [2, 4]*\n",
        "\n",
        "*find_even_nums(2) ➞ [2]*\n",
        "\n",
        "**Ans 5:** "
      ],
      "metadata": {
        "id": "7FAtuLCfAIvV"
      }
    },
    {
      "cell_type": "code",
      "source": [
        "def find_even_nums(in_num):\n",
        "    out_list = [i for i in range(1,in_num+1) if i%2 == 0]\n",
        "    print(f'Output ➞ {out_list}')\n",
        "    \n",
        "find_even_nums(8)\n",
        "find_even_nums(4)\n",
        "find_even_nums(2)"
      ],
      "metadata": {
        "colab": {
          "base_uri": "https://localhost:8080/"
        },
        "id": "l6cCo2hKAb1g",
        "outputId": "d2024ec8-b473-4628-df79-5c77b2e59d78"
      },
      "execution_count": 5,
      "outputs": [
        {
          "output_type": "stream",
          "name": "stdout",
          "text": [
            "Output ➞ [2, 4, 6, 8]\n",
            "Output ➞ [2, 4]\n",
            "Output ➞ [2]\n"
          ]
        }
      ]
    },
    {
      "cell_type": "markdown",
      "source": [
        "\n",
        "\n",
        "---\n",
        "\n"
      ],
      "metadata": {
        "id": "oS1shx8FAk0E"
      }
    }
  ]
}