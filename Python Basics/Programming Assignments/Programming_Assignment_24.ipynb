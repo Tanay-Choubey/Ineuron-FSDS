{
  "nbformat": 4,
  "nbformat_minor": 0,
  "metadata": {
    "colab": {
      "provenance": []
    },
    "kernelspec": {
      "name": "python3",
      "display_name": "Python 3"
    },
    "language_info": {
      "name": "python"
    }
  },
  "cells": [
    {
      "cell_type": "markdown",
      "source": [
        "\n",
        "# **Programming Assignment 24**"
      ],
      "metadata": {
        "id": "lOwQqWdkdjWF"
      }
    },
    {
      "cell_type": "markdown",
      "source": [
        "**Q. 1:** Create a function that takes an integer and returns a list from 1 to the given number, where:\n",
        "\n",
        "1. If the number can be divided evenly by 4, amplify it by 10 (i.e. return 10 times the number).\n",
        "2. If the number cannot be divided evenly by 4, simply return the number.\n",
        "\n",
        "Examples:\n",
        "\n",
        "amplify(4) ➞ [1, 2, 3, 40]\n",
        "\n",
        "amplify(3) ➞ [1, 2, 3]\n",
        "\n",
        "amplify(25) ➞ [1, 2, 3, 40, 5, 6, 7, 80, 9, 10, 11, 120, 13, 14, 15, 160, 17, 18, 19, 200, 21, 22, 23, 240, 25]\n",
        "\n",
        "Notes:\n",
        "\n",
        "- The given integer will always be equal to or greater than 1.\n",
        "- Include the number (see example above).\n",
        "- To perform this problem with its intended purpose, try doing it with list\n",
        "\n",
        "**Ans 1:** "
      ],
      "metadata": {
        "id": "sSNJNq_6dq5r"
      }
    },
    {
      "cell_type": "code",
      "source": [
        "def amplify(num):\n",
        "    out_list = []\n",
        "    for i in range(1,num+1):\n",
        "        if i%4 == 0:\n",
        "            out_list.append(i*10)\n",
        "        else:\n",
        "            out_list.append(i)\n",
        "    print(f'amplify({num}) ➞ {out_list}')\n",
        "    \n",
        "amplify(4)\n",
        "amplify(3)\n",
        "amplify(25)"
      ],
      "metadata": {
        "colab": {
          "base_uri": "https://localhost:8080/"
        },
        "id": "tphHLQ3egXIb",
        "outputId": "9b5856f5-0d68-4542-fd56-b748bbae52f7"
      },
      "execution_count": 2,
      "outputs": [
        {
          "output_type": "stream",
          "name": "stdout",
          "text": [
            "amplify(4) ➞ [1, 2, 3, 40]\n",
            "amplify(3) ➞ [1, 2, 3]\n",
            "amplify(25) ➞ [1, 2, 3, 40, 5, 6, 7, 80, 9, 10, 11, 120, 13, 14, 15, 160, 17, 18, 19, 200, 21, 22, 23, 240, 25]\n"
          ]
        }
      ]
    },
    {
      "cell_type": "markdown",
      "source": [
        "\n",
        "\n",
        "---\n",
        "\n"
      ],
      "metadata": {
        "id": "9CUA0i7_gcAr"
      }
    },
    {
      "cell_type": "markdown",
      "source": [
        "**Q. 2:** Create a function that takes a list of numbers and return the number that's unique.\n",
        "\n",
        "Examples:\n",
        "\n",
        "unique([3, 3, 3, 7, 3, 3]) ➞ 7\n",
        "\n",
        "unique([0, 0, 0.77, 0, 0]) ➞ 0.77\n",
        "\n",
        "unique([0, 1, 1, 1, 1, 1, 1, 1]) ➞ 0\n",
        "\n",
        "Notes:\n",
        "\n",
        "Test cases will always have exactly one unique number while all others are the same.\n",
        "\n",
        "**Ans 2:** "
      ],
      "metadata": {
        "id": "4T4i9Citgcmr"
      }
    },
    {
      "cell_type": "code",
      "source": [
        "def unique(list):\n",
        "    out_num = ''\n",
        "    for i in set(list):\n",
        "        if list.count(i) == 1:\n",
        "            out_num = i\n",
        "    print(f'unique({list}) ➞ {out_num}')\n",
        "    \n",
        "unique([3, 3, 3, 7, 3, 3])\n",
        "unique([0, 0, 0.77, 0, 0])\n",
        "unique([0, 1, 1, 1, 1, 1, 1, 1])"
      ],
      "metadata": {
        "colab": {
          "base_uri": "https://localhost:8080/"
        },
        "id": "NP1fw3xVg_Ol",
        "outputId": "b9d865ef-60ec-4261-ac4c-b89358796e8a"
      },
      "execution_count": 3,
      "outputs": [
        {
          "output_type": "stream",
          "name": "stdout",
          "text": [
            "unique([3, 3, 3, 7, 3, 3]) ➞ 7\n",
            "unique([0, 0, 0.77, 0, 0]) ➞ 0.77\n",
            "unique([0, 1, 1, 1, 1, 1, 1, 1]) ➞ 0\n"
          ]
        }
      ]
    },
    {
      "cell_type": "markdown",
      "source": [
        "\n",
        "\n",
        "---\n",
        "\n"
      ],
      "metadata": {
        "id": "XNmUZ8GMhBz6"
      }
    },
    {
      "cell_type": "markdown",
      "source": [
        "**Q. 3:** Your task is to create a Circle constructor that creates a circle with a radius provided by an argument. The circles constructed must have two getters getArea() (PIr^2) and getPerimeter() (2PI*r) which give both respective areas and perimeter (circumference). For help with this class, I have provided you with a Rectangle constructor which you can use as a base example.\n",
        "\n",
        "Examples:\n",
        "\n",
        "circy = Circle(11)\n",
        "\n",
        "circy.getArea()\n",
        "\n",
        "Should return 380.132711084365 circy = Circle(4.44)\n",
        "\n",
        "circy.getPerimeter()\n",
        "\n",
        "Should return 27.897342763877365\n",
        "\n",
        "Notes:\n",
        "\n",
        "Round results up to the nearest integer.\n",
        "\n",
        "**Ans 3:** "
      ],
      "metadata": {
        "id": "9XJ33TQahCXK"
      }
    },
    {
      "cell_type": "code",
      "source": [
        "import math\n",
        "\n",
        "class Circle:\n",
        "    def __init__(self,radius):\n",
        "        self.radius = radius\n",
        "    def getArea(self):\n",
        "        print(f'Radius ➞ {round(math.pi*self.radius*self.radius)}')\n",
        "    def getPerimeter(self):\n",
        "        print(f'Perimeter ➞ {round(2*math.pi*self.radius)}')\n",
        "        \n",
        "circy = Circle(11)\n",
        "circy.getArea()\n",
        "\n",
        "circy = Circle(4.44)\n",
        "circy.getPerimeter()"
      ],
      "metadata": {
        "colab": {
          "base_uri": "https://localhost:8080/"
        },
        "id": "elQ4NP6NkebZ",
        "outputId": "e8813d10-19ce-49d3-edbd-e2ca745697b1"
      },
      "execution_count": 4,
      "outputs": [
        {
          "output_type": "stream",
          "name": "stdout",
          "text": [
            "Radius ➞ 380\n",
            "Perimeter ➞ 28\n"
          ]
        }
      ]
    },
    {
      "cell_type": "markdown",
      "source": [
        "\n",
        "\n",
        "---\n",
        "\n"
      ],
      "metadata": {
        "id": "qCXHrys2ktj5"
      }
    },
    {
      "cell_type": "markdown",
      "source": [
        "**Q. 4:** Create a function that takes a list of strings and return a list, sorted from shortest to longest.\n",
        "\n",
        "Examples:\n",
        "\n",
        "sort_by_length([\"Google\", \"Apple\", \"Microsoft\"])\n",
        "\n",
        "➞ [\"Apple\", \"Google\", \"Microsoft\"]\n",
        "\n",
        "sort_by_length([\"Leonardo\", \"Michelangelo\", \"Raphael\", \"Donatello\"])\n",
        "\n",
        "➞ [\"Raphael\", \"Leonardo\", \"Donatello\", \"Michelangelo\"]\n",
        "\n",
        "sort_by_length([\"Turing\", \"Einstein\", \"Jung\"])\n",
        "\n",
        "➞ [\"Jung\", \"Turing\", \"Einstein\"]\n",
        "\n",
        "Notes:\n",
        "\n",
        "All test cases contain lists with strings of different lengths, so you won't have to deal with multiple strings of the same length.\n",
        "\n",
        "**Ans 4:** "
      ],
      "metadata": {
        "id": "PX92zVwRkuXw"
      }
    },
    {
      "cell_type": "code",
      "source": [
        "def sort_by_length(in_list):\n",
        "    print(sorted(in_list,key=len))\n",
        "\n",
        "sort_by_length([\"Google\", \"Apple\", \"Microsoft\"])\n",
        "sort_by_length([\"Leonardo\", \"Michelangelo\", \"Raphael\", \"Donatello\"])\n",
        "sort_by_length([\"Turing\", \"Einstein\", \"Jung\"])"
      ],
      "metadata": {
        "colab": {
          "base_uri": "https://localhost:8080/"
        },
        "id": "bDE37J98lS5R",
        "outputId": "6d2c85d5-2903-4611-b1b4-5633dc180aaf"
      },
      "execution_count": 5,
      "outputs": [
        {
          "output_type": "stream",
          "name": "stdout",
          "text": [
            "['Apple', 'Google', 'Microsoft']\n",
            "['Raphael', 'Leonardo', 'Donatello', 'Michelangelo']\n",
            "['Jung', 'Turing', 'Einstein']\n"
          ]
        }
      ]
    },
    {
      "cell_type": "markdown",
      "source": [
        "\n",
        "\n",
        "---\n",
        "\n"
      ],
      "metadata": {
        "id": "7VURfe_2lfjw"
      }
    },
    {
      "cell_type": "markdown",
      "source": [
        "**Q. 5:** Create a function that validates whether three given integers form a Pythagorean triplet. The sum of the squares of the two smallest integers must equal the square of the largest number to be validated.\n",
        "\n",
        "Examples:\n",
        "\n",
        "is_triplet(3, 4, 5) ➞ True \n",
        "\n",
        "3² + 4² = 25 \n",
        "\n",
        "5² = 25 \n",
        "\n",
        "is_triplet(13, 5, 12) ➞ True \n",
        "\n",
        "5² + 12² = 169\n",
        "\n",
        "13² = 169 \n",
        "\n",
        "is_triplet(1, 2, 3) ➞ False \n",
        "\n",
        "1² + 2² = 5\n",
        "\n",
        "3² = 9\n",
        "\n",
        "Notes:\n",
        "\n",
        "Numbers may not be given in a sorted order.\n",
        "\n",
        "**Ans 5:** "
      ],
      "metadata": {
        "id": "clmbivExlgVI"
      }
    },
    {
      "cell_type": "code",
      "source": [
        "def is_triplet(a,b,c):\n",
        "    if ((a**2+b**2) == (c**2)):\n",
        "        print(f'{a,b,c} ➞ {True}')\n",
        "    else:\n",
        "        print(f'{a,b,c} ➞ {False}')\n",
        "        \n",
        "is_triplet(3, 4, 5)\n",
        "is_triplet(3, 4, 5)\n",
        "is_triplet(1, 2, 3)"
      ],
      "metadata": {
        "colab": {
          "base_uri": "https://localhost:8080/"
        },
        "id": "gnDW8qaxngbJ",
        "outputId": "75b7a071-93a3-460c-dc4b-8d24e5fed432"
      },
      "execution_count": 6,
      "outputs": [
        {
          "output_type": "stream",
          "name": "stdout",
          "text": [
            "(3, 4, 5) ➞ True\n",
            "(3, 4, 5) ➞ True\n",
            "(1, 2, 3) ➞ False\n"
          ]
        }
      ]
    },
    {
      "cell_type": "markdown",
      "source": [
        "\n",
        "\n",
        "---\n",
        "\n"
      ],
      "metadata": {
        "id": "7dTI-mQUnoW4"
      }
    }
  ]
}