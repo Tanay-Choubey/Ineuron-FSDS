{
  "nbformat": 4,
  "nbformat_minor": 0,
  "metadata": {
    "colab": {
      "provenance": []
    },
    "kernelspec": {
      "name": "python3",
      "display_name": "Python 3"
    },
    "language_info": {
      "name": "python"
    }
  },
  "cells": [
    {
      "cell_type": "markdown",
      "source": [
        "# **Assignment 1**"
      ],
      "metadata": {
        "id": "vrCH_L_25fhJ"
      }
    },
    {
      "cell_type": "markdown",
      "source": [
        "**Q. 1:** What is the purpose of Python's OOP?\n",
        "\n",
        "**Ans 1:** Object-oriented Programming (OOPs) is a programming paradigm that uses objects and classes in programming. It aims to implement real-world entities like inheritance, polymorphisms, encapsulation, etc. in the programming. The main concept of OOPs is to bind the data and the functions that work on that together as a single unit so that no other part of the code can access this data."
      ],
      "metadata": {
        "id": "bmeK-QYj5mYu"
      }
    },
    {
      "cell_type": "markdown",
      "source": [
        "\n",
        "\n",
        "---\n",
        "\n"
      ],
      "metadata": {
        "id": "77h2si32z_f1"
      }
    },
    {
      "cell_type": "markdown",
      "source": [
        "**Q. 2:** Where does an inheritance search look for an attribute?\n",
        "\n",
        "**Ans 2:** If an attribute is defined as inheritable, Inheritance search looks for an attribute in the defined class."
      ],
      "metadata": {
        "id": "9tx92dDH0E0D"
      }
    },
    {
      "cell_type": "markdown",
      "source": [
        "\n",
        "\n",
        "---\n",
        "\n"
      ],
      "metadata": {
        "id": "0FBCLBBV1qoF"
      }
    },
    {
      "cell_type": "markdown",
      "source": [
        "**Q. 3:** How do you distinguish between a class object and an instance object?\n",
        "\n",
        "**Ans3:** The differences between a class object and an instance object are:\n",
        "\n",
        "1. Class is a template for creating objects whereas object is an instance of class.\n",
        "\n",
        "2. Seperate memory is allocated for each object whenever an object is created. but for a class this doesnot happens.\n",
        "\n",
        "3. A Class is created once. Many objects are created using a class.\n",
        "\n",
        "4. As Classes have no allocated memory. they can't be manipulated. but objects can be manipulated."
      ],
      "metadata": {
        "id": "8nYpAlh11rbh"
      }
    },
    {
      "cell_type": "markdown",
      "source": [
        "\n",
        "\n",
        "---\n",
        "\n"
      ],
      "metadata": {
        "id": "ayWplZcK6_di"
      }
    },
    {
      "cell_type": "markdown",
      "source": [
        "**Q. 4:** What makes the first argument in a class’s method function special?\n",
        "\n",
        "**Ans 4:** Self represents the instance of the class.By using the \"self\"  keyword we can access the attributes and methods ao the class in python, It binds the attributes with the given arguments. The reason you need to use self is because Python does not use the @syntax to refer to instance attributes. Python decided to do methods in a way that makes the instance to which the method belongs be passed automatically, but not recieved automatically the first parameter of methods is the instance the method is called on."
      ],
      "metadata": {
        "id": "YS1KTM847BsQ"
      }
    },
    {
      "cell_type": "markdown",
      "source": [
        "\n",
        "\n",
        "---\n",
        "\n"
      ],
      "metadata": {
        "id": "v3lpxxQO7qVW"
      }
    },
    {
      "cell_type": "markdown",
      "source": [
        "**Q. 5:** What is the purpose of the __init__ method?\n",
        "\n",
        "**Ans 5:** __init__ serves as a Constructor which allows the class to initialize the attributes of the class."
      ],
      "metadata": {
        "id": "owGEuIO57rq6"
      }
    },
    {
      "cell_type": "markdown",
      "source": [
        "\n",
        "\n",
        "---\n",
        "\n"
      ],
      "metadata": {
        "id": "Qr06quHX9AY0"
      }
    },
    {
      "cell_type": "markdown",
      "source": [
        "**Q. 6:** What is the process for creating a class instance?\n",
        "\n",
        "**Ans 6:** To create a class instance, we need to call the class by its name and pass the arguments to the class, which its init method accepts.\n",
        "\n",
        "Example :  my_name = my_class (\"Tanay\",\"Choubey\")\n",
        "\n",
        "Here my_name is an instance of class my_class with attributes \"Tanay\" and \"Choubey\"."
      ],
      "metadata": {
        "id": "Z9RkMhXT9BtL"
      }
    },
    {
      "cell_type": "markdown",
      "source": [
        "\n",
        "\n",
        "---\n",
        "\n"
      ],
      "metadata": {
        "id": "TiMHUAGY_l0C"
      }
    },
    {
      "cell_type": "markdown",
      "source": [
        "**Q. 7:** What is the process for creating a class?\n",
        "\n",
        "**Ans 7:** class keyword is used to created a class in python. The syntax to create a class in python is ``class <classname>`` :\n",
        "\n",
        "Example: class Color : ➞ this creates a class called Color."
      ],
      "metadata": {
        "id": "mS5ILiBh_nez"
      }
    },
    {
      "cell_type": "markdown",
      "source": [
        "\n",
        "\n",
        "---\n",
        "\n"
      ],
      "metadata": {
        "id": "vPFCrf5rBJ7M"
      }
    },
    {
      "cell_type": "markdown",
      "source": [
        "**Q. 8:** How would you define the superclasses of a class?\n",
        "\n",
        "**Ans 8:** Superclass is given as a arugment to the child class.\n",
        "\n",
        "Example: class Car(Vehicle) : Here child class Car inherits attributes and methods/functions from Superclass Vehicle."
      ],
      "metadata": {
        "id": "JHUucHX_BLpJ"
      }
    },
    {
      "cell_type": "markdown",
      "source": [
        "\n",
        "\n",
        "---\n",
        "\n"
      ],
      "metadata": {
        "id": "HyNIMEYqCcJE"
      }
    }
  ]
}