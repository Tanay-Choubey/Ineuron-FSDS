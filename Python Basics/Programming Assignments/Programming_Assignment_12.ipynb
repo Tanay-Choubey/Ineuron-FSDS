{
  "nbformat": 4,
  "nbformat_minor": 0,
  "metadata": {
    "colab": {
      "provenance": []
    },
    "kernelspec": {
      "name": "python3",
      "display_name": "Python 3"
    },
    "language_info": {
      "name": "python"
    }
  },
  "cells": [
    {
      "cell_type": "markdown",
      "source": [
        "# **Programming Assignment 12**"
      ],
      "metadata": {
        "id": "0aSiXc28YgaM"
      }
    },
    {
      "cell_type": "markdown",
      "source": [
        "**Q. 1:** Write a Python program to Extract Unique values dictionary values?\n",
        "\n",
        "**Ans 1:** "
      ],
      "metadata": {
        "id": "sAp99kuiYkRU"
      }
    },
    {
      "cell_type": "code",
      "source": [
        "in_dict = {1:'Mumbai',2:'Delhi',3:'Banglore',4:'KOlkata',5:'Delhi',6:'Chennai',7:'Mumbai'}\n",
        "print(in_dict.values())\n",
        "print(f'Unique Values: {list(set(in_dict.values()))}')"
      ],
      "metadata": {
        "colab": {
          "base_uri": "https://localhost:8080/"
        },
        "id": "B8lzZbl0Yuon",
        "outputId": "5f3a2409-f9fa-4784-fdb1-9d97eaf2e7d3"
      },
      "execution_count": 1,
      "outputs": [
        {
          "output_type": "stream",
          "name": "stdout",
          "text": [
            "dict_values(['Mumbai', 'Delhi', 'Banglore', 'KOlkata', 'Delhi', 'Chennai', 'Mumbai'])\n",
            "Unique Values: ['Mumbai', 'Banglore', 'KOlkata', 'Chennai', 'Delhi']\n"
          ]
        }
      ]
    },
    {
      "cell_type": "markdown",
      "source": [
        "\n",
        "\n",
        "---\n",
        "\n"
      ],
      "metadata": {
        "id": "enyn0uIyb4QB"
      }
    },
    {
      "cell_type": "markdown",
      "source": [
        "**Q. 2:** Write a Python program to find the sum of all items in a dictionary?\n",
        "\n",
        "**Ans 2:** "
      ],
      "metadata": {
        "id": "VRSQkH_Db7Ug"
      }
    },
    {
      "cell_type": "code",
      "source": [
        "d = {'A' : 26, 'B' : 78, 'C' : 13, 'D' : 90}\n",
        "print('Sum of all items:',sum(d.values()))"
      ],
      "metadata": {
        "colab": {
          "base_uri": "https://localhost:8080/"
        },
        "id": "T-1g4KHrb0VM",
        "outputId": "8d066c56-98d9-46fd-c0f2-933635c3c73a"
      },
      "execution_count": 3,
      "outputs": [
        {
          "output_type": "stream",
          "name": "stdout",
          "text": [
            "Sum of all items: 207\n"
          ]
        }
      ]
    },
    {
      "cell_type": "markdown",
      "source": [
        "\n",
        "\n",
        "---\n",
        "\n"
      ],
      "metadata": {
        "id": "TJEFST-Nca01"
      }
    },
    {
      "cell_type": "markdown",
      "source": [
        "**Q. 3:** Write a Python program to Merging two Dictionaries?\n",
        "\n",
        "**Ans 3:** "
      ],
      "metadata": {
        "id": "QKN3EMrocbxg"
      }
    },
    {
      "cell_type": "code",
      "source": [
        "dict_1 = { 'k1' : 'Tanay', 'k2' : 'Choubey'}\n",
        "dict_2 = {'k3' : 'Data', 'k4' : 'Science', 'k5' : 'Learner'}\n",
        "\n",
        "for item in dict_2.items():\n",
        "    dict_1.setdefault(item[0], item[1])\n",
        "print(dict_1)"
      ],
      "metadata": {
        "colab": {
          "base_uri": "https://localhost:8080/"
        },
        "id": "d8E1On4NcO45",
        "outputId": "95a7689c-9186-4cf4-8f4b-1d995bb4daca"
      },
      "execution_count": 8,
      "outputs": [
        {
          "output_type": "stream",
          "name": "stdout",
          "text": [
            "{'k1': 'Tanay', 'k2': 'Choubey', 'k3': 'Data', 'k4': 'Science', 'k5': 'Learner'}\n"
          ]
        }
      ]
    },
    {
      "cell_type": "markdown",
      "source": [
        "\n",
        "\n",
        "---\n",
        "\n"
      ],
      "metadata": {
        "id": "Beal5GmAf6xF"
      }
    },
    {
      "cell_type": "markdown",
      "source": [
        "**Q. 4:** Write a Python program to convert key-values list to flat dictionary?\n",
        "\n",
        "**Ans 4:** "
      ],
      "metadata": {
        "id": "PwVbllbEf79Y"
      }
    },
    {
      "cell_type": "code",
      "source": [
        "l = [('A',10),('B',20),('C',30),('D',40),('E',50),('F',60),('G',70),('H',80),('I',90),('J',100)]\n",
        "\n",
        "dict(l)"
      ],
      "metadata": {
        "colab": {
          "base_uri": "https://localhost:8080/"
        },
        "id": "41av7QCjenlL",
        "outputId": "f68d4107-d8a0-4332-b3d8-75b7bc6f3553"
      },
      "execution_count": 10,
      "outputs": [
        {
          "output_type": "execute_result",
          "data": {
            "text/plain": [
              "{'A': 10,\n",
              " 'B': 20,\n",
              " 'C': 30,\n",
              " 'D': 40,\n",
              " 'E': 50,\n",
              " 'F': 60,\n",
              " 'G': 70,\n",
              " 'H': 80,\n",
              " 'I': 90,\n",
              " 'J': 100}"
            ]
          },
          "metadata": {},
          "execution_count": 10
        }
      ]
    },
    {
      "cell_type": "markdown",
      "source": [
        "\n",
        "\n",
        "---\n",
        "\n"
      ],
      "metadata": {
        "id": "Pwo0_gTlg3id"
      }
    },
    {
      "cell_type": "markdown",
      "source": [
        "**Q. 5:** Write a Python program to insertion at the beginning in OrderedDict?\n",
        "\n",
        "**Ans 5:** "
      ],
      "metadata": {
        "id": "I17Qi5V2g4rA"
      }
    },
    {
      "cell_type": "code",
      "source": [
        "from collections import OrderedDict\n",
        "dict_one = OrderedDict({'Apple':'Iphone','Microsoft':'Windows','Google':'chrome'})\n",
        "print('dict_one',dict_one)\n",
        "dict_two = {'Tesla':'SpaceX'}\n",
        "dict_one.update(dict_two)\n",
        "print('dict_one',dict_one)\n",
        "dict_one.move_to_end('Tesla',last=False)\n",
        "print('dict_one',dict_one)"
      ],
      "metadata": {
        "colab": {
          "base_uri": "https://localhost:8080/"
        },
        "id": "c6mngQ0wgTnc",
        "outputId": "644b5afc-49dc-48ed-eccf-3c31dfe6179e"
      },
      "execution_count": 11,
      "outputs": [
        {
          "output_type": "stream",
          "name": "stdout",
          "text": [
            "dict_one OrderedDict([('Apple', 'Iphone'), ('Microsoft', 'Windows'), ('Google', 'chrome')])\n",
            "dict_one OrderedDict([('Apple', 'Iphone'), ('Microsoft', 'Windows'), ('Google', 'chrome'), ('Tesla', 'SpaceX')])\n",
            "dict_one OrderedDict([('Tesla', 'SpaceX'), ('Apple', 'Iphone'), ('Microsoft', 'Windows'), ('Google', 'chrome')])\n"
          ]
        }
      ]
    },
    {
      "cell_type": "markdown",
      "source": [
        "\n",
        "\n",
        "---\n",
        "\n"
      ],
      "metadata": {
        "id": "LpxYmzf9kt3B"
      }
    },
    {
      "cell_type": "markdown",
      "source": [
        "**Q. 6:** Write a Python program to check order of character in string using OrderedDict()?\n",
        "\n",
        "**Ans 6:** "
      ],
      "metadata": {
        "id": "FwxGNESwkusl"
      }
    },
    {
      "cell_type": "code",
      "source": [
        "from collections import OrderedDict\n",
        "\n",
        "initial_list = {'a': 1000, 'f': 200, 'd': 300, 'c': 400, 'b': 500, 'e': 600}\n",
        "print(initial_list)\n",
        "\n",
        "final_list = OrderedDict(dict(sorted(initial_list.items())))\n",
        "print(final_list)"
      ],
      "metadata": {
        "colab": {
          "base_uri": "https://localhost:8080/"
        },
        "id": "VatoZG9LksDq",
        "outputId": "301aa4b8-ea30-4390-9f94-0b1fb6fe1808"
      },
      "execution_count": 12,
      "outputs": [
        {
          "output_type": "stream",
          "name": "stdout",
          "text": [
            "{'a': 1000, 'f': 200, 'd': 300, 'c': 400, 'b': 500, 'e': 600}\n",
            "OrderedDict([('a', 1000), ('b', 500), ('c', 400), ('d', 300), ('e', 600), ('f', 200)])\n"
          ]
        }
      ]
    },
    {
      "cell_type": "markdown",
      "source": [
        "\n",
        "\n",
        "---\n",
        "\n"
      ],
      "metadata": {
        "id": "OzqTR5cYlGH7"
      }
    },
    {
      "cell_type": "markdown",
      "source": [
        "**Q. 7:** Write a Python program to sort Python Dictionaries by Key or Value?\n",
        "\n",
        "**Ans 7:** "
      ],
      "metadata": {
        "id": "aeUClUdslHd3"
      }
    },
    {
      "cell_type": "code",
      "source": [
        "d_items = {'Mango':100,'PineApple':22,'Banana':60,'Grape':13}\n",
        "\n",
        "def sort_dict(in_dict,sort_type):\n",
        "    if sort_type == 'key':\n",
        "        print(dict(sorted(in_dict.items(), key=lambda x:x[0], reverse=False)))\n",
        "    else:\n",
        "        print(dict(sorted(in_dict.items(), key=lambda x:x[1], reverse=False)))\n",
        "        \n",
        "sort_dict(d_items,'key')        \n",
        "sort_dict(d_items,'value')"
      ],
      "metadata": {
        "colab": {
          "base_uri": "https://localhost:8080/"
        },
        "id": "neF48QGdmEI2",
        "outputId": "f377b1b9-4e5b-42f9-942f-da0142e1d0e6"
      },
      "execution_count": 14,
      "outputs": [
        {
          "output_type": "stream",
          "name": "stdout",
          "text": [
            "{'Banana': 60, 'Grape': 13, 'Mango': 100, 'PineApple': 22}\n",
            "{'Grape': 13, 'PineApple': 22, 'Banana': 60, 'Mango': 100}\n"
          ]
        }
      ]
    },
    {
      "cell_type": "markdown",
      "source": [
        "\n",
        "\n",
        "---\n",
        "\n"
      ],
      "metadata": {
        "id": "ocqSZSJUmHTi"
      }
    }
  ]
}