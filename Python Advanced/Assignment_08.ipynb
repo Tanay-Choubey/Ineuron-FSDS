{
  "nbformat": 4,
  "nbformat_minor": 0,
  "metadata": {
    "colab": {
      "provenance": []
    },
    "kernelspec": {
      "name": "python3",
      "display_name": "Python 3"
    },
    "language_info": {
      "name": "python"
    }
  },
  "cells": [
    {
      "cell_type": "markdown",
      "source": [
        "# **Assignment 8**"
      ],
      "metadata": {
        "id": "Hm2LuWlDBKZC"
      }
    },
    {
      "cell_type": "markdown",
      "source": [
        "**Q. 1:** What are the two latest user-defined exception constraints in Python 3.X?\n",
        "\n",
        "**Ans 1:** The raise and assert are the two latest user-defined exception constraints in Python 3.X"
      ],
      "metadata": {
        "id": "rc6RskScBR13"
      }
    },
    {
      "cell_type": "markdown",
      "source": [
        "\n",
        "\n",
        "---\n",
        "\n"
      ],
      "metadata": {
        "id": "uSseo40nCg5h"
      }
    },
    {
      "cell_type": "markdown",
      "source": [
        "**Q. 2:** How are class-based exceptions that have been raised matched to handlers?\n",
        "\n",
        "**Ans 2:** The 'class-based' Exceptions are created when a module needs to handle several distinct errors. One of the common ways of doing this is to create a base class for exceptions defined by that module. Further, various subclasses are defined to create specific exception classes for different error conditions."
      ],
      "metadata": {
        "id": "OsrLnK9PCh0I"
      }
    },
    {
      "cell_type": "markdown",
      "source": [
        "\n",
        "\n",
        "---\n"
      ],
      "metadata": {
        "id": "rUNBVxA6DaaN"
      }
    },
    {
      "cell_type": "markdown",
      "source": [
        "**Q. 3:** Describe two methods for attaching context information to exception artefacts.\n",
        "\n",
        "**Ans 3:** The process() method of LoggerAdapter is where the contextual information is added to the logging output. its passes the message and keyword arguments of the logging call, and it passes back modified versions of these to use in the call to the underlying logger.\n",
        "\n",
        "Other method that can be used is exception(), Logs a message with level ERROR on this logger. The arguments are interpreted as for debug(). Exception info is added to the logging message."
      ],
      "metadata": {
        "id": "gxg8Gca2DhxE"
      }
    },
    {
      "cell_type": "markdown",
      "source": [
        "\n",
        "\n",
        "---\n",
        "\n"
      ],
      "metadata": {
        "id": "zsxTYMenEM1-"
      }
    },
    {
      "cell_type": "markdown",
      "source": [
        "**Q. 4:** Describe two methods for specifying the text of an exception object's error message.\n",
        "\n",
        "**Ans 4:** The two methods for specifying the text of an exception object's error message are:\n",
        "\n",
        "1. as a string argument when the exception object is created, i.e. eg: raise Exception(\"Error message\").\n",
        "\n",
        "2. as a class attribute of the expception object, i.e. eg: class ExceptionHandler(Exception): message = \"error message\"."
      ],
      "metadata": {
        "id": "OKd5mVs_EOLp"
      }
    },
    {
      "cell_type": "markdown",
      "source": [
        "\n",
        "\n",
        "---\n",
        "\n"
      ],
      "metadata": {
        "id": "cKMsdlExGYxE"
      }
    },
    {
      "cell_type": "markdown",
      "source": [
        "**Q. 5:** Why do you no longer use string-based exceptions?\n",
        "\n",
        "**Ans 5:** String-based exceptions have been deprecated in Python since version 2.5 and are no longer recommended for use because they are less flexible and less extensible than class-based exceptions. Class-based exceptions allow for more sophisticated exception handling, such as the ability to define custom exception classes and attach additional context information to the exception object."
      ],
      "metadata": {
        "id": "AtQAV2D3GaEj"
      }
    },
    {
      "cell_type": "markdown",
      "source": [
        "\n",
        "\n",
        "---\n",
        "\n"
      ],
      "metadata": {
        "id": "H6y2z0KDHJoN"
      }
    }
  ]
}