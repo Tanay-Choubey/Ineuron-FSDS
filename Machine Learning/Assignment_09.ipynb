{
  "nbformat": 4,
  "nbformat_minor": 0,
  "metadata": {
    "colab": {
      "provenance": []
    },
    "kernelspec": {
      "name": "python3",
      "display_name": "Python 3"
    },
    "language_info": {
      "name": "python"
    }
  },
  "cells": [
    {
      "cell_type": "markdown",
      "source": [
        "# **Assignment 09**"
      ],
      "metadata": {
        "id": "MQJPVU-TePcA"
      }
    },
    {
      "cell_type": "markdown",
      "source": [
        "**Q. 1:** What is feature engineering, and how does it work? Explain the various aspects of feature engineering in depth.\n",
        "\n",
        "**Ans 1:** Feature engineering is the process of selecting, manipulating, and transforming raw data into features that can be used in supervised learning. In order to make machine learning work well on new tasks, it might be necessary to design and train better features.\n",
        "\n",
        "Feature engineering in ML consists of four main steps: Feature Creation, Transformations, Feature Extraction, and Feature Selection. Feature engineering consists of creation, transformation, extraction, and selection of features, also known as variables, that are most conducive to creating an accurate ML algorithm."
      ],
      "metadata": {
        "id": "pV4U6U4AeRtX"
      }
    },
    {
      "cell_type": "markdown",
      "source": [
        "\n",
        "\n",
        "---\n",
        "\n"
      ],
      "metadata": {
        "id": "3DfrFGuWffZv"
      }
    },
    {
      "cell_type": "markdown",
      "source": [
        "**Q. 2:** What is feature selection, and how does it work? What is the aim of it? What are the various methods of function selection?\n",
        "\n",
        "**Ans 2:** Feature Selection is the process where you automatically or manually select those features which contribute most to your prediction variable or output in which you are interested in. Having irrelevant features in your data can decrease the accuracy of the models and make your model learn based on irrelevant features.\n",
        "\n",
        "There are three types of feature selection:\n",
        "\n",
        "- Wrapper methods (forward, backward, and stepwise selection)\n",
        "- Filter methods (ANOVA, Pearson correlation, variance thresholding)\n",
        "- Embedded methods (Lasso, Ridge, Decision Tree)."
      ],
      "metadata": {
        "id": "1mJQcfR4fgDW"
      }
    },
    {
      "cell_type": "markdown",
      "source": [
        "\n",
        "\n",
        "---\n",
        "\n"
      ],
      "metadata": {
        "id": "3u7invVvfzXF"
      }
    },
    {
      "cell_type": "markdown",
      "source": [
        "**Q. 3:** Describe the function selection filter and wrapper approaches. State the pros and cons of each approach?\n",
        "\n",
        "**Ans 3:** The main differences between the filter and wrapper methods for feature selection are:\n",
        "\n",
        "1. Filter methods measure the relevance of features by their correlation with dependent variable while wrapper methods measure the usefulness of a subset of feature by actually training a model on it.\n",
        "2. Filter methods are much faster compared to wrapper methods as they do not involve training the models. On the other hand, wrapper methods are computationally very expensive as well.\n",
        "3. Filter methods use statistical methods for evaluation of a subset of features while wrapper methods use cross validation.\n",
        "4. Filter methods might fail to find the best subset of features in many occasions but wrapper methods can always provide the best subset of features.\n",
        "5. Using the subset of features from the wrapper methods make the model more prone to overfitting as compared to using subset of features from the filter methods"
      ],
      "metadata": {
        "id": "0ACqCrABfz-V"
      }
    },
    {
      "cell_type": "markdown",
      "source": [
        "\n",
        "\n",
        "---\n",
        "\n"
      ],
      "metadata": {
        "id": "IT6TDer1gIsm"
      }
    },
    {
      "cell_type": "markdown",
      "source": [
        "**Q. 4:** Please Answer the following Questions :\n",
        "1. Describe the overall feature selection process.\n",
        "2. Explain the key underlying principle of feature extraction using an example. What are the most widely used function extraction algorithms?\n",
        "\n",
        "**Ans 4:** Feature selection is the process of reducing the number of input variables when developing a predictive model. It is desirable to reduce the number of input variables to both reduce the computational cost of modeling and, in some cases, to improve the performance of the model."
      ],
      "metadata": {
        "id": "oRd6p6ScgKD-"
      }
    },
    {
      "cell_type": "markdown",
      "source": [
        "\n",
        "\n",
        "---\n",
        "\n"
      ],
      "metadata": {
        "id": "p7N4Gvgpgq0V"
      }
    },
    {
      "cell_type": "markdown",
      "source": [
        "**Q. 5:** Describe the feature engineering process in the sense of a text categorization issue.\n",
        "\n",
        "**Ans 5:** Text classification is the problem of assigning categories to text data according to its content. The most important part of text classification is feature engineering: the process of creating features for a machine learning model from raw text data. Example: Text cleaning steps vary according to the type of data and the required task. Generally, the string is converted to lowercase and punctuation is removed before text gets tokenized. Tokenization is the process of splitting a string into a list of strings (or “tokens”). We can create a list of generic stop words for the English vocabulary with NLTK (the Natural Language Toolkit), which is a suite of libraries and programs for symbolic and statistical natural language processing. Then we can remove these stop words. We need to be very careful with stop words because if you remove the wrong token you may lose important information. For example, the word “will” was removed and we lost the information that the person is Will Smith. With this in mind, it can be useful to do some manual modification to the raw text before removing stop words (for example, replacing “Will Smith” with “Will_Smith”). Stemming and Lemmatization both generate the root form of words. The difference is that stem might not be an actual word whereas lemma is an actual language word (also stemming is usually faster). Those algorithms are both provided by NLTK."
      ],
      "metadata": {
        "id": "3wet5hELgrwV"
      }
    },
    {
      "cell_type": "markdown",
      "source": [
        "\n",
        "\n",
        "---\n",
        "\n"
      ],
      "metadata": {
        "id": "hpnCFrKCg4m2"
      }
    },
    {
      "cell_type": "markdown",
      "source": [
        "**Q. 6:** What makes cosine similarity a good metric for text categorization? A document-term matrix has two rows with values of (2, 3, 2, 0, 2, 3, 3, 0, 1) and (2, 1, 0, 0, 3, 2, 1, 3, 1). Find the resemblance in cosine.\n",
        "\n",
        "**Ans 6:** Cosine similarity is a metric used to measure how similar the documents are irrespective of their size. The cosine similarity is advantageous because even if the two similar documents are far apart by the Euclidean distance (due to the size of the document), chances are they may still be oriented closer together.\n",
        "\n",
        "Cosine similarity is the cosine of the angle between two n-dimensional vectors in an n-dimensional space. It is the dot product of the two vectors divided by the product of the two vectors' lengths (or magnitudes).\n",
        "\n",
        "The formula for calculating the cosine similarity is : Cos(x, y) = x . y / ||x|| * ||y||\n",
        "\n",
        "In our Question cos(x,y) = 23/(root 40 * root 29) = 0.675"
      ],
      "metadata": {
        "id": "5HMSC34Bg5JO"
      }
    },
    {
      "cell_type": "markdown",
      "source": [
        "\n",
        "\n",
        "---\n",
        "\n"
      ],
      "metadata": {
        "id": "TbsU0D7WhOYu"
      }
    },
    {
      "cell_type": "markdown",
      "source": [
        "**Q. 7:** Explain the following:\n",
        "1. What is the formula for calculating Hamming distance? Between 10001011 and 11001111, calculate the Hamming gap.\n",
        "2. Compare the Jaccard index and similarity matching coefficient of two features with values (1,1,0,0,1,0,1,1) and (1,1,0,0, 0,1,1,1), respectively (1,0,0,1,1,0,0,1).\n",
        "\n",
        "**Ans 7:** \n",
        "\n",
        "1. The Hamming distance between two vectors is the number of bits we must change to change one into the other. Example Find the distance between the vectors 01101010 and 11011011. They differ in four places, so the Hamming distance d(01101010,11011011) = 4. In question mentioned between 10001011 and 11001111, hamming distance will be 2 as two character are different.\n",
        "\n",
        "2. Jaccard Index = (the number in both sets) / (the number in either set) * 100 For Question given, Jaccard Index = 2/2 *100 = 100%"
      ],
      "metadata": {
        "id": "VlI_5-ZyhO-u"
      }
    },
    {
      "cell_type": "markdown",
      "source": [
        "\n",
        "\n",
        "---\n",
        "\n"
      ],
      "metadata": {
        "id": "-o0i8eWLhkh1"
      }
    },
    {
      "cell_type": "markdown",
      "source": [
        "**Q. 8:** State what is meant by \"high-dimensional data set\"? Could you offer a few real-life examples? What are the difficulties in using machine learning techniques on a data set with many dimensions? What can be done about it?\n",
        "\n",
        "**Ans 8:** High dimension is when variable numbers p is higher than the sample sizes n i.e. p>n, cases. High dimensional data is referred to a data of n samples with p features, where p is larger than n.\n",
        "\n",
        "For example, tomographic imaging data, ECG data, and MEG data. One example of high dimensional data is microarray gene expression data."
      ],
      "metadata": {
        "id": "jxmtswoFhlTV"
      }
    },
    {
      "cell_type": "markdown",
      "source": [
        "\n",
        "\n",
        "---\n",
        "\n"
      ],
      "metadata": {
        "id": "L__KSZBfhzP1"
      }
    },
    {
      "cell_type": "markdown",
      "source": [
        "**Q. 9:**  Make a few quick notes on:\n",
        "1. PCA is an acronym for Personal Computer Analysis.\n",
        "2. Use of vectors\n",
        "3. Embedded technique\n",
        "\n",
        "**Ans 9:** \n",
        "\n",
        "1. The Principal component analysis (PCA) is a technique used for identification of a smaller number of uncorrelated variables known as principal components from a larger set of data. The technique is widely used to emphasize variation and capture strong patterns in a data set.\n",
        "\n",
        "2. Vectors can be used to represent physical quantities. Most commonly in physics, vectors are used to represent displacement, velocity, and acceleration. Vectors are a combination of magnitude and direction, and are drawn as arrows\n",
        "\n",
        "3. In the context of machine learning, an embedding is a low-dimensional, learned continuous vector representation of discrete variables into which you can translate high-dimensional vectors. Generally, embeddings make ML models more efficient and easier to work with, and can be used with other models as well."
      ],
      "metadata": {
        "id": "44oOljj9hz0F"
      }
    },
    {
      "cell_type": "markdown",
      "source": [
        "\n",
        "\n",
        "---\n",
        "\n"
      ],
      "metadata": {
        "id": "2WinulLZiINN"
      }
    },
    {
      "cell_type": "markdown",
      "source": [
        "**Q. 10:** Make a comparison between:\n",
        "1. Sequential backward exclusion vs. sequential forward selection\n",
        "2. Function selection methods: filter vs. wrapper\n",
        "3. SMC vs. Jaccard coefficient\n",
        "\n",
        "**Ans 10:** \n",
        "\n",
        "1. Sequential floating forward selection (SFFS) starts from the empty set. After each forward step, SFFS performs backward steps as long as the objective function increases. Sequential floating backward selection (SFBS) starts from the full set.\n",
        "\n",
        "2. The main differences between the filter and wrapper methods for feature selection are:\n",
        "\n",
        "- Filter methods measure the relevance of features by their correlation with dependent variable while wrapper methods measure the usefulness of a subset of feature by actually training a model on it.\n",
        "- Filter methods are much faster compared to wrapper methods as they do not involve training the models. On the other hand, wrapper methods are computationally very expensive as well.\n",
        "- Filter methods use statistical methods for evaluation of a subset of features while wrapper methods use cross validation.\n",
        "- Filter methods might fail to find the best subset of features in many occasions but wrapper methods can always provide the best subset of features.\n",
        "- Using the subset of features from the wrapper methods make the model more prone to overfitting as compared to using subset of features from the filter methods.\n",
        "\n",
        "3. The Jaccard coefficient is a measure of the percentage of overlap between sets defined as: (5.1) where W1 and W2 are two sets, in our case the 1-year windows of the ego networks. The Jaccard coefficient can be a value between 0 and 1, with 0 indicating no overlap and 1 complete overlap between the sets."
      ],
      "metadata": {
        "id": "UY1XbZWWiJBN"
      }
    },
    {
      "cell_type": "markdown",
      "source": [
        "\n",
        "\n",
        "---\n",
        "\n"
      ],
      "metadata": {
        "id": "OkZ0wZM8jQ2E"
      }
    }
  ]
}