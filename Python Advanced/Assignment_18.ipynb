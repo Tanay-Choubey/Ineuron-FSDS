{
  "nbformat": 4,
  "nbformat_minor": 0,
  "metadata": {
    "colab": {
      "provenance": []
    },
    "kernelspec": {
      "name": "python3",
      "display_name": "Python 3"
    },
    "language_info": {
      "name": "python"
    }
  },
  "cells": [
    {
      "cell_type": "markdown",
      "source": [
        "# **Assignment 18**"
      ],
      "metadata": {
        "id": "D0hjUQx6jZ6M"
      }
    },
    {
      "cell_type": "markdown",
      "source": [
        "**Q. 1:** Describe the differences between text and binary files in a single paragraph.\n",
        "\n",
        "**Ans 1:** Text files contain human-readable characters and use ASCII or UTF-8 encoding. Binary files contain data in a machine-readable format and include executable files and image, audio and video files."
      ],
      "metadata": {
        "id": "_PmvIjiVjg-O"
      }
    },
    {
      "cell_type": "markdown",
      "source": [
        "\n",
        "\n",
        "---\n",
        "\n"
      ],
      "metadata": {
        "id": "qTPvYuX-nAN1"
      }
    },
    {
      "cell_type": "markdown",
      "source": [
        "**Q. 2:** What are some scenarios where using text files will be the better option? When would you like to use binary files instead of text files?\n",
        "\n",
        "**Ans 2:** Text files are less prone to get corrupted as any undesired change may just show up once the file is opened and then can easily be removed. Whereas Use binary files instead of text files for image data."
      ],
      "metadata": {
        "id": "KW_bmspVnBPC"
      }
    },
    {
      "cell_type": "markdown",
      "source": [
        "\n",
        "\n",
        "---\n",
        "\n"
      ],
      "metadata": {
        "id": "pdmhLSuDna17"
      }
    },
    {
      "cell_type": "markdown",
      "source": [
        "**Q. 3:** What are some of the issues with using binary operations to read and write a Python integer directly to disc?\n",
        "\n",
        "**Ans 3:** When we read or write a python integer using binary operations:\n",
        "\n",
        "- Binary operations deal with raw data.\n",
        "\n",
        "- One needs to identify how many bytes one would read or write.\n",
        "\n"
      ],
      "metadata": {
        "id": "dLOKduGUnfES"
      }
    },
    {
      "cell_type": "markdown",
      "source": [
        "\n",
        "\n",
        "---\n",
        "\n"
      ],
      "metadata": {
        "id": "3YJS1sbeoSlI"
      }
    },
    {
      "cell_type": "markdown",
      "source": [
        "**Q. 4:** Describe a benefit of using the with keyword instead of explicitly opening a file.\n",
        "\n",
        "**Ans 4:** A benefit of using the with keyword to open a file is that it automatically handles closing the file after the block of code is executed, even if an exception occurs. This ensures that the file is properly closed, which can help prevent data loss or corruption."
      ],
      "metadata": {
        "id": "3FDdZYOzoTvo"
      }
    },
    {
      "cell_type": "markdown",
      "source": [
        "\n",
        "\n",
        "---\n",
        "\n"
      ],
      "metadata": {
        "id": "tN-LWr87o5-h"
      }
    },
    {
      "cell_type": "markdown",
      "source": [
        "**Q. 5:** Does Python have the trailing newline while reading a line of text? Does Python append a newline when you write a line of text?\n",
        "\n",
        "**Ans 5:** Yes, Python have the trailing newline while reading a line of text. When we write a newline has to be provided in python excpicitly."
      ],
      "metadata": {
        "id": "7PwWg5S3o6_7"
      }
    },
    {
      "cell_type": "markdown",
      "source": [
        "\n",
        "\n",
        "---\n",
        "\n"
      ],
      "metadata": {
        "id": "ymSyIIDerjfQ"
      }
    },
    {
      "cell_type": "markdown",
      "source": [
        "**Q. 6:** What file operations enable for random-access operation?\n",
        "\n",
        "**Ans 6:** The file operations enable for random-access operation are seek() and tell()."
      ],
      "metadata": {
        "id": "IBlZpR1yrkoI"
      }
    },
    {
      "cell_type": "markdown",
      "source": [
        "\n",
        "\n",
        "---\n",
        "\n"
      ],
      "metadata": {
        "id": "oVTSdip6sk3F"
      }
    },
    {
      "cell_type": "markdown",
      "source": [
        "**Q. 7:** When do you think you'll use the struct package the most?\n",
        "\n",
        "**Ans 7:** The struct package is useful in Python when you need to read or write binary data that is formatted in a specific way. This might include data that is stored in a proprietary file format, or data that needs to be transmitted over a network in a specific format. The struct package provides a way to pack and unpack this data into Python data types, making it easier to work with."
      ],
      "metadata": {
        "id": "lkPF5tUNsmwa"
      }
    },
    {
      "cell_type": "markdown",
      "source": [
        "\n",
        "\n",
        "---\n",
        "\n"
      ],
      "metadata": {
        "id": "1pFFHIsquNGJ"
      }
    },
    {
      "cell_type": "markdown",
      "source": [
        "**Q. 8:** When is pickling the best option?\n",
        "\n",
        "**Ans 8:** Pickling is best option for creating a new binary file using python."
      ],
      "metadata": {
        "id": "HsmukhmguOGB"
      }
    },
    {
      "cell_type": "markdown",
      "source": [
        "\n",
        "\n",
        "---\n",
        "\n"
      ],
      "metadata": {
        "id": "NdRK1vNYwRdF"
      }
    },
    {
      "cell_type": "markdown",
      "source": [
        "**Q. 9:** When will it be best to use the shelve package?\n",
        "\n",
        "**Ans 9:** Shelve package is used to pickle data but treats the entire file as dictionary."
      ],
      "metadata": {
        "id": "4HSBjhLPwSlD"
      }
    },
    {
      "cell_type": "markdown",
      "source": [
        "\n",
        "\n",
        "---\n",
        "\n"
      ],
      "metadata": {
        "id": "v0u4a4dRwhF6"
      }
    },
    {
      "cell_type": "markdown",
      "source": [
        "**Q. 10:** What is a special restriction when using the shelve package, as opposed to using other data dictionaries?\n",
        "\n",
        "**Ans 10:** One special restriction when using the shelve package is that the keys of the dictionary must be strings. This is because the shelve module stores the data in a file on disk, and the keys are used to create the file names. In order to maintain the consistency and integrity of the data, the keys must be strings that are valid file names. This is a different restriction than other data dictionaries in Python, which can use any immutable type as a key."
      ],
      "metadata": {
        "id": "joJEJrv3wiW4"
      }
    },
    {
      "cell_type": "markdown",
      "source": [
        "\n",
        "\n",
        "---\n",
        "\n"
      ],
      "metadata": {
        "id": "HmBkdPOSwwe4"
      }
    }
  ]
}