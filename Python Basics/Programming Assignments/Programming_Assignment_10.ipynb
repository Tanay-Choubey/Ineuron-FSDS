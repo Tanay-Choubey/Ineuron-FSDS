{
  "nbformat": 4,
  "nbformat_minor": 0,
  "metadata": {
    "colab": {
      "provenance": []
    },
    "kernelspec": {
      "name": "python3",
      "display_name": "Python 3"
    },
    "language_info": {
      "name": "python"
    }
  },
  "cells": [
    {
      "cell_type": "markdown",
      "source": [
        "# **Programming Assignment 10**"
      ],
      "metadata": {
        "id": "EjpIQOUnOZkg"
      }
    },
    {
      "cell_type": "markdown",
      "source": [
        "**Q. 1:** Write a Python program to find sum of elements in list?\n",
        "\n",
        "**Ans 1:** "
      ],
      "metadata": {
        "id": "FyTPFMKFOjFP"
      }
    },
    {
      "cell_type": "code",
      "source": [
        "l = [1,2,3,4,5,6,7,8,9,10,11,12,13,14,15]\n",
        "\n",
        "def sumlist(l):\n",
        "    sum = 0\n",
        "    for i in range(len(l)):\n",
        "        sum = sum + l[i]\n",
        "    return sum \n",
        "print(l)\n",
        "print(\"Sum of List:\", sumlist(l))"
      ],
      "metadata": {
        "colab": {
          "base_uri": "https://localhost:8080/"
        },
        "id": "yhqcq05MPBHv",
        "outputId": "4ca9afde-4139-4d7c-b8fe-a5fbed49723d"
      },
      "execution_count": 1,
      "outputs": [
        {
          "output_type": "stream",
          "name": "stdout",
          "text": [
            "[1, 2, 3, 4, 5, 6, 7, 8, 9, 10, 11, 12, 13, 14, 15]\n",
            "Sum of List: 120\n"
          ]
        }
      ]
    },
    {
      "cell_type": "markdown",
      "source": [
        "\n",
        "\n",
        "---\n",
        "\n"
      ],
      "metadata": {
        "id": "yRhZA0-WPd1g"
      }
    },
    {
      "cell_type": "markdown",
      "source": [
        "**Q. 2:** Write a Python program to Multiply all numbers in the list?\n",
        "\n",
        "**Ans 2:** "
      ],
      "metadata": {
        "id": "RkpJVE7BPe_Y"
      }
    },
    {
      "cell_type": "code",
      "source": [
        "l = [1,2,3,4,5,6,7,8,9,10,11,12,13,14,15]\n",
        "\n",
        "def mullist(l):\n",
        "    mul = 1\n",
        "    for i in l:\n",
        "        mul *= i\n",
        "    return mul\n",
        "print(l)\n",
        "print(\"Multiplication of List:\", mullist(l))"
      ],
      "metadata": {
        "colab": {
          "base_uri": "https://localhost:8080/"
        },
        "id": "7s4x-aiJPbfy",
        "outputId": "9cb337d3-8088-4fbf-fc52-93eb8b03b17e"
      },
      "execution_count": 3,
      "outputs": [
        {
          "output_type": "stream",
          "name": "stdout",
          "text": [
            "[1, 2, 3, 4, 5, 6, 7, 8, 9, 10, 11, 12, 13, 14, 15]\n",
            "Multiplication of List: 1307674368000\n"
          ]
        }
      ]
    },
    {
      "cell_type": "markdown",
      "source": [
        "\n",
        "\n",
        "---\n",
        "\n"
      ],
      "metadata": {
        "id": "nGYZej4SQ7AR"
      }
    },
    {
      "cell_type": "markdown",
      "source": [
        "**Q. 3:** Write a Python program to find smallest number in a list?\n",
        "\n",
        "**Ans 3:** "
      ],
      "metadata": {
        "id": "3PnCpzzFQ7yg"
      }
    },
    {
      "cell_type": "code",
      "source": [
        "l = [1,2,3,4,5,6,7,8,9,10,11,12,13,14,15]\n",
        "\n",
        "def smallest(l):\n",
        "    small = min(l)\n",
        "    return small\n",
        "print(\"Smallest number in the list:\", smallest(l))"
      ],
      "metadata": {
        "colab": {
          "base_uri": "https://localhost:8080/"
        },
        "id": "YlHk0l_9Qm9E",
        "outputId": "e4ed41c1-db0c-4fd6-e185-1e6c7f732000"
      },
      "execution_count": 4,
      "outputs": [
        {
          "output_type": "stream",
          "name": "stdout",
          "text": [
            "Smallest number in the list: 1\n"
          ]
        }
      ]
    },
    {
      "cell_type": "markdown",
      "source": [
        "\n",
        "\n",
        "---\n",
        "\n"
      ],
      "metadata": {
        "id": "5r3K2rhwRxOI"
      }
    },
    {
      "cell_type": "markdown",
      "source": [
        "**Q. 4:** Write a Python program to find largest number in a list?\n",
        "\n",
        "**Ans 4:** "
      ],
      "metadata": {
        "id": "bwmFNXZaRyNY"
      }
    },
    {
      "cell_type": "code",
      "source": [
        "l = [1,2,3,4,5,6,7,8,9,10,11,12,13,14,15]\n",
        "\n",
        "def largest(l):\n",
        "    large = max(l)\n",
        "    return large\n",
        "print(\"Largest number in the list:\", largest(l))"
      ],
      "metadata": {
        "colab": {
          "base_uri": "https://localhost:8080/"
        },
        "id": "3okWuaWgRvM3",
        "outputId": "f997c782-87a8-43c3-9dde-a0fc9e534673"
      },
      "execution_count": 5,
      "outputs": [
        {
          "output_type": "stream",
          "name": "stdout",
          "text": [
            "Largest number in the list: 15\n"
          ]
        }
      ]
    },
    {
      "cell_type": "markdown",
      "source": [
        "\n",
        "\n",
        "---\n",
        "\n"
      ],
      "metadata": {
        "id": "8Cc8ddCpSDxg"
      }
    },
    {
      "cell_type": "markdown",
      "source": [
        "**Q. 5:** Write a Python program to find second largest number in a list?\n",
        "\n",
        "**Ans 5:** "
      ],
      "metadata": {
        "id": "9AkRfoyHSEhI"
      }
    },
    {
      "cell_type": "code",
      "source": [
        "l = [1,2,3,4,5,6,7,8,9,10,11,12,13,14,15]\n",
        "\n",
        "l.sort(reverse=True)\n",
        "print(\"Second largest number in the list :\", l[1])"
      ],
      "metadata": {
        "colab": {
          "base_uri": "https://localhost:8080/"
        },
        "id": "CZQMIk0fSY3C",
        "outputId": "b6fa0b0f-49d3-46fe-f550-cca32005d4a4"
      },
      "execution_count": 6,
      "outputs": [
        {
          "output_type": "stream",
          "name": "stdout",
          "text": [
            "Second largest number in the list : 14\n"
          ]
        }
      ]
    },
    {
      "cell_type": "markdown",
      "source": [
        "\n",
        "\n",
        "---\n",
        "\n"
      ],
      "metadata": {
        "id": "W3G9VtzMTBDX"
      }
    },
    {
      "cell_type": "markdown",
      "source": [
        "**Q. 6:** Write a Python program to find N largest elements from a list?\n",
        "\n",
        "**Ans 6:** "
      ],
      "metadata": {
        "id": "awMcWmCiTB2Y"
      }
    },
    {
      "cell_type": "code",
      "source": [
        "def findLarge(lst, n):\n",
        "    \n",
        "    lst.sort(reverse = True)\n",
        "    return lst[n-1]"
      ],
      "metadata": {
        "id": "-im9hbNbSCG3"
      },
      "execution_count": 7,
      "outputs": []
    },
    {
      "cell_type": "code",
      "source": [
        "# 2nd Largest Element\n",
        "\n",
        "l = [1,2,3,4,5,6,7,8,9,10,11,12,13,14,15]\n",
        "findLarge(l, 2)"
      ],
      "metadata": {
        "colab": {
          "base_uri": "https://localhost:8080/"
        },
        "id": "8H6PXyQJWstG",
        "outputId": "469e91e9-11c1-4f14-ba53-0488dbf00749"
      },
      "execution_count": 8,
      "outputs": [
        {
          "output_type": "execute_result",
          "data": {
            "text/plain": [
              "14"
            ]
          },
          "metadata": {},
          "execution_count": 8
        }
      ]
    },
    {
      "cell_type": "code",
      "source": [
        "# 4th Largest Element\n",
        "\n",
        "l = [1,2,3,4,5,6,7,8,9,10,11,12,13,14,15]\n",
        "findLarge(l, 4)"
      ],
      "metadata": {
        "colab": {
          "base_uri": "https://localhost:8080/"
        },
        "id": "e6WPUfd9W_W3",
        "outputId": "3e0aa6bd-6a38-4051-8831-e8ad4ecfc50c"
      },
      "execution_count": 9,
      "outputs": [
        {
          "output_type": "execute_result",
          "data": {
            "text/plain": [
              "12"
            ]
          },
          "metadata": {},
          "execution_count": 9
        }
      ]
    },
    {
      "cell_type": "markdown",
      "source": [
        "\n",
        "\n",
        "---\n",
        "\n"
      ],
      "metadata": {
        "id": "fdYyAd-GXIKA"
      }
    },
    {
      "cell_type": "markdown",
      "source": [
        "**Q. 7:** Write a Python program to print even numbers in a list?\n",
        "\n",
        "**Ans 7:** "
      ],
      "metadata": {
        "id": "kUVa8OTiXKav"
      }
    },
    {
      "cell_type": "code",
      "source": [
        "l = [1,2,3,4,5,6,7,8,9,10,11,12,13,14,15]\n",
        "\n",
        "def even(l):\n",
        "    new_list=[]\n",
        "    for i in l:\n",
        "        if i%2 == 0:\n",
        "            new_list.append(i)\n",
        "    return new_list\n",
        "print(\"Even Numbers in\",l)\n",
        "print(even(l))"
      ],
      "metadata": {
        "colab": {
          "base_uri": "https://localhost:8080/"
        },
        "id": "5DYcV3xEXGsC",
        "outputId": "a11cddfa-3713-44f5-931a-777dfbe251d7"
      },
      "execution_count": 10,
      "outputs": [
        {
          "output_type": "stream",
          "name": "stdout",
          "text": [
            "Even Numbers in [1, 2, 3, 4, 5, 6, 7, 8, 9, 10, 11, 12, 13, 14, 15]\n",
            "[2, 4, 6, 8, 10, 12, 14]\n"
          ]
        }
      ]
    },
    {
      "cell_type": "markdown",
      "source": [
        "\n",
        "\n",
        "---\n",
        "\n"
      ],
      "metadata": {
        "id": "ylxrEprFYGoo"
      }
    },
    {
      "cell_type": "markdown",
      "source": [
        "**Q. 8:** Write a Python program to print odd numbers in a List?\n",
        "\n",
        "**Ans 8:** "
      ],
      "metadata": {
        "id": "HaWSXStTYHjp"
      }
    },
    {
      "cell_type": "code",
      "source": [
        "l = [1,2,3,4,5,6,7,8,9,10,11,12,13,14,15]\n",
        "\n",
        "def odd(l):\n",
        "    new_list = []\n",
        "    for i in l:\n",
        "        if i%2 !=0:\n",
        "            new_list.append(i)\n",
        "    return new_list\n",
        "print(\"Odd numbers in\",l)\n",
        "print(odd(l))"
      ],
      "metadata": {
        "colab": {
          "base_uri": "https://localhost:8080/"
        },
        "id": "vEXR9G4ZYFFo",
        "outputId": "5afe31c4-2b15-45c1-822f-e0213b1cc701"
      },
      "execution_count": 11,
      "outputs": [
        {
          "output_type": "stream",
          "name": "stdout",
          "text": [
            "Odd numbers in [1, 2, 3, 4, 5, 6, 7, 8, 9, 10, 11, 12, 13, 14, 15]\n",
            "[1, 3, 5, 7, 9, 11, 13, 15]\n"
          ]
        }
      ]
    },
    {
      "cell_type": "markdown",
      "source": [
        "\n",
        "\n",
        "---\n",
        "\n"
      ],
      "metadata": {
        "id": "4qPTlthQYjJZ"
      }
    },
    {
      "cell_type": "markdown",
      "source": [
        "**Q. 9:** Write a Python program to Remove empty List from List?\n",
        "\n",
        "**Ans 9:** "
      ],
      "metadata": {
        "id": "WVs32qBqYjyB"
      }
    },
    {
      "cell_type": "code",
      "source": [
        "l1 = [1,2,3,4,5,[],6,7,8,9,10,11,12,13,14,15]\n",
        "\n",
        "def removeEmptyList(l1):\n",
        "    if [] in l1:\n",
        "        print(f'There is an Empty list in {l1} at Position {l1.index([])}')\n",
        "        l1.remove([])\n",
        "        print(f'The List after removing [] is {l1}')\n",
        "    else:\n",
        "        print(f'There is no [] List in the list {l1}')\n",
        "        \n",
        "removeEmptyList(l1)"
      ],
      "metadata": {
        "colab": {
          "base_uri": "https://localhost:8080/"
        },
        "id": "eXnRvrqXYf_I",
        "outputId": "56aa28ce-9cf3-4646-8468-416400796e33"
      },
      "execution_count": 16,
      "outputs": [
        {
          "output_type": "stream",
          "name": "stdout",
          "text": [
            "There is an Empty list in [1, 2, 3, 4, 5, [], 6, 7, 8, 9, 10, 11, 12, 13, 14, 15] at Position 5\n",
            "The List after removing [] is [1, 2, 3, 4, 5, 6, 7, 8, 9, 10, 11, 12, 13, 14, 15]\n"
          ]
        }
      ]
    },
    {
      "cell_type": "markdown",
      "source": [
        "\n",
        "\n",
        "---\n",
        "\n"
      ],
      "metadata": {
        "id": "zlEOXOUtZbqY"
      }
    },
    {
      "cell_type": "markdown",
      "source": [
        "**Q. 10:**  Write a Python program to Cloning or Copying a list?\n",
        "\n",
        "**Ans 10:** "
      ],
      "metadata": {
        "id": "RsFGGap7ZcYw"
      }
    },
    {
      "cell_type": "code",
      "source": [
        "import copy\n",
        "l = [1,2,3,4,5,6,7,8,9,10,11,12,13,14,15]\n",
        "def cloneList(l):\n",
        "    print(l, id(l))\n",
        "    cloned_list = l.copy()\n",
        "    print(cloned_list, id(cloned_list))\n",
        "    \n",
        "cloneList(l)"
      ],
      "metadata": {
        "colab": {
          "base_uri": "https://localhost:8080/"
        },
        "id": "HJ5VTNq1ZEPl",
        "outputId": "a8427477-d2d6-41f0-89df-c272c6124957"
      },
      "execution_count": 17,
      "outputs": [
        {
          "output_type": "stream",
          "name": "stdout",
          "text": [
            "[1, 2, 3, 4, 5, 6, 7, 8, 9, 10, 11, 12, 13, 14, 15] 140376268756304\n",
            "[1, 2, 3, 4, 5, 6, 7, 8, 9, 10, 11, 12, 13, 14, 15] 140376269168960\n"
          ]
        }
      ]
    },
    {
      "cell_type": "markdown",
      "source": [
        "\n",
        "\n",
        "---\n",
        "\n"
      ],
      "metadata": {
        "id": "3RZ1AFGeacEQ"
      }
    },
    {
      "cell_type": "markdown",
      "source": [
        "**Q. 11:** Write a Python Program to count occurences of an element in a list?\n",
        "\n",
        "**Ans 11:** "
      ],
      "metadata": {
        "id": "u4PKYO_WadzI"
      }
    },
    {
      "cell_type": "code",
      "source": [
        "def checkOccurence():\n",
        "    l2 = [1, 2, 3, 4, 8, 5, 6, 7, 8, 8, 9, 10, 11, 12, 13, 8, 14, 15]\n",
        "    in_num = eval(input('Enter the element to find: '))\n",
        "    count = 0\n",
        "    if in_num in l2:\n",
        "        for ele in l2:\n",
        "            if ele == in_num:\n",
        "                count = count+1\n",
        "    print(f'There are {count} occurences of {in_num} in {l2}')\n",
        "    \n",
        "checkOccurence()"
      ],
      "metadata": {
        "colab": {
          "base_uri": "https://localhost:8080/"
        },
        "id": "3ApGdexZaUiq",
        "outputId": "e45e1142-c12f-4dae-e81c-3cbb5ac46bf9"
      },
      "execution_count": 20,
      "outputs": [
        {
          "output_type": "stream",
          "name": "stdout",
          "text": [
            "Enter the element to find: 8\n",
            "There are 4 occurences of 8 in [1, 2, 3, 4, 8, 5, 6, 7, 8, 8, 9, 10, 11, 12, 13, 8, 14, 15]\n"
          ]
        }
      ]
    },
    {
      "cell_type": "markdown",
      "source": [
        "\n",
        "\n",
        "---\n",
        "\n"
      ],
      "metadata": {
        "id": "Y-ODnrGGcVgA"
      }
    }
  ]
}