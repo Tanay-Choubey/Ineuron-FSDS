{
  "nbformat": 4,
  "nbformat_minor": 0,
  "metadata": {
    "colab": {
      "provenance": []
    },
    "kernelspec": {
      "name": "python3",
      "display_name": "Python 3"
    },
    "language_info": {
      "name": "python"
    }
  },
  "cells": [
    {
      "cell_type": "markdown",
      "source": [
        "# **Assignment 10**"
      ],
      "metadata": {
        "id": "SBz9V_cPjuFX"
      }
    },
    {
      "cell_type": "markdown",
      "source": [
        "**Q. 1:** Define the Bayesian interpretation of probability.\n",
        "\n",
        "**Ans 1:** Bayesian probability is the study of subjective probabilities or belief in an outcome, compared to the frequentist approach where probabilities are based purely on the past occurrence of the event. A Bayesian Network captures the joint probabilities of the events represented by the model."
      ],
      "metadata": {
        "id": "efD7yb3qjzw8"
      }
    },
    {
      "cell_type": "markdown",
      "source": [
        "\n",
        "\n",
        "---\n",
        "\n"
      ],
      "metadata": {
        "id": "0TPwOHYikVor"
      }
    },
    {
      "cell_type": "markdown",
      "source": [
        "**Q. 2:** Define probability of a union of two events with equation.\n",
        "\n",
        "**Ans 2:** The general probability addition rule for the union of two events states that P(A∪B)=P(A)+P(B)−P(A∩B), where A∩B is the intersection of the two sets."
      ],
      "metadata": {
        "id": "rbBUd6ALkWMU"
      }
    },
    {
      "cell_type": "markdown",
      "source": [
        "\n",
        "\n",
        "---\n",
        "\n"
      ],
      "metadata": {
        "id": "Zk2j2a4Dktds"
      }
    },
    {
      "cell_type": "markdown",
      "source": [
        "**Q. 3:**  What is joint probability? What is its formula?\n",
        "\n",
        "**Ans 3:** Probabilities are combined using multiplication, therefore the joint probability of independent events is calculated as the probability of event A multiplied by the probability of event B. This can be stated formally as follows:\n",
        "\n",
        "Joint Probability: P(A and B) = P(A)*P(B)"
      ],
      "metadata": {
        "id": "pAwwCRr2kuC8"
      }
    },
    {
      "cell_type": "markdown",
      "source": [
        "\n",
        "\n",
        "---\n",
        "\n"
      ],
      "metadata": {
        "id": "LR8AaRaqlMTs"
      }
    },
    {
      "cell_type": "markdown",
      "source": [
        "**Q. 4:**  What is chain rule of probability?\n",
        "\n",
        "**Ans 4:** The chain rule, or general product rule, calculates any component of the joint distribution of a set of random variables using only conditional probabilities. This probability theory is used as a foundation for backpropagation and in creating Bayesian networks."
      ],
      "metadata": {
        "id": "JK4eWH3-lMzc"
      }
    },
    {
      "cell_type": "markdown",
      "source": [
        "\n",
        "\n",
        "---\n",
        "\n"
      ],
      "metadata": {
        "id": "2qRfqqhnlWsE"
      }
    },
    {
      "cell_type": "markdown",
      "source": [
        "**Q. 5:** What is conditional probability means? What is the formula of it?\n",
        "\n",
        "**Ans 5:** Conditional probability is defined as the likelihood of an event or outcome occurring, based on the occurrence of a previous event or outcome.\n",
        "\n",
        "Conditional probability is calculated by multiplying the probability of the preceding event by the updated probability of the succeeding, or conditional, event.\n",
        "\n",
        "Let's take a real-life example. Probability of selling a TV on a given normal day may be only 30%. But if we consider that given day is Diwali, then there are much more chances of selling a TV. The conditional Probability of selling a TV on a day given that Day is Diwali might be 70%."
      ],
      "metadata": {
        "id": "kM9d9MgBlXYc"
      }
    },
    {
      "cell_type": "markdown",
      "source": [
        "\n",
        "\n",
        "---\n",
        "\n"
      ],
      "metadata": {
        "id": "CRYXSqMmmE2s"
      }
    },
    {
      "cell_type": "markdown",
      "source": [
        "**Q. 6:** What are continuous random variables?\n",
        "\n",
        "**Ans 6:** A continuous random variable X takes all values in a given interval of number\n",
        "\n",
        "- The probability distribution of a continuous random variable is shown by a density curve.\n",
        "\n",
        "- The probability that X is between an interval of number is the area under the density curve between interval endpoints."
      ],
      "metadata": {
        "id": "3-VWL9v7mFfs"
      }
    },
    {
      "cell_type": "markdown",
      "source": [
        "\n",
        "\n",
        "---\n",
        "\n"
      ],
      "metadata": {
        "id": "DQIT5DafmaIj"
      }
    },
    {
      "cell_type": "markdown",
      "source": [
        "**Q. 7:** What are Bernoulli distributions? What is the formula of it?\n",
        "\n",
        "**Ans 7:** A Bernoulli distribution is a discrete probability distribution for a Bernoulli trail - a random experiment that has only two outcomes (usually called a Sucess or a Failure) .The expected value for a random variable,X.\n",
        "\n",
        "For a Bernoulli distribution is :E[X] =p.For example,if p=0.04, then E[X]=0.4."
      ],
      "metadata": {
        "id": "4UCFYrMQma6j"
      }
    },
    {
      "cell_type": "markdown",
      "source": [
        "\n",
        "\n",
        "---\n",
        "\n"
      ],
      "metadata": {
        "id": "tJ4z74jsmma7"
      }
    },
    {
      "cell_type": "markdown",
      "source": [
        "**Q. 8:** What is binomial distribution? What is the formula?\n",
        "\n",
        "**Ans 8:** The binomial is a type of distribution that has two possible outcomes (the prefix “bi” means two, or twice).For example, a coin toss has only two possible outcomes: heads or tails and taking a test could have two possible outcomes: pass or fail.\n",
        "\n",
        "A Binomial Distribution shows either (S)uccess or (F)ailure."
      ],
      "metadata": {
        "id": "OTT2k4pmmnMj"
      }
    },
    {
      "cell_type": "markdown",
      "source": [
        "\n",
        "\n",
        "---\n",
        "\n"
      ],
      "metadata": {
        "id": "Zxh4sYdsmzgs"
      }
    },
    {
      "cell_type": "markdown",
      "source": [
        "**Q. 9:** What is Poisson distribution? What is the formula?\n",
        "\n",
        "**Ans 9:** A Poisson distribution is defined as a discrete frequency distribution that gives the probability of the number of independent events that occur in the fixed time.\n",
        "\n",
        "In statistics, a Poisson distribution is a probability distribution that is used to show how many times an event is likely to occur over a specified period. ... The Poisson distribution is a discrete function, meaning that the variable can only take specific values in a (potentially infinite) list."
      ],
      "metadata": {
        "id": "idEfP2Vhm1iz"
      }
    },
    {
      "cell_type": "markdown",
      "source": [
        "\n",
        "\n",
        "---\n",
        "\n"
      ],
      "metadata": {
        "id": "pFvAOodAm_LU"
      }
    },
    {
      "cell_type": "markdown",
      "source": [
        "**Q. 10:** Define covariance.\n",
        "\n",
        "**Ans 10:** Coveriance is a measurement of how much two random variables vary together.It's similar to variance,but where variance tells you how a single variable varries,co variance tells you how two variable vary together."
      ],
      "metadata": {
        "id": "VNo4GFUpm_vz"
      }
    },
    {
      "cell_type": "markdown",
      "source": [
        "\n",
        "\n",
        "---\n",
        "\n"
      ],
      "metadata": {
        "id": "c5QWqp2OnNab"
      }
    },
    {
      "cell_type": "markdown",
      "source": [
        "**Q. 11:** Define correlation.\n",
        "\n",
        "**Ans 11:** Correlation explains how one or more variables are related to each other.These variables can be input data features which have been used to forcast out target variable .It's a bi-variate analysis measure which describes the association between different variables."
      ],
      "metadata": {
        "id": "HEE7Wx8ZnOAz"
      }
    },
    {
      "cell_type": "markdown",
      "source": [
        "\n",
        "\n",
        "---\n",
        "\n"
      ],
      "metadata": {
        "id": "2otT7-L6nZPL"
      }
    },
    {
      "cell_type": "markdown",
      "source": [
        "**Q. 12:** Define sampling with replacement. Give example.\n",
        "\n",
        "**Ans 12:** If you sample with replacement, you would choose one person's name, put that person's name back in the hat, and then choose another name. The possibilities for your two-name sample are: John, John. John, Jack."
      ],
      "metadata": {
        "id": "n-87KC40nZy0"
      }
    },
    {
      "cell_type": "markdown",
      "source": [
        "\n",
        "\n",
        "---\n",
        "\n"
      ],
      "metadata": {
        "id": "JPe_UuqHnktz"
      }
    },
    {
      "cell_type": "markdown",
      "source": [
        "**Q. 13:** What is sampling without replacement? Give example.\n",
        "\n",
        "**Ans 13:** In sampling without replacement, each sample unit of the population has only one chance to be selected in the sample. For example, if one draws a simple random sample such that no unit occurs more than one time in the sample, the sample is drawn without replacement."
      ],
      "metadata": {
        "id": "wSR2bbQSnlRr"
      }
    },
    {
      "cell_type": "markdown",
      "source": [
        "\n",
        "\n",
        "---\n",
        "\n"
      ],
      "metadata": {
        "id": "nc9eFu0LnvKb"
      }
    },
    {
      "cell_type": "markdown",
      "source": [
        "**Q. 14:** What is hypothesis? Give example.\n",
        "\n",
        "**Ans 14:** A hypothesis (plural hypotheses) is a proposed explanation for a phenomenon. For a hypothesis to be a scientific hypothesis, the scientific method requires that one can test it. ... Even though the words \"hypothesis\" and \"theory\" are often used synonymously, a scientific hypothesis is not the same as a scientific theory.\n",
        "\n",
        "Examples of hypothesis statements: If garlic repels fleas, then a dog that is given garlic every day will not get fleas. Bacterial growth may be affected by moisture levels in the air. If sugar causes cavities, then people who eat a lot of candy may be more prone to cavities."
      ],
      "metadata": {
        "id": "ZZqtuTahnvvj"
      }
    },
    {
      "cell_type": "markdown",
      "source": [
        "\n",
        "\n",
        "---\n",
        "\n"
      ],
      "metadata": {
        "id": "I9nYU-NAn4ws"
      }
    }
  ]
}