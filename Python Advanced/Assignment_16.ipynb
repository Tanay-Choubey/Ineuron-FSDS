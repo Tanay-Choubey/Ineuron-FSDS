{
  "nbformat": 4,
  "nbformat_minor": 0,
  "metadata": {
    "colab": {
      "provenance": []
    },
    "kernelspec": {
      "name": "python3",
      "display_name": "Python 3"
    },
    "language_info": {
      "name": "python"
    }
  },
  "cells": [
    {
      "cell_type": "markdown",
      "source": [
        "# **Assignment 16**"
      ],
      "metadata": {
        "id": "-5pAsCohK8FK"
      }
    },
    {
      "cell_type": "markdown",
      "source": [
        "**Q. 1:** What is the benefit of regular expressions?\n",
        "\n",
        "**Ans 1:** Regular expressions (also known as \"regex\") are a powerful tool for matching patterns in text. They can be used for a wide variety of tasks, such as:\n",
        "\n",
        "- Searching for patterns in large amounts of text, such as log files or documents\n",
        "\n",
        "- Validating that input matches a certain pattern (e.g. ensuring that a phone number is in a valid format)\n",
        "\n",
        "- Extracting data from text that matches a certain pattern (e.g. extracting all the email addresses from a document)\n",
        "\n",
        "- One of the main benefits of regular expressions is that they can be used to perform these tasks in a very concise and efficient way. They are also very flexible, as they can be easily modified to match different patterns. This makes them a useful tool for a wide range of applications."
      ],
      "metadata": {
        "id": "I8mrZO60LA0H"
      }
    },
    {
      "cell_type": "markdown",
      "source": [
        "\n",
        "\n",
        "---\n",
        "\n"
      ],
      "metadata": {
        "id": "TjjAKmdKNRin"
      }
    },
    {
      "cell_type": "markdown",
      "source": [
        "**Q. 2:** Describe the difference between the effects of \"(ab)c+\" and \"a(bc)+\" Which of these, if any, is the unqualified pattern \"abc+\"?\n",
        "\n",
        "**Ans 2:** Both (ab)c+ and a(bc)+ are valid patterns. the difference between both these patterns is in (ab)c+ ab is group whereas in a(bc)+ bc is a group."
      ],
      "metadata": {
        "id": "J7oyzGCiNSl8"
      }
    },
    {
      "cell_type": "markdown",
      "source": [
        "\n",
        "\n",
        "---\n",
        "\n"
      ],
      "metadata": {
        "id": "o6CwLWbWNlJh"
      }
    },
    {
      "cell_type": "markdown",
      "source": [
        "**Q. 3:** How much do you need to use the following sentence while using regular expressions?\n",
        "\n",
        "import re\n",
        "\n",
        "**Ans 3:** import re statement always has to be imported before using regular expressions."
      ],
      "metadata": {
        "id": "zJ2_FvYyNmct"
      }
    },
    {
      "cell_type": "markdown",
      "source": [
        "\n",
        "\n",
        "---\n",
        "\n"
      ],
      "metadata": {
        "id": "GMqGtNF0OaJx"
      }
    },
    {
      "cell_type": "markdown",
      "source": [
        "**Q. 4:** Which characters have special significance in square brackets when expressing a range, and under what circumstances?\n",
        "\n",
        "**Ans 4:** \n",
        "\n",
        "- \\ (backslash): general escape character, is usd when you use character class metacharacters as literals inside a character class only.\n",
        "\n",
        "- ^(circumflex anchor): negate the class, if this is the first character in the brackets(If ^ is not the first , it is not a metacharacter.)"
      ],
      "metadata": {
        "id": "sRO-dpFJObGa"
      }
    },
    {
      "cell_type": "markdown",
      "source": [
        "\n",
        "\n",
        "---\n",
        "\n"
      ],
      "metadata": {
        "id": "_7htPb-vPZql"
      }
    },
    {
      "cell_type": "markdown",
      "source": [
        "**Q. 5:** How does compiling a regular-expression object benefit you?\n",
        "\n",
        "**Ans 5:** It is faster compared to using pattern ad other re functions."
      ],
      "metadata": {
        "id": "Cf3-tXa6Padq"
      }
    },
    {
      "cell_type": "markdown",
      "source": [
        "\n",
        "\n",
        "---\n",
        "\n"
      ],
      "metadata": {
        "id": "C2_-41-KRS8p"
      }
    },
    {
      "cell_type": "markdown",
      "source": [
        "**Q. 6:** What are some examples of how to use the match object returned by re.match and re.search?\n",
        "\n",
        "**Ans 6:** \n",
        "\n",
        "- re.search() searches for the whole string even if the string contains multi lines and tries to find a match of the substring in all the line of string\n",
        "\n",
        "- re.match() searches only from the beginning of the string and return match object if found.But if a match of substring is found somewhere in the middle of the string, it returns none.\n",
        "\n",
        "But, both search() and match() returns only the first occurance of pattern."
      ],
      "metadata": {
        "id": "YP8VH3a2RT_e"
      }
    },
    {
      "cell_type": "code",
      "source": [
        "import re\n",
        "pattern =\"ineuron\"\n",
        "search=re.search(pattern,\"Ineuron is the best coaching ineuron!\",re.IGNORECASE)\n",
        "print(search)\n",
        "match=re.match(pattern,\"The best coaching class is Ineuron\",re.IGNORECASE)\n",
        "print(match)"
      ],
      "metadata": {
        "colab": {
          "base_uri": "https://localhost:8080/"
        },
        "id": "zgAal_STSEzF",
        "outputId": "97deb94e-8c56-4015-9040-abb550fbc337"
      },
      "execution_count": 1,
      "outputs": [
        {
          "output_type": "stream",
          "name": "stdout",
          "text": [
            "<re.Match object; span=(0, 7), match='Ineuron'>\n",
            "None\n"
          ]
        }
      ]
    },
    {
      "cell_type": "markdown",
      "source": [
        "\n",
        "\n",
        "---\n",
        "\n"
      ],
      "metadata": {
        "id": "uaE04sDRSaAj"
      }
    },
    {
      "cell_type": "markdown",
      "source": [
        "**Q. 7:** What is the difference between using a vertical bar (|) as an alteration and using square brackets as a character set?\n",
        "\n",
        "**Ans 7:** When | us used then patterns searches for or option. i.e `<pattern_1>|<pattern_2>` means it searches as `<pattern_1>or<<pattern_2>` in the searched string. the first occurance of matched string will be returned as the Match Object. Using Character set in square Brackets searches for all the character set in the square bracket and if match is found, it returns it."
      ],
      "metadata": {
        "id": "lOQuEBxMSbkl"
      }
    },
    {
      "cell_type": "markdown",
      "source": [
        "\n",
        "\n",
        "---\n",
        "\n"
      ],
      "metadata": {
        "id": "KVPiUW9aULCf"
      }
    },
    {
      "cell_type": "markdown",
      "source": [
        "**Q. 8:** In regular-expression search patterns, why is it necessary to use the raw-string indicator (r)? In replacement strings?\n",
        "\n",
        "**Ans 8:** In regular expression search patterns, it is necessary to use the raw string indicator (r) to ensure that the backslashes in the pattern are treated as literal characters rather than escape sequences. Without the raw string indicator, the backslashes would be interpreted as escape sequences, which could cause the regular expression to behave in unexpected ways."
      ],
      "metadata": {
        "id": "svoXsva1UL5l"
      }
    },
    {
      "cell_type": "markdown",
      "source": [
        "\n",
        "\n",
        "---\n",
        "\n"
      ],
      "metadata": {
        "id": "s3kK7Rr1VALx"
      }
    }
  ]
}