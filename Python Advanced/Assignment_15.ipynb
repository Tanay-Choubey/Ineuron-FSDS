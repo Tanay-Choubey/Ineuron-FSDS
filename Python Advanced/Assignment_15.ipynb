{
  "nbformat": 4,
  "nbformat_minor": 0,
  "metadata": {
    "colab": {
      "provenance": []
    },
    "kernelspec": {
      "name": "python3",
      "display_name": "Python 3"
    },
    "language_info": {
      "name": "python"
    }
  },
  "cells": [
    {
      "cell_type": "markdown",
      "source": [
        "# **Assignment 15**"
      ],
      "metadata": {
        "id": "IRq0PJQO6ShJ"
      }
    },
    {
      "cell_type": "markdown",
      "source": [
        "**Q. 1:** What are the new features added in Python 3.8 version?\n",
        "\n",
        "**Ans 1:** \n",
        "\n",
        "- Assignment Expressions: The new walrus operator (:=) allows you to assign a value to a variable as part of an expression.\n",
        "\n",
        "- Positional-Only Parameters: You can now use the / notation to specify that some function arguments can only be passed as positional arguments, not as keyword arguments.\n",
        "\n",
        "- Multiprocessing Improvements: There have been several improvements to the multiprocessing module, including the addition of the Queue and LifoQueue classes, as well as support for timeout arguments.\n",
        "\n",
        "- Debugging Improvements: The breakpoint() function has been improved, and you can now use PYTHONBREAKPOINT=0 to disable breakpoints in your code.\n",
        "\n",
        "- Type Hints Improvements: There have been several improvements to the typing module, including support for Literal types and the Union and Optional type constructors.\n",
        "\n",
        "- Module : You can now use the importlib.metadata module to access metadata about installed packages."
      ],
      "metadata": {
        "id": "Tnv1H9kU6zDC"
      }
    },
    {
      "cell_type": "markdown",
      "source": [
        "\n",
        "\n",
        "---\n",
        "\n"
      ],
      "metadata": {
        "id": "bpRURKvO7e_6"
      }
    },
    {
      "cell_type": "markdown",
      "source": [
        "**Q. 2:** What is monkey patching in Python?\n",
        "\n",
        "**Ans 2:** In Python, the term monkey patch refers to making dynamic (or run-time) modifications to a class or module. In Python, we can actually change the behavior of code at run-time."
      ],
      "metadata": {
        "id": "4o9_jh-W7f96"
      }
    },
    {
      "cell_type": "code",
      "source": [
        "class A:\n",
        "    def func(self):\n",
        "        print(\"func() is being called\")\n",
        "\n",
        "def monkey_f(self):\n",
        "    print(\"monkey_f() is being called\")\n",
        "\n",
        "A.func = monkey_f\n",
        "some_object = A()\n",
        "some_object.func()"
      ],
      "metadata": {
        "colab": {
          "base_uri": "https://localhost:8080/"
        },
        "id": "Sg9l4SCb71z_",
        "outputId": "d472c699-a46a-4106-cb82-9d76a7e6cd50"
      },
      "execution_count": 1,
      "outputs": [
        {
          "output_type": "stream",
          "name": "stdout",
          "text": [
            "monkey_f() is being called\n"
          ]
        }
      ]
    },
    {
      "cell_type": "markdown",
      "source": [
        "\n",
        "\n",
        "---\n",
        "\n"
      ],
      "metadata": {
        "id": "aIlKPETC8MUW"
      }
    },
    {
      "cell_type": "markdown",
      "source": [
        "**Q. 3:** What is the difference between a shallow copy and deep copy?\n",
        "\n",
        "**Ans 3:**\n",
        "\n",
        "- A shallow copy creates a new object that contains the same references as the original object.\n",
        "\n",
        "- A deep copy creates a new object and recursively copies all objects inside the original object to the new object."
      ],
      "metadata": {
        "id": "uNjp3reD8NbM"
      }
    },
    {
      "cell_type": "code",
      "source": [
        "from copy import deepcopy, copy\n",
        "l_one = [1,2,[3,4],5,6]\n",
        "l_two = deepcopy(l_one)\n",
        "l_three = l_one\n",
        "print(f'Original Elements of each List\\n{l_one}\\n{l_two}\\n{l_three}')\n",
        "l_two[0] = 10\n",
        "l_three[-1] = 20\n",
        "print(f'New Elements of each List\\n{l_one}\\n{l_two}\\n{l_three}')"
      ],
      "metadata": {
        "colab": {
          "base_uri": "https://localhost:8080/"
        },
        "id": "z-8lTLqV8vod",
        "outputId": "7e093d4a-002e-4bec-f0a0-290862e3ff81"
      },
      "execution_count": 2,
      "outputs": [
        {
          "output_type": "stream",
          "name": "stdout",
          "text": [
            "Original Elements of each List\n",
            "[1, 2, [3, 4], 5, 6]\n",
            "[1, 2, [3, 4], 5, 6]\n",
            "[1, 2, [3, 4], 5, 6]\n",
            "New Elements of each List\n",
            "[1, 2, [3, 4], 5, 20]\n",
            "[10, 2, [3, 4], 5, 6]\n",
            "[1, 2, [3, 4], 5, 20]\n"
          ]
        }
      ]
    },
    {
      "cell_type": "markdown",
      "source": [
        "\n",
        "\n",
        "---\n",
        "\n"
      ],
      "metadata": {
        "id": "9TWut4Ij82WW"
      }
    },
    {
      "cell_type": "markdown",
      "source": [
        "**Q. 4:** What is the maximum possible length of an identifier?\n",
        "\n",
        "**Ans 4:** There is no fixed limit on the length of an identifier in Python. An identifier can be as long as the amount of available memory on your system allows. In general the identifiers are short and descriptive."
      ],
      "metadata": {
        "id": "h3XnzXAF83z1"
      }
    },
    {
      "cell_type": "markdown",
      "source": [
        "\n",
        "\n",
        "---\n",
        "\n"
      ],
      "metadata": {
        "id": "aZZvfR2e9Pn5"
      }
    },
    {
      "cell_type": "markdown",
      "source": [
        "**Q. 5:** What is generator comprehension?\n",
        "\n",
        "**Ans 5:** Generator comprehension is a concise way to create a generator in Python. It is similar to a list comprehension, but instead of creating a list, it creates a generator."
      ],
      "metadata": {
        "id": "qcND2NOZ9QmZ"
      }
    },
    {
      "cell_type": "code",
      "source": [
        "in_list = [x for x in range(10)] # List Comprehension\n",
        "print(in_list)\n",
        "out_gen = (x for x in in_list if x%2 == 0) # Generator Comprehension\n",
        "print(out_gen) # Returns a Generator Object\n",
        "for ele in out_gen:\n",
        "    print(ele, end=\" \")"
      ],
      "metadata": {
        "colab": {
          "base_uri": "https://localhost:8080/"
        },
        "id": "TGeh8pN79jZG",
        "outputId": "bd1ddaa8-0902-4ad5-c7b2-4489437afbd6"
      },
      "execution_count": 3,
      "outputs": [
        {
          "output_type": "stream",
          "name": "stdout",
          "text": [
            "[0, 1, 2, 3, 4, 5, 6, 7, 8, 9]\n",
            "<generator object <genexpr> at 0x7f787d8dcf20>\n",
            "0 2 4 6 8 "
          ]
        }
      ]
    },
    {
      "cell_type": "markdown",
      "source": [
        "\n",
        "\n",
        "---\n",
        "\n"
      ],
      "metadata": {
        "id": "OlZQAcC09wQk"
      }
    }
  ]
}