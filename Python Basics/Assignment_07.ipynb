{
  "nbformat": 4,
  "nbformat_minor": 0,
  "metadata": {
    "colab": {
      "provenance": []
    },
    "kernelspec": {
      "name": "python3",
      "display_name": "Python 3"
    },
    "language_info": {
      "name": "python"
    }
  },
  "cells": [
    {
      "cell_type": "markdown",
      "source": [
        "# **Assignment 7**"
      ],
      "metadata": {
        "id": "zrhUbXEQMpWo"
      }
    },
    {
      "cell_type": "markdown",
      "source": [
        "**Q. 1:** What is the name of the feature responsible for generating Regex objects?\n",
        "\n",
        "**Ans 1:** re.compile()"
      ],
      "metadata": {
        "id": "-SdnRsgJM2nP"
      }
    },
    {
      "cell_type": "markdown",
      "source": [
        "\n",
        "\n",
        "---\n",
        "\n"
      ],
      "metadata": {
        "id": "JW7VsTVgV9vJ"
      }
    },
    {
      "cell_type": "markdown",
      "source": [
        "**Q. 2:** Why do raw strings often appear in Regex objects?\n",
        "\n",
        "**Ans 2:** Regular expressions use the backslash character ('\\') to indicate special forms (Metacharacters) or to allow special characters (speical sequences) to be used without invoking their special meaning. This collides with Python’s usage of the same character for the same purpose in string literals. Hence, Raw strings are used (e.g. r\"\\n\") so that backslashes do not have to be escaped."
      ],
      "metadata": {
        "id": "0IfN6-tZOcIX"
      }
    },
    {
      "cell_type": "markdown",
      "source": [
        "\n",
        "\n",
        "---\n",
        "\n"
      ],
      "metadata": {
        "id": "9omEEtpZV_i0"
      }
    },
    {
      "cell_type": "markdown",
      "source": [
        "**Q. 3:** What is the return value of the search() method?\n",
        "\n",
        "**Ans 3:** It returns a match object if there is a match else returns None."
      ],
      "metadata": {
        "id": "KN0iwcB5O_0g"
      }
    },
    {
      "cell_type": "markdown",
      "source": [
        "\n",
        "\n",
        "---\n",
        "\n"
      ],
      "metadata": {
        "id": "jRao-ZcPWBVH"
      }
    },
    {
      "cell_type": "markdown",
      "source": [
        "**Q. 4:** From a Match item, how do you get the actual strings that match the pattern?\n",
        "\n",
        "**Ans 4:** For Matched items group() methods returns actual strings that match the pattern."
      ],
      "metadata": {
        "id": "GFfzsV3JPlYV"
      }
    },
    {
      "cell_type": "markdown",
      "source": [
        "\n",
        "\n",
        "---\n",
        "\n"
      ],
      "metadata": {
        "id": "G0M5B4kRWC0G"
      }
    },
    {
      "cell_type": "markdown",
      "source": [
        "**Q. 5:** In the regex which created from the r'(\\d\\d\\d)-(\\d\\d\\d-\\d\\d\\d\\d)', what does group zero cover? \n",
        "Group 2? Group 1?\n",
        "\n",
        "**Ans 5:** \n",
        "\n",
        "*   group 0 covers (\\d\\d\\d)-(\\d\\d\\d-\\d\\d\\d\\d)\n",
        "\n",
        "*   group 1 covers (\\d\\d\\d)\n",
        "\n",
        "*   group 2 covers (\\d\\d\\d-\\d\\d\\d\\d)"
      ],
      "metadata": {
        "id": "Behilx6LQfLI"
      }
    },
    {
      "cell_type": "markdown",
      "source": [
        "\n",
        "\n",
        "---\n",
        "\n"
      ],
      "metadata": {
        "id": "-wIDEWysV7-I"
      }
    },
    {
      "cell_type": "markdown",
      "source": [
        "**Q. 6:**  In standard expression syntax, parentheses and intervals have distinct meanings. How can you tell a regex that you want it to fit real parentheses and periods?\n",
        "\n",
        "**Ans 6:** The \\., \\( and \\) escape characters in the raw string passed to re.compile() will match actual parenthesis characters."
      ],
      "metadata": {
        "id": "7-QXPli4WGwt"
      }
    },
    {
      "cell_type": "markdown",
      "source": [
        "\n",
        "\n",
        "---\n",
        "\n"
      ],
      "metadata": {
        "id": "TXOlfcFjXJkA"
      }
    },
    {
      "cell_type": "markdown",
      "source": [
        "**Q. 7:** The findall() method returns a string list or a list of string tuples. What causes it to return one of the two options?\n",
        "\n",
        "**Ans 7:** If the regex pattern has no groups, a list of strings matched is returned. if the regex pattern has groups, a list of tuple of strings is returned."
      ],
      "metadata": {
        "id": "a4F3-PdUXKnS"
      }
    },
    {
      "cell_type": "markdown",
      "source": [
        "\n",
        "\n",
        "---\n",
        "\n"
      ],
      "metadata": {
        "id": "XnKBDNivYDsa"
      }
    },
    {
      "cell_type": "markdown",
      "source": [
        "**Q. 8:** In standard expressions, what does the | character mean?\n",
        "\n",
        "**Ans 8:** The | character signifies matching “either, or” between two groups."
      ],
      "metadata": {
        "id": "_-vQRKs5YHzv"
      }
    },
    {
      "cell_type": "markdown",
      "source": [
        "\n",
        "\n",
        "---\n",
        "\n"
      ],
      "metadata": {
        "id": "zkfZFbRVYyWt"
      }
    },
    {
      "cell_type": "markdown",
      "source": [
        "**Q. 9:** In regular expressions, what does the ? character stand for?\n",
        "\n",
        "**Ans 9:** In regular Expressions, ? characters represents zero or one match of the preceeding group."
      ],
      "metadata": {
        "id": "ZnOPLN84YzmX"
      }
    },
    {
      "cell_type": "markdown",
      "source": [
        "\n",
        "\n",
        "---\n",
        "\n"
      ],
      "metadata": {
        "id": "4oa3jzRIZU6j"
      }
    },
    {
      "cell_type": "markdown",
      "source": [
        "**Q. 10:** In regular expressions, what is the difference between the + and * characters?\n",
        "\n",
        "**Ans 10:** \n",
        "\n",
        "*   ' + ' refers one or more occurences.\n",
        "*   ' * ' refers zero or more occurences.\n",
        "\n"
      ],
      "metadata": {
        "id": "sPdVTp2mZWNp"
      }
    },
    {
      "cell_type": "markdown",
      "source": [
        "\n",
        "\n",
        "---\n",
        "\n"
      ],
      "metadata": {
        "id": "hsr6J0JbZ4G-"
      }
    },
    {
      "cell_type": "markdown",
      "source": [
        "**Q. 11:** What is the difference between {4} and {4,5} in regular expression?\n",
        "\n",
        "**Ans 11:** \n",
        "\n",
        "*   {4} means preceding character is to be repeated 4 times.\n",
        "*   {4,5} means preceding character is repeated minimum 4 times and maximum 5 times.\n",
        "\n"
      ],
      "metadata": {
        "id": "UXe2UBp-Z5Bb"
      }
    },
    {
      "cell_type": "markdown",
      "source": [
        "\n",
        "\n",
        "---\n",
        "\n"
      ],
      "metadata": {
        "id": "uWjaeQJZhC2J"
      }
    },
    {
      "cell_type": "markdown",
      "source": [
        "**Q. 12:** What do you mean by the \\d, \\w, and \\s shorthand character classes signify in regular expressions?\n",
        "\n",
        "**Ans 12:** \\d, \\w and \\s are special sequences in regular expresssions in python:\n",
        "\n",
        "*  \\d returns a match where string contains digit(number from 0-9)\n",
        "*  \\w returns a match where string contains any word character(character from a to Z, digit from 0 to 9 and underscore character)\n",
        "*  \\s returns a match where string contains a whitespace character."
      ],
      "metadata": {
        "id": "VZWg9kbLhEbg"
      }
    },
    {
      "cell_type": "markdown",
      "source": [
        "\n",
        "\n",
        "---\n",
        "\n"
      ],
      "metadata": {
        "id": "hFI7d-OWiMiO"
      }
    },
    {
      "cell_type": "markdown",
      "source": [
        "**Q. 13:** What do means by \\D, \\W, and \\S shorthand character classes signify in regular expressions?\n",
        "\n",
        "**Ans 13:** \\D, \\W and \\S are special sequences in regular expresssions in python:\n",
        "\n",
        "*  \\W – Matches any non-alphanumeric character equivalent to [number from 0-9]\n",
        "*  \\D – Matches any non-digit character, this is equivalent to the set class [character from a to Z, digit from 0 to 9 and underscore character]\n",
        "*  \\S – Matches any non-whitespace character"
      ],
      "metadata": {
        "id": "AFjYgBmziOmZ"
      }
    },
    {
      "cell_type": "markdown",
      "source": [
        "\n",
        "\n",
        "---\n",
        "\n"
      ],
      "metadata": {
        "id": "59MatPS0ix3h"
      }
    },
    {
      "cell_type": "markdown",
      "source": [
        "**Q. 14:** What is the difference between .* ? and .* ?\n",
        "\n",
        "**Ans 14:** .* is a Greedy mode, which returns the longest string that meets the condition. Whereas .*? is a non greedy mode which returns the shortest string that meets the condition."
      ],
      "metadata": {
        "id": "ETjwqUyfizUE"
      }
    },
    {
      "cell_type": "markdown",
      "source": [
        "\n",
        "\n",
        "---\n",
        "\n"
      ],
      "metadata": {
        "id": "v3CIC_4Kj-Nl"
      }
    },
    {
      "cell_type": "markdown",
      "source": [
        "**Q. 15:** What is the syntax for matching both numbers and lowercase letters with a character class?\n",
        "\n",
        "**Ans 15:** Either [0-9a-z] or [a-z0-9]."
      ],
      "metadata": {
        "id": "BbKEtrNapyST"
      }
    },
    {
      "cell_type": "markdown",
      "source": [
        "\n",
        "\n",
        "---\n",
        "\n"
      ],
      "metadata": {
        "id": "eSaD-69xqH_a"
      }
    },
    {
      "cell_type": "markdown",
      "source": [
        "**Q. 16:**  What is the procedure for making a normal expression in regax case insensitive?\n",
        "\n",
        "**Ans 16:** We can pass re.IGNORECASE as a flag to make a noraml expression case insensitive."
      ],
      "metadata": {
        "id": "FsTf1wReqLbr"
      }
    },
    {
      "cell_type": "markdown",
      "source": [
        "\n",
        "\n",
        "---\n",
        "\n"
      ],
      "metadata": {
        "id": "JPS9kcEFqv6D"
      }
    },
    {
      "cell_type": "markdown",
      "source": [
        "**Q. 17:** What does the . character normally match? What does it match if re.DOTALL is passed as 2nd argument in re.compile()?\n",
        "\n",
        "**Ans 17:** The . character normally matches any character except the newline character. If re.DOTALL is passed as the second argument to re.compile(), then the dot will also match newline characters."
      ],
      "metadata": {
        "id": "BlIQVuy4qw8L"
      }
    },
    {
      "cell_type": "markdown",
      "source": [
        "\n",
        "\n",
        "---\n",
        "\n"
      ],
      "metadata": {
        "id": "tF3iFoGVrZA6"
      }
    },
    {
      "cell_type": "markdown",
      "source": [
        "**Q. 18:** If numReg = re.compile(r'\\d+'), what will numRegex.sub('X', '11 drummers, 10 pipers, five rings, 4 hen') return?\n",
        "\n",
        "**Ans 18:** "
      ],
      "metadata": {
        "id": "LsmvdLOirZ3d"
      }
    },
    {
      "cell_type": "code",
      "source": [
        "import re"
      ],
      "metadata": {
        "id": "PaXkZdcbO9aU"
      },
      "execution_count": 1,
      "outputs": []
    },
    {
      "cell_type": "code",
      "source": [
        "numReg = re.compile(r'\\d+')\n",
        "numReg.sub('X', '11 drummers, 10 pipers, five rings, 4 hen')"
      ],
      "metadata": {
        "colab": {
          "base_uri": "https://localhost:8080/",
          "height": 36
        },
        "id": "BeNmXk0WsKfo",
        "outputId": "334c21e3-d0b3-47e7-ddf4-94e72986e976"
      },
      "execution_count": 2,
      "outputs": [
        {
          "output_type": "execute_result",
          "data": {
            "text/plain": [
              "'X drummers, X pipers, five rings, X hen'"
            ],
            "application/vnd.google.colaboratory.intrinsic+json": {
              "type": "string"
            }
          },
          "metadata": {},
          "execution_count": 2
        }
      ]
    },
    {
      "cell_type": "markdown",
      "source": [
        "\n",
        "\n",
        "---\n",
        "\n"
      ],
      "metadata": {
        "id": "3pQdrn8Xsdra"
      }
    },
    {
      "cell_type": "markdown",
      "source": [
        "**Q. 19:** What does passing re.VERBOSE as the 2nd argument to re.compile() allow to do?\n",
        "\n",
        "**Ans 19:** re.VERBOSE will allow to add whitespace and comments to string passed to re.compile()."
      ],
      "metadata": {
        "id": "SmkUflPPse4i"
      }
    },
    {
      "cell_type": "markdown",
      "source": [
        "\n",
        "\n",
        "---\n",
        "\n"
      ],
      "metadata": {
        "id": "xXTtfilyuK1U"
      }
    },
    {
      "cell_type": "markdown",
      "source": [
        "**Q. 20:** How would you write a regex that match a number with comma for every three digits? It must match the given following:\n",
        "\n",
        "'42'\n",
        "\n",
        "'1,234'\n",
        "\n",
        "'6,368,745'\n",
        "\n",
        "but not the following:\n",
        "\n",
        "'12,34,567' (which has only two digits between the commas)\n",
        "\n",
        "'1234' (which lacks commas)\n",
        "\n",
        "**Ans 20:** "
      ],
      "metadata": {
        "id": "uSzvL0cKuMCC"
      }
    },
    {
      "cell_type": "code",
      "source": [
        "import re\n",
        "pattern = r'^\\d{1,3}(,\\d{3})*$'\n",
        "pagex = re.compile(pattern)\n",
        "for ele in ['42','1,234', '6,368,745','12,34,567','1234']:\n",
        "    print('Output:',ele, '->', pagex.search(ele))"
      ],
      "metadata": {
        "colab": {
          "base_uri": "https://localhost:8080/"
        },
        "id": "hcHZM8GOsV7t",
        "outputId": "c889e071-6f04-4efe-ef08-072a2c6cba12"
      },
      "execution_count": 3,
      "outputs": [
        {
          "output_type": "stream",
          "name": "stdout",
          "text": [
            "Output: 42 -> <re.Match object; span=(0, 2), match='42'>\n",
            "Output: 1,234 -> <re.Match object; span=(0, 5), match='1,234'>\n",
            "Output: 6,368,745 -> <re.Match object; span=(0, 9), match='6,368,745'>\n",
            "Output: 12,34,567 -> None\n",
            "Output: 1234 -> None\n"
          ]
        }
      ]
    },
    {
      "cell_type": "markdown",
      "source": [
        "\n",
        "\n",
        "---\n",
        "\n"
      ],
      "metadata": {
        "id": "w2xORwRVvGG5"
      }
    },
    {
      "cell_type": "markdown",
      "source": [
        "**Q. 21** How would you write a regex that matches the full name of someone whose last name is Watanabe? You can assume that the first name that comes before it will always be one word that begins with a capital letter. The regex must match the following:\n",
        "\n",
        "'Haruto Watanabe'\n",
        "\n",
        "'Alice Watanabe'\n",
        "\n",
        "'RoboCop Watanabe'\n",
        "\n",
        "but not the following:\n",
        "\n",
        "'haruto Watanabe' (where the first name is not capitalized)\n",
        "\n",
        "'Mr. Watanabe' (where the preceding word has a nonletter character)\n",
        "\n",
        "'Watanabe' (which has no first name)\n",
        "\n",
        "'Haruto watanabe' (where Watanabe is not capitalized)\n",
        "\n",
        "**Ans 21:** "
      ],
      "metadata": {
        "id": "SRNm_SxmvG5i"
      }
    },
    {
      "cell_type": "code",
      "source": [
        "import re\n",
        "pattern = r'[A-Z]{1}[a-z]*\\sWatanabe'\n",
        "namex = re.compile(pattern)\n",
        "for name in ['Haruto Watanabe','Alice Watanabe','RoboCop Watanabe','haruto Watanabe','Mr. Watanabe','Watanabe','Haruto watanabe']:\n",
        "    print('Output: ',name,'->',namex.search(name))"
      ],
      "metadata": {
        "colab": {
          "base_uri": "https://localhost:8080/"
        },
        "id": "CRF0KBFfvE3w",
        "outputId": "55b91cee-84ce-48d8-8e2c-30b294afadee"
      },
      "execution_count": 4,
      "outputs": [
        {
          "output_type": "stream",
          "name": "stdout",
          "text": [
            "Output:  Haruto Watanabe -> <re.Match object; span=(0, 15), match='Haruto Watanabe'>\n",
            "Output:  Alice Watanabe -> <re.Match object; span=(0, 14), match='Alice Watanabe'>\n",
            "Output:  RoboCop Watanabe -> <re.Match object; span=(4, 16), match='Cop Watanabe'>\n",
            "Output:  haruto Watanabe -> None\n",
            "Output:  Mr. Watanabe -> None\n",
            "Output:  Watanabe -> None\n",
            "Output:  Haruto watanabe -> None\n"
          ]
        }
      ]
    },
    {
      "cell_type": "markdown",
      "source": [
        "\n",
        "\n",
        "---\n",
        "\n"
      ],
      "metadata": {
        "id": "joU3wkO8yg8C"
      }
    },
    {
      "cell_type": "markdown",
      "source": [
        "**Q. 22:** How would you write a regex that matches a sentence where the first word is either Alice, Bob,or Carol; the second word is either eats, pets, or throws; the third word is apples, cats, or baseballs; and the sentence ends with a period? This regex should be case-insensitive. It must match the following:\n",
        "\n",
        "'Alice eats apples.'\n",
        "\n",
        "'Bob pets cats.'\n",
        "\n",
        "'Carol throws baseballs.'\n",
        "\n",
        "'Alice throws Apples.'\n",
        "\n",
        "'BOB EATS CATS.'\n",
        "\n",
        "but not the following:\n",
        "\n",
        "'RoboCop eats apples.'\n",
        "\n",
        "'ALICE THROWS FOOTBALLS.'\n",
        "\n",
        "'Carol eats 7 cats.'\n",
        "\n",
        "**Ans 22:**"
      ],
      "metadata": {
        "id": "WLO1puklxyoq"
      }
    },
    {
      "cell_type": "code",
      "source": [
        "import re\n",
        "pattern = r'(Alice|Bob|Carol)\\s(eats|pets|throws)\\s(apples|cats|baseballs)\\.'\n",
        "casex = re.compile(pattern,re.IGNORECASE)\n",
        "for ele in ['Alice eats apples.','Bob pets cats.','Carol throws baseballs.','Alice throws Apples.','BOB EATS CATS.','RoboCop eats apples.'\n",
        ",'ALICE THROWS FOOTBALLS.','Carol eats 7 cats.']:\n",
        "    print('Output: ',ele,'->',casex.search(ele))"
      ],
      "metadata": {
        "colab": {
          "base_uri": "https://localhost:8080/"
        },
        "id": "dsV8ZaKwwkPb",
        "outputId": "1a170ef9-e5b8-4cfb-a5a2-57367a42fe1f"
      },
      "execution_count": 5,
      "outputs": [
        {
          "output_type": "stream",
          "name": "stdout",
          "text": [
            "Output:  Alice eats apples. -> <re.Match object; span=(0, 18), match='Alice eats apples.'>\n",
            "Output:  Bob pets cats. -> <re.Match object; span=(0, 14), match='Bob pets cats.'>\n",
            "Output:  Carol throws baseballs. -> <re.Match object; span=(0, 23), match='Carol throws baseballs.'>\n",
            "Output:  Alice throws Apples. -> <re.Match object; span=(0, 20), match='Alice throws Apples.'>\n",
            "Output:  BOB EATS CATS. -> <re.Match object; span=(0, 14), match='BOB EATS CATS.'>\n",
            "Output:  RoboCop eats apples. -> None\n",
            "Output:  ALICE THROWS FOOTBALLS. -> None\n",
            "Output:  Carol eats 7 cats. -> None\n"
          ]
        }
      ]
    },
    {
      "cell_type": "markdown",
      "source": [
        "\n",
        "\n",
        "---\n",
        "\n"
      ],
      "metadata": {
        "id": "jVLwrS97yeVZ"
      }
    }
  ]
}