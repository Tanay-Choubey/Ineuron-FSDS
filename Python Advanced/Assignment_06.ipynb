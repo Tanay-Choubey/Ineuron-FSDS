{
  "nbformat": 4,
  "nbformat_minor": 0,
  "metadata": {
    "colab": {
      "provenance": []
    },
    "kernelspec": {
      "name": "python3",
      "display_name": "Python 3"
    },
    "language_info": {
      "name": "python"
    }
  },
  "cells": [
    {
      "cell_type": "markdown",
      "source": [
        "# **Assignment 6**"
      ],
      "metadata": {
        "id": "27t1-gKrCMWX"
      }
    },
    {
      "cell_type": "markdown",
      "source": [
        "**Q. 1:** Describe three applications for exception processing.\n",
        "\n",
        "**Ans 1:** Exception Processing is important to find exceptions that causes the runtime error. As runtime errors Halt the program execution when exception occurs.\n",
        "\n",
        "Exception Processing is used in Various Applications of which few examples are:\n",
        "\n",
        "1. Checking Appropriate use of input in an application.\n",
        "2. Checking for Arithmetic exceptions in mathematical executions.\n",
        "3. Checking File I/O exceptions during File handling."
      ],
      "metadata": {
        "id": "ftFIUQJwCXSI"
      }
    },
    {
      "cell_type": "markdown",
      "source": [
        "\n",
        "\n",
        "---\n",
        "\n"
      ],
      "metadata": {
        "id": "Mqq6Rcj3DfW5"
      }
    },
    {
      "cell_type": "markdown",
      "source": [
        "**Q. 2:** What happens if you don't do something extra to treat an exception?\n",
        "\n",
        "**Ans 2:** If Exceptions are not handled flow of program will be broken during the run time which might lead to a abnormal termination of the program. Inshort inability of program to handle exceptions will result in crashing of program. "
      ],
      "metadata": {
        "id": "5pnG5Zu8DgkT"
      }
    },
    {
      "cell_type": "markdown",
      "source": [
        "\n",
        "\n",
        "---\n",
        "\n"
      ],
      "metadata": {
        "id": "t_943lgWD1j5"
      }
    },
    {
      "cell_type": "markdown",
      "source": [
        "**Q. 3:** What are your options for recovering from an exception in your script?\n",
        "\n",
        "**Ans 3:** Python provides try and except statements for recovering from an exception in our script."
      ],
      "metadata": {
        "id": "tryMNNdcD2cU"
      }
    },
    {
      "cell_type": "code",
      "source": [
        "try:\n",
        "  print(x)\n",
        "except:\n",
        "  print(\"An exception occurred\")"
      ],
      "metadata": {
        "colab": {
          "base_uri": "https://localhost:8080/"
        },
        "id": "jO4tOhxqEoKB",
        "outputId": "87e010b2-43bc-4702-807f-3784c92c5248"
      },
      "execution_count": 1,
      "outputs": [
        {
          "output_type": "stream",
          "name": "stdout",
          "text": [
            "An exception occurred\n"
          ]
        }
      ]
    },
    {
      "cell_type": "markdown",
      "source": [
        "\n",
        "\n",
        "---\n",
        "\n"
      ],
      "metadata": {
        "id": "BRmHN6CqEy_P"
      }
    },
    {
      "cell_type": "markdown",
      "source": [
        "**Q. 4:** Describe two methods for triggering exceptions in your script?\n",
        "\n",
        "**Ans 4:** \n",
        "\n",
        "- Raising an exception: Exceptions can be triggered by using the \"raise\" keyword in a Python script. For example, you can use \"raise ValueError\" to trigger a ValueError exception.\n",
        "\n",
        "- Using the assert keyword: The assert keyword can be used to trigger an AssertionError exception if a given condition is not met. For example, \"assert x > 0\" will trigger an AssertionError if x is not greater than 0."
      ],
      "metadata": {
        "id": "fSRF0UX1Ez2l"
      }
    },
    {
      "cell_type": "markdown",
      "source": [
        "\n",
        "\n",
        "---\n",
        "\n"
      ],
      "metadata": {
        "id": "x8FAVI5iFZXk"
      }
    },
    {
      "cell_type": "markdown",
      "source": [
        "**Q. 5:** Identify two methods for specifying actions to be executed at termination time, regardless of whether or not an exception exists.\n",
        "\n",
        "**Ans 5:**\n",
        "\n",
        "- In `else` block, code is written to handle if no exception is raised by code in try block.\n",
        "\n",
        "- In `finally` block, code executes regardless of whether or not an exception exists."
      ],
      "metadata": {
        "id": "dPf4VqcYFa9X"
      }
    },
    {
      "cell_type": "markdown",
      "source": [
        "\n",
        "\n",
        "---\n",
        "\n"
      ],
      "metadata": {
        "id": "Mjalsly6F9eM"
      }
    }
  ]
}