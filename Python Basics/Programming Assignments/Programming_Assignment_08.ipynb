{
  "nbformat": 4,
  "nbformat_minor": 0,
  "metadata": {
    "colab": {
      "provenance": []
    },
    "kernelspec": {
      "name": "python3",
      "display_name": "Python 3"
    },
    "language_info": {
      "name": "python"
    }
  },
  "cells": [
    {
      "cell_type": "markdown",
      "source": [
        "# **Programming Assignment 8**"
      ],
      "metadata": {
        "id": "Gg0gU2zVCaVw"
      }
    },
    {
      "cell_type": "markdown",
      "source": [
        "**Q. 1:** Write a Python Program to Add Two Matrices?\n",
        "\n",
        "**Ans 1:** "
      ],
      "metadata": {
        "id": "LzmHJg2LCeG3"
      }
    },
    {
      "cell_type": "code",
      "source": [
        "X = [[2,3,4],[7,5,7],[8,5,3]]\n",
        "Y = [[7,5,4],[2,4,8],[1,3,5]]\n",
        "result = [[0,0,0],[0,0,0],[0,0,0]]\n",
        "for i in range(len(X)):\n",
        "    for j in range(len(X[0])):\n",
        "        result[i][j] = X[i][j] + Y[i][j]\n",
        "for r in result:\n",
        "    print(r)"
      ],
      "metadata": {
        "colab": {
          "base_uri": "https://localhost:8080/"
        },
        "id": "kUg89FpQDH-Z",
        "outputId": "d103de97-0918-41cb-e037-a4a984f9ca95"
      },
      "execution_count": 1,
      "outputs": [
        {
          "output_type": "stream",
          "name": "stdout",
          "text": [
            "[9, 8, 8]\n",
            "[9, 9, 15]\n",
            "[9, 8, 8]\n"
          ]
        }
      ]
    },
    {
      "cell_type": "markdown",
      "source": [
        "\n",
        "\n",
        "---\n",
        "\n"
      ],
      "metadata": {
        "id": "Y6s_6OsRDMov"
      }
    },
    {
      "cell_type": "markdown",
      "source": [
        "**Q. 2:** Write a Python Program to Multiply Two Matrices?\n",
        "\n",
        "**Ans 2:** "
      ],
      "metadata": {
        "id": "26_Xz4AjDMjH"
      }
    },
    {
      "cell_type": "code",
      "source": [
        "A = [[12, 7, 3],[4, 5, 6],[7, 8, 9]]\n",
        "\n",
        "B = [[5, 8, 1, 2],[6, 7, 3, 0],[4, 5, 9, 1]]\n",
        "\n",
        "result = [[0, 0, 0, 0],[0, 0, 0, 0],[0, 0, 0, 0]]\n",
        "\n",
        "for i in range(len(A)):\n",
        "    for j in range(len(B[0])):\n",
        "        for k in range(len(B)):\n",
        "            result[i][j] += A[i][k] * B[k][j]\n",
        "\n",
        "for r in result:\n",
        "    print(r)\n",
        "  "
      ],
      "metadata": {
        "colab": {
          "base_uri": "https://localhost:8080/"
        },
        "id": "Ek7tAa20Daom",
        "outputId": "2f19c342-0cbc-42bd-db62-d1c6818789a3"
      },
      "execution_count": 3,
      "outputs": [
        {
          "output_type": "stream",
          "name": "stdout",
          "text": [
            "[114, 160, 60, 27]\n",
            "[74, 97, 73, 14]\n",
            "[119, 157, 112, 23]\n"
          ]
        }
      ]
    },
    {
      "cell_type": "markdown",
      "source": [
        "\n",
        "\n",
        "---\n",
        "\n"
      ],
      "metadata": {
        "id": "--LODrfMDoL3"
      }
    },
    {
      "cell_type": "markdown",
      "source": [
        "**Q. 3:** Write a Python Program to Transpose a Matrix?\n",
        "\n",
        "**Ans 3:** "
      ],
      "metadata": {
        "id": "XwBH6RJVDpb3"
      }
    },
    {
      "cell_type": "code",
      "source": [
        "X = [[1,3],[7,6],[1,5]]\n",
        "result = [[0,0,0],[0,0,0]]\n",
        "for i in range(len(X)):\n",
        "    for j in range(len(X[0])):\n",
        "        result[j][i] = X[i][j]\n",
        "for r in result:\n",
        "    print(r)"
      ],
      "metadata": {
        "colab": {
          "base_uri": "https://localhost:8080/"
        },
        "id": "enc-DvcLEZhl",
        "outputId": "acbedc29-8c4b-4776-dbb0-a727674916a8"
      },
      "execution_count": 6,
      "outputs": [
        {
          "output_type": "stream",
          "name": "stdout",
          "text": [
            "[1, 7, 1]\n",
            "[3, 6, 5]\n"
          ]
        }
      ]
    },
    {
      "cell_type": "markdown",
      "source": [
        "\n",
        "\n",
        "---\n",
        "\n"
      ],
      "metadata": {
        "id": "4KvdskpGE6pf"
      }
    },
    {
      "cell_type": "markdown",
      "source": [
        "**Q. 4:** Write a Python Program to sort Words in an Alphabatical Order?\n",
        "\n",
        "**Ans 4:** "
      ],
      "metadata": {
        "id": "qMr2_PlnE7cn"
      }
    },
    {
      "cell_type": "code",
      "source": [
        "def sortString():\n",
        "    in_string = input(\"Enter a String: \").title()\n",
        "    sorted_list = sorted(in_string.split(' '))\n",
        "    print(' '.join(sorted_list))\n",
        "\n",
        "sortString()"
      ],
      "metadata": {
        "colab": {
          "base_uri": "https://localhost:8080/"
        },
        "id": "e12MIS3wFEzp",
        "outputId": "51effcaa-47a7-4f34-d4bf-b74a420cc2b4"
      },
      "execution_count": 7,
      "outputs": [
        {
          "output_type": "stream",
          "name": "stdout",
          "text": [
            "Enter a String: My name is Tanay Choubey\n",
            "Choubey Is My Name Tanay\n"
          ]
        }
      ]
    },
    {
      "cell_type": "markdown",
      "source": [
        "\n",
        "\n",
        "---\n",
        "\n"
      ],
      "metadata": {
        "id": "fK4yJ1k5Fqw3"
      }
    },
    {
      "cell_type": "markdown",
      "source": [
        "**Q. 5:** Write a Python Program to Remove Punctuation From a String?\n",
        "\n",
        "**Ans 5:** "
      ],
      "metadata": {
        "id": "IzYJvP_YFrkP"
      }
    },
    {
      "cell_type": "code",
      "source": [
        "punctuations = '''!()-[]{};:'\"\\,<>./?@#$%^&*_~'''\n",
        "in_string = input('Enter a String: ')\n",
        "out_string = ''\n",
        "for ele in in_string:\n",
        "    if ele not in punctuations:\n",
        "      out_string += ele\n",
        "print(out_string)"
      ],
      "metadata": {
        "colab": {
          "base_uri": "https://localhost:8080/"
        },
        "id": "najb3i4FGUIf",
        "outputId": "456c2245-7879-4c54-8c51-323bfe9040be"
      },
      "execution_count": 11,
      "outputs": [
        {
          "output_type": "stream",
          "name": "stdout",
          "text": [
            "Enter a String: My @ name () is # Tanay / Choubey\n",
            "My  name  is  Tanay  Choubey\n"
          ]
        }
      ]
    },
    {
      "cell_type": "markdown",
      "source": [
        "\n",
        "\n",
        "---\n",
        "\n"
      ],
      "metadata": {
        "id": "L4_U-B1HG8oP"
      }
    }
  ]
}