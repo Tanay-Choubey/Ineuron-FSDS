{
  "cells": [
    {
      "cell_type": "markdown",
      "source": [
        "# **Assignment 4**"
      ],
      "metadata": {
        "id": "m6dVH6hj9pmb"
      }
    },
    {
      "cell_type": "markdown",
      "metadata": {
        "id": "0lweljGkw5ua"
      },
      "source": [
        "**Q. 1 :** What exactly is []?\n",
        "\n",
        "**Ans 1 :** [] is the empty list."
      ]
    },
    {
      "cell_type": "markdown",
      "source": [
        "\n",
        "\n",
        "---\n",
        "\n"
      ],
      "metadata": {
        "id": "vyF-laxWWlpr"
      }
    },
    {
      "cell_type": "markdown",
      "metadata": {
        "id": "DHCXCLcDxfmZ"
      },
      "source": [
        "**Q. 2 :** In a list of values stored in a variable called spam, how would you assign the value 'hello' as the third value? (Assume [2, 4, 6, 8, 10] are in spam.)\n",
        "\n",
        "**Ans 2 :** "
      ]
    },
    {
      "cell_type": "code",
      "execution_count": null,
      "metadata": {
        "colab": {
          "base_uri": "https://localhost:8080/"
        },
        "id": "rBEWRq8_w4HC",
        "outputId": "9b8841ed-a05e-4a64-ac76-7185fbc5f45b"
      },
      "outputs": [
        {
          "name": "stdout",
          "output_type": "stream",
          "text": [
            "[2, 4, 6, 8, 10]\n",
            "[2, 4, 'hello', 8, 10]\n"
          ]
        }
      ],
      "source": [
        "spam = [2,4,6,8,10]\n",
        "\n",
        "print(spam)\n",
        "\n",
        "spam[2] = 'hello'\n",
        "\n",
        "print(spam)"
      ]
    },
    {
      "cell_type": "markdown",
      "source": [
        "\n",
        "\n",
        "---\n",
        "\n"
      ],
      "metadata": {
        "id": "TwbHNgnLWoW3"
      }
    },
    {
      "cell_type": "markdown",
      "metadata": {
        "id": "E1iZkOJQz4vY"
      },
      "source": [
        "### **Let's pretend the spam includes the list ['a', 'b', 'c', 'd'] for the next three queries.**"
      ]
    },
    {
      "cell_type": "code",
      "execution_count": null,
      "metadata": {
        "id": "y9l2AZ7b4stL"
      },
      "outputs": [],
      "source": [
        "spam = ['a', 'b', 'c', 'd']"
      ]
    },
    {
      "cell_type": "markdown",
      "source": [
        "\n",
        "\n",
        "---\n",
        "\n"
      ],
      "metadata": {
        "id": "slyOz4OaXRve"
      }
    },
    {
      "cell_type": "markdown",
      "metadata": {
        "id": "9xISRS2U3lZZ"
      },
      "source": [
        "**Q. 3 :** What is the value of spam[int(int('3' * 2) / 11)]?\n",
        "\n",
        "**Ans 3 :** '3' * 2 is the string '33', which is passed to int() before being divided by 11. This eventually evaluates to 3. Expressions can be used wherever values are used. As below :"
      ]
    },
    {
      "cell_type": "code",
      "execution_count": null,
      "metadata": {
        "colab": {
          "base_uri": "https://localhost:8080/",
          "height": 36
        },
        "id": "O4dwNC9czbqw",
        "outputId": "f521081a-4078-403c-b9f8-cc3a24eb68b8"
      },
      "outputs": [
        {
          "data": {
            "application/vnd.google.colaboratory.intrinsic+json": {
              "type": "string"
            },
            "text/plain": [
              "'d'"
            ]
          },
          "execution_count": 5,
          "metadata": {},
          "output_type": "execute_result"
        }
      ],
      "source": [
        "spam[int(int('3'*2)/11)]"
      ]
    },
    {
      "cell_type": "markdown",
      "source": [
        "\n",
        "\n",
        "---\n",
        "\n"
      ],
      "metadata": {
        "id": "kbutWGxXWx77"
      }
    },
    {
      "cell_type": "markdown",
      "metadata": {
        "id": "u4hiyMiX6V77"
      },
      "source": [
        "**Q. 4 :** What is the value of spam[-1]?\n",
        "\n",
        "**Ans 4 :** 'd' (Lists support Negative indexing, Hence spam[-1] returs 'd')"
      ]
    },
    {
      "cell_type": "code",
      "execution_count": null,
      "metadata": {
        "colab": {
          "base_uri": "https://localhost:8080/",
          "height": 36
        },
        "id": "8yAAljYt6OnG",
        "outputId": "ad6aa17e-265c-4a7b-e6ee-b6414178c495"
      },
      "outputs": [
        {
          "data": {
            "application/vnd.google.colaboratory.intrinsic+json": {
              "type": "string"
            },
            "text/plain": [
              "'d'"
            ]
          },
          "execution_count": 6,
          "metadata": {},
          "output_type": "execute_result"
        }
      ],
      "source": [
        "spam[-1]"
      ]
    },
    {
      "cell_type": "markdown",
      "source": [
        "\n",
        "\n",
        "---\n",
        "\n"
      ],
      "metadata": {
        "id": "WDfbuYC2W2dR"
      }
    },
    {
      "cell_type": "markdown",
      "metadata": {
        "id": "3qIkmzBJ7kGy"
      },
      "source": [
        "**Q. 5 :** What is the value of spam[:2]?\n",
        "\n",
        "**Ans 5 :** "
      ]
    },
    {
      "cell_type": "code",
      "execution_count": null,
      "metadata": {
        "colab": {
          "base_uri": "https://localhost:8080/"
        },
        "id": "OICu4c907Gq_",
        "outputId": "2d9c319b-256d-498a-831c-afe6ba495d08"
      },
      "outputs": [
        {
          "data": {
            "text/plain": [
              "['a', 'b']"
            ]
          },
          "execution_count": 7,
          "metadata": {},
          "output_type": "execute_result"
        }
      ],
      "source": [
        "spam [:2]"
      ]
    },
    {
      "cell_type": "markdown",
      "source": [
        "\n",
        "\n",
        "---\n",
        "\n"
      ],
      "metadata": {
        "id": "jsO-x7eMW4Ae"
      }
    },
    {
      "cell_type": "markdown",
      "metadata": {
        "id": "D75egpzL8RtQ"
      },
      "source": [
        "### **Let's pretend bacon has the list [3.14, 'cat', 11, 'cat', True] for the next three questions.**"
      ]
    },
    {
      "cell_type": "code",
      "source": [
        "bacon = [3.14, 'cat', 11, 'cat', True]"
      ],
      "metadata": {
        "id": "e6Ww5jsT95RU"
      },
      "execution_count": null,
      "outputs": []
    },
    {
      "cell_type": "markdown",
      "source": [
        "\n",
        "\n",
        "---\n",
        "\n"
      ],
      "metadata": {
        "id": "JWvZxaRXXV6f"
      }
    },
    {
      "cell_type": "markdown",
      "metadata": {
        "id": "0s1mx6xc8DVl"
      },
      "source": [
        "**Q. 6 :** What is the value of bacon.index('cat')?\n",
        "\n",
        "**Ans 6 :** The value of bacon.index('cat') is 1 (Note: index method returns the index of first occuerence of 'cat')"
      ]
    },
    {
      "cell_type": "code",
      "execution_count": null,
      "metadata": {
        "colab": {
          "base_uri": "https://localhost:8080/"
        },
        "id": "XQXhKBZR70HC",
        "outputId": "1bd8288a-07f4-416d-d6ad-90691404126e"
      },
      "outputs": [
        {
          "output_type": "execute_result",
          "data": {
            "text/plain": [
              "1"
            ]
          },
          "metadata": {},
          "execution_count": 19
        }
      ],
      "source": [
        "bacon.index('cat')"
      ]
    },
    {
      "cell_type": "markdown",
      "source": [
        "\n",
        "\n",
        "---\n",
        "\n"
      ],
      "metadata": {
        "id": "yPiMaPqoW6Er"
      }
    },
    {
      "cell_type": "markdown",
      "source": [
        "**Q. 7 :** How does bacon.append(99) change the look of the list value in bacon?\n",
        "\n",
        "**Ans 7 :** It will append 99 at the end of list bacon. As below :"
      ],
      "metadata": {
        "id": "-nsbi12g-37E"
      }
    },
    {
      "cell_type": "code",
      "source": [
        "bacon"
      ],
      "metadata": {
        "colab": {
          "base_uri": "https://localhost:8080/"
        },
        "id": "ykMb4WqO-oSo",
        "outputId": "995c5a5a-a98a-4d35-da5a-6fdcbf6dd639"
      },
      "execution_count": null,
      "outputs": [
        {
          "output_type": "execute_result",
          "data": {
            "text/plain": [
              "[3.14, 'cat', 11, 'cat', True]"
            ]
          },
          "metadata": {},
          "execution_count": 18
        }
      ]
    },
    {
      "cell_type": "code",
      "source": [
        "bacon.append(99)\n",
        "print (bacon)"
      ],
      "metadata": {
        "colab": {
          "base_uri": "https://localhost:8080/"
        },
        "id": "QJFOUkFVAb9U",
        "outputId": "7198b99b-b2f1-41ba-ed13-e8acf4ea1463"
      },
      "execution_count": null,
      "outputs": [
        {
          "output_type": "stream",
          "name": "stdout",
          "text": [
            "[3.14, 'cat', 11, 'cat', True, 99]\n"
          ]
        }
      ]
    },
    {
      "cell_type": "markdown",
      "source": [
        "\n",
        "\n",
        "---\n",
        "\n"
      ],
      "metadata": {
        "id": "Y3dD6ZT3W8Af"
      }
    },
    {
      "cell_type": "markdown",
      "source": [
        "**Q. 8 :** How does bacon.remove('cat') change the look of the list in bacon?\n",
        "\n",
        "**Ans 8 :** It will remove the first occurence of the 'cat'. As below :"
      ],
      "metadata": {
        "id": "IA5C2ESCCFpK"
      }
    },
    {
      "cell_type": "code",
      "source": [
        "bacon"
      ],
      "metadata": {
        "id": "JnEQuhEXAgSz",
        "colab": {
          "base_uri": "https://localhost:8080/"
        },
        "outputId": "cef0dfdf-e470-4e27-f318-29a479c43f0b"
      },
      "execution_count": 21,
      "outputs": [
        {
          "output_type": "execute_result",
          "data": {
            "text/plain": [
              "[3.14, 'cat', 11, 'cat', True, 99]"
            ]
          },
          "metadata": {},
          "execution_count": 21
        }
      ]
    },
    {
      "cell_type": "code",
      "source": [
        "bacon.remove('cat')\n",
        "print (bacon)"
      ],
      "metadata": {
        "colab": {
          "base_uri": "https://localhost:8080/"
        },
        "id": "nqMX6o2bEDlJ",
        "outputId": "86dc641c-236a-4569-9352-f2061948d50b"
      },
      "execution_count": 22,
      "outputs": [
        {
          "output_type": "stream",
          "name": "stdout",
          "text": [
            "[3.14, 11, 'cat', True, 99]\n"
          ]
        }
      ]
    },
    {
      "cell_type": "markdown",
      "source": [
        "\n",
        "\n",
        "---\n",
        "\n"
      ],
      "metadata": {
        "id": "CUGVdeNYW__z"
      }
    },
    {
      "cell_type": "markdown",
      "source": [
        "**Q. 9 :** What are the list concatenation and list replication operators?\n",
        "\n",
        "**Ans 9 :** List concatenation operator is ‘+’ while list replication operator is ‘*’."
      ],
      "metadata": {
        "id": "tpTIdlwDERn_"
      }
    },
    {
      "cell_type": "markdown",
      "source": [
        "\n",
        "\n",
        "---\n",
        "\n"
      ],
      "metadata": {
        "id": "d23Yyq_aXBN6"
      }
    },
    {
      "cell_type": "markdown",
      "source": [
        "**Q. 10 :** What is difference between the list methods append() and insert()? \n",
        "\n",
        "**Ans 10 :** \n",
        "\n",
        "*  Append method appends the given object to the end of the list always.\n",
        "\n",
        "*  Insert method accepts two arguments, index at which the element needs to be inserted and the object to insert.\n",
        "\n"
      ],
      "metadata": {
        "id": "kJkj9aw5FXTm"
      }
    },
    {
      "cell_type": "code",
      "source": [
        "# For Example:\n",
        "list = [1,2,3,4,5]\n",
        "\n",
        "list.append(6)\n",
        "print(list)\n",
        "\n",
        "list.insert(2,'Tanay')\n",
        "print(list)"
      ],
      "metadata": {
        "colab": {
          "base_uri": "https://localhost:8080/"
        },
        "id": "HFe_ON3hELqb",
        "outputId": "e46e32ac-d345-4881-c005-69886b8b3482"
      },
      "execution_count": 23,
      "outputs": [
        {
          "output_type": "stream",
          "name": "stdout",
          "text": [
            "[1, 2, 3, 4, 5, 6]\n",
            "[1, 2, 'Tanay', 3, 4, 5, 6]\n"
          ]
        }
      ]
    },
    {
      "cell_type": "markdown",
      "source": [
        "\n",
        "\n",
        "---\n",
        "\n"
      ],
      "metadata": {
        "id": "TeveNyMkXDaD"
      }
    },
    {
      "cell_type": "markdown",
      "source": [
        "**Q. 11 :** What are the two methods for removing items from a list?\n",
        "\n",
        "**Ans 11 :** Two methods used for removing items from a list are:\n",
        "\n",
        "*   List.remove(object) -> Removes the first occurrence of the given object from the list\n",
        "*   List.pop(index = -1) -> Removes and returns item at the index (default is -1, the last element)\n",
        "\n"
      ],
      "metadata": {
        "id": "XbvNeMxbHguM"
      }
    },
    {
      "cell_type": "markdown",
      "source": [
        "\n",
        "\n",
        "---\n",
        "\n"
      ],
      "metadata": {
        "id": "hpfCzkYPXEoL"
      }
    },
    {
      "cell_type": "markdown",
      "source": [
        "**Q. 12 :** Describe how list values and string values are identical.\n",
        "\n",
        "**Ans 12 :** Both lists and strings can be passed to len(), have indexes and slices, be used in for loops, be concatenated or replicated, and be used with the in and not in operators."
      ],
      "metadata": {
        "id": "4N5zvUqxIVKM"
      }
    },
    {
      "cell_type": "markdown",
      "source": [
        "\n",
        "\n",
        "---\n",
        "\n"
      ],
      "metadata": {
        "id": "m-z2ZI5UXF3e"
      }
    },
    {
      "cell_type": "markdown",
      "source": [
        "**Q. 13 :** What's the difference between tuples and lists?\n",
        "\n",
        "**Ans 13 :** Lists are Mutable, Indexable and Slicable. they can have values added, removed, or changed. Tuples are Immutable but Indexable and Slicable. the tuple values cannot be changed at all. Also, tuples are represented using parentheses (), while lists use the square brackets []."
      ],
      "metadata": {
        "id": "0m2qxrmaJh4W"
      }
    },
    {
      "cell_type": "markdown",
      "source": [
        "\n",
        "\n",
        "---\n",
        "\n"
      ],
      "metadata": {
        "id": "vRwVjMYnXHKK"
      }
    },
    {
      "cell_type": "markdown",
      "source": [
        "**Q. 14 :** How do you type a tuple value that only contains the integer 42?\n",
        "\n",
        "**Ans 14 :** Note : The trailing comma is mandatory."
      ],
      "metadata": {
        "id": "sqFNWkj6KgU6"
      }
    },
    {
      "cell_type": "code",
      "source": [
        "t = (42,)"
      ],
      "metadata": {
        "id": "gmUYGaXkHYqx"
      },
      "execution_count": 24,
      "outputs": []
    },
    {
      "cell_type": "code",
      "source": [
        "type (t)"
      ],
      "metadata": {
        "colab": {
          "base_uri": "https://localhost:8080/"
        },
        "id": "f76PPUy1LUH4",
        "outputId": "758d02c9-0c4a-4cbb-8e9d-381265fbaebc"
      },
      "execution_count": 25,
      "outputs": [
        {
          "output_type": "execute_result",
          "data": {
            "text/plain": [
              "tuple"
            ]
          },
          "metadata": {},
          "execution_count": 25
        }
      ]
    },
    {
      "cell_type": "markdown",
      "source": [
        "\n",
        "\n",
        "---\n",
        "\n"
      ],
      "metadata": {
        "id": "SebowFhyXIwl"
      }
    },
    {
      "cell_type": "markdown",
      "source": [
        "**Q. 15 :** How do you get a list value's tuple form? How do you get a tuple value's list form?\n",
        "\n",
        "**Ans 15 :** The tuple() and list() functions, respectively are used to convert a list to tuple and vice versa."
      ],
      "metadata": {
        "id": "0z4mt3iLLz3l"
      }
    },
    {
      "cell_type": "markdown",
      "source": [
        "\n",
        "\n",
        "---\n",
        "\n"
      ],
      "metadata": {
        "id": "8t-9qEqhXKAq"
      }
    },
    {
      "cell_type": "markdown",
      "source": [
        "**Q. 16 :** Variables that \"contain\" list values are not necessarily lists themselves. Instead, what do they contain? \n",
        "\n",
        "**Ans 16 :** Variables will contain references to list values rather than list values themselves."
      ],
      "metadata": {
        "id": "CmC5IHNNVuXm"
      }
    },
    {
      "cell_type": "markdown",
      "source": [
        "\n",
        "\n",
        "---\n",
        "\n"
      ],
      "metadata": {
        "id": "EnP7TbNUXLci"
      }
    },
    {
      "cell_type": "markdown",
      "source": [
        "**Q. 17 :** How do you distinguish between copy.copy() and copy.deepcopy()?\n",
        "\n",
        "**Ans 17 :** The copy.copy() function will do a shallow copy of a list, while the copy.deepcopy() function will do a deep copy of a list. That is, only copy.deepcopy() will duplicate any lists inside the list."
      ],
      "metadata": {
        "id": "9ZckNEB4WNZx"
      }
    },
    {
      "cell_type": "markdown",
      "source": [
        "\n",
        "\n",
        "---\n",
        "\n"
      ],
      "metadata": {
        "id": "unl5ivBUXbmj"
      }
    }
  ],
  "metadata": {
    "colab": {
      "provenance": []
    },
    "kernelspec": {
      "display_name": "Python 3",
      "name": "python3"
    },
    "language_info": {
      "name": "python"
    }
  },
  "nbformat": 4,
  "nbformat_minor": 0
}