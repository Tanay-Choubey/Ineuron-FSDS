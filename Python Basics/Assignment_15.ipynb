{
  "nbformat": 4,
  "nbformat_minor": 0,
  "metadata": {
    "colab": {
      "provenance": []
    },
    "kernelspec": {
      "name": "python3",
      "display_name": "Python 3"
    },
    "language_info": {
      "name": "python"
    }
  },
  "cells": [
    {
      "cell_type": "markdown",
      "source": [
        "# **Assignment 15**"
      ],
      "metadata": {
        "id": "Hx9mHr6nZk7X"
      }
    },
    {
      "cell_type": "markdown",
      "source": [
        "**Q. 1:** How many seconds are in an hour? Use the interactive interpreter as a calculator and multiply the number of seconds in a minute (60) by the number of minutes in an hour (also 60).\n",
        "\n",
        "**Ans 1:** "
      ],
      "metadata": {
        "id": "4bGU2e9QZp0n"
      }
    },
    {
      "cell_type": "code",
      "source": [
        "print(60*60)"
      ],
      "metadata": {
        "colab": {
          "base_uri": "https://localhost:8080/"
        },
        "id": "AzgKsZebaUSm",
        "outputId": "23c2abe5-e9d6-4a3e-c49e-710aef31d944"
      },
      "execution_count": 1,
      "outputs": [
        {
          "output_type": "stream",
          "name": "stdout",
          "text": [
            "3600\n"
          ]
        }
      ]
    },
    {
      "cell_type": "markdown",
      "source": [
        "\n",
        "\n",
        "---\n",
        "\n"
      ],
      "metadata": {
        "id": "926HDb0CbKU-"
      }
    },
    {
      "cell_type": "markdown",
      "source": [
        "**Q. 2:** Assign the result from the previous task (seconds in an hour) to a variable called seconds_per_hour.\n",
        "\n",
        "**Ans 2:** "
      ],
      "metadata": {
        "id": "VSGbPo4nat8m"
      }
    },
    {
      "cell_type": "code",
      "source": [
        "seconds_per_hour = 60 * 60\n",
        "seconds_per_hour"
      ],
      "metadata": {
        "colab": {
          "base_uri": "https://localhost:8080/"
        },
        "id": "2b_Txioba89m",
        "outputId": "4bd2f5ee-e871-4efd-eddb-84512683ff59"
      },
      "execution_count": 2,
      "outputs": [
        {
          "output_type": "execute_result",
          "data": {
            "text/plain": [
              "3600"
            ]
          },
          "metadata": {},
          "execution_count": 2
        }
      ]
    },
    {
      "cell_type": "markdown",
      "source": [
        "\n",
        "\n",
        "---\n",
        "\n"
      ],
      "metadata": {
        "id": "fjTQhLA6bJIe"
      }
    },
    {
      "cell_type": "markdown",
      "source": [
        "**Q. 3:** How many seconds do you think there are in a day? Make use of the variables seconds per hour and minutes per hour.\n",
        "\n",
        "**Ans 3:** "
      ],
      "metadata": {
        "id": "G5qK8Sr2bM4u"
      }
    },
    {
      "cell_type": "code",
      "source": [
        "minutes_per_hour = 60\n",
        "print(seconds_per_hour*24)"
      ],
      "metadata": {
        "colab": {
          "base_uri": "https://localhost:8080/"
        },
        "id": "hrrnSIvRbs_9",
        "outputId": "23865094-3e01-44fc-9e05-d8aba6a229cf"
      },
      "execution_count": 3,
      "outputs": [
        {
          "output_type": "stream",
          "name": "stdout",
          "text": [
            "86400\n"
          ]
        }
      ]
    },
    {
      "cell_type": "markdown",
      "source": [
        "\n",
        "\n",
        "---\n",
        "\n"
      ],
      "metadata": {
        "id": "PhZ-7-vTbvg2"
      }
    },
    {
      "cell_type": "markdown",
      "source": [
        "**Q. 4:** Calculate seconds per day again, but this time save the result in a variable called seconds_per_day\n",
        "\n",
        "**Ans 4:** "
      ],
      "metadata": {
        "id": "qQDw2Fb7bwUt"
      }
    },
    {
      "cell_type": "code",
      "source": [
        "seconds_per_day = 24 * seconds_per_hour\n",
        "print(seconds_per_day)"
      ],
      "metadata": {
        "colab": {
          "base_uri": "https://localhost:8080/"
        },
        "id": "apsc2toIbt7T",
        "outputId": "dc97ef2a-a147-48a5-e5ef-08d956bdbf1b"
      },
      "execution_count": 4,
      "outputs": [
        {
          "output_type": "stream",
          "name": "stdout",
          "text": [
            "86400\n"
          ]
        }
      ]
    },
    {
      "cell_type": "markdown",
      "source": [
        "\n",
        "\n",
        "---\n",
        "\n"
      ],
      "metadata": {
        "id": "r4CX9xaxcKQu"
      }
    },
    {
      "cell_type": "markdown",
      "source": [
        "**Q. 5:** Divide seconds_per_day by seconds_per_hour. Use floating-point (/) division.\n",
        "\n",
        "**Ans 5:** "
      ],
      "metadata": {
        "id": "3eK2FuZPcK9d"
      }
    },
    {
      "cell_type": "code",
      "source": [
        "print(seconds_per_day/seconds_per_hour)"
      ],
      "metadata": {
        "colab": {
          "base_uri": "https://localhost:8080/"
        },
        "id": "IsxOJBypcJCo",
        "outputId": "319abded-e412-4c08-a9bb-d960163d7ab2"
      },
      "execution_count": 5,
      "outputs": [
        {
          "output_type": "stream",
          "name": "stdout",
          "text": [
            "24.0\n"
          ]
        }
      ]
    },
    {
      "cell_type": "markdown",
      "source": [
        "\n",
        "\n",
        "---\n",
        "\n"
      ],
      "metadata": {
        "id": "NiWHxjM5c_zd"
      }
    },
    {
      "cell_type": "markdown",
      "source": [
        "**Q. 6:** Divide seconds_per_day by seconds_per_hour, using integer (//) division. Did this number agree with the floating-point value from the previous question, aside from the final .0?\n",
        "\n",
        "**Ans 6:** "
      ],
      "metadata": {
        "id": "AibcDtkRdAr9"
      }
    },
    {
      "cell_type": "code",
      "source": [
        "print(seconds_per_day//seconds_per_hour, end='')\n",
        "print(' -> yes this values agree with the floating point value from the previous question')"
      ],
      "metadata": {
        "colab": {
          "base_uri": "https://localhost:8080/"
        },
        "id": "WEjLMs-ld822",
        "outputId": "81cd1e40-6dda-4f4b-a4c3-58fea3f46e85"
      },
      "execution_count": 6,
      "outputs": [
        {
          "output_type": "stream",
          "name": "stdout",
          "text": [
            "24 -> yes this values agree with the floating point value from the previous question\n"
          ]
        }
      ]
    },
    {
      "cell_type": "markdown",
      "source": [
        "\n",
        "\n",
        "---\n",
        "\n"
      ],
      "metadata": {
        "id": "hsElux6Xd-9V"
      }
    },
    {
      "cell_type": "markdown",
      "source": [
        "**Q. 7:** Write a generator, genPrimes, that returns the sequence of prime numbers on successive calls to its next() method: 2, 3, 5, 7, 11, ...\n",
        "\n",
        "**Ans 7:** "
      ],
      "metadata": {
        "id": "0UoUDwAzd_rt"
      }
    },
    {
      "cell_type": "code",
      "source": [
        "def genPrimes():\n",
        "    n = 0\n",
        "    while True:\n",
        "        if n == 2 or n == 3 :\n",
        "            yield n\n",
        "        elif ((n-1)%6 == 0 or (n+1)%6 == 0) and n !=1:\n",
        "            yield n\n",
        "        n = n+1\n",
        "        \n",
        "output = genPrimes()\n",
        "for ele in range(10):\n",
        "    print(next(output))"
      ],
      "metadata": {
        "colab": {
          "base_uri": "https://localhost:8080/"
        },
        "id": "TRsggh39erud",
        "outputId": "fde9a0e5-e8b8-42b9-b7bf-255813c137ac"
      },
      "execution_count": 7,
      "outputs": [
        {
          "output_type": "stream",
          "name": "stdout",
          "text": [
            "2\n",
            "3\n",
            "5\n",
            "7\n",
            "11\n",
            "13\n",
            "17\n",
            "19\n",
            "23\n",
            "25\n"
          ]
        }
      ]
    },
    {
      "cell_type": "markdown",
      "source": [
        "\n",
        "\n",
        "---\n",
        "\n"
      ],
      "metadata": {
        "id": "1zY8W_S9evZW"
      }
    }
  ]
}