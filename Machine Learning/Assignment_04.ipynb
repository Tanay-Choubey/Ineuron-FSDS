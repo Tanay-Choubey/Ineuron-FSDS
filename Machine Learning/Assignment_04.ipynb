{
  "nbformat": 4,
  "nbformat_minor": 0,
  "metadata": {
    "colab": {
      "provenance": []
    },
    "kernelspec": {
      "name": "python3",
      "display_name": "Python 3"
    },
    "language_info": {
      "name": "python"
    }
  },
  "cells": [
    {
      "cell_type": "markdown",
      "source": [
        "# **Assignment 04**"
      ],
      "metadata": {
        "id": "r95iE3uDIknl"
      }
    },
    {
      "cell_type": "markdown",
      "source": [
        "**Q. 1:** What are the key tasks involved in getting ready to work with machine learning modeling?\n",
        "\n",
        "**Ans 1:**  The Key Tasks involved in getting ready to work with Machine learning Modelling are:\n",
        "\n",
        "1. Data collection:Defining the problem and assembling a dataset.\n",
        "\n",
        "2. Data preparation: Preparing your data.\n",
        "\n",
        "3. Chossing a Model\n",
        "\n",
        "4. Training the Model:Developing a model that does better than a baseline.\n",
        "\n",
        "5. Evaluating the Model: choosing a measure of success. Deciding on an evaluation protocol.\n",
        "\n",
        "6. Parameter turning:Scaling up: devoloping a model that overfits.regularization your model and turning your parameters.\n",
        "\n",
        "7. Prediction or Inference."
      ],
      "metadata": {
        "id": "WV5pqA20In8B"
      }
    },
    {
      "cell_type": "markdown",
      "source": [
        "\n",
        "\n",
        "---\n",
        "\n"
      ],
      "metadata": {
        "id": "sUqqoOV0J6R2"
      }
    },
    {
      "cell_type": "markdown",
      "source": [
        "**Q. 2:** What are the different forms of data used in machine learning ? Give a specific example for each of them?\n",
        "\n",
        "**Ans 2:** \n",
        "\n",
        "- Numeric data: Examples include income, age, and credit score.\n",
        "- Categorical data: Examples include gender, occupation, and zip code.\n",
        "- Time-series data: Examples include stock prices, weather data, and internet traffic.\n",
        "- Text data: Examples include emails, product reviews, and articles.\n",
        "- Images: Examples include satellite images, medical scans, and facial images."
      ],
      "metadata": {
        "id": "9xN_pNZ_J9Oa"
      }
    },
    {
      "cell_type": "markdown",
      "source": [
        "\n",
        "\n",
        "---\n",
        "\n"
      ],
      "metadata": {
        "id": "2QqABuxBKom5"
      }
    },
    {
      "cell_type": "markdown",
      "source": [
        "**Q. 3:** Distinguish between :\n",
        "\n",
        "1. Numeric vs. categorical attributes\n",
        "2. Feature selection vs. dimensionality reduction\n",
        "\n",
        "**Ans 3:** \n",
        "\n",
        "1. Numeric vs. categorical attributes:- numberical attributes contain numberical data like year, age, etc and categorical data contain categorical data like colour, cast, etc.\n",
        "\n",
        "2. Feature selection vs. dimensionality reduction:- In feature selection we take only important features else in dimensionality reduction we delete unwanted features."
      ],
      "metadata": {
        "id": "pRMtyKy0Kpfb"
      }
    },
    {
      "cell_type": "markdown",
      "source": [
        "\n",
        "\n",
        "---\n",
        "\n"
      ],
      "metadata": {
        "id": "pOKbVOnLLVSs"
      }
    },
    {
      "cell_type": "markdown",
      "source": [
        "**Q. 4:** Make quick notes on any two of the following.\n",
        "1. The histogram\n",
        "2. Use a scatter plot\n",
        "3. PCA (Personal Computer Aid)\n",
        "\n",
        "**Ans 4:** The Quick notes on the following two topics is:\n",
        "\n",
        "1. The histogram: A Histogram is a graphical representation that organizes a group of data points into user-specified ranges. Similar in appearance to a bar graph, the histogram condenses a data series into an easily interpreted visual by taking many data points and grouping them into logical ranges or bins.\n",
        "\n",
        "2. Use a scatter plot: A scatter plot (aka scatter chart, scatter graph) uses dots to represent values for two different numeric variables. The position of each dot on the horizontal and vertical axis indicates values for an individual data point. Scatter plots are used to observe relationships between variables."
      ],
      "metadata": {
        "id": "ii4f_fE_LW7I"
      }
    },
    {
      "cell_type": "markdown",
      "source": [
        "\n",
        "\n",
        "---\n",
        "\n"
      ],
      "metadata": {
        "id": "UkYMFmzoMCN1"
      }
    },
    {
      "cell_type": "markdown",
      "source": [
        "**Q. 5:** Why is it necessary to investigate data? Is there a discrepancy in how qualitative and quantitative data are explored?\n",
        "\n",
        "**Ans 5:** If your data set is messy, building models will not help you to solve your problem. What will happen is Garbage In, Garbage Out. In order to build a powerful machine learning algorithm. We need to explore and understand our data set before we define a predictive task and solve it.\n"
      ],
      "metadata": {
        "id": "mjS8edDhMCDA"
      }
    },
    {
      "cell_type": "markdown",
      "source": [
        "\n",
        "\n",
        "---\n",
        "\n"
      ],
      "metadata": {
        "id": "WjcxOxZHMX_q"
      }
    },
    {
      "cell_type": "markdown",
      "source": [
        "**Q. 6:** What are the various histogram shapes? What exactly are ‘bins' ?\n",
        "\n",
        "**Ans 6:** The different types of a Histogram are:\n",
        "\n",
        "1. Uniform Histogram\n",
        "2. Symmetric Histogram\n",
        "3. Bimodal Histogram\n",
        "4. Probability Histogram.\n",
        "\n",
        "The bin in a histogram is the choice of unit and spacing on the X-axis. All the data in a probability distribution represented visually by a histogram is filled into the corresponding bins. The height of each bin is a measurement of the frequency with which data appears inside the range of that bin in the distribution."
      ],
      "metadata": {
        "id": "4miqT2abMY2F"
      }
    },
    {
      "cell_type": "markdown",
      "source": [
        "\n",
        "\n",
        "---\n",
        "\n"
      ],
      "metadata": {
        "id": "VcYZZ8rdMxle"
      }
    },
    {
      "cell_type": "markdown",
      "source": [
        "**Q. 7:** How do we deal with data outliers?\n",
        "\n",
        "**Ans 7:** Data outliers can be dealt with by identifying and removing outliers, transforming the data, using robust statistics, and applying algorithms that are resilient to outliers. Additionally, data can be grouped into bins to reduce the effect of outliers."
      ],
      "metadata": {
        "id": "RTqLw9NAMzIb"
      }
    },
    {
      "cell_type": "markdown",
      "source": [
        "\n",
        "\n",
        "---\n",
        "\n"
      ],
      "metadata": {
        "id": "GzbGBsJmNKGW"
      }
    },
    {
      "cell_type": "markdown",
      "source": [
        "**Q. 8:** What are the various central inclination measures? Why does mean vary too much from median in certain data sets?\n",
        "\n",
        "**Ans 8:** Mean, Median and Mode are Central Inclination Measures. Mean varies more than Median due to presence of outliers, as mean is averaging all points while median in like finding a middle number."
      ],
      "metadata": {
        "id": "jfEb_Jv_NLEP"
      }
    },
    {
      "cell_type": "markdown",
      "source": [
        "\n",
        "\n",
        "---\n",
        "\n"
      ],
      "metadata": {
        "id": "8s46kGlFNe58"
      }
    },
    {
      "cell_type": "markdown",
      "source": [
        "**Q. 9:** Describe how a scatter plot can be used to investigate bivariate relationships. Is it possible to find outliers using a scatter plot?\n",
        "\n",
        "**Ans 9:** A Scatter Plot (aka scatter chart, scatter graph) uses dots to represent values for two different numeric variables. The position of each dot on the horizontal and vertical axis indicates values for an individual data point. So this visualization gives us the idea of bivariate relationship.\n",
        "\n",
        "Scatter plot can also help finding outliers as outliers can be visualized at farther distance than regular data."
      ],
      "metadata": {
        "id": "ttJSbGrUNgXc"
      }
    },
    {
      "cell_type": "markdown",
      "source": [
        "\n",
        "\n",
        "---\n",
        "\n"
      ],
      "metadata": {
        "id": "NWZHK7paNzJj"
      }
    },
    {
      "cell_type": "markdown",
      "source": [
        "**Q. 10:** Describe how cross-tabs can be used to figure out how two variables are related?\n",
        "\n",
        "**Ans 10:** Cross-tabs can be used to figure out how two variables are related by comparing the distributions of the two variables in a table or chart. This can help to identify any correlations between the two variables and provide insight into their relationship."
      ],
      "metadata": {
        "id": "9R5qPqT4N0AR"
      }
    },
    {
      "cell_type": "markdown",
      "source": [
        "\n",
        "\n",
        "---\n",
        "\n"
      ],
      "metadata": {
        "id": "tSxofE7MOEzV"
      }
    }
  ]
}