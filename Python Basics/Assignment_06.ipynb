{
  "nbformat": 4,
  "nbformat_minor": 0,
  "metadata": {
    "colab": {
      "provenance": []
    },
    "kernelspec": {
      "name": "python3",
      "display_name": "Python 3"
    },
    "language_info": {
      "name": "python"
    }
  },
  "cells": [
    {
      "cell_type": "markdown",
      "source": [
        "# **Assignment 6**"
      ],
      "metadata": {
        "id": "QZqIvPERt4Dh"
      }
    },
    {
      "cell_type": "markdown",
      "source": [
        "**Q. 1 :** What are escape characters, and how do you use them?\n",
        "\n",
        "**Ans 1 :**  Escape characters represent characters in string values that would otherwise be difficult or impossible to type into code. we can use the backslash character to escape a single character or symbol.\n",
        "\n",
        "For Example: \\t, \\n ."
      ],
      "metadata": {
        "id": "DMth7qyft_LJ"
      }
    },
    {
      "cell_type": "markdown",
      "source": [
        "\n",
        "\n",
        "---\n",
        "\n"
      ],
      "metadata": {
        "id": "TCFL1PBV-ZeR"
      }
    },
    {
      "cell_type": "markdown",
      "source": [
        "**Q. 2 :** What do the escape characters n and t stand for?\n",
        "\n",
        "**Ans 2 :** \"\\t\" is for tab space, \"\\n\" is for a newline."
      ],
      "metadata": {
        "id": "ZvPP9aTT8bH_"
      }
    },
    {
      "cell_type": "markdown",
      "source": [
        "\n",
        "\n",
        "---\n",
        "\n"
      ],
      "metadata": {
        "id": "pbyqOGR5-apB"
      }
    },
    {
      "cell_type": "markdown",
      "source": [
        "**Q. 3 :** What is the way to include backslash characters in a string?\n",
        "\n",
        "**Ans 3 :** You need to append backslash with another backslash to include the backslash in your strings. As below:"
      ],
      "metadata": {
        "id": "kkQzx1J0-cqj"
      }
    },
    {
      "cell_type": "code",
      "source": [
        "print(\"it is a backslash \\ in a sentence\")"
      ],
      "metadata": {
        "colab": {
          "base_uri": "https://localhost:8080/"
        },
        "id": "uz9WgWWG8WXd",
        "outputId": "c78c174d-3522-439e-dcdf-6ecc6d1cef73"
      },
      "execution_count": 8,
      "outputs": [
        {
          "output_type": "stream",
          "name": "stdout",
          "text": [
            "it is a backslash \\ in a sentence\n"
          ]
        }
      ]
    },
    {
      "cell_type": "code",
      "source": [
        "print(\"it is a backslash \\\\ in a sentence\")"
      ],
      "metadata": {
        "colab": {
          "base_uri": "https://localhost:8080/"
        },
        "id": "FCW9YaZs_UaT",
        "outputId": "fc0f7061-44ec-4efb-e51e-45c62f2f8ef7"
      },
      "execution_count": 9,
      "outputs": [
        {
          "output_type": "stream",
          "name": "stdout",
          "text": [
            "it is a backslash \\ in a sentence\n"
          ]
        }
      ]
    },
    {
      "cell_type": "code",
      "source": [
        "print(\"it is a backslash \\\\\\ in a sentence\")"
      ],
      "metadata": {
        "colab": {
          "base_uri": "https://localhost:8080/"
        },
        "id": "BBUFUQFl_gpQ",
        "outputId": "701d3ec8-79c3-4406-b9e9-cd81487dd3c7"
      },
      "execution_count": 10,
      "outputs": [
        {
          "output_type": "stream",
          "name": "stdout",
          "text": [
            "it is a backslash \\\\ in a sentence\n"
          ]
        }
      ]
    },
    {
      "cell_type": "markdown",
      "source": [
        "\n",
        "\n",
        "---\n"
      ],
      "metadata": {
        "id": "FNl1JUhxA9NQ"
      }
    },
    {
      "cell_type": "markdown",
      "source": [
        "**Q. 4 :** The string \"Howl's Moving Castle\" is a correct value. Why isn't the single quote character in the word Howl's not escaped a problem?\n",
        "\n",
        "**Ans 4 :** The single quote in Howl's is fine because you’ve used double quotes to mark the beginning and end of the string. if its wrapped inside single quotes then we have to use escape character \\' to show single quote in the final output.\n",
        "\n",
        "'Howl\\'s Moving Castle' -> 'Howl's Moving Castle'"
      ],
      "metadata": {
        "id": "9GqlH6g9_08F"
      }
    },
    {
      "cell_type": "markdown",
      "source": [
        "\n",
        "\n",
        "---\n"
      ],
      "metadata": {
        "id": "obrhZEBSBCar"
      }
    },
    {
      "cell_type": "markdown",
      "source": [
        "**Q. 5 :** How do you write a string of newlines if you don't want to use the n character?\n",
        "\n",
        "**Ans 5 :** We can use multi line strings that done using triple quotes."
      ],
      "metadata": {
        "id": "Nu5t1lorBGwy"
      }
    },
    {
      "cell_type": "code",
      "source": [
        "#For Example:\n",
        "\n",
        "s = '''This is my\n",
        "multi line string \n",
        "example for \n",
        "this question'''\n",
        "\n",
        "print(s)"
      ],
      "metadata": {
        "colab": {
          "base_uri": "https://localhost:8080/"
        },
        "id": "U7Q6rcTQ_n0Y",
        "outputId": "5353913d-30f0-4de5-cf6a-bc8b4e3cb1f2"
      },
      "execution_count": 12,
      "outputs": [
        {
          "output_type": "stream",
          "name": "stdout",
          "text": [
            "This is my\n",
            "multi line string \n",
            "example for \n",
            "this question\n"
          ]
        }
      ]
    },
    {
      "cell_type": "markdown",
      "source": [
        "\n",
        "\n",
        "---\n",
        "\n"
      ],
      "metadata": {
        "id": "EnEvayDFKT8s"
      }
    },
    {
      "cell_type": "markdown",
      "source": [
        "**Q. 6 :** What are the values of the given expressions?\n",
        "\n",
        "'Hello, world!'[1]\n",
        "\n",
        "'Hello, world!'[0:5]\n",
        "\n",
        "'Hello, world!'[:5]\n",
        "\n",
        "'Hello, world!'[3:]\n",
        "\n",
        "**Ans 6 :** The values for the given expressions are: "
      ],
      "metadata": {
        "id": "bO6wKpAXDSHg"
      }
    },
    {
      "cell_type": "code",
      "source": [
        "'Hello, world!'[1]"
      ],
      "metadata": {
        "colab": {
          "base_uri": "https://localhost:8080/",
          "height": 36
        },
        "id": "pJqS9P5ICe99",
        "outputId": "8332a4cf-f152-4a46-d9d2-3896bc61afde"
      },
      "execution_count": 13,
      "outputs": [
        {
          "output_type": "execute_result",
          "data": {
            "text/plain": [
              "'e'"
            ],
            "application/vnd.google.colaboratory.intrinsic+json": {
              "type": "string"
            }
          },
          "metadata": {},
          "execution_count": 13
        }
      ]
    },
    {
      "cell_type": "code",
      "source": [
        "'Hello, world!'[0:5]"
      ],
      "metadata": {
        "colab": {
          "base_uri": "https://localhost:8080/",
          "height": 36
        },
        "id": "vbQyZABAEKoo",
        "outputId": "e0044ab2-cd36-42cc-eabb-6c30e1099c42"
      },
      "execution_count": 14,
      "outputs": [
        {
          "output_type": "execute_result",
          "data": {
            "text/plain": [
              "'Hello'"
            ],
            "application/vnd.google.colaboratory.intrinsic+json": {
              "type": "string"
            }
          },
          "metadata": {},
          "execution_count": 14
        }
      ]
    },
    {
      "cell_type": "code",
      "source": [
        "'Hello, world!'[:5]"
      ],
      "metadata": {
        "colab": {
          "base_uri": "https://localhost:8080/",
          "height": 36
        },
        "id": "3MS26VjiEN-C",
        "outputId": "2d2e3c18-e52c-43d7-c717-86c3ea1e1a5b"
      },
      "execution_count": 15,
      "outputs": [
        {
          "output_type": "execute_result",
          "data": {
            "text/plain": [
              "'Hello'"
            ],
            "application/vnd.google.colaboratory.intrinsic+json": {
              "type": "string"
            }
          },
          "metadata": {},
          "execution_count": 15
        }
      ]
    },
    {
      "cell_type": "code",
      "source": [
        "'Hello, world!'[3:]"
      ],
      "metadata": {
        "colab": {
          "base_uri": "https://localhost:8080/",
          "height": 36
        },
        "id": "dDAv54vKERaE",
        "outputId": "1a9717c2-d677-40f2-cd04-976d6b202a15"
      },
      "execution_count": 16,
      "outputs": [
        {
          "output_type": "execute_result",
          "data": {
            "text/plain": [
              "'lo, world!'"
            ],
            "application/vnd.google.colaboratory.intrinsic+json": {
              "type": "string"
            }
          },
          "metadata": {},
          "execution_count": 16
        }
      ]
    },
    {
      "cell_type": "markdown",
      "source": [
        "\n",
        "\n",
        "---\n",
        "\n"
      ],
      "metadata": {
        "id": "yvWWMQ77KSOo"
      }
    },
    {
      "cell_type": "markdown",
      "source": [
        "**Q. 7 :** What are the values of the following expressions?\n",
        "\n",
        "'Hello'.upper()\n",
        "\n",
        "'Hello'.upper().isupper()\n",
        "\n",
        "'Hello'.upper().lower()\n",
        "\n",
        "**Ans 7 :** The values for the given expressions are:"
      ],
      "metadata": {
        "id": "7aCkdtAnEe6J"
      }
    },
    {
      "cell_type": "code",
      "source": [
        "'Hello'.upper()"
      ],
      "metadata": {
        "colab": {
          "base_uri": "https://localhost:8080/",
          "height": 36
        },
        "id": "qFyiZqFVEVHO",
        "outputId": "007ff9f1-6e50-42f5-a3d3-6e89e64e2e33"
      },
      "execution_count": 17,
      "outputs": [
        {
          "output_type": "execute_result",
          "data": {
            "text/plain": [
              "'HELLO'"
            ],
            "application/vnd.google.colaboratory.intrinsic+json": {
              "type": "string"
            }
          },
          "metadata": {},
          "execution_count": 17
        }
      ]
    },
    {
      "cell_type": "code",
      "source": [
        "'Hello'.upper().isupper()"
      ],
      "metadata": {
        "colab": {
          "base_uri": "https://localhost:8080/"
        },
        "id": "wG0Cv_X6E8Vz",
        "outputId": "8afbb157-dc82-4311-d093-1f224bbaf261"
      },
      "execution_count": 18,
      "outputs": [
        {
          "output_type": "execute_result",
          "data": {
            "text/plain": [
              "True"
            ]
          },
          "metadata": {},
          "execution_count": 18
        }
      ]
    },
    {
      "cell_type": "code",
      "source": [
        "'Hello'.upper().lower()"
      ],
      "metadata": {
        "colab": {
          "base_uri": "https://localhost:8080/",
          "height": 36
        },
        "id": "xL6QgulNE_0A",
        "outputId": "c705cce1-9a9d-4587-ad7e-84597db4df5b"
      },
      "execution_count": 19,
      "outputs": [
        {
          "output_type": "execute_result",
          "data": {
            "text/plain": [
              "'hello'"
            ],
            "application/vnd.google.colaboratory.intrinsic+json": {
              "type": "string"
            }
          },
          "metadata": {},
          "execution_count": 19
        }
      ]
    },
    {
      "cell_type": "markdown",
      "source": [
        "\n",
        "\n",
        "---\n",
        "\n"
      ],
      "metadata": {
        "id": "C1pCp12aKOVf"
      }
    },
    {
      "cell_type": "markdown",
      "source": [
        "**Q. 8 :** What are the values of the following expressions?\n",
        "\n",
        "'Remember, remember, the fifth of July.'.split()\n",
        "\n",
        "'-'.join('There can only one.'.split())\n",
        "\n",
        "**Ans 8:** The values for the given expressions are:"
      ],
      "metadata": {
        "id": "yAsGZ4ISFG0q"
      }
    },
    {
      "cell_type": "code",
      "source": [
        "'Remember, remember, the fifth of July.'.split()"
      ],
      "metadata": {
        "colab": {
          "base_uri": "https://localhost:8080/"
        },
        "id": "uYATlf5cFFa_",
        "outputId": "79bd43ae-0268-4e6f-db1a-e44648c9c123"
      },
      "execution_count": 20,
      "outputs": [
        {
          "output_type": "execute_result",
          "data": {
            "text/plain": [
              "['Remember,', 'remember,', 'the', 'fifth', 'of', 'July.']"
            ]
          },
          "metadata": {},
          "execution_count": 20
        }
      ]
    },
    {
      "cell_type": "code",
      "source": [
        "'-'.join('There can only one.'.split())"
      ],
      "metadata": {
        "colab": {
          "base_uri": "https://localhost:8080/",
          "height": 36
        },
        "id": "2zGz-jwmGOou",
        "outputId": "578ec9a2-f926-4980-fd55-3f05ba9c060e"
      },
      "execution_count": 21,
      "outputs": [
        {
          "output_type": "execute_result",
          "data": {
            "text/plain": [
              "'There-can-only-one.'"
            ],
            "application/vnd.google.colaboratory.intrinsic+json": {
              "type": "string"
            }
          },
          "metadata": {},
          "execution_count": 21
        }
      ]
    },
    {
      "cell_type": "markdown",
      "source": [
        "\n",
        "\n",
        "---\n",
        "\n"
      ],
      "metadata": {
        "id": "59CaV-ZVKLxa"
      }
    },
    {
      "cell_type": "markdown",
      "source": [
        "**Q. 9 :** What are the methods for right-justifying, left-justifying and centering a string?\n",
        "\n",
        "**Ans 9 :** The methods are:"
      ],
      "metadata": {
        "id": "IJ-fM8NsGnLa"
      }
    },
    {
      "cell_type": "code",
      "source": [
        "m = \"methods\""
      ],
      "metadata": {
        "id": "s4ZvR4hKGVqM"
      },
      "execution_count": 22,
      "outputs": []
    },
    {
      "cell_type": "code",
      "source": [
        "#Left-justified\n",
        "\n",
        "m.ljust(15,\";\")"
      ],
      "metadata": {
        "colab": {
          "base_uri": "https://localhost:8080/",
          "height": 36
        },
        "id": "esDE7u5yH4PB",
        "outputId": "6e92ff99-5147-4d98-a3f5-cded30e9e9e2"
      },
      "execution_count": 23,
      "outputs": [
        {
          "output_type": "execute_result",
          "data": {
            "text/plain": [
              "'methods;;;;;;;;'"
            ],
            "application/vnd.google.colaboratory.intrinsic+json": {
              "type": "string"
            }
          },
          "metadata": {},
          "execution_count": 23
        }
      ]
    },
    {
      "cell_type": "code",
      "source": [
        "#Right-justified\n",
        "\n",
        "m.rjust(15,\"-\")"
      ],
      "metadata": {
        "colab": {
          "base_uri": "https://localhost:8080/",
          "height": 36
        },
        "id": "1SMk35nnILVF",
        "outputId": "11eb3922-029a-40c1-f5b7-46adb970083f"
      },
      "execution_count": 24,
      "outputs": [
        {
          "output_type": "execute_result",
          "data": {
            "text/plain": [
              "'--------methods'"
            ],
            "application/vnd.google.colaboratory.intrinsic+json": {
              "type": "string"
            }
          },
          "metadata": {},
          "execution_count": 24
        }
      ]
    },
    {
      "cell_type": "code",
      "source": [
        "#Centering\n",
        "\n",
        "m.center(27,'*')"
      ],
      "metadata": {
        "colab": {
          "base_uri": "https://localhost:8080/",
          "height": 36
        },
        "id": "EuMb0iwiIfXb",
        "outputId": "4e02d298-ec6d-421a-88b5-30c317acf471"
      },
      "execution_count": 25,
      "outputs": [
        {
          "output_type": "execute_result",
          "data": {
            "text/plain": [
              "'**********methods**********'"
            ],
            "application/vnd.google.colaboratory.intrinsic+json": {
              "type": "string"
            }
          },
          "metadata": {},
          "execution_count": 25
        }
      ]
    },
    {
      "cell_type": "markdown",
      "source": [
        "\n",
        "\n",
        "---\n",
        "\n"
      ],
      "metadata": {
        "id": "DqRP8qI7KJNI"
      }
    },
    {
      "cell_type": "markdown",
      "source": [
        "**Q. 10 :** What is the best way to remove whitespace characters from the start or end?\n",
        "\n",
        "**Ans 10 :** We can use:\n",
        "\n",
        "*   lstrip() -> Removes white spaces from left of the string.\n",
        "\n",
        "*   rstrip() -> Removes whitespaces from right of the string.\n",
        "\n"
      ],
      "metadata": {
        "id": "0KVBz61IJSVS"
      }
    },
    {
      "cell_type": "markdown",
      "source": [
        "\n",
        "\n",
        "---\n",
        "\n"
      ],
      "metadata": {
        "id": "sDCvMjDzKHuA"
      }
    }
  ]
}