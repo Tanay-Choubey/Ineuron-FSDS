{
  "nbformat": 4,
  "nbformat_minor": 0,
  "metadata": {
    "colab": {
      "provenance": []
    },
    "kernelspec": {
      "name": "python3",
      "display_name": "Python 3"
    },
    "language_info": {
      "name": "python"
    }
  },
  "cells": [
    {
      "cell_type": "markdown",
      "source": [
        "# **Assignment 7**"
      ],
      "metadata": {
        "id": "PpypADxcIEyQ"
      }
    },
    {
      "cell_type": "markdown",
      "source": [
        "**Q. 1:** What is the purpose of the try statement?\n",
        "\n",
        "**Ans 1:** The purpose of the try statement in Python is to handle exceptions that may occur during the execution of a program. It allows the program to continue running even if an error occurs, and provides a way to handle the error."
      ],
      "metadata": {
        "id": "Fd4NowHaINEP"
      }
    },
    {
      "cell_type": "markdown",
      "source": [
        "\n",
        "\n",
        "---\n",
        "\n"
      ],
      "metadata": {
        "id": "iXhyTN-FI4Wb"
      }
    },
    {
      "cell_type": "markdown",
      "source": [
        "**Q. 2:** What are the two most popular try statement variations?\n",
        "\n",
        "**Ans 2:** The Popular try statement variations are:\n",
        "\n",
        "1. try,except\n",
        "2. try,except,finally\n",
        "3. try,except,finally,else\n",
        "\n",
        "The try block is used to check code for exceptions during runtime. ie code inside try block will execute completely when there is no error in the program. Whereas the code inside except block will execute whenever the program encounters some error in the preceeding try block.\n",
        "\n",
        "Whereas the code enters the else block if and only if the try clause does not raise and exception. The code in the finally block will execute irrespective of exception."
      ],
      "metadata": {
        "id": "MzRW8icgI5O2"
      }
    },
    {
      "cell_type": "markdown",
      "source": [
        "\n",
        "\n",
        "---\n",
        "\n"
      ],
      "metadata": {
        "id": "oTdy_uBTJ8WQ"
      }
    },
    {
      "cell_type": "markdown",
      "source": [
        "**Q. 3:** What is the purpose of the raise statement?\n",
        "\n",
        "**Ans 3:** raise statement is used to trigger an exception explicitly, if a certain condition is not as per requirement of programmer. raise statement helps in triggering exception as per programming logic."
      ],
      "metadata": {
        "id": "Pcbbo4KAJ9Sg"
      }
    },
    {
      "cell_type": "markdown",
      "source": [
        "\n",
        "\n",
        "---\n",
        "\n"
      ],
      "metadata": {
        "id": "BytL82IZKONE"
      }
    },
    {
      "cell_type": "markdown",
      "source": [
        "**Q. 4:** What does the assert statement do, and what other statement is it like?\n",
        "\n",
        "**Ans 4:** The assert statement lets you test if a condition in your code returrns True, if not the program will raise an AssertionError. It is like raise statement, Where we can create our custom exceptions.\n"
      ],
      "metadata": {
        "id": "723fAntTKPIM"
      }
    },
    {
      "cell_type": "code",
      "source": [
        "x=0\n",
        "assert x > 0 ,\"number should be grater than 0\"\n",
        "print(\"even\")"
      ],
      "metadata": {
        "colab": {
          "base_uri": "https://localhost:8080/",
          "height": 200
        },
        "id": "x5JQ5Q1UKoNu",
        "outputId": "c20a3bbc-281c-49bb-fd59-d8d3b4139cfb"
      },
      "execution_count": 1,
      "outputs": [
        {
          "output_type": "error",
          "ename": "AssertionError",
          "evalue": "ignored",
          "traceback": [
            "\u001b[0;31m---------------------------------------------------------------------------\u001b[0m",
            "\u001b[0;31mAssertionError\u001b[0m                            Traceback (most recent call last)",
            "\u001b[0;32m<ipython-input-1-ea9260acdd8c>\u001b[0m in \u001b[0;36m<module>\u001b[0;34m\u001b[0m\n\u001b[1;32m      1\u001b[0m \u001b[0mx\u001b[0m\u001b[0;34m=\u001b[0m\u001b[0;36m0\u001b[0m\u001b[0;34m\u001b[0m\u001b[0;34m\u001b[0m\u001b[0m\n\u001b[0;32m----> 2\u001b[0;31m \u001b[0;32massert\u001b[0m \u001b[0mx\u001b[0m \u001b[0;34m>\u001b[0m \u001b[0;36m0\u001b[0m \u001b[0;34m,\u001b[0m\u001b[0;34m\"number should be grater than 0\"\u001b[0m\u001b[0;34m\u001b[0m\u001b[0;34m\u001b[0m\u001b[0m\n\u001b[0m\u001b[1;32m      3\u001b[0m \u001b[0mprint\u001b[0m\u001b[0;34m(\u001b[0m\u001b[0;34m\"even\"\u001b[0m\u001b[0;34m)\u001b[0m\u001b[0;34m\u001b[0m\u001b[0;34m\u001b[0m\u001b[0m\n",
            "\u001b[0;31mAssertionError\u001b[0m: number should be grater than 0"
          ]
        }
      ]
    },
    {
      "cell_type": "markdown",
      "source": [
        "\n",
        "\n",
        "---\n",
        "\n"
      ],
      "metadata": {
        "id": "5S5lYuDcKmco"
      }
    },
    {
      "cell_type": "markdown",
      "source": [
        "**Q. 5:** What is the purpose of the with/as argument, and what other statement is it like?\n",
        "\n",
        "**Ans 5:** with sttement in python is used in exception handling to make the code cleaner and much readable. It simplifies the management of common resources like file streams.The with statement itself ensure proper acquisition and release of resources.This allows common try...except...finally usage patterns to be encapsulated for convenient reuse.\n",
        "\n",
        "When \"as\" is used after \"with\", it will reassign the returned object to a new identifier."
      ],
      "metadata": {
        "id": "W1ErCHVgK4Uv"
      }
    },
    {
      "cell_type": "markdown",
      "source": [
        "\n",
        "\n",
        "---\n",
        "\n"
      ],
      "metadata": {
        "id": "cdSIXMWHL6da"
      }
    }
  ]
}