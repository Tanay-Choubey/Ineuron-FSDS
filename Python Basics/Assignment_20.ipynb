{
  "nbformat": 4,
  "nbformat_minor": 0,
  "metadata": {
    "colab": {
      "provenance": []
    },
    "kernelspec": {
      "name": "python3",
      "display_name": "Python 3"
    },
    "language_info": {
      "name": "python"
    }
  },
  "cells": [
    {
      "cell_type": "markdown",
      "source": [
        "# **Assignment 20**"
      ],
      "metadata": {
        "id": "w5K77mI-F9ps"
      }
    },
    {
      "cell_type": "markdown",
      "source": [
        "**Q. 1:** Set the variable test1 to the string 'This is a test of the emergency text system,' and save test1 to a file named test.txt.\n",
        "\n",
        "**Ans 1:** "
      ],
      "metadata": {
        "id": "hoSymTsvGH9v"
      }
    },
    {
      "cell_type": "code",
      "source": [
        "test1 = 'This is a test of the emergency text system'\n",
        "print(test1)\n",
        "with open('test.txt','w') as file:\n",
        "    file.write(test1)\n",
        "    file.close()"
      ],
      "metadata": {
        "colab": {
          "base_uri": "https://localhost:8080/"
        },
        "id": "7Z_1YNl1IG8B",
        "outputId": "6fac16c5-f586-4a50-8eee-176678b39f99"
      },
      "execution_count": 2,
      "outputs": [
        {
          "output_type": "stream",
          "name": "stdout",
          "text": [
            "This is a test of the emergency text system\n"
          ]
        }
      ]
    },
    {
      "cell_type": "markdown",
      "source": [
        "\n",
        "\n",
        "---\n",
        "\n"
      ],
      "metadata": {
        "id": "KQSgHdZtI3OU"
      }
    },
    {
      "cell_type": "markdown",
      "source": [
        "**Q. 2:** Read the contents of the file test.txt into the variable test2. Is there a difference between test 1 and test 2?\n",
        "\n",
        "**Ans 2:** "
      ],
      "metadata": {
        "id": "CNQFq6dHI4tH"
      }
    },
    {
      "cell_type": "code",
      "source": [
        "read_file = open('test.txt', 'r')\n",
        "test2 = read_file.readline()\n",
        "\n",
        "print(test2) # just for reference\n",
        "\n",
        "read_file.close()\n",
        "if test1 == test2:\n",
        "    print(\"Both test1 and test2 are same\")"
      ],
      "metadata": {
        "colab": {
          "base_uri": "https://localhost:8080/"
        },
        "id": "dhcr9X6TJcZX",
        "outputId": "135c5329-8f7d-4907-f485-0f1eac5af55e"
      },
      "execution_count": 3,
      "outputs": [
        {
          "output_type": "stream",
          "name": "stdout",
          "text": [
            "This is a test of the emergency text system\n",
            "Both test1 and test2 are same\n"
          ]
        }
      ]
    },
    {
      "cell_type": "markdown",
      "source": [
        "\n",
        "\n",
        "---\n",
        "\n"
      ],
      "metadata": {
        "id": "9-vyxMxzJ6Jo"
      }
    },
    {
      "cell_type": "markdown",
      "source": [
        "**Q. 3:** Create a CSV file called books.csv by using these lines:\n",
        "\n",
        "title,author,year\n",
        "\n",
        "The Weirdstone of Brisingamen,Alan Garner,1960\n",
        "\n",
        "Perdido Street Station,China Miéville,2000\n",
        "\n",
        "Thud!,Terry Pratchett,2005\n",
        "\n",
        "The Spellman Files,Lisa Lutz,2007\n",
        "\n",
        "Small Gods,Terry Pratchett,1992\n",
        "\n",
        "**Ans 3:** "
      ],
      "metadata": {
        "id": "uff0zNoRJ7DF"
      }
    },
    {
      "cell_type": "code",
      "source": [
        "import csv\n",
        "rows =[ ['title','author','year'],\n",
        "    ['The Weirdstone of Brisingamen','Alan Garner',1960],\n",
        "    ['Perdido Street Station','China Miéville',2000],\n",
        "    ['Thud!','Terry Pratchett',2005],\n",
        "    ['The Spellman Files','Lisa Lutz',2007],\n",
        "    ['Small Gods','Terry Pratchett',1992]]\n",
        "with open('books.csv','w',newline='') as file:\n",
        "    writer = csv.writer(file)\n",
        "    writer.writerows(rows)\n",
        "    \n",
        "with open('books.csv','r',newline='') as file:\n",
        "    for line in file.readlines():\n",
        "        print(line)"
      ],
      "metadata": {
        "colab": {
          "base_uri": "https://localhost:8080/"
        },
        "id": "DgT6MlB9Kf8J",
        "outputId": "5a4798ae-dc8f-448a-8106-58362b3381f0"
      },
      "execution_count": 4,
      "outputs": [
        {
          "output_type": "stream",
          "name": "stdout",
          "text": [
            "title,author,year\r\n",
            "\n",
            "The Weirdstone of Brisingamen,Alan Garner,1960\r\n",
            "\n",
            "Perdido Street Station,China Miéville,2000\r\n",
            "\n",
            "Thud!,Terry Pratchett,2005\r\n",
            "\n",
            "The Spellman Files,Lisa Lutz,2007\r\n",
            "\n",
            "Small Gods,Terry Pratchett,1992\r\n",
            "\n"
          ]
        }
      ]
    },
    {
      "cell_type": "markdown",
      "source": [
        "\n",
        "\n",
        "---\n",
        "\n"
      ],
      "metadata": {
        "id": "CdVLCtebKqkf"
      }
    },
    {
      "cell_type": "markdown",
      "source": [
        "**Q. 4:** Use the sqlite3 module to create a SQLite database called books.db, and a table called books with these fields: title (text), author (text), and year (integer).\n",
        "\n",
        "**Ans 4:** "
      ],
      "metadata": {
        "id": "13TdSo-rKrk-"
      }
    },
    {
      "cell_type": "code",
      "source": [
        "import sqlite3\n",
        "db = sqlite3.connect('books.db')\n",
        "cursor = db.cursor()\n",
        "cursor.execute(\"CREATE TABLE books (title text, author text, year int)\")\n",
        "db.commit()\n",
        "db.close()"
      ],
      "metadata": {
        "id": "BoYADp3WK8Qo"
      },
      "execution_count": 5,
      "outputs": []
    },
    {
      "cell_type": "markdown",
      "source": [
        "\n",
        "\n",
        "---\n",
        "\n"
      ],
      "metadata": {
        "id": "hG-FBG-JK-AD"
      }
    },
    {
      "cell_type": "markdown",
      "source": [
        "**Q. 5:** Read books.csv and insert its data into the book table.\n",
        "\n",
        "**Ans 5:** "
      ],
      "metadata": {
        "id": "frPQWrHEK_Ga"
      }
    },
    {
      "cell_type": "code",
      "source": [
        "import sqlite3\n",
        "import csv\n",
        "conn = sqlite3.connect(\"books.db\")\n",
        "cursor = conn.cursor()\n",
        "with open(\"books.csv\",\"r\") as file:\n",
        "    books = csv.DictReader(file)\n",
        "    for book in books:\n",
        "        cursor.execute(\"INSERT INTO books VALUES (?,?,?)\",(book['title'],book['author'],book['year']))\n",
        "conn.commit()\n",
        "conn.close()"
      ],
      "metadata": {
        "id": "YvWzmrsHLSC-"
      },
      "execution_count": 6,
      "outputs": []
    },
    {
      "cell_type": "markdown",
      "source": [
        "\n",
        "\n",
        "---\n",
        "\n"
      ],
      "metadata": {
        "id": "Aca_Ud9DLZsx"
      }
    },
    {
      "cell_type": "markdown",
      "source": [
        "**Q. 6:** Select and print the title column from the books table in alphabetical order.\n",
        "\n",
        "**Ans 6:** "
      ],
      "metadata": {
        "id": "Y9DViTTULbfh"
      }
    },
    {
      "cell_type": "code",
      "source": [
        "import sqlite3\n",
        "conn = sqlite3.connect('books.db')\n",
        "cursor = conn.cursor()\n",
        "output = cursor.execute(\"SELECT title FROM books ORDER BY title ASC\")\n",
        "for ele in output:\n",
        "    print(ele[0])\n",
        "conn.commit()\n",
        "conn.close()"
      ],
      "metadata": {
        "colab": {
          "base_uri": "https://localhost:8080/"
        },
        "id": "qwoZIl4GJ4sT",
        "outputId": "e595b6f6-fd87-4e95-b0f1-9ffca934ec7c"
      },
      "execution_count": 7,
      "outputs": [
        {
          "output_type": "stream",
          "name": "stdout",
          "text": [
            "Perdido Street Station\n",
            "Small Gods\n",
            "The Spellman Files\n",
            "The Weirdstone of Brisingamen\n",
            "Thud!\n"
          ]
        }
      ]
    },
    {
      "cell_type": "markdown",
      "source": [
        "\n",
        "\n",
        "---\n",
        "\n"
      ],
      "metadata": {
        "id": "jBvzCQfPL0qa"
      }
    },
    {
      "cell_type": "markdown",
      "source": [
        "**Q. 7:** From the books table, select and print all columns in the order of publication.\n",
        "\n",
        "**Ans 7:** "
      ],
      "metadata": {
        "id": "rpM7P_8GL2O_"
      }
    },
    {
      "cell_type": "code",
      "source": [
        "import sqlite3\n",
        "conn = sqlite3.connect('books.db')\n",
        "cursor = conn.cursor()\n",
        "ouput = cursor.execute(\"SELECT * FROM books ORDER BY year\")\n",
        "for record in ouput:\n",
        "    print(record)"
      ],
      "metadata": {
        "colab": {
          "base_uri": "https://localhost:8080/"
        },
        "id": "zamMEDHNLyiF",
        "outputId": "919ad07d-1261-48f1-a077-97d88cc106d8"
      },
      "execution_count": 8,
      "outputs": [
        {
          "output_type": "stream",
          "name": "stdout",
          "text": [
            "('The Weirdstone of Brisingamen', 'Alan Garner', 1960)\n",
            "('Small Gods', 'Terry Pratchett', 1992)\n",
            "('Perdido Street Station', 'China Miéville', 2000)\n",
            "('Thud!', 'Terry Pratchett', 2005)\n",
            "('The Spellman Files', 'Lisa Lutz', 2007)\n"
          ]
        }
      ]
    },
    {
      "cell_type": "markdown",
      "source": [
        "\n",
        "\n",
        "---\n",
        "\n"
      ],
      "metadata": {
        "id": "cVRxSm3rMOzu"
      }
    },
    {
      "cell_type": "markdown",
      "source": [
        "**Q. 8:** Use the sqlalchemy module to connect to the sqlite3 database books.db that you just made in exercise 6.\n",
        "\n",
        "**Ans 8:** "
      ],
      "metadata": {
        "id": "MFrDjLLUMQCr"
      }
    },
    {
      "cell_type": "code",
      "source": [
        "import sqlalchemy\n",
        "conn = sqlalchemy.create_engine('sqlite:///books.db')\n",
        "conn"
      ],
      "metadata": {
        "colab": {
          "base_uri": "https://localhost:8080/"
        },
        "id": "AmhKRpPRMf9w",
        "outputId": "53af422f-54d0-4e39-fea7-e33a65ae05f0"
      },
      "execution_count": 9,
      "outputs": [
        {
          "output_type": "execute_result",
          "data": {
            "text/plain": [
              "Engine(sqlite:///books.db)"
            ]
          },
          "metadata": {},
          "execution_count": 9
        }
      ]
    },
    {
      "cell_type": "markdown",
      "source": [
        "\n",
        "\n",
        "---\n",
        "\n"
      ],
      "metadata": {
        "id": "cDRvd5wyMrBD"
      }
    },
    {
      "cell_type": "markdown",
      "source": [
        "**Q. 9:** Install the Redis server and the Python redis library (pip install redis) on your computer. Create a Redis hash called test with the fields count (1) and name ('Fester Bestertester'). Print all the fields for test.\n",
        "\n",
        "**Ans 9:** "
      ],
      "metadata": {
        "id": "X2XJo4mRMsV6"
      }
    },
    {
      "cell_type": "code",
      "source": [
        "!pip install redis"
      ],
      "metadata": {
        "id": "gZa30FlGNSkW"
      },
      "execution_count": null,
      "outputs": []
    },
    {
      "cell_type": "code",
      "source": [
        "import redis\n",
        "conn = redis.Redis()\n",
        "conn.delete('test')\n",
        "conn.hmset('test', {'count': 1, 'name': 'Fester Bestertester'})\n",
        "conn.hgetall('test')"
      ],
      "metadata": {
        "id": "MCjIgDtyNg_C"
      },
      "execution_count": null,
      "outputs": []
    },
    {
      "cell_type": "markdown",
      "source": [
        "\n",
        "\n",
        "---\n",
        "\n"
      ],
      "metadata": {
        "id": "gvv1coAKNlUw"
      }
    },
    {
      "cell_type": "markdown",
      "source": [
        "**Q. 10:** Increment the count field of test and print it.\n",
        "\n",
        "**Ans 10:** "
      ],
      "metadata": {
        "id": "a-zVD3ooNm-w"
      }
    },
    {
      "cell_type": "code",
      "source": [
        "conn.hincrby('test','count', 3)"
      ],
      "metadata": {
        "id": "w4URNi0cODWA"
      },
      "execution_count": null,
      "outputs": []
    },
    {
      "cell_type": "markdown",
      "source": [
        "\n",
        "\n",
        "---\n",
        "\n"
      ],
      "metadata": {
        "id": "OBStqvO8OGnQ"
      }
    }
  ]
}