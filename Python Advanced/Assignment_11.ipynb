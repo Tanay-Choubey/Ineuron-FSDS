{
  "nbformat": 4,
  "nbformat_minor": 0,
  "metadata": {
    "colab": {
      "provenance": []
    },
    "kernelspec": {
      "name": "python3",
      "display_name": "Python 3"
    },
    "language_info": {
      "name": "python"
    }
  },
  "cells": [
    {
      "cell_type": "markdown",
      "source": [
        "# **Assignment 11**"
      ],
      "metadata": {
        "id": "9k__zTH-Yv-X"
      }
    },
    {
      "cell_type": "markdown",
      "source": [
        "**Q. 1:** What is the concept of a metaclass?\n",
        "\n",
        "**Ans 1:** Metaclass in Python is a class of a class that defines how a class behaves. A class is itself a instance of Metaclass, and any Instance of Class in Python is an Instance of type metaclass. E.g. Type of of int, str, float, list, tuple and many more is of metaclass type."
      ],
      "metadata": {
        "id": "pgw7fA9RY2HV"
      }
    },
    {
      "cell_type": "markdown",
      "source": [
        "\n",
        "\n",
        "---\n",
        "\n"
      ],
      "metadata": {
        "id": "-JPd3vzaZlvL"
      }
    },
    {
      "cell_type": "markdown",
      "source": [
        "**Q. 2:** What is the best way to declare a class's metaclass?\n",
        "\n",
        "**Ans 2:** A way to declare a class’ metaclass is by using metaclass keyword in class definition."
      ],
      "metadata": {
        "id": "KikbjRJ_ZmnM"
      }
    },
    {
      "cell_type": "code",
      "source": [
        "class meta(type):\n",
        "    pass\n",
        "class class_meta(metaclass=meta):\n",
        "    pass\n",
        "print(type(meta))\n",
        "print(type(class_meta))"
      ],
      "metadata": {
        "colab": {
          "base_uri": "https://localhost:8080/"
        },
        "id": "G9QHu00faAM2",
        "outputId": "a49578b7-88a8-426b-bd81-5a858cf69fe4"
      },
      "execution_count": 1,
      "outputs": [
        {
          "output_type": "stream",
          "name": "stdout",
          "text": [
            "<class 'type'>\n",
            "<class '__main__.meta'>\n"
          ]
        }
      ]
    },
    {
      "cell_type": "markdown",
      "source": [
        "\n",
        "\n",
        "---\n",
        "\n"
      ],
      "metadata": {
        "id": "eJ8F11R4aR0r"
      }
    },
    {
      "cell_type": "markdown",
      "source": [
        "**Q. 3:** How do class decorators overlap with metaclasses for handling classes?\n",
        "\n",
        "**Ans 3:** Both decorators and metaclass have some common things. When we want to apply some common functionality to attributes of the class instance, both can be used.There are some problems which can be solves by decorators as well as by metaclasses.But there are a few problems that can only be solved by metaclasses.Use of metaclass affects its children while the decorator affects only the current class."
      ],
      "metadata": {
        "id": "FnDkRc_HaSuw"
      }
    },
    {
      "cell_type": "markdown",
      "source": [
        "\n",
        "\n",
        "---\n",
        "\n"
      ],
      "metadata": {
        "id": "L5AaQmX0aqDV"
      }
    },
    {
      "cell_type": "markdown",
      "source": [
        "**Q. 4:** How do class decorators overlap with metaclasses for handling instances?\n",
        "\n",
        "**Ans 4:** Anything you can do with a class decorator, you can of course do with a custom metaclass (just apply the functionality of the \"decorator function\", i.e., the one that takes a class object and modifies it, in the course of the metaclass's __new__ or __init__ that make the class object!)."
      ],
      "metadata": {
        "id": "bpV1J2aUasXO"
      }
    },
    {
      "cell_type": "markdown",
      "source": [
        "\n",
        "\n",
        "---\n",
        "\n"
      ],
      "metadata": {
        "id": "NK2EFUwJbFwV"
      }
    }
  ]
}