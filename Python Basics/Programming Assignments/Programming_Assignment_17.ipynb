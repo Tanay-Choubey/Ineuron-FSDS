{
  "nbformat": 4,
  "nbformat_minor": 0,
  "metadata": {
    "colab": {
      "provenance": []
    },
    "kernelspec": {
      "name": "python3",
      "display_name": "Python 3"
    },
    "language_info": {
      "name": "python"
    }
  },
  "cells": [
    {
      "cell_type": "markdown",
      "source": [
        "# **Programming Assignment 17**"
      ],
      "metadata": {
        "id": "JnbjU-ScmLhu"
      }
    },
    {
      "cell_type": "markdown",
      "source": [
        "**Q. 1:** Create a function that takes three arguments a, b, c and returns the sum of the numbers that are evenly divided by c from the range a, b inclusive?\n",
        "\n",
        "*evenly_divisible(1, 10, 20) ➞ 0*\n",
        "- *No number between 1 and 10 can be evenly divided by 20.*\n",
        "\n",
        "*evenly_divisible(1, 10, 2) ➞ 30*\n",
        "- *2 + 4 + 6 + 8 + 10 = 30*\n",
        "\n",
        "*evenly_divisible(1, 10, 3) ➞ 18*\n",
        "- *3 + 6 + 9 = 18*\n",
        "\n",
        "**Ans 1:** "
      ],
      "metadata": {
        "id": "E0I6iK1Vmlk9"
      }
    },
    {
      "cell_type": "code",
      "source": [
        "def evenDivisible(a,b,c):\n",
        "    divList = []\n",
        "    for num in range(a,b+1):\n",
        "        if num%c == 0:\n",
        "            divList.append(num)\n",
        "    print(f'{a,b,c} ➞ {sum(divList)}')\n",
        "\n",
        "evenDivisible(1,10,20)\n",
        "evenDivisible(1,10,2)\n",
        "evenDivisible(1,10,3)"
      ],
      "metadata": {
        "colab": {
          "base_uri": "https://localhost:8080/"
        },
        "id": "WTGjAl7onSan",
        "outputId": "3c3e1bc3-1ee8-4d56-9c5e-a34dbe973562"
      },
      "execution_count": 1,
      "outputs": [
        {
          "output_type": "stream",
          "name": "stdout",
          "text": [
            "(1, 10, 20) ➞ 0\n",
            "(1, 10, 2) ➞ 30\n",
            "(1, 10, 3) ➞ 18\n"
          ]
        }
      ]
    },
    {
      "cell_type": "markdown",
      "source": [
        "\n",
        "\n",
        "---\n",
        "\n"
      ],
      "metadata": {
        "id": "ENZagLb6oeSN"
      }
    },
    {
      "cell_type": "markdown",
      "source": [
        "**Q. 2:** Create a function that returns True if a given inequality expression is correct and False otherwise.\n",
        "\n",
        "Examples:\n",
        "\n",
        "*correct_signs(\"3 < 7 < 11\") ➞ True*\n",
        "\n",
        "*correct_signs(\"13 > 44 > 33 > 1\") ➞ False*\n",
        "\n",
        "*correct_signs(\"1 < 2 < 6 < 9 > 3\") ➞ True*\n",
        "\n",
        "**Ans 2:** \n"
      ],
      "metadata": {
        "id": "HzJHGKDAoe8V"
      }
    },
    {
      "cell_type": "code",
      "source": [
        "def check_equality(s):\n",
        "    regrex = eval(s)\n",
        "    if regrex :\n",
        "        return True\n",
        "    else:\n",
        "        return False\n",
        "\n",
        "print(check_equality(\"3 < 7 < 11\"))\n",
        "print(check_equality(\"13 > 44 > 33 > 1\"))\n",
        "print(check_equality(\"1 < 2 < 6 < 9 > 3\"))"
      ],
      "metadata": {
        "colab": {
          "base_uri": "https://localhost:8080/"
        },
        "id": "njyAaXbcpJR1",
        "outputId": "a6e10db2-2b82-44f8-d0fb-fc51616675a1"
      },
      "execution_count": 2,
      "outputs": [
        {
          "output_type": "stream",
          "name": "stdout",
          "text": [
            "True\n",
            "False\n",
            "True\n"
          ]
        }
      ]
    },
    {
      "cell_type": "markdown",
      "source": [
        "\n",
        "\n",
        "---\n",
        "\n"
      ],
      "metadata": {
        "id": "w9sCx1e1pOs2"
      }
    },
    {
      "cell_type": "markdown",
      "source": [
        "**Q. 3:** Create a function that replaces all the vowels in a string with a specified character?\n",
        "\n",
        "Examples:\n",
        "\n",
        "replace_vowels(\"the aardvark\", \"#\") ➞ \"th# ##rdv#rk\"\n",
        "\n",
        "replace_vowels(\"minnie mouse\", \"?\") ➞ \"m?nn?? m??s?\"\n",
        "\n",
        "replace_vowels(\"shakespeare\", \"*\") ➞ \"shksp**r\"\n",
        "\n",
        "**Ans 3:** "
      ],
      "metadata": {
        "id": "96m--zpipPfV"
      }
    },
    {
      "cell_type": "code",
      "source": [
        "def replace_vowels(string, char):\n",
        "    \n",
        "    new_string = []\n",
        "    vowels = ['a', 'e', 'i', 'o', 'u']\n",
        "    \n",
        "    for c in list(string):\n",
        "        if c in vowels:\n",
        "            new_string.append(char)\n",
        "        else:\n",
        "            new_string.append(c)\n",
        "            \n",
        "    return \"\".join(new_string) \n",
        "\n",
        "\n",
        "print(replace_vowels('the aardvark', '#')) \n",
        "print(replace_vowels('minnie mouse', '?'))\n",
        "print(replace_vowels('shakespeare', '*'))"
      ],
      "metadata": {
        "colab": {
          "base_uri": "https://localhost:8080/"
        },
        "id": "Ib693us8pKYN",
        "outputId": "faca84a2-663c-4368-91c0-44de5c36e0a6"
      },
      "execution_count": 3,
      "outputs": [
        {
          "output_type": "stream",
          "name": "stdout",
          "text": [
            "th# ##rdv#rk\n",
            "m?nn?? m??s?\n",
            "sh*k*sp**r*\n"
          ]
        }
      ]
    },
    {
      "cell_type": "markdown",
      "source": [
        "\n",
        "\n",
        "---\n",
        "\n"
      ],
      "metadata": {
        "id": "jhXZGnkHp2IV"
      }
    },
    {
      "cell_type": "markdown",
      "source": [
        "**Q. 4:** Write a function that calculates the factorial of a number recursively?\n",
        "\n",
        "Examples:\n",
        "\n",
        "*factorial(5) ➞ 120*\n",
        "\n",
        "*factorial(3) ➞ 6*\n",
        "\n",
        "*factorial(1) ➞ 1*\n",
        "\n",
        "*factorial(0) ➞ 1*\n",
        "\n",
        "**Ans 4:** "
      ],
      "metadata": {
        "id": "39rFXuIKp2rG"
      }
    },
    {
      "cell_type": "code",
      "source": [
        "def factorial(n):\n",
        "    if n==0:\n",
        "        return 1\n",
        "    return n * factorial(n-1)\n",
        "\n",
        "print(f'factorial(5) ➞ {factorial(5)}')\n",
        "print(f'factorial(3) ➞ {factorial(3)}')\n",
        "print(f'factorial(1) ➞ {factorial(1)}')\n",
        "print(f'factorial(0) ➞ {factorial(0)}')"
      ],
      "metadata": {
        "colab": {
          "base_uri": "https://localhost:8080/"
        },
        "id": "DgzKaa0_qN3c",
        "outputId": "3eb5ff8a-bd32-4c0d-d047-1ad8b6e9a0ed"
      },
      "execution_count": 4,
      "outputs": [
        {
          "output_type": "stream",
          "name": "stdout",
          "text": [
            "factorial(5) ➞ 120\n",
            "factorial(3) ➞ 6\n",
            "factorial(1) ➞ 1\n",
            "factorial(0) ➞ 1\n"
          ]
        }
      ]
    },
    {
      "cell_type": "markdown",
      "source": [
        "\n",
        "\n",
        "---\n",
        "\n"
      ],
      "metadata": {
        "id": "Sd2hJ_U-qPt0"
      }
    },
    {
      "cell_type": "markdown",
      "source": [
        "**Q. 5:** Hamming distance is the number of characters that differ between two strings?\n",
        "\n",
        "To illustrate:\n",
        "\n",
        "String1: \"abcbba\"\n",
        "\n",
        "String2: \"abcbda\"\n",
        "\n",
        "Hamming Distance: 1 - \"b\" vs. \"d\" is the only difference.\n",
        "\n",
        "Create a function that computes the hamming distance between two strings.\n",
        "\n",
        "Examples:\n",
        "\n",
        "*hamming_distance(\"abcde\", \"bcdef\") ➞ 5*\n",
        "\n",
        "*hamming_distance(\"abcde\", \"abcde\") ➞ 0*\n",
        "\n",
        "*hamming_distance(\"strong\", \"strung\") ➞ 1*\n",
        "\n",
        "**Ans 5:** "
      ],
      "metadata": {
        "id": "rBpjd830qQXc"
      }
    },
    {
      "cell_type": "code",
      "source": [
        "def hamming_distance(str1, str2):\n",
        "    i = 0\n",
        "    count = 0\n",
        "    while(i < len(str1)):\n",
        "        if(str1[i] != str2[i]):\n",
        "            count += 1\n",
        "        i += 1\n",
        "    return count\n",
        " \n",
        "print(hamming_distance(\"abcde\", \"bcdef\"))\n",
        "print(hamming_distance('strong', 'strung'))\n",
        "print(hamming_distance('abcde', 'abcde'))"
      ],
      "metadata": {
        "colab": {
          "base_uri": "https://localhost:8080/"
        },
        "id": "crKeHSySqxQk",
        "outputId": "ea397cb3-9e52-44d5-eb65-01e3d58cff5d"
      },
      "execution_count": 5,
      "outputs": [
        {
          "output_type": "stream",
          "name": "stdout",
          "text": [
            "5\n",
            "1\n",
            "0\n"
          ]
        }
      ]
    },
    {
      "cell_type": "markdown",
      "source": [
        "\n",
        "\n",
        "---\n",
        "\n"
      ],
      "metadata": {
        "id": "iWvTW67Hq7s0"
      }
    }
  ]
}