{
  "nbformat": 4,
  "nbformat_minor": 0,
  "metadata": {
    "colab": {
      "provenance": []
    },
    "kernelspec": {
      "name": "python3",
      "display_name": "Python 3"
    },
    "language_info": {
      "name": "python"
    }
  },
  "cells": [
    {
      "cell_type": "markdown",
      "source": [
        "# **Assignment 07**"
      ],
      "metadata": {
        "id": "H3sRrHND3mad"
      }
    },
    {
      "cell_type": "markdown",
      "source": [
        "**Q. 1:** What is the definition of a target function ? In the sense of a real-life example, express the target function. How is a target function's fitness assessed?\n",
        "\n",
        "**Ans 1:** A target function, in machine learning, is a method for solving a problem that an AI algorithm parses its training data to find.The target function is essentially the formula that an algorithm feeds data to in order to calculate predictions.\n",
        "\n",
        "Analyzing the massive amounts of data related to its given problem, an AI derives understanding of previously unspecified rules by detecting consistencies in the data. The observations of inherent rules about how the studied subject operates inform the AI on how to process future data that does not include an output by applying this previously unknown function."
      ],
      "metadata": {
        "id": "DJ9zPnvs3psE"
      }
    },
    {
      "cell_type": "markdown",
      "source": [
        "\n",
        "\n",
        "---\n",
        "\n"
      ],
      "metadata": {
        "id": "DxnSKcM26dOj"
      }
    },
    {
      "cell_type": "markdown",
      "source": [
        "**Q. 2:** What are predictive models, and how do they work? What are descriptive types, and how do you use them? Examples of both types of models should be provided. Distinguish between these two forms of models.\n",
        "\n",
        "**Ans 2:** In short, predictive modeling is a statistical technique using machine learning and data mining to predict and forecast likely future outcomes with the aid of historical and existing data.\n",
        "\n",
        "It works by analyzing current and historical data and projecting what it learns on a model generated to forecast likely outcomes.\n",
        "\n",
        "The three main types of descriptive studies are Case studies, Naturalistic observation, and Surveys.\n",
        "\n",
        "Some examples of descriptive research are: A specialty food group launching a new range of barbecue rubs would like to understand what flavors of rubs are favored by different people.\n",
        "\n",
        "Case Studies are a type of observational research that involve a thorough descriptive analysis of a single individual, group, or event. There is no single way to conduct a case study so researchers use a range of methods from unstructured interviewing to direct observation."
      ],
      "metadata": {
        "id": "G9eDD_lC6d0b"
      }
    },
    {
      "cell_type": "markdown",
      "source": [
        "\n",
        "\n",
        "---\n",
        "\n"
      ],
      "metadata": {
        "id": "Ngn17p9S6xLL"
      }
    },
    {
      "cell_type": "markdown",
      "source": [
        "**Q. 3:**  Describe the method of assessing a classification model's efficiency in detail. Describe the various measurement parameters.\n",
        "\n",
        "**Ans 3:** Logarithmic loss (or log loss) measures the performance of a classification model where the prediction is a probability value between 0 and 1.\n",
        "\n",
        "Log loss increases as the predicted probability diverge from the actual label. Log loss is a widely used metric for Kaggle competitions. Input on the most important basics for the measurement of the physical parameters: Temperature, flow velocity, humidity, pressure, CO2 and infrared. Tips on correct measurement and for avoiding measurement errors."
      ],
      "metadata": {
        "id": "C4pMfxCu6ylb"
      }
    },
    {
      "cell_type": "markdown",
      "source": [
        "\n",
        "\n",
        "---\n",
        "\n"
      ],
      "metadata": {
        "id": "z82j3gds7ICi"
      }
    },
    {
      "cell_type": "markdown",
      "source": [
        "**Q. 4:** Describe :\n",
        "1. In the sense of machine learning models, what is underfitting? What is the most common reason for underfitting ?\n",
        "2. What does it mean to overfit? When is it going to happen?\n",
        "3. In the sense of model fitting, explain the bias-variance trade-off.\n",
        "\n",
        "**Ans 4:** The following is the short notes on:\n",
        "\n",
        "1. In the sense of machine learning models, what is underfitting? What is the most common reason for underfitting:\n",
        "\n",
        "Underfitting is a scenario in data science where a data model is unable to capture the relationship between the input and output variables accurately, generating a high error rate on both the training set and unseen data.\n",
        "\n",
        "2. What does it mean to overfit? When is it going to happen?\n",
        "\n",
        "Overfitting happens when a model learns the detail and noise in the training data to the extent that it negatively impacts the performance of the model on new data. This means that the noise or random fluctuations in the training data is picked up and learned as concepts by the model.\n",
        "\n",
        "3. In the sense of model fitting, explain the bias-variance trade-off.\n",
        "\n",
        "The bias is known as the difference between the prediction of the values by the ML model and the correct value. Being high in biasing gives a large error in training as well as testing data. By high bias, the data predicted is in a straight line format, thus not fitting accurately in the data in the data set."
      ],
      "metadata": {
        "id": "He7ecNyX7Ix7"
      }
    },
    {
      "cell_type": "markdown",
      "source": [
        "\n",
        "\n",
        "---\n",
        "\n"
      ],
      "metadata": {
        "id": "ME5cZfSu79Lz"
      }
    },
    {
      "cell_type": "markdown",
      "source": [
        "**Q. 5:** Is it possible to boost the efficiency of a learning model? If so, please clarify how?\n",
        "\n",
        "**Ans 5:** Building a machine learning model is not enough to get the right predictions, as you have to check the accuracy and need to validate the same to ensure get the precise results. And validating the model will improve the performance of the ML model. Some ways of boosting the efficiency of a learning model are mentioned below:\n",
        "\n",
        "1. Add more Data Samples\n",
        "\n",
        "2. Look at the problem differently: Looking at the problem from a new perspective can add valuable information to your model and help you uncover hidden relationships between the story variables. Asking different questions may lead to better results and, eventually, better accuracy.\n",
        "\n",
        "3. Adding Context to Data: More context can always lead to a better understanding of the problem and, eventually, better performance of the model. Imagine we are selling a car, a BMW. That alone doesn’t give us much information about the car. But, if we add the color, model and distance traveled, then you’ll start to have a better picture of the car and its possible value.\n",
        "\n",
        "4. Finetuning our hyperparameter: to get the answer, we will need to do some trial and error until you reach your answer.\n",
        "\n",
        "5. Train our model using cross-validation.\n",
        "\n",
        "6. Experimenting with different Algorithms."
      ],
      "metadata": {
        "id": "RYM4pAsr7_Xa"
      }
    },
    {
      "cell_type": "markdown",
      "source": [
        "\n",
        "\n",
        "---\n",
        "\n"
      ],
      "metadata": {
        "id": "mZDVJKQl8mta"
      }
    },
    {
      "cell_type": "markdown",
      "source": [
        "**Q. 6:** How would you rate an unsupervised learning model's success? What are the most common success indicators for an unsupervised learning model?\n",
        "\n",
        "**Ans 6:** In case of supervised learning,it is mostly done by measuring the performance metrics such as accuracy,precision, recall, AUC, etc. on the training set and the holdout sets.\n",
        "\n",
        "Few examples of such measures are:\n",
        "\n",
        "* Silhouette coefficient.\n",
        "\n",
        "* Calisnki-Harabasz coefficient.\n",
        "\n",
        "* Dunn index.\n",
        "\n",
        "* Xie-Beni score.\n",
        "\n",
        "* Hartigan index."
      ],
      "metadata": {
        "id": "OhyeRGxO8oEx"
      }
    },
    {
      "cell_type": "markdown",
      "source": [
        "\n",
        "\n",
        "---\n",
        "\n"
      ],
      "metadata": {
        "id": "QELMSS_P9JQi"
      }
    },
    {
      "cell_type": "markdown",
      "source": [
        "**Q. 7:** Is it possible to use a classification model for numerical data or a regression model for categorical data with a classification model? Explain your answer.\n",
        "\n",
        "**Ans 7:** Categorical Data is the data that generally takes a limited number of possible values. Also, the data in the category need not be numerical, it can be textual in nature. All machine learning models are some kind of mathematical model that need numbers to work with. This is one of the primary reasons we need to pre-process the categorical data before we can feed it to machine learning models.\n",
        "\n",
        "If a categorical target variable needs to be encoded for a classification predictive modeling problem, then the LabelEncoder class can be used."
      ],
      "metadata": {
        "id": "BSRTRNoT9J5a"
      }
    },
    {
      "cell_type": "markdown",
      "source": [
        "\n",
        "\n",
        "---\n",
        "\n"
      ],
      "metadata": {
        "id": "bYsx6C129SAi"
      }
    },
    {
      "cell_type": "markdown",
      "source": [
        "**Q. 8:** Describe the predictive modeling method for numerical values. What distinguishes it from categorical predictive modeling?\n",
        "\n",
        "**Ans 8:** Predictive modeling is a statistical technique using machine learning and data mining to predict and forecast likely future outcomes with the aid of historical and existing data. It works by analyzing current and historical data and projecting what it learns on a model generated to forecast likely outcomes.\n",
        "\n",
        "Classification is the process of identifying the category or class label of the new observation to which it belongs.Predication is the process of identifying the missing or unavailable numerical data for a new observation. That is the key difference between classification and prediction."
      ],
      "metadata": {
        "id": "XpG2Ehaz9SwK"
      }
    },
    {
      "cell_type": "markdown",
      "source": [
        "\n",
        "\n",
        "---\n",
        "\n"
      ],
      "metadata": {
        "id": "ir2YvnN_9hi6"
      }
    },
    {
      "cell_type": "markdown",
      "source": [
        "**Q. 9:** The following data were collected when using a classification model to predict the malignancy of a group of patients' tumors: \n",
        "\n",
        "i. Accurate estimates – 15 cancerous, 75 benign \n",
        "\n",
        "ii. Wrong predictions – 3 cancerous, 7 benign\n",
        "\n",
        "Determine the model's error rate, Kappa value, sensitivity, precision, and F-measure.\n",
        "\n",
        "**Ans 9:** \n",
        "\n",
        "- Error rate: The error rate is the proportion of incorrectly classified instances. error rate = (3+7)/(15+75+3+7) = 10/100 = 0.1 or 10%.\n",
        "\n",
        "- Kappa value: The Kappa value is a measure of agreement between the predictions of the model and the true values, taking into account the possibility of chance agreement. Kappa value = (observed agreement - expected agreement) / (1 - expected agreement). Kappa value = (78-66)/(100-66)=0.18\n",
        "\n",
        "- Sensitivity: Sensitivity, also known as true positive rate, is the proportion of actual positive instances that are correctly predicted as positive. sensitivity = 15/(15+3) = 0.83 or 83%.\n",
        "\n",
        "- Precision: Precision is the proportion of predicted positive instances that are actually positive. precision = 15/(15+7) = 0.68 or 68%.\n",
        "\n",
        "- F-measure: F-measure is the harmonic mean of precision and sensitivity. It is a measure of the balance between precision and sensitivity. F-measure = 2 * (precision * sensitivity) / (precision + sensitivity) F-measure = 2 * (0.68 * 0.83) / (0.68 + 0.83) = 0.75"
      ],
      "metadata": {
        "id": "D3aQkJCOBMux"
      }
    },
    {
      "cell_type": "markdown",
      "source": [
        "\n",
        "\n",
        "---\n",
        "\n"
      ],
      "metadata": {
        "id": "xjYaxarzBu-R"
      }
    },
    {
      "cell_type": "markdown",
      "source": [
        "**Q. 10:** Make quick notes on:\n",
        "1. The process of holding out\n",
        "2. Cross-validation by tenfold\n",
        "3. Adjusting the parameters\n",
        "\n",
        "**Ans 10:** The Quick notes on the following topics is below:\n",
        "\n",
        "1. The process of holding out: The hold-out method for training machine learning model is the process of splitting the data in different splits and using one split for training the model and other splits for validating and testing the models. The hold-out method is used for both model evaluation and model selection.\n",
        "\n",
        "2. Cross-validation by tenfold: 10-fold cross validation would perform the fitting procedure a total of ten times, with each fit being performed on a training set consisting of 90% of the total training set selected at random, with the remaining 10% used as a hold out set for validation.\n",
        "\n",
        "3. Adjusting the parameters: A fancy name for training the selection of parameter values, which are optimal in some desired sense (eg. minimize an objective function you choose over a dataset you choose). The parameters are the weights and biases of the network."
      ],
      "metadata": {
        "id": "ecfJZj7D9iLa"
      }
    },
    {
      "cell_type": "markdown",
      "source": [
        "\n",
        "\n",
        "---\n",
        "\n"
      ],
      "metadata": {
        "id": "kFkhe1QT-Lj5"
      }
    },
    {
      "cell_type": "markdown",
      "source": [
        "**Q. 11:** Define the following terms:\n",
        "1. Purity vs. Silhouette width\n",
        "2. Boosting vs. Bagging\n",
        "3. The eager learner vs. the lazy learner\n",
        "\n",
        "**Ans 11:** \n",
        "1. Purity vs. Silhouette width: Purity is a measure of how homogeneous the data points are within a cluster. Silhouette width is a measure of how well a sample has been assigned to its own cluster compared to other clusters.\n",
        "\n",
        "2. Boosting vs. Bagging: Boosting is a machine learning ensemble technique where weak learners are combined to form a single strong learner. Bagging is a machine learning ensemble technique where multiple models are trained on different random subsets of the training data and combined to make a prediction.\n",
        "\n",
        "3. The eager learner vs. the lazy learner: Eager learners are machine learning algorithms that learn from the training data immediately, before making predictions. Lazy learners are machine learning algorithms that delay the learning process until a prediction is requested, making the prediction based on the similarity of the new data point to the training data."
      ],
      "metadata": {
        "id": "GHtsROx1-MXB"
      }
    },
    {
      "cell_type": "markdown",
      "source": [
        "\n",
        "\n",
        "---\n",
        "\n"
      ],
      "metadata": {
        "id": "pqU4J4qbCD3A"
      }
    }
  ]
}