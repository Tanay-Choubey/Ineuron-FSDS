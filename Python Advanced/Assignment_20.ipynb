{
  "nbformat": 4,
  "nbformat_minor": 0,
  "metadata": {
    "colab": {
      "provenance": []
    },
    "kernelspec": {
      "name": "python3",
      "display_name": "Python 3"
    },
    "language_info": {
      "name": "python"
    }
  },
  "cells": [
    {
      "cell_type": "markdown",
      "source": [
        "# **Assignment 20**"
      ],
      "metadata": {
        "id": "w5-dS42q_Rgf"
      }
    },
    {
      "cell_type": "markdown",
      "source": [
        "**Q. 1:** Compare and contrast the float and Decimal classes' benefits and drawbacks.\n",
        "\n",
        "**Ans 1:** Both the float and decimal types store numerical values in Python.\n",
        "\n",
        "- Use floats when convenience and speed matter. A float gives you an approximation of the number you declare.\n",
        "\n",
        "- Use decimals when precision matters. Decimals can suffer from their own precision issues, but generally, decimals are more precise than floats.\n",
        "\n",
        "The performance difference between float and decimal, with Python 3, is not outlandish, and in my experience, the precision benefits of a decimal outweigh the performance benefits of a float."
      ],
      "metadata": {
        "id": "Qkc3lzMf_faV"
      }
    },
    {
      "cell_type": "markdown",
      "source": [
        "\n",
        "\n",
        "---\n",
        "\n"
      ],
      "metadata": {
        "id": "CC2-RJwHA3Cc"
      }
    },
    {
      "cell_type": "markdown",
      "source": [
        "**Q. 2:** Decimal(&#39;1.200&#39;) and Decimal(&#39;1.2&#39;) are two objects to consider. In what sense are these the same object? Are these just two ways of representing the exact same value, or do they correspond to different internal states?\n",
        "\n",
        "**Ans 2:** Both values are same but internal representation at storage Is different. Precsion differs, Decimal('1.200') gives internally 1.200 and Decimal('1.2') gives 1.2."
      ],
      "metadata": {
        "id": "zoKzUsIgA5JM"
      }
    },
    {
      "cell_type": "markdown",
      "source": [
        "\n",
        "\n",
        "---\n",
        "\n"
      ],
      "metadata": {
        "id": "xEVDO_w5BpYL"
      }
    },
    {
      "cell_type": "markdown",
      "source": [
        "**Q. 3:** What happens if the equality of Decimal('1.200') and Decimal('1.2') is checked?\n",
        "\n",
        "**Ans 3:** oth values are checked to be equal , they only differ in precision."
      ],
      "metadata": {
        "id": "oxUUULGSBqon"
      }
    },
    {
      "cell_type": "markdown",
      "source": [
        "\n",
        "\n",
        "---\n",
        "\n"
      ],
      "metadata": {
        "id": "Id1oVQUxCGod"
      }
    },
    {
      "cell_type": "markdown",
      "source": [
        "**Q. 4:** Why is it preferable to start a Decimal object with a string rather than a floating-point value?\n",
        "\n",
        "**Ans 4:** It is preferable to start a Decimal object with a string rather than a floating-point value because floating-point values are not always accurately represented in memory, which can lead to errors and inconsistencies when using them in calculations. Using a string to represent the value ensures that the Decimal object is created with the exact value specified."
      ],
      "metadata": {
        "id": "Q2qyU1w1CHkW"
      }
    },
    {
      "cell_type": "markdown",
      "source": [
        "\n",
        "\n",
        "---\n",
        "\n"
      ],
      "metadata": {
        "id": "duCz_lU1DJy6"
      }
    },
    {
      "cell_type": "markdown",
      "source": [
        "**Q. 5:** In an arithmetic phrase, how simple is it to combine Decimal objects with integers?\n",
        "\n",
        "**Ans 5:** We can do it with use of Decimal()."
      ],
      "metadata": {
        "id": "ttMaLlQWDLZS"
      }
    },
    {
      "cell_type": "markdown",
      "source": [
        "\n",
        "\n",
        "---\n",
        "\n"
      ],
      "metadata": {
        "id": "2_t-gW48Dyb1"
      }
    },
    {
      "cell_type": "markdown",
      "source": [
        "**Q. 6:** Can Decimal objects and floating-point values be combined easily?\n",
        "\n",
        "**Ans 6:** Arthmetic operator like Adding,Subtracting or multiplying a Decimal object by a floating-point value is generates an error.To do these operations,the floating points has to be converted to a Decimal object-for example ,converting from a floating-point value and then rounding.Else,arthmetic operations between the two types cause runtime errors."
      ],
      "metadata": {
        "id": "uUPJQIl9Dzc7"
      }
    },
    {
      "cell_type": "code",
      "source": [
        "import decimal\n",
        "from decimal import Decimal\n",
        "val=0.3\n",
        "b=Decimal(val)\n",
        "print(\"Multiplication: \",Decimal(\"0.2\")*b) #Multiplying a decimal object with value converted to decimal\n",
        "print(Decimal(\"0.2\")*val) #Error when Decimal object is multiplied by a float"
      ],
      "metadata": {
        "colab": {
          "base_uri": "https://localhost:8080/",
          "height": 217
        },
        "id": "mrZXz-LGERVZ",
        "outputId": "cf1786ac-864f-4dbe-c944-78e33edf9d64"
      },
      "execution_count": 1,
      "outputs": [
        {
          "output_type": "stream",
          "name": "stdout",
          "text": [
            "Multiplication:  0.05999999999999999777955395075\n"
          ]
        },
        {
          "output_type": "error",
          "ename": "TypeError",
          "evalue": "ignored",
          "traceback": [
            "\u001b[0;31m---------------------------------------------------------------------------\u001b[0m",
            "\u001b[0;31mTypeError\u001b[0m                                 Traceback (most recent call last)",
            "\u001b[0;32m<ipython-input-1-a2d057814e07>\u001b[0m in \u001b[0;36m<module>\u001b[0;34m\u001b[0m\n\u001b[1;32m      4\u001b[0m \u001b[0mb\u001b[0m\u001b[0;34m=\u001b[0m\u001b[0mDecimal\u001b[0m\u001b[0;34m(\u001b[0m\u001b[0mval\u001b[0m\u001b[0;34m)\u001b[0m\u001b[0;34m\u001b[0m\u001b[0;34m\u001b[0m\u001b[0m\n\u001b[1;32m      5\u001b[0m \u001b[0mprint\u001b[0m\u001b[0;34m(\u001b[0m\u001b[0;34m\"Multiplication: \"\u001b[0m\u001b[0;34m,\u001b[0m\u001b[0mDecimal\u001b[0m\u001b[0;34m(\u001b[0m\u001b[0;34m\"0.2\"\u001b[0m\u001b[0;34m)\u001b[0m\u001b[0;34m*\u001b[0m\u001b[0mb\u001b[0m\u001b[0;34m)\u001b[0m \u001b[0;31m#Multiplying a decimal object with value converted to decimal\u001b[0m\u001b[0;34m\u001b[0m\u001b[0;34m\u001b[0m\u001b[0m\n\u001b[0;32m----> 6\u001b[0;31m \u001b[0mprint\u001b[0m\u001b[0;34m(\u001b[0m\u001b[0mDecimal\u001b[0m\u001b[0;34m(\u001b[0m\u001b[0;34m\"0.2\"\u001b[0m\u001b[0;34m)\u001b[0m\u001b[0;34m*\u001b[0m\u001b[0mval\u001b[0m\u001b[0;34m)\u001b[0m \u001b[0;31m#Error when Decimal object is multiplied by a float\u001b[0m\u001b[0;34m\u001b[0m\u001b[0;34m\u001b[0m\u001b[0m\n\u001b[0m",
            "\u001b[0;31mTypeError\u001b[0m: unsupported operand type(s) for *: 'decimal.Decimal' and 'float'"
          ]
        }
      ]
    },
    {
      "cell_type": "markdown",
      "source": [
        "\n",
        "\n",
        "---\n",
        "\n"
      ],
      "metadata": {
        "id": "5Z7X1vsJEiNW"
      }
    },
    {
      "cell_type": "markdown",
      "source": [
        "**Q. 7:** Using the Fraction class but not the Decimal class, give an example of a quantity that can be expressed with absolute precision?\n",
        "\n",
        "**Ans 7:** Value of 0.5 will be represented as ½."
      ],
      "metadata": {
        "id": "6bUI_VyoEjHi"
      }
    },
    {
      "cell_type": "markdown",
      "source": [
        "\n",
        "\n",
        "---\n",
        "\n"
      ],
      "metadata": {
        "id": "I66HBWEOE0mb"
      }
    },
    {
      "cell_type": "markdown",
      "source": [
        "**Q. 8:** Describe a quantity that can be accurately expressed by the Decimal or Fraction classes but not by a floating-point value.\n",
        "\n",
        "**Ans 8:** One example of a quantity that can be accurately expressed by the Decimal or Fraction classes but not by a floating-point value is the value of pi to a large number of decimal places, such as 3.141592653589...\n",
        "\n",
        "Floating-point values are not able to accurately represent such a large number of decimal places, while the Decimal and Fraction classes can handle large precision values with ease."
      ],
      "metadata": {
        "id": "TWDb_obVHyZX"
      }
    },
    {
      "cell_type": "markdown",
      "source": [
        "\n",
        "\n",
        "---\n",
        "\n"
      ],
      "metadata": {
        "id": "U96bIAbGHy8D"
      }
    },
    {
      "cell_type": "markdown",
      "source": [
        "**Q. 9:** Consider the following two fraction objects: Fraction(1, 2) and Fraction(1, 2). (5, 10). Is the internal state of these two objects the same? Why do you think that is?\n",
        "\n",
        "**Ans 9:** Both will be reduced to 1/2."
      ],
      "metadata": {
        "id": "I4g0kPK7E1UH"
      }
    },
    {
      "cell_type": "markdown",
      "source": [
        "\n",
        "\n",
        "---\n",
        "\n"
      ],
      "metadata": {
        "id": "ckaEv01rGFrM"
      }
    },
    {
      "cell_type": "markdown",
      "source": [
        "**Q. 10:** How do the Fraction class and the integer type (int) relate to each other? Containment or inheritance?\n",
        "\n",
        "**Ans 10:** Fraction class and integer type(int) are related in form of a container. It contains two ints, one the numerator and the other the denominator."
      ],
      "metadata": {
        "id": "Aq0pfgAgGHAC"
      }
    },
    {
      "cell_type": "code",
      "source": [
        "from fractions import Fraction\n",
        "frac=Fraction(1,2)\n",
        "print(\"numerator is\",frac.numerator,type(frac.numerator))\n",
        "print(\"denominator is\",frac.denominator,type(frac.numerator))"
      ],
      "metadata": {
        "colab": {
          "base_uri": "https://localhost:8080/"
        },
        "id": "09msQuTSILZY",
        "outputId": "c2b17179-4961-4b0c-e800-54a8e5dea49e"
      },
      "execution_count": 2,
      "outputs": [
        {
          "output_type": "stream",
          "name": "stdout",
          "text": [
            "numerator is 1 <class 'int'>\n",
            "denominator is 2 <class 'int'>\n"
          ]
        }
      ]
    },
    {
      "cell_type": "markdown",
      "source": [
        "\n",
        "\n",
        "---\n",
        "\n"
      ],
      "metadata": {
        "id": "A9WT5ECSITA0"
      }
    }
  ]
}