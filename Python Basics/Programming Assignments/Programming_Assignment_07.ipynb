{
  "nbformat": 4,
  "nbformat_minor": 0,
  "metadata": {
    "colab": {
      "provenance": []
    },
    "kernelspec": {
      "name": "python3",
      "display_name": "Python 3"
    },
    "language_info": {
      "name": "python"
    }
  },
  "cells": [
    {
      "cell_type": "markdown",
      "source": [
        "# **Programming Assignment 7**"
      ],
      "metadata": {
        "id": "HOPAF980wive"
      }
    },
    {
      "cell_type": "markdown",
      "source": [
        "**Q. 1:** Write a Python Program to find sum of array?\n",
        "\n",
        "**Ans 1:** "
      ],
      "metadata": {
        "id": "H1QzxGFjwnQ9"
      }
    },
    {
      "cell_type": "code",
      "source": [
        "def sumOfArray():\n",
        "    in_arr = eval(input(\"Enter the Array: \"))\n",
        "    print(f'The sum of {in_arr} is {sum(in_arr)}')\n",
        "\n",
        "sumOfArray()"
      ],
      "metadata": {
        "colab": {
          "base_uri": "https://localhost:8080/"
        },
        "id": "eE3u6ZeN5gzv",
        "outputId": "7d4b255e-e7c6-4bc3-f7d5-83f869335e78"
      },
      "execution_count": 1,
      "outputs": [
        {
          "output_type": "stream",
          "name": "stdout",
          "text": [
            "Enter the Array: [1,2,3,4,5,6,7,8,9]\n",
            "The sum of [1, 2, 3, 4, 5, 6, 7, 8, 9] is 45\n"
          ]
        }
      ]
    },
    {
      "cell_type": "markdown",
      "source": [
        "\n",
        "\n",
        "---\n",
        "\n"
      ],
      "metadata": {
        "id": "DQ3HrDT32ktx"
      }
    },
    {
      "cell_type": "markdown",
      "source": [
        "**Q. 2:** Write a Python Program to find largest element in an array?\n",
        "\n",
        "**Ans 2:** "
      ],
      "metadata": {
        "id": "SeChKuV17kNQ"
      }
    },
    {
      "cell_type": "code",
      "execution_count": 2,
      "metadata": {
        "colab": {
          "base_uri": "https://localhost:8080/"
        },
        "id": "QmQKGMC0wf4w",
        "outputId": "147ca155-09a6-4f8c-a7a2-2e7641d8c07c"
      },
      "outputs": [
        {
          "output_type": "stream",
          "name": "stdout",
          "text": [
            "Enter the Array: [1,2,3,4,5,6,7,8,9]\n",
            "The Largest Element in [1, 2, 3, 4, 5, 6, 7, 8, 9] is 9\n"
          ]
        }
      ],
      "source": [
        "def largestElement():\n",
        "    in_arr = eval(input(\"Enter the Array: \"))\n",
        "    print(f\"The Largest Element in {in_arr} is {sorted(in_arr, reverse=True)[0]}\")\n",
        "    \n",
        "largestElement()"
      ]
    },
    {
      "cell_type": "markdown",
      "source": [
        "\n",
        "\n",
        "---\n",
        "\n"
      ],
      "metadata": {
        "id": "7QNBXoRi77BQ"
      }
    },
    {
      "cell_type": "markdown",
      "source": [
        "**Q. 3:** Write a Python Program for array rotation?\n",
        "\n",
        "**Ans 3:** "
      ],
      "metadata": {
        "id": "am_ml7Rf77qv"
      }
    },
    {
      "cell_type": "code",
      "source": [
        "def reverseOfArray():\n",
        "    in_arr = eval(input(\"Enter the Array: \"))\n",
        "    print(f\"The Reverse of Array {in_arr} is {in_arr[::-1]}\")\n",
        "    \n",
        "reverseOfArray()"
      ],
      "metadata": {
        "colab": {
          "base_uri": "https://localhost:8080/"
        },
        "id": "2GMD9-ov7yvq",
        "outputId": "05ccbc6d-8701-479c-c26e-d0422d815d1d"
      },
      "execution_count": 3,
      "outputs": [
        {
          "output_type": "stream",
          "name": "stdout",
          "text": [
            "Enter the Array: [1,2,3,4,5,6,7,8,9]\n",
            "The Reverse of Array [1, 2, 3, 4, 5, 6, 7, 8, 9] is [9, 8, 7, 6, 5, 4, 3, 2, 1]\n"
          ]
        }
      ]
    },
    {
      "cell_type": "markdown",
      "source": [
        "\n",
        "\n",
        "---\n",
        "\n"
      ],
      "metadata": {
        "id": "o7ysvR6R8bU_"
      }
    },
    {
      "cell_type": "markdown",
      "source": [
        "**Q. 4:** Write a Python Program to Split the array and add the first part to the end?\n",
        "\n",
        "**Ans 4:** "
      ],
      "metadata": {
        "id": "RQXH2fz_8cIP"
      }
    },
    {
      "cell_type": "code",
      "source": [
        "def sumOfSplits():\n",
        "    in_arr = eval(input(\"Enter the Array: \"))\n",
        "    print(f\"The Sum of First and Last Elements of Array {in_arr} is {in_arr[0]+in_arr[-1]}\")\n",
        "    \n",
        "sumOfSplits()"
      ],
      "metadata": {
        "colab": {
          "base_uri": "https://localhost:8080/"
        },
        "id": "EdkqhcXA8VuN",
        "outputId": "982d8673-a5ee-42af-fd02-08384833828c"
      },
      "execution_count": 4,
      "outputs": [
        {
          "output_type": "stream",
          "name": "stdout",
          "text": [
            "Enter the Array: [1,2,3,4,5,6,7,8,9]\n",
            "The Sum of First and Last Elements of Array [1, 2, 3, 4, 5, 6, 7, 8, 9] is 10\n"
          ]
        }
      ]
    },
    {
      "cell_type": "markdown",
      "source": [
        "\n",
        "\n",
        "---\n",
        "\n"
      ],
      "metadata": {
        "id": "vk7huyz_Akrv"
      }
    },
    {
      "cell_type": "markdown",
      "source": [
        "**Q. 5:** Write a Python Program to check if given array is Monotonic? \n",
        "\n",
        "**Ans 5:** "
      ],
      "metadata": {
        "id": "AMhjekoUAlW3"
      }
    },
    {
      "cell_type": "code",
      "source": [
        "def checkMonotonic():\n",
        "    in_arr = eval(input(\"Enter the Array: \"))\n",
        "    if(all(in_arr[i]<=in_arr[i+1] for i in range(len(in_arr)-1)) or all(in_arr[i]>=in_arr[i+1] for i in range(len(in_arr)-1))):\n",
        "        print(f'Array {in_arr} is Monotonic')\n",
        "    else:\n",
        "        print(f'Array {in_arr} is Not Monotonic')\n",
        "\n",
        "checkMonotonic()\n",
        "checkMonotonic()"
      ],
      "metadata": {
        "colab": {
          "base_uri": "https://localhost:8080/"
        },
        "id": "1aMJTTp4Ae83",
        "outputId": "f4921851-30e5-46ef-ca36-4c01c5d0733e"
      },
      "execution_count": 5,
      "outputs": [
        {
          "output_type": "stream",
          "name": "stdout",
          "text": [
            "Enter the Array: [1,2,3,4,5,6,7,8,9]\n",
            "Array [1, 2, 3, 4, 5, 6, 7, 8, 9] is Monotonic\n",
            "Enter the Array: [6,8,4,2,7,5,1,9,3]\n",
            "Array [6, 8, 4, 2, 7, 5, 1, 9, 3] is Not Monotonic\n"
          ]
        }
      ]
    },
    {
      "cell_type": "markdown",
      "source": [
        "\n",
        "\n",
        "---\n",
        "\n"
      ],
      "metadata": {
        "id": "P717I--UBlMf"
      }
    }
  ]
}