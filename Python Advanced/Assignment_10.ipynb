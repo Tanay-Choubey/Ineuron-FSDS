{
  "nbformat": 4,
  "nbformat_minor": 0,
  "metadata": {
    "colab": {
      "provenance": []
    },
    "kernelspec": {
      "name": "python3",
      "display_name": "Python 3"
    },
    "language_info": {
      "name": "python"
    }
  },
  "cells": [
    {
      "cell_type": "markdown",
      "source": [
        "# **Assignment 10**"
      ],
      "metadata": {
        "id": "HQOoxsOhTr1M"
      }
    },
    {
      "cell_type": "markdown",
      "source": [
        "**Q. 1:** What is the difference between __getattr__ and __getattribute__ ?\n",
        "\n",
        "**Ans 1:** getattr is called when an attribute is not found in the object's dictionary, while getattribute is called for every attribute access. getattr allows for lazy attribute loading, while getattribute can be used for attribute validation."
      ],
      "metadata": {
        "id": "qn1xwq0PTxfK"
      }
    },
    {
      "cell_type": "markdown",
      "source": [
        "\n",
        "\n",
        "---\n",
        "\n"
      ],
      "metadata": {
        "id": "kA6FgkLiV10q"
      }
    },
    {
      "cell_type": "markdown",
      "source": [
        "**Q. 2:** What is the difference between properties and descriptors?\n",
        "\n",
        "**Ans 2:** The differences between Properties and Descriptors is:\n",
        "\n",
        "- Properties: With Properties we can bind getter, setter and delete functions \n",
        "together with an attribute name, using the built-in property function or @property decorator. When we do this, each reference to an attribute looks like simple, direct access, but involes the appropriate function of the object.\n",
        "\n",
        "- Descriptor: With Descriptor we can bind getter, setter and delete functions into a seperate class. we then assign an object of this class to the attribute name in our main class. When we do this, each reference to an attribute looks like simple, direct access but invokes an appropriate function of descriptor object."
      ],
      "metadata": {
        "id": "CiLExu7OV2zr"
      }
    },
    {
      "cell_type": "markdown",
      "source": [
        "\n",
        "\n",
        "---\n",
        "\n"
      ],
      "metadata": {
        "id": "ugUMU5GDWnIB"
      }
    },
    {
      "cell_type": "markdown",
      "source": [
        "**Q. 3:** What are the key differences in functionality between __getattr__ and __getattribute__, as well as properties and descriptors?\n",
        "\n",
        "**Ans 3:** getattr is called when an attribute is not found in the object's dictionary, while getattribute is called for every attribute access. Properties are a way to define methods that are accessed like an attribute, while descriptors are objects that define the behavior for attribute access. Descriptors can be used to implement more complex behavior, such as properties with validation."
      ],
      "metadata": {
        "id": "xxoPCFIAWoEr"
      }
    },
    {
      "cell_type": "markdown",
      "source": [
        "\n",
        "\n",
        "---\n",
        "\n"
      ],
      "metadata": {
        "id": "Qd58qUH3XLE9"
      }
    }
  ]
}