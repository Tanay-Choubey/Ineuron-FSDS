{
  "nbformat": 4,
  "nbformat_minor": 0,
  "metadata": {
    "colab": {
      "provenance": []
    },
    "kernelspec": {
      "name": "python3",
      "display_name": "Python 3"
    },
    "language_info": {
      "name": "python"
    }
  },
  "cells": [
    {
      "cell_type": "markdown",
      "source": [
        "# **Assignment 03**"
      ],
      "metadata": {
        "id": "c5lsJM1C7sJt"
      }
    },
    {
      "cell_type": "markdown",
      "source": [
        "**Q. 1:** Explain the term machine learning, and how does it work? Explain two machine learning applications in the business world. What are some of the ethical concerns that machine learning applications could raise?\n",
        "\n",
        "**Ans 1:**  Machine Learning is a form of artificial intelligence (AI) that teaches computers to think in a similar way to how humans do: Learning and improving upon past experiences. It works by exploring data and identifying patterns, and involves minimal human intervention.\n",
        "\n",
        "There are various applications in Business World :\n",
        "\n",
        "- Real-time chatbot agents.\n",
        "- Decision support.\n",
        "- Customer recommendation engines.\n",
        "- Customer churn modeling.\n",
        "- Dynamic pricing tactics.\n",
        "- Market research and customer segmentation.\n",
        "- Fraud detection.\n",
        "\n",
        "Also there are some of the ethical concerns that ML applications could raise : AI presents three major areas of ethical concern for society: Privacy and surveillance, bias and discrimination, and perhaps the deepest, most difficult philosophical question of the era, the role of human judgment."
      ],
      "metadata": {
        "id": "2vRol9OU7xj1"
      }
    },
    {
      "cell_type": "markdown",
      "source": [
        "\n",
        "\n",
        "---\n",
        "\n"
      ],
      "metadata": {
        "id": "PIElOs8_-3Cd"
      }
    },
    {
      "cell_type": "markdown",
      "source": [
        "**Q. 2:** Describe the process of human learning?\n",
        "\n",
        "1. Under the supervision of experts.\n",
        "2. With the assistance of experts in an indirect manner.\n",
        "3. Self-education.\n",
        "\n",
        "**Ans 2:** \n",
        "\n",
        "1. Under the supervision of experts:- Human-guided machine learning is a process whereby subject matter experts accelerate the learning process by teaching the technology in real-time. For example, if the machine learning model comes across a piece of data it is uncertain about, a human can be asked to weigh in and give feedback.\n",
        "\n",
        "2. With the assistance of experts in an indirect manner:- Well The process of an algorithm learning from the training dataset can be thought of as a teacher supervising the learning process. We know the correct answers, the algorithm iteratively makes predictions on the training data and is corrected by the teacher.\n",
        "\n",
        "3. Self-education:-Ability to recognize patterns, learn from data, and become more intelligent over time (can be AI or programmatically based)."
      ],
      "metadata": {
        "id": "I5LZ6VeR-5UB"
      }
    },
    {
      "cell_type": "markdown",
      "source": [
        "\n",
        "\n",
        "---\n",
        "\n"
      ],
      "metadata": {
        "id": "r7LkcxMJ_2fF"
      }
    },
    {
      "cell_type": "markdown",
      "source": [
        "**Q. 3:**  Provide a few examples of various types of machine learning.\n",
        "\n",
        "**Ans 3:** Examples of Various types of Machine Learning techniques are:\n",
        "\n",
        "Example of Supervised Learning is text classification problems. In this set of problems, the goal is to predict the class label of a given piece of text. One particularly popular topic in text classification is to predict the sentiment of a piece of text, like a tweet or a product review,Image segmentation, Medical Diagnosis.\n",
        "\n",
        "Example of Unsupervised Learning : Fraud detection, Malware detection, Anomaly detection, Clustering Analysis, Identification of human errors during data entry Conducting accurate basket analysis, etc.\n",
        "\n",
        "Example of Reinforcement Learning : Applications in self-driving cars, Industry automation : learning-based robots are used to perform various tasks."
      ],
      "metadata": {
        "id": "FJxaJAmD_3dD"
      }
    },
    {
      "cell_type": "markdown",
      "source": [
        "\n",
        "\n",
        "---\n",
        "\n"
      ],
      "metadata": {
        "id": "TNHEZclZA2RE"
      }
    },
    {
      "cell_type": "markdown",
      "source": [
        "**Q. 4:** Examine the various forms of machine learning.\n",
        "\n",
        "**Ans 4:** There are three types of machine learning Techniques:\n",
        "\n",
        "1. Supervised learning.\n",
        "2. Unsupervised learning.\n",
        "3. Reinforcement Learning."
      ],
      "metadata": {
        "id": "6tiigFbTA3jn"
      }
    },
    {
      "cell_type": "markdown",
      "source": [
        "\n",
        "\n",
        "---\n",
        "\n"
      ],
      "metadata": {
        "id": "qGydWVe4Bf4g"
      }
    },
    {
      "cell_type": "markdown",
      "source": [
        "**Q. 5:** Can you explain what a well-posed learning problem is? Explain the main characteristics that must be present to identify a learning problem properly?\n",
        "\n",
        "**Ans 5:** A well-posed learning problem is an AI problem that has a clear definition and well-defined goals. The main characteristics of a well-posed learning problem are:\n",
        "\n",
        "- A clear definition of what the learning task is and what the desired outcome should be.\n",
        "- A set of well-defined input data and output targets.\n",
        "- A well-defined performance measure to evaluate the success of the learning algorithm.\n",
        "- A set of constraints or assumptions that define the solution space.\n",
        "- A set of assumptions about the data that will be used to train the model.\n",
        "- The ability to evaluate the performance of the algorithm on unseen data."
      ],
      "metadata": {
        "id": "5HKwPsfoBgzF"
      }
    },
    {
      "cell_type": "markdown",
      "source": [
        "\n",
        "\n",
        "---\n",
        "\n"
      ],
      "metadata": {
        "id": "Jh_LoO4SCQbd"
      }
    },
    {
      "cell_type": "markdown",
      "source": [
        "**Q. 6:** Is machine learning capable of solving all problems? Give a detailed explanation of your answer?\n",
        "\n",
        "**Ans 6:** Machine Learning probably can run into all problems for solving but lays down with some concerns which are:\n",
        "\n",
        "Ethics: The idea of trusting data and algorithms more than our own judgment has its pros and cons.Obviously, we benefit from these algorithms, otherwise, we wouldn’t be using them in the first place. These algorithms allow us to automate processes by making informed judgments using available data. Sometimes, however, this means replacing someone’s job with an algorithm, which comes with ethical ramifications.\n",
        "\n",
        "Deterministic Problem: Machine learning is stochastic, not deterministic. A neural network does not understand Newton’s second law, or that density cannot be negative — there are no physical constraints.\n",
        "\n",
        "Lack of Data: Many machine learning algorithms require large amounts of data before they begin to give useful results."
      ],
      "metadata": {
        "id": "Hj7LeRbtCRT9"
      }
    },
    {
      "cell_type": "markdown",
      "source": [
        "\n",
        "\n",
        "---\n",
        "\n"
      ],
      "metadata": {
        "id": "8jwT4aYtCyVG"
      }
    },
    {
      "cell_type": "markdown",
      "source": [
        "**Q. 7:** What are the various methods and technologies for solving machine learning problems? Any two of them should be defined in detail?\n",
        "\n",
        "**Ans 7:** The Various Technologies Used in Machine Learning Problems are: Scikit Learn, Pytorch, Tensorflow, Keras, Python.\n",
        "\n",
        "\n",
        "1. Scikit Learn:- Used for machine larning algorithm\n",
        "2. Tensorflow:- Used for deep learning algorihtm\n",
        "\n",
        "\n",
        "The Various Methods used in Machine Learning Problems are: \n",
        "\n",
        "Regression, Classification, Clustering, Dimensionality Reductio, Ensemble Methods, Neural Network, Deep Learning, Transfer Learning, Reinforcement Learning, Natural Language Processing, Word Embeddings."
      ],
      "metadata": {
        "id": "coP1yFo_Czha"
      }
    },
    {
      "cell_type": "markdown",
      "source": [
        "\n",
        "\n",
        "---\n",
        "\n"
      ],
      "metadata": {
        "id": "iFMBqwc-D_f7"
      }
    },
    {
      "cell_type": "markdown",
      "source": [
        "**Q. 8:** Can you explain the various forms of supervised learning? Explain each one with an example application?\n",
        "\n",
        "**Ans 8:** The various forms of supervised learning are explained in detail below:\n",
        "\n",
        "- Regression: In regression, a single output value is produced using training data.For example, regression can help predict the price of a house based on its locality, size, etc.\n",
        "\n",
        "- Classification: It involves grouping the data into classes.eg. If you are thinking of extending credit to a person, you can use classification to determine whether or not a person would be a loan defaulter.\n",
        "\n",
        "- Naive Bayesian Model: The Bayesian model of classification is used for large finite datasets. It is a method of assigning class labels using a direct acyclic graph.\n",
        "\n",
        "- Decision Trees: A decision tree is a flowchart-like model that contains conditional control statements, comprising decisions and their probable consequences. The output relates to the labelling of unforeseen data."
      ],
      "metadata": {
        "id": "UN7yvjGeEAka"
      }
    },
    {
      "cell_type": "markdown",
      "source": [
        "\n",
        "\n",
        "---\n",
        "\n"
      ],
      "metadata": {
        "id": "_OGef5K-EklO"
      }
    },
    {
      "cell_type": "markdown",
      "source": [
        "**Q. 9:** What is the difference between supervised and unsupervised learning? With a sample application in each region, explain the differences ?\n",
        "\n",
        "**Ans 9:** Supervised earning algorithms are trained using labeled data. Unsupervised learning algorithms are trained using unlabeled data.In unsupervised learning, only input data is provided to the model.\n",
        "\n",
        "\n",
        "Examples:\n",
        "\n",
        "- Supervised Learning : Classification and Regression.\n",
        "- Unsuperised Learning : Clustering."
      ],
      "metadata": {
        "id": "TM0ArMOaEmOc"
      }
    },
    {
      "cell_type": "markdown",
      "source": [
        "\n",
        "\n",
        "---\n",
        "\n"
      ],
      "metadata": {
        "id": "klhzM8fTFNdg"
      }
    },
    {
      "cell_type": "markdown",
      "source": [
        "**Q. 10:** Describe the machine learning process in depth.\n",
        "\n",
        "Make brief notes on any two of the following:\n",
        "\n",
        "1. MATLAB is one of the most widely used programming languages.\n",
        "2. Deep learning applications in healthcare\n",
        "3. Study of the market basket\n",
        "4. Linear regression (simple)\n",
        "\n",
        "**Ans 10:**  Imagine a dataset as a table, where the rows are each observation (aka measurement, data point, etc), and the columns for each observation represent the features of that observation and their values.At the outset of a machine learning project, a dataset is usually split into two or three subsets. The minimum subsets are the training and test datasets, and often an optional third validation dataset is created as well. Once these data subsets are created from the primary dataset, a predictive model or classifier is trained using the training data, and then the model’s predictive accuracy is determined using the test data. As, machine learning leverages algorithms to automatically model and find patternsin data, usually with the goal of predicting some target output or response. These algorithms are heavily based on statistics and mathematical optimization. \n",
        "\n",
        "1. MATLAB is a high-level programming language used for numerical computing and scientific computing. It is widely used for applications such as signal and image processing, control systems engineering, and financial modeling. It also includes a wide range of mathematical and engineering functions, making it an ideal platform for data analysis.\n",
        "\n",
        "2. Deep learning applications in healthcare are becoming increasingly popular. These applications can be used to diagnose diseases, predict patient outcomes, and personalize treatments. Deep learning models can also be used to detect anomalies in medical images, identify tumor markers, and extract meaningful information from medical records."
      ],
      "metadata": {
        "id": "kN1YOCKpFQTS"
      }
    },
    {
      "cell_type": "markdown",
      "source": [
        "\n",
        "\n",
        "---\n",
        "\n"
      ],
      "metadata": {
        "id": "8XoPgKoWGtle"
      }
    },
    {
      "cell_type": "markdown",
      "source": [
        "**Q. 11:**  Make a comparison between:-\n",
        "1. Generalization and abstraction\n",
        "2. Learning that is guided and unsupervised\n",
        "3. Regression and classification\n",
        "\n",
        "**Ans 11:** \n",
        "\n",
        "1. Generalization and abstraction: Abstraction is the process of removing details of objects. And Generalization, then, is the formulation of general concepts from specific instances by abstracting common properties. A concrete object can be looked at as a “subset” of a more generalized object.\n",
        "\n",
        "2. Learning that is guided and Unsupervised: Supervised learning is the method that trains machines to use data that is well classified and labeled. Whereas Unsupervised learning, on the other hand, is the method that trains machines to use data that is neither classified nor labeled.\n",
        "\n",
        "3. Regression and classification:\n",
        "\n",
        "- Classification Models – Classification models are used for problems where the output variable can be categorized, such as Yes or No, or Pass or Fail. Classification Models are used to predict the category of the data. Real-life examples include spam detection, sentiment analysis, scorecard prediction of exams, etc.\n",
        "\n",
        "- Regression Models – Regression models are used for problems where the output variable is a real value such as a unique number, dollars, salary, weight or pressure, for example. It is most often used to predict numerical values based on previous data observations. Some of the more familiar regression algorithms include linear regression, logistic regression, polynomial regression, and ridge regression."
      ],
      "metadata": {
        "id": "fXZgxE6HGuex"
      }
    },
    {
      "cell_type": "markdown",
      "source": [
        "\n",
        "\n",
        "---\n",
        "\n"
      ],
      "metadata": {
        "id": "JZXjlaFYHaby"
      }
    }
  ]
}