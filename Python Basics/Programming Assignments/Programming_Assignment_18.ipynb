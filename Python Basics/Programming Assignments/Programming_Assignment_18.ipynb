{
  "nbformat": 4,
  "nbformat_minor": 0,
  "metadata": {
    "colab": {
      "provenance": []
    },
    "kernelspec": {
      "name": "python3",
      "display_name": "Python 3"
    },
    "language_info": {
      "name": "python"
    }
  },
  "cells": [
    {
      "cell_type": "markdown",
      "source": [
        "# **Programming Assignment 18**"
      ],
      "metadata": {
        "id": "uXzpavdotQe9"
      }
    },
    {
      "cell_type": "markdown",
      "source": [
        "**Q. 1:** Create a function that takes a list of non-negative integers and strings and return a new list without the strings.\n",
        "\n",
        "Examples:\n",
        "\n",
        "filter_list([1, 2, \"a\", \"b\"]) ➞ [1, 2]\n",
        "\n",
        "filter_list([1, \"a\", \"b\", 0, 15]) ➞ [1, 0, 15]\n",
        "\n",
        "filter_list([1, 2, \"aasf\", \"1\", \"123\", 123]) ➞ [1, 2, 123]\n",
        "\n",
        "**Ans 1:** "
      ],
      "metadata": {
        "id": "0-W-aQW2tYPW"
      }
    },
    {
      "cell_type": "code",
      "source": [
        "def filter_list(list):\n",
        "    out_list = []\n",
        "    for i in list:\n",
        "        if type(i) == int and i >= 0:\n",
        "            out_list.append(i)\n",
        "    return out_list\n",
        "\n",
        "print(f'{filter_list([1, 2, \"a\", \"b\"])}')\n",
        "print(f'{filter_list([1, \"a\", \"b\", 0, 15])}')\n",
        "print(f'{filter_list([1, 2, \"aasf\", \"1\", \"123\", 123])}')"
      ],
      "metadata": {
        "colab": {
          "base_uri": "https://localhost:8080/"
        },
        "id": "9vgWlOu91GQ4",
        "outputId": "613cfbad-8d9c-4eca-eebe-2202325cf721"
      },
      "execution_count": 1,
      "outputs": [
        {
          "output_type": "stream",
          "name": "stdout",
          "text": [
            "[1, 2]\n",
            "[1, 0, 15]\n",
            "[1, 2, 123]\n"
          ]
        }
      ]
    },
    {
      "cell_type": "markdown",
      "source": [
        "\n",
        "\n",
        "---\n",
        "\n"
      ],
      "metadata": {
        "id": "3jaHEeVB1Ikh"
      }
    },
    {
      "cell_type": "markdown",
      "source": [
        "**Q. 2:** The \"Reverser\" takes a string as input and returns that string in reverse order, with the opposite case?\n",
        "\n",
        "Examples:\n",
        "\n",
        "reverse(\"Hello World\") ➞ \"DLROw OLLEh\"\n",
        "\n",
        "reverse(\"ReVeRsE\") ➞ \"eSrEvEr\"\n",
        "\n",
        "reverse(\"Radar\") ➞ \"RADAr\"\n",
        "\n",
        "**Ans 2:** "
      ],
      "metadata": {
        "id": "voqqiep21Jpo"
      }
    },
    {
      "cell_type": "code",
      "source": [
        "def reverse(in_string):\n",
        "    print(f'{in_string} ➞ {in_string[::-1].swapcase()}')\n",
        "    \n",
        "reverse('Hello World')\n",
        "reverse(\"ReVeRsE\")\n",
        "reverse(\"Radar\")"
      ],
      "metadata": {
        "colab": {
          "base_uri": "https://localhost:8080/"
        },
        "id": "kN_O1t-g2Zew",
        "outputId": "c6e68198-7d65-4953-ecff-49ff7145b2f7"
      },
      "execution_count": 2,
      "outputs": [
        {
          "output_type": "stream",
          "name": "stdout",
          "text": [
            "Hello World ➞ DLROw OLLEh\n",
            "ReVeRsE ➞ eSrEvEr\n",
            "Radar ➞ RADAr\n"
          ]
        }
      ]
    },
    {
      "cell_type": "markdown",
      "source": [
        "\n",
        "\n",
        "---\n",
        "\n"
      ],
      "metadata": {
        "id": "1iHnSqlZ2ba4"
      }
    },
    {
      "cell_type": "markdown",
      "source": [
        "**Q. 3:** You can assign variables from lists like this:\n",
        "\n",
        "lst = [1, 2, 3, 4, 5, 6] \n",
        "\n",
        "first = lst[0] \n",
        "\n",
        "middle = lst[1:-1] \n",
        "\n",
        "last = lst[-1]\n",
        "\n",
        "print(first) ➞ outputs 1 \n",
        "\n",
        "print(middle) ➞ outputs [2, 3, 4, 5] \n",
        "\n",
        "print(last) ➞ outputs 6\n",
        "\n",
        "With Python 3, you can assign variables from lists in a much more succinct way. Create variables first, middle and last from the given list using destructuring assignment (check the Resources tab for some examples), where:\n",
        "\n",
        "first ➞ 1 \n",
        "\n",
        "middle ➞ [2, 3, 4, 5] \n",
        "\n",
        "last ➞ 6\n",
        "\n",
        "Your task is to unpack the list writeyourcodehere into three variables, being first, middle, and last, with middle being everything in between the first and last element. Then print all three variables.\n",
        "\n",
        "**Ans 3:** "
      ],
      "metadata": {
        "id": "9YGVpiPc2gUY"
      }
    },
    {
      "cell_type": "code",
      "source": [
        "first, *middle, last = [1,2,3,4,5,6]\n",
        "print(f'first ➞ {first}')\n",
        "print(f'middle ➞ {middle}')\n",
        "print(f'last ➞ {last}')"
      ],
      "metadata": {
        "colab": {
          "base_uri": "https://localhost:8080/"
        },
        "id": "UADRB_dN7jCW",
        "outputId": "5e5b2c9d-dbd3-4d17-8325-b3f33f640b1b"
      },
      "execution_count": 3,
      "outputs": [
        {
          "output_type": "stream",
          "name": "stdout",
          "text": [
            "first ➞ 1\n",
            "middle ➞ [2, 3, 4, 5]\n",
            "last ➞ 6\n"
          ]
        }
      ]
    },
    {
      "cell_type": "markdown",
      "source": [
        "\n",
        "\n",
        "---\n",
        "\n"
      ],
      "metadata": {
        "id": "AoFB2YPK7mA2"
      }
    },
    {
      "cell_type": "markdown",
      "source": [
        "**Q. 4:** Write a function that calculates the factorial of a number recursively.\n",
        "\n",
        "Examples: \n",
        "\n",
        "*factorial(5) ➞ 120*\n",
        "\n",
        "*factorial(3) ➞ 6*\n",
        "\n",
        "*factorial(1) ➞ 1*\n",
        "\n",
        "*factorial(0) ➞ 1*\n",
        "\n",
        "**Ans 4:** "
      ],
      "metadata": {
        "id": "5NZHYhPD7mtG"
      }
    },
    {
      "cell_type": "code",
      "source": [
        "def factorial(n):\n",
        "    if n==0:\n",
        "        return 1\n",
        "    return n * factorial(n-1)\n",
        "\n",
        "print(f'factorial(5) ➞ {factorial(5)}')\n",
        "print(f'factorial(3) ➞ {factorial(3)}')\n",
        "print(f'factorial(1) ➞ {factorial(1)}')\n",
        "print(f'factorial(0) ➞ {factorial(0)}')"
      ],
      "metadata": {
        "colab": {
          "base_uri": "https://localhost:8080/"
        },
        "id": "a-d5LP3d8NBv",
        "outputId": "46d2196d-1b6c-4560-aa65-045f9ee2473a"
      },
      "execution_count": 4,
      "outputs": [
        {
          "output_type": "stream",
          "name": "stdout",
          "text": [
            "factorial(5) ➞ 120\n",
            "factorial(3) ➞ 6\n",
            "factorial(1) ➞ 1\n",
            "factorial(0) ➞ 1\n"
          ]
        }
      ]
    },
    {
      "cell_type": "markdown",
      "source": [
        "\n",
        "\n",
        "---\n",
        "\n"
      ],
      "metadata": {
        "id": "CQv34-Wq8TVG"
      }
    },
    {
      "cell_type": "markdown",
      "source": [
        "**Q. 5:** Write a function that moves all elements of one type to the end of the list.\n",
        "\n",
        "Examples: \n",
        "\n",
        "move_to_end([1, 3, 2, 4, 4, 1], 1) ➞ [3, 2, 4, 4, 1, 1]\n",
        "\n",
        "*Move all the 1s to the end of the array.*\n",
        "\n",
        "move_to_end([7, 8, 9, 1, 2, 3, 4], 9) ➞ [7, 8, 1, 2, 3, 4, 9]\n",
        "\n",
        "move_to_end([\"a\", \"a\", \"a\", \"b\"], \"a\") ➞ [\"b\", \"a\", \"a\", \"a\"]\n",
        "\n",
        "**Ans 5:** "
      ],
      "metadata": {
        "id": "ysQ-CqwJ8T5-"
      }
    },
    {
      "cell_type": "code",
      "source": [
        "def move_to_end(list,num):\n",
        "    first_end = []\n",
        "    second_end = []\n",
        "    for ele in list:\n",
        "        if ele == num:\n",
        "            second_end.append(ele)\n",
        "        else:\n",
        "            first_end.append(ele)\n",
        "    first_end.extend(second_end)\n",
        "    return first_end\n",
        "    \n",
        "print(f'move_to_end([1, 3, 2, 4, 4, 1], 1) ➞ {move_to_end([1, 3, 2, 4, 4, 1], 1)}')\n",
        "print(f'move_to_end([7, 8, 9, 1, 2, 3, 4], 9) ➞ {move_to_end([7, 8, 9, 1, 2, 3, 4], 9)}')\n",
        "print(f'move_to_end([\"a\", \"a\", \"a\", \"b\"], \"a\") ➞ {move_to_end([\"a\", \"a\", \"a\", \"b\"], \"a\")}')"
      ],
      "metadata": {
        "colab": {
          "base_uri": "https://localhost:8080/"
        },
        "id": "AZ9D1Kno8O3m",
        "outputId": "9591bbd4-cc0d-4656-8bf8-17592534112f"
      },
      "execution_count": 5,
      "outputs": [
        {
          "output_type": "stream",
          "name": "stdout",
          "text": [
            "move_to_end([1, 3, 2, 4, 4, 1], 1) ➞ [3, 2, 4, 4, 1, 1]\n",
            "move_to_end([7, 8, 9, 1, 2, 3, 4], 9) ➞ [7, 8, 1, 2, 3, 4, 9]\n",
            "move_to_end([\"a\", \"a\", \"a\", \"b\"], \"a\") ➞ ['b', 'a', 'a', 'a']\n"
          ]
        }
      ]
    },
    {
      "cell_type": "markdown",
      "source": [
        "\n",
        "\n",
        "---\n",
        "\n"
      ],
      "metadata": {
        "id": "BhQolrpH8-aP"
      }
    }
  ]
}