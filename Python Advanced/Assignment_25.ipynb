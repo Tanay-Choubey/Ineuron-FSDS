{
  "nbformat": 4,
  "nbformat_minor": 0,
  "metadata": {
    "colab": {
      "provenance": []
    },
    "kernelspec": {
      "name": "python3",
      "display_name": "Python 3"
    },
    "language_info": {
      "name": "python"
    }
  },
  "cells": [
    {
      "cell_type": "markdown",
      "source": [
        "# **Assignment 25**"
      ],
      "metadata": {
        "id": "VrHA7qXkdD_k"
      }
    },
    {
      "cell_type": "markdown",
      "source": [
        "**Q. 1:** What is the distinction between a numpy array and a pandas data frame? Is there a way to convert between the two if there is?\n",
        "\n",
        "**Ans 1:** Numpy Ndarray provides a lot of convenient and optimized methods for performing several mathematical operations on vectors.\n",
        "\n",
        "Pandas Dataframe is an in-memory 2-dimensional tabular representation of data. In simpler words, it can be seen as a spreadsheet having rows and columns.\n",
        "\n",
        "Conversion : Dataframe = pandas.DataFrame(array)."
      ],
      "metadata": {
        "id": "xuYbE-Y2dOdY"
      }
    },
    {
      "cell_type": "markdown",
      "source": [
        "\n",
        "\n",
        "---\n",
        "\n"
      ],
      "metadata": {
        "id": "0urdPg3dip7N"
      }
    },
    {
      "cell_type": "markdown",
      "source": [
        "**Q. 2:** What can go wrong when an user enters in a stock-ticker symbol, and how do you handle it?\n",
        "\n",
        "**Ans 2:** There are several things that can go wrong when a user enters a stock ticker symbol:\n",
        "\n",
        "1. The user may enter an invalid ticker symbol.\n",
        "\n",
        "2. The user may enter a ticker symbol that is not traded on the specific exchange or market you are using.\n",
        "\n",
        "3. The user may enter a ticker symbol that is not currently available for trading.\n",
        "\n",
        "To handle these situations, you can implement error checking and validation routines that verify the symbol entered by the user against a list of valid symbols or against a database of publicly traded companies. You can also use financial APIs to check the real-time status of the symbol, such as if the stock is halted or delisted."
      ],
      "metadata": {
        "id": "Efszhc8Hir84"
      }
    },
    {
      "cell_type": "markdown",
      "source": [
        "\n",
        "\n",
        "---\n",
        "\n"
      ],
      "metadata": {
        "id": "ZuN1faxaH8Q_"
      }
    },
    {
      "cell_type": "markdown",
      "source": [
        "**Q. 3:** Identify some of the plotting techniques that are used to produce a stock-market chart.\n",
        "\n",
        "**Ans 3:** Bar chart, Line Chart, Candlestick chart (using mplfinance module) are used for plotting stock market chart."
      ],
      "metadata": {
        "id": "AH5cTCPVH9Dg"
      }
    },
    {
      "cell_type": "markdown",
      "source": [
        "\n",
        "\n",
        "---\n",
        "\n"
      ],
      "metadata": {
        "id": "-eL7NKGhIfd9"
      }
    },
    {
      "cell_type": "markdown",
      "source": [
        "**Q. 4:** Why is it essential to print a legend on a stock market chart?\n",
        "\n",
        "**Ans 4:** Legend will help us in comparing different stocks in a stock market chart. Each plot of a Stock chart has a legend, its items representing the series on the plot."
      ],
      "metadata": {
        "id": "-4XG7kFfIgi-"
      }
    },
    {
      "cell_type": "markdown",
      "source": [
        "\n",
        "\n",
        "---\n",
        "\n"
      ],
      "metadata": {
        "id": "BO9VmHzII1Mb"
      }
    },
    {
      "cell_type": "markdown",
      "source": [
        "**Q. 5:** What is the best way to limit the length of a pandas data frame to less than a year?\n",
        "\n",
        "**Ans 5:** We can use start and end parameters for that. In start we write the date from where we are starting and at the end we write the end date. SO within this span we can restric the duration.Also we can use the parameters like periods for how much times we need the duration and we can also use the frequency parameter."
      ],
      "metadata": {
        "id": "vDePX9xlI2Ag"
      }
    },
    {
      "cell_type": "markdown",
      "source": [
        "\n",
        "\n",
        "---\n",
        "\n"
      ],
      "metadata": {
        "id": "161XagrdJUGm"
      }
    },
    {
      "cell_type": "markdown",
      "source": [
        "**Q. 6:** What is the definition of a 180-day moving average?\n",
        "\n",
        "**Ans 6:** The 180-day moving average is represented as a line on charts and represents the average price over the past 180 days. The moving average can give traders a sense regarding whether the trend is up or down, while also identifying potential support or resistance areas. A moving average (MA) is a stock indicator that is commonly used in technical analysis. The reason for calculating the moving average of a stock is to help smooth out the price data over a specified period of time by creating a constantly updated average price. A simple moving average (SMA) is a calculation that takes the arithmetic mean of a given set of prices over the specific number of days in the past; for example, in this case over 180 days."
      ],
      "metadata": {
        "id": "Q9cAVqssJU9m"
      }
    },
    {
      "cell_type": "markdown",
      "source": [
        "\n",
        "\n",
        "---\n",
        "\n"
      ],
      "metadata": {
        "id": "cB7KOiE8JuEM"
      }
    },
    {
      "cell_type": "markdown",
      "source": [
        "**Q. 7:** Did the chapter's final example use \"indirect\" importing? If so, how exactly do you do it?\n",
        "\n",
        "**Q. 7:** Indirect importing refers to the way of importing a module from a different directory or package, rather than importing it directly from the current directory or package. It is done by providing the full path to the module to be imported.\n",
        "\n",
        "If you want to import a module that is located in a different package or directory, you can use the 'from' keyword and provide the full path to the module"
      ],
      "metadata": {
        "id": "LHeND51mJu1J"
      }
    },
    {
      "cell_type": "markdown",
      "source": [
        "\n",
        "\n",
        "---\n",
        "\n"
      ],
      "metadata": {
        "id": "B8jajBDEVHfE"
      }
    }
  ]
}