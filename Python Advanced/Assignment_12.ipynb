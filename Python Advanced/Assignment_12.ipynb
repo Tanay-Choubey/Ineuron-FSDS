{
  "nbformat": 4,
  "nbformat_minor": 0,
  "metadata": {
    "colab": {
      "provenance": []
    },
    "kernelspec": {
      "name": "python3",
      "display_name": "Python 3"
    },
    "language_info": {
      "name": "python"
    }
  },
  "cells": [
    {
      "cell_type": "markdown",
      "source": [
        "# **Assignment 12**"
      ],
      "metadata": {
        "id": "F4IO21-Un0M_"
      }
    },
    {
      "cell_type": "markdown",
      "source": [
        "**Q. 1:** Does assigning a value to a string's indexed character violate Python's string immutability?\n",
        "\n",
        "**Ans 1:** String’s indexed character cannot to be assigned a New value , as Strings are immutable."
      ],
      "metadata": {
        "id": "E9pa42lKn6Oq"
      }
    },
    {
      "cell_type": "markdown",
      "source": [
        "\n",
        "\n",
        "---\n",
        "\n"
      ],
      "metadata": {
        "id": "U-qMLMjopN_q"
      }
    },
    {
      "cell_type": "markdown",
      "source": [
        "**Q. 2:** Does using the += operator to concatenate strings violate Python's string immutability? Why or why not?\n",
        "\n",
        "**Ans 2:** No, using the += operator to concatenate strings does not violate Python's string immutability. The += operator creates a new string by combining the original string with the added string, rather than modifying the original string. The original string remains unchanged and is not modified."
      ],
      "metadata": {
        "id": "O_ba-GT5pPsh"
      }
    },
    {
      "cell_type": "markdown",
      "source": [
        "\n",
        "\n",
        "---\n",
        "\n"
      ],
      "metadata": {
        "id": "IrXA4fk9pl8z"
      }
    },
    {
      "cell_type": "markdown",
      "source": [
        "**Q. 3:** In Python, how many different ways are there to index a character?\n",
        "\n",
        "**Ans 3:** In Python, there are two ways to index a character in a string: using positive indices and using negative indices:\n",
        "\n",
        "- Positive indices start at 0 and count up from the left side of the string. \n",
        "\n",
        "- Negative indices start at -1 and count down from the right side of the string.\n",
        "\n",
        "Both positive and negative indices can be used to access individual characters in a string."
      ],
      "metadata": {
        "id": "sE-7HyYapm_N"
      }
    },
    {
      "cell_type": "markdown",
      "source": [
        "\n",
        "\n",
        "---\n",
        "\n"
      ],
      "metadata": {
        "id": "PGb8tGRxqtPj"
      }
    },
    {
      "cell_type": "markdown",
      "source": [
        "**Q. 4:** What is the relationship between indexing and slicing?\n",
        "\n",
        "**Ans 4:** We can access elements of sequence datatypes by using slicing and indexing. Indexing is used to obtaining individual element while slicing for sequence of elements."
      ],
      "metadata": {
        "id": "uPyXy6RwqvLR"
      }
    },
    {
      "cell_type": "code",
      "source": [
        "in_string = \"iNeuron Full Stack Data Science\"\n",
        "print(in_string[1],in_string[3],in_string[5]) # Indexing\n",
        "print(in_string[1:15]) # Slicing"
      ],
      "metadata": {
        "colab": {
          "base_uri": "https://localhost:8080/"
        },
        "id": "uCyNwhGmrBk7",
        "outputId": "7dfc2554-01f5-482d-fe6a-f08d72a99c75"
      },
      "execution_count": 1,
      "outputs": [
        {
          "output_type": "stream",
          "name": "stdout",
          "text": [
            "N u o\n",
            "Neuron Full St\n"
          ]
        }
      ]
    },
    {
      "cell_type": "markdown",
      "source": [
        "\n",
        "\n",
        "---\n",
        "\n"
      ],
      "metadata": {
        "id": "F1X_7oKsrMhQ"
      }
    },
    {
      "cell_type": "markdown",
      "source": [
        "**Q. 5:** What is an indexed character's exact data type? What is the data form of a slicing-generated substring?\n",
        "\n",
        "**Ans 5:** Indexed characters and sliced substrings have datatype String."
      ],
      "metadata": {
        "id": "VBD-T4McrNvp"
      }
    },
    {
      "cell_type": "code",
      "source": [
        "in_string = \"iNeuron Full Stack Data Science\"\n",
        "print(type(in_string[3])) # Indexing -> str\n",
        "print(type(in_string[1:10])) # Indexing -> str"
      ],
      "metadata": {
        "colab": {
          "base_uri": "https://localhost:8080/"
        },
        "id": "C6KHcqwNrLFL",
        "outputId": "bd880af1-bd53-4d1d-af9e-81572eb1fb64"
      },
      "execution_count": 2,
      "outputs": [
        {
          "output_type": "stream",
          "name": "stdout",
          "text": [
            "<class 'str'>\n",
            "<class 'str'>\n"
          ]
        }
      ]
    },
    {
      "cell_type": "markdown",
      "source": [
        "\n",
        "\n",
        "---\n",
        "\n"
      ],
      "metadata": {
        "id": "YkE2LkvLrvuP"
      }
    },
    {
      "cell_type": "markdown",
      "source": [
        "**Q. 6:** What is the relationship between string and character \"types\" in Python?\n",
        "\n",
        "**Ans 6:** In Python, a character is a data type that represents a single letter, number, symbol, or other unit of text. A string is a data type that represents a sequence of characters. In other words, a string is made up of multiple characters, while a character is a single element of a string. Both characters and strings are used to represent text data in Python, and can be manipulated and modified using various methods and operators."
      ],
      "metadata": {
        "id": "rCqQU9JOrwyv"
      }
    },
    {
      "cell_type": "markdown",
      "source": [
        "\n",
        "\n",
        "---\n",
        "\n"
      ],
      "metadata": {
        "id": "JBPINIVmr-Cc"
      }
    },
    {
      "cell_type": "markdown",
      "source": [
        "**Q. 7:** Identify at least two operators & one method that allow you to combine one or more smaller strings to create a larger string.\n",
        "\n",
        "**Ans 7:** +, += and * allow to combine one or more smaller strings to create a larger string. .join() method joins element of iterable type like list and tuple to get a combined string."
      ],
      "metadata": {
        "id": "XU57hkU6r_eo"
      }
    },
    {
      "cell_type": "code",
      "source": [
        "in_string = 'iNeuron '\n",
        "in_string += 'Full Stack Data Science'\n",
        "print(in_string + ' FSDS')\n",
        "print('FSDS '*3)\n",
        "print(\" \".join(['I','N','E','U','R','O','N'])) # List Iterable\n",
        "print(\" \".join(('I','N','E','U','R','O','N')).lower()) # Tuple Iterable"
      ],
      "metadata": {
        "colab": {
          "base_uri": "https://localhost:8080/"
        },
        "id": "3XqKtyNlrr_S",
        "outputId": "bb1a41d3-0832-435c-e044-e511add95baa"
      },
      "execution_count": 3,
      "outputs": [
        {
          "output_type": "stream",
          "name": "stdout",
          "text": [
            "iNeuron Full Stack Data Science FSDS\n",
            "FSDS FSDS FSDS \n",
            "I N E U R O N\n",
            "i n e u r o n\n"
          ]
        }
      ]
    },
    {
      "cell_type": "markdown",
      "source": [
        "\n",
        "\n",
        "---\n",
        "\n"
      ],
      "metadata": {
        "id": "wCA8vfM7sX-9"
      }
    },
    {
      "cell_type": "markdown",
      "source": [
        "**Q. 8:** What is the benefit of first checking the target string with in or not in before using the index method to find a substring?\n",
        "\n",
        "**Ans 8:** Checking the target string with in or not Operators before using the index method to find a substring just helps confirming availability of substring and thus avoid raising of ValueError."
      ],
      "metadata": {
        "id": "FHUJ7FmJsY15"
      }
    },
    {
      "cell_type": "markdown",
      "source": [
        "\n",
        "\n",
        "---\n",
        "\n"
      ],
      "metadata": {
        "id": "_NkEOzVss301"
      }
    },
    {
      "cell_type": "markdown",
      "source": [
        "**Q. 9:** Which operators and built-in string methods produce simple Boolean (true/false) results?\n",
        "\n",
        "**Ans 9:** The 'startswith()' and 'endswith()' built-in string methods, produce simple Boolean (true/false) results. The 'in' and 'not in' operators return True if a specified substring is present (or not present) in a target string, and False if it is not."
      ],
      "metadata": {
        "id": "aFv5uza7s5Bq"
      }
    },
    {
      "cell_type": "markdown",
      "source": [
        "\n",
        "\n",
        "---\n",
        "\n"
      ],
      "metadata": {
        "id": "bQYorzsPtEVG"
      }
    }
  ]
}