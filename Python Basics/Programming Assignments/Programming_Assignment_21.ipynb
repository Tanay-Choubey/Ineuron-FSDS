{
  "nbformat": 4,
  "nbformat_minor": 0,
  "metadata": {
    "colab": {
      "provenance": []
    },
    "kernelspec": {
      "name": "python3",
      "display_name": "Python 3"
    },
    "language_info": {
      "name": "python"
    }
  },
  "cells": [
    {
      "cell_type": "markdown",
      "source": [
        "# **Programming Assignment 21**"
      ],
      "metadata": {
        "id": "KUA_BiEWPlB5"
      }
    },
    {
      "cell_type": "markdown",
      "source": [
        "**Q. 1:** Write a function that takes a list and a number as arguments. Add the number to the end of the list, then remove the first element of the list. The function should then return the updated list.\n",
        "\n",
        "Examples:\n",
        "\n",
        "next_in_line([5, 6, 7, 8, 9], 1) ➞ [6, 7, 8, 9, 1]\n",
        "\n",
        "next_in_line([7, 6, 3, 23, 17], 10) ➞ [6, 3, 23, 17, 10]\n",
        "\n",
        "next_in_line([1, 10, 20, 42 ], 6) ➞ [10, 20, 42, 6]\n",
        "\n",
        "next_in_line([], 6) ➞ \"No list has been selected\"\n",
        "\n",
        "**Ans 1:** "
      ],
      "metadata": {
        "id": "n78HsbNCPnk3"
      }
    },
    {
      "cell_type": "code",
      "source": [
        "def next_in_line(lst: list, num):\n",
        "    if len(lst) > 0:\n",
        "        lst.append(num)\n",
        "        return lst[1:]\n",
        "    else:\n",
        "        return \"'No list has been selected'\"\n",
        "    \n",
        "print(next_in_line([5, 6, 7, 8, 9], 1))\n",
        "print(next_in_line([7, 6, 3, 23, 17], 10))\n",
        "print(next_in_line([1, 10, 20, 42 ], 6))\n",
        "print(next_in_line([], 6))"
      ],
      "metadata": {
        "colab": {
          "base_uri": "https://localhost:8080/"
        },
        "id": "A4WSYgmzPxp3",
        "outputId": "9ff79289-d5b6-4223-a163-be56e95a9a7c"
      },
      "execution_count": 1,
      "outputs": [
        {
          "output_type": "stream",
          "name": "stdout",
          "text": [
            "[6, 7, 8, 9, 1]\n",
            "[6, 3, 23, 17, 10]\n",
            "[10, 20, 42, 6]\n",
            "'No list has been selected'\n"
          ]
        }
      ]
    },
    {
      "cell_type": "markdown",
      "source": [
        "\n",
        "\n",
        "---\n",
        "\n"
      ],
      "metadata": {
        "id": "mOiGXXuDQSuv"
      }
    },
    {
      "cell_type": "markdown",
      "source": [
        "**Q. 2:** Create the function that takes a list of dictionaries and returns the sum of people's budgets.\n",
        "\n",
        "Examples:\n",
        "\n",
        "get_budgets([\n",
        "\n",
        "{ \"name\": \"John\", \"age\": 21, \"budget\": 23000 },\n",
        "\n",
        "{ \"name\": \"Steve\", \"age\": 32, \"budget\": 40000 },\n",
        "\n",
        "{ \"name\": \"Martin\", \"age\": 16, \"budget\": 2700 }\n",
        "\n",
        "]) ➞ 65700\n",
        "\n",
        "\n",
        "get_budgets([\n",
        "\n",
        "{ \"name\": \"John\", \"age\": 21, \"budget\": 29000 },\n",
        "\n",
        "{ \"name\": \"Steve\", \"age\": 32, \"budget\": 32000 },\n",
        "\n",
        "{ \"name\": \"Martin\", \"age\": 16, \"budget\": 1600 }\n",
        "\n",
        "]) ➞ 62600\n",
        "\n",
        "**Ans 2:** "
      ],
      "metadata": {
        "id": "qRcFqL09QTev"
      }
    },
    {
      "cell_type": "code",
      "source": [
        "def get_budgets(dict):\n",
        "    sum = 0\n",
        "    for i in dict:\n",
        "        sum += i[\"budget\"]\n",
        "    print(f\"Sum of people's budget ➞ {sum}\")\n",
        "    \n",
        "get_budgets([\n",
        "{ \"name\": \"John\", \"age\": 21, \"budget\": 23000 },\n",
        "{ \"name\": \"Steve\", \"age\": 32, \"budget\": 40000 },\n",
        "{ \"name\": \"Martin\", \"age\": 16, \"budget\": 2700 }\n",
        "])\n",
        "\n",
        "get_budgets([\n",
        "{ \"name\": \"John\", \"age\": 21, \"budget\": 29000 },\n",
        "{ \"name\": \"Steve\", \"age\": 32, \"budget\": 32000 },\n",
        "{ \"name\": \"Martin\", \"age\": 16, \"budget\": 1600 }\n",
        "])"
      ],
      "metadata": {
        "colab": {
          "base_uri": "https://localhost:8080/"
        },
        "id": "YA5WD3mwREwv",
        "outputId": "b144c11c-0d7f-414d-9058-b3923916d34f"
      },
      "execution_count": 3,
      "outputs": [
        {
          "output_type": "stream",
          "name": "stdout",
          "text": [
            "Sum of people's budget ➞ 65700\n",
            "Sum of people's budget ➞ 62600\n"
          ]
        }
      ]
    },
    {
      "cell_type": "markdown",
      "source": [
        "\n",
        "\n",
        "---\n",
        "\n"
      ],
      "metadata": {
        "id": "VwpEUMXCRHff"
      }
    },
    {
      "cell_type": "markdown",
      "source": [
        "**Q. 3:** Create a function that takes a string and returns a string with its letters in alphabetical order.\n",
        "\n",
        "Examples:\n",
        "\n",
        "alphabet_soup(\"hello\") ➞ \"ehllo\"\n",
        "\n",
        "alphabet_soup(\"edabit\") ➞ \"abdeit\"\n",
        "\n",
        "alphabet_soup(\"hacker\") ➞ \"acehkr\"\n",
        "\n",
        "alphabet_soup(\"geek\") ➞ \"eegk\"\n",
        "\n",
        "alphabet_soup(\"javascript\") ➞ \"aacijprstv\"\n",
        "\n",
        "**Ans 3:** "
      ],
      "metadata": {
        "id": "GxAPsi8DRIgf"
      }
    },
    {
      "cell_type": "code",
      "source": [
        "def alphabet_soup(in_string):\n",
        "    out_string = ''.join(sorted(in_string))\n",
        "    print(f'{in_string} ➞ {out_string}')\n",
        "\n",
        "alphabet_soup(\"hello\")\n",
        "alphabet_soup(\"edabit\")\n",
        "alphabet_soup(\"hacker\")\n",
        "alphabet_soup(\"geek\")\n",
        "alphabet_soup(\"javascript\")"
      ],
      "metadata": {
        "colab": {
          "base_uri": "https://localhost:8080/"
        },
        "id": "wfGQxUiCRb8_",
        "outputId": "b9654b64-ca66-4912-8772-d27ba1e0a923"
      },
      "execution_count": 4,
      "outputs": [
        {
          "output_type": "stream",
          "name": "stdout",
          "text": [
            "hello ➞ ehllo\n",
            "edabit ➞ abdeit\n",
            "hacker ➞ acehkr\n",
            "geek ➞ eegk\n",
            "javascript ➞ aacijprstv\n"
          ]
        }
      ]
    },
    {
      "cell_type": "markdown",
      "source": [
        "\n",
        "\n",
        "---\n",
        "\n"
      ],
      "metadata": {
        "id": "5rmU6L0hRmqv"
      }
    },
    {
      "cell_type": "markdown",
      "source": [
        "**Q. 4:** What will be the value of your investment at the end of the 10 year period?\n",
        "\n",
        "Create a function that accepts the principal p, the term in years t, the interest rate r, and the number of compounding periods per year n. The function returns the value at the end of term rounded to the nearest cent.\n",
        "\n",
        "For the example above:\n",
        "\n",
        "compound_interest(10000, 10, 0.06, 12) ➞ 18193.97\n",
        "\n",
        "Note that the interest rate is given as a decimal and n=12 because with monthly compounding there are 12 periods per year. Compounding can also be done annually, quarterly, weekly, or daily.\n",
        "\n",
        "Examples:\n",
        "\n",
        "compound_interest(100, 1, 0.05, 1) ➞ 105.0\n",
        "\n",
        "compound_interest(3500, 15, 0.1, 4) ➞ 15399.26\n",
        "\n",
        "compound_interest(100000, 20, 0.15, 365) ➞ 2007316.26\n",
        "\n",
        "**Ans 4:** "
      ],
      "metadata": {
        "id": "aJEPao0hRne3"
      }
    },
    {
      "cell_type": "code",
      "source": [
        "def compound_interest(amt, years, intrest, compPeriod):\n",
        "    future_value = amt *(1 + (intrest/compPeriod)) ** (years * compPeriod)\n",
        "    return round(future_value,2)\n",
        "\n",
        "    \n",
        "print(compound_interest(100, 1, 0.05, 1))\n",
        "print(compound_interest(3500, 15, 0.1, 4))\n",
        "print(compound_interest(100000, 20, 0.15, 365))"
      ],
      "metadata": {
        "colab": {
          "base_uri": "https://localhost:8080/"
        },
        "id": "Ifus9SECSNTy",
        "outputId": "1147d8f2-3e99-4d27-d9cb-c9872355397a"
      },
      "execution_count": 7,
      "outputs": [
        {
          "output_type": "stream",
          "name": "stdout",
          "text": [
            "105.0\n",
            "15399.26\n",
            "2007316.26\n"
          ]
        }
      ]
    },
    {
      "cell_type": "markdown",
      "source": [
        "\n",
        "\n",
        "---\n",
        "\n"
      ],
      "metadata": {
        "id": "vH6IwAMBSRLn"
      }
    },
    {
      "cell_type": "markdown",
      "source": [
        "**Q. 5:** Write a function that takes a list of elements and returns only the integers.\n",
        "\n",
        "Examples:\n",
        "\n",
        "return_only_integer([9, 2, \"space\", \"car\", \"lion\", 16]) ➞ [9, 2, 16]\n",
        "\n",
        "return_only_integer([\"hello\", 81, \"basketball\", 123, \"fox\"]) ➞ [81, 123]\n",
        "\n",
        "return_only_integer([10, \"121\", 56, 20, \"car\", 3, \"lion\"]) ➞ [10, 56, 20,3]\n",
        "\n",
        "return_only_integer([\"String\", True, 3.3, 1]) ➞ [1]\n",
        "\n",
        "**Ans 5:** "
      ],
      "metadata": {
        "id": "YMEHVOvVSR5O"
      }
    },
    {
      "cell_type": "code",
      "source": [
        "def return_only_integer(lst: list):\n",
        "    return [x for x in lst if type(x) == int]\n",
        "\n",
        "    \n",
        "print(return_only_integer([9, 2, 'space', 'car', 'lion', 16]))\n",
        "print(return_only_integer(['hello', 81, 'basketball', 123, 'fox']))\n",
        "print(return_only_integer([10, '121', 56, 20, 'car', 3, 'lion']))\n",
        "print(return_only_integer(['String', True, 3.3, 1]))"
      ],
      "metadata": {
        "colab": {
          "base_uri": "https://localhost:8080/"
        },
        "id": "A8SArKXKSk8A",
        "outputId": "7a920909-933c-46a2-90d2-53e3a7e6c725"
      },
      "execution_count": 6,
      "outputs": [
        {
          "output_type": "stream",
          "name": "stdout",
          "text": [
            "[9, 2, 16]\n",
            "[81, 123]\n",
            "[10, 56, 20, 3]\n",
            "[1]\n"
          ]
        }
      ]
    },
    {
      "cell_type": "markdown",
      "source": [
        "\n",
        "\n",
        "---\n",
        "\n"
      ],
      "metadata": {
        "id": "n12sPwswS0rW"
      }
    }
  ]
}