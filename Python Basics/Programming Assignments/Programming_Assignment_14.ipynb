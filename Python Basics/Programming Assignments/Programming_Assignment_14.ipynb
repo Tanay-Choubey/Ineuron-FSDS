{
  "nbformat": 4,
  "nbformat_minor": 0,
  "metadata": {
    "colab": {
      "provenance": []
    },
    "kernelspec": {
      "name": "python3",
      "display_name": "Python 3"
    },
    "language_info": {
      "name": "python"
    }
  },
  "cells": [
    {
      "cell_type": "markdown",
      "source": [
        "# **Programming Assignment 14**"
      ],
      "metadata": {
        "id": "jp4qH3HUPnE0"
      }
    },
    {
      "cell_type": "markdown",
      "source": [
        "**Q. 1:** Define a class with a generator which can iterate the numbers, which are divisible by 7, between a given range 0 and n.\n",
        "\n",
        "**Ans 1:** "
      ],
      "metadata": {
        "id": "6U_NvGZbPvDZ"
      }
    },
    {
      "cell_type": "code",
      "source": [
        "class div_gen:\n",
        "    def __init__(self,in_num):\n",
        "        self.in_num = in_num\n",
        "    def get_numbers(self):\n",
        "        for i in range(0,self.in_num+1):\n",
        "            if i%7 == 0:\n",
        "                yield i\n",
        "output = div_gen(100)\n",
        "for i in output.get_numbers():\n",
        "    print(i,end=' ')"
      ],
      "metadata": {
        "colab": {
          "base_uri": "https://localhost:8080/"
        },
        "id": "Eq82WSwQRRZL",
        "outputId": "b66b8729-6266-46fe-ff81-940a08bf3029"
      },
      "execution_count": 1,
      "outputs": [
        {
          "output_type": "stream",
          "name": "stdout",
          "text": [
            "0 7 14 21 28 35 42 49 56 63 70 77 84 91 98 "
          ]
        }
      ]
    },
    {
      "cell_type": "markdown",
      "source": [
        "\n",
        "\n",
        "---\n",
        "\n"
      ],
      "metadata": {
        "id": "0M9sLYGFRf9P"
      }
    },
    {
      "cell_type": "markdown",
      "source": [
        "**Q. 2:** Write a program to compute the frequency of the words from the input. The output should output after sorting the key alphanumerically.\n",
        "\n",
        "Suppose the following input is supplied to the program:\n",
        "New to Python or choosing between Python 2 and Python 3? Read Python 2 or Python 3.\n",
        "\n",
        "Then, the output should be:\n",
        "2:2 3.:1 3?:1 New:1 Python:5 Read:1 and:1 between:1 choosing:1 or:2 to:1\n",
        "\n",
        "**Ans 2:** "
      ],
      "metadata": {
        "id": "a7_2c1i0RhHU"
      }
    },
    {
      "cell_type": "code",
      "source": [
        "def checkFrequency():\n",
        "    in_string = input(\"Enter the Input String: \")\n",
        "    frequency = {}\n",
        "    for ele in in_string.split(\" \"):\n",
        "        if(frequency.get(ele) == None):\n",
        "            frequency[ele] = 1\n",
        "        else:\n",
        "            frequency[ele] += 1 \n",
        "    for ele in sorted(frequency):\n",
        "        print(f'{ele}:{frequency[ele]}',end=\" \")\n",
        "checkFrequency()"
      ],
      "metadata": {
        "colab": {
          "base_uri": "https://localhost:8080/"
        },
        "id": "uBhx256kR4uu",
        "outputId": "79fc3842-9e87-41bf-fa87-a0ed71cf2513"
      },
      "execution_count": 2,
      "outputs": [
        {
          "output_type": "stream",
          "name": "stdout",
          "text": [
            "Enter the Input String: New to Python or choosing between Python 2 and Python 3? Read Python 2 or Python 3.\n",
            "2:2 3.:1 3?:1 New:1 Python:5 Read:1 and:1 between:1 choosing:1 or:2 to:1 "
          ]
        }
      ]
    },
    {
      "cell_type": "markdown",
      "source": [
        "\n",
        "\n",
        "---\n",
        "\n"
      ],
      "metadata": {
        "id": "V9Umo5xTR3uk"
      }
    },
    {
      "cell_type": "markdown",
      "source": [
        "**Q. 3:** Define a class Person and its two child classes: Male and Female. All classes have a method \"getGender\" which can print \"Male\" for Male class and \"Female\" for Female class.\n",
        "\n",
        "**Ans 3:** "
      ],
      "metadata": {
        "id": "ZbjkOl05SuE_"
      }
    },
    {
      "cell_type": "code",
      "source": [
        "class Person():\n",
        "    def getGender():\n",
        "        pass\n",
        "class Male(Person):\n",
        "    def getGender():\n",
        "        print(\"Male\")\n",
        "class Female(Person):\n",
        "    def getGender():\n",
        "        print(\"Female\")\n",
        "        \n",
        "Male.getGender()\n",
        "Female.getGender()"
      ],
      "metadata": {
        "colab": {
          "base_uri": "https://localhost:8080/"
        },
        "id": "xbnUzMmKTNBJ",
        "outputId": "f369843c-d4dd-4f3d-e638-44b8f56daf8f"
      },
      "execution_count": 3,
      "outputs": [
        {
          "output_type": "stream",
          "name": "stdout",
          "text": [
            "Male\n",
            "Female\n"
          ]
        }
      ]
    },
    {
      "cell_type": "markdown",
      "source": [
        "\n",
        "\n",
        "---\n",
        "\n"
      ],
      "metadata": {
        "id": "rGgoQ5keTMkN"
      }
    },
    {
      "cell_type": "markdown",
      "source": [
        "**Q. 4:** Please write a program to generate all sentences where subject is in [\"I\", \"You\"] and verb is in [\"Play\", \"Love\"] and the object is in [\"Hockey\",\"Football\"] ?\n",
        "\n",
        "**Ans 4:** "
      ],
      "metadata": {
        "id": "X7dSEvbkT1yl"
      }
    },
    {
      "cell_type": "code",
      "source": [
        "subject=[\"I\", \"You\"]\n",
        "verb=[\"Play\", \"Love\"]\n",
        "obj=[\"Hockey\",\"Football\"]\n",
        "\n",
        "sentence_list = []\n",
        "\n",
        "for i in subject:\n",
        "    for j in verb:\n",
        "        for k in obj:\n",
        "            sentence_list.append(i + \" \" + j + \" \" + k)\n",
        "            \n",
        "for sentence in sentence_list:\n",
        "    print(sentence)"
      ],
      "metadata": {
        "colab": {
          "base_uri": "https://localhost:8080/"
        },
        "id": "V5xABms5UVQb",
        "outputId": "b2ff92af-3567-497e-a642-b3214c7c92c1"
      },
      "execution_count": 4,
      "outputs": [
        {
          "output_type": "stream",
          "name": "stdout",
          "text": [
            "I Play Hockey\n",
            "I Play Football\n",
            "I Love Hockey\n",
            "I Love Football\n",
            "You Play Hockey\n",
            "You Play Football\n",
            "You Love Hockey\n",
            "You Love Football\n"
          ]
        }
      ]
    },
    {
      "cell_type": "markdown",
      "source": [
        "\n",
        "\n",
        "---\n",
        "\n"
      ],
      "metadata": {
        "id": "2s1Ck1omU4zd"
      }
    },
    {
      "cell_type": "markdown",
      "source": [
        "**Q. 5:** Please write a program to compress and decompress the string \"hello world!hello world!hello world!hello world!\" ?\n",
        "\n",
        "**Ans 5:** "
      ],
      "metadata": {
        "id": "cZCUkb4GU50f"
      }
    },
    {
      "cell_type": "code",
      "source": [
        "import zlib\n",
        "\n",
        "s = 'hello world!hello world!hello world!hello world!'\n",
        "\n",
        "compress_string = zlib.compress(bytes(s, 'utf-8'))\n",
        "\n",
        "print(f\"Compressed string is: {compress_string}\")\n",
        "print(f\"Decompressed string is: {zlib.decompress(compress_string)}\")"
      ],
      "metadata": {
        "colab": {
          "base_uri": "https://localhost:8080/"
        },
        "id": "YXi0lerqUgwt",
        "outputId": "8e7f3a74-edee-49dc-d814-4298650af465"
      },
      "execution_count": 6,
      "outputs": [
        {
          "output_type": "stream",
          "name": "stdout",
          "text": [
            "Compressed string is: b'x\\x9c\\xcbH\\xcd\\xc9\\xc9W(\\xcf/\\xcaIQ\\xcc \\x82\\r\\x00\\xbd[\\x11\\xf5'\n",
            "Decompressed string is: b'hello world!hello world!hello world!hello world!'\n"
          ]
        }
      ]
    },
    {
      "cell_type": "markdown",
      "source": [
        "\n",
        "\n",
        "---\n",
        "\n"
      ],
      "metadata": {
        "id": "NMslqEn7Vwzd"
      }
    },
    {
      "cell_type": "markdown",
      "source": [
        "**Q. 6:** Please write a binary search function which searches an item in a sorted list. The function should return the index of element to be searched in the list?\n",
        "\n",
        "**Ans 6:** "
      ],
      "metadata": {
        "id": "_JV8QOWpVxt3"
      }
    },
    {
      "cell_type": "code",
      "source": [
        "from bisect import bisect_left\n",
        " \n",
        "def BinarySearch(a, x):\n",
        "    i = bisect_left(a, x)\n",
        "    if i != len(a) and a[i] == x:\n",
        "        return i\n",
        "    else:\n",
        "        return -1\n",
        " \n",
        "a  = [1, 2, 4, 4, 8]\n",
        "x = int(4)\n",
        "res = BinarySearch(a, x)\n",
        "if res == -1:\n",
        "    print(x, \"is absent\")\n",
        "else:\n",
        "    print(\"First occurrence of\", x, \"is present at\", res)"
      ],
      "metadata": {
        "colab": {
          "base_uri": "https://localhost:8080/"
        },
        "id": "EEgYemoeVkp-",
        "outputId": "b6e119c5-e56b-4fe8-c665-a86b4c511661"
      },
      "execution_count": 7,
      "outputs": [
        {
          "output_type": "stream",
          "name": "stdout",
          "text": [
            "First occurrence of 4 is present at 2\n"
          ]
        }
      ]
    },
    {
      "cell_type": "markdown",
      "source": [
        "\n",
        "\n",
        "---\n",
        "\n"
      ],
      "metadata": {
        "id": "XMdPWYtAWPWk"
      }
    }
  ]
}