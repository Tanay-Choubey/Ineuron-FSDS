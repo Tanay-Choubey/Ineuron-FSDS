{
  "nbformat": 4,
  "nbformat_minor": 0,
  "metadata": {
    "colab": {
      "provenance": []
    },
    "kernelspec": {
      "name": "python3",
      "display_name": "Python 3"
    },
    "language_info": {
      "name": "python"
    }
  },
  "cells": [
    {
      "cell_type": "markdown",
      "source": [
        "# **Assignment 2**"
      ],
      "metadata": {
        "id": "f6dQ_aXhE-TM"
      }
    },
    {
      "cell_type": "markdown",
      "source": [
        "**Q. 1:** What is the relationship between classes and modules?\n",
        "\n",
        "**Ans 1:**  Classes are blueprints that allow you to create instances with attributes and bound functionality. Classes support inheritance, metaclasses, and descriptors.\n",
        "Whereas, Modules in python is simply a way to organize the code, and it contains either python classes or just functions. If you need those classes or functions in your project, you just import them."
      ],
      "metadata": {
        "id": "q3OkhZNsFKzO"
      }
    },
    {
      "cell_type": "markdown",
      "source": [
        "\n",
        "\n",
        "---\n",
        "\n"
      ],
      "metadata": {
        "id": "RUomj5QJOB6l"
      }
    },
    {
      "cell_type": "markdown",
      "source": [
        "**Q. 2:** How do you make instances and classes?\n",
        "\n",
        "**Ans 2:** To create instances of a class, you call the class using class name and pass in whatever arguments lts init method accepts.\n",
        "\n",
        "The class statement creates a new class defination.The name of the class immediately follows the keyword class followed by a colon. \n",
        "\n",
        "As below:"
      ],
      "metadata": {
        "id": "iFhquvYKOCuI"
      }
    },
    {
      "cell_type": "code",
      "source": [
        "class student:\n",
        "    def __init__(self,name):\n",
        "        self.name=name\n",
        "    def __str__(self):\n",
        "        return f\"This is {self.name}(an instance of a class student)\"\n",
        "t = student(\"Tanay Choubey\")\n",
        "\n",
        "print(t)"
      ],
      "metadata": {
        "colab": {
          "base_uri": "https://localhost:8080/"
        },
        "id": "JK_x192PQG_y",
        "outputId": "b85300c7-353e-408d-f081-1892b6f77cea"
      },
      "execution_count": 1,
      "outputs": [
        {
          "output_type": "stream",
          "name": "stdout",
          "text": [
            "This is Tanay Choubey(an instance of a class student)\n"
          ]
        }
      ]
    },
    {
      "cell_type": "markdown",
      "source": [
        "\n",
        "\n",
        "---\n",
        "\n"
      ],
      "metadata": {
        "id": "jgmbredJRHqw"
      }
    },
    {
      "cell_type": "markdown",
      "source": [
        "**Q. 3:** Where and how should be class attributes created?\n",
        "\n",
        "**Ans 3:** Class attributes or Class level Attributes belong to the class itself. these attributes will be shared by all the instances of the class. Hence these attributes are usually created/defined in the top of class definiation outside all methods."
      ],
      "metadata": {
        "id": "YcqJJsTKRIlO"
      }
    },
    {
      "cell_type": "code",
      "source": [
        "#Example: \n",
        "#In the below code we are defining a class attribute called no_of_wheels which will be shared by all the instances of the class Car\n",
        "\n",
        "class Car:\n",
        "    no_of_wheels = 4; # this is a class attribute\n",
        "    def __init__(self,color,price,engine):\n",
        "        self.color = color # All this are instance attributes\n",
        "        self.price = price\n",
        "        self.engine = engine"
      ],
      "metadata": {
        "id": "lQ-5dvsQQusH"
      },
      "execution_count": 2,
      "outputs": []
    },
    {
      "cell_type": "markdown",
      "source": [
        "\n",
        "\n",
        "---\n",
        "\n"
      ],
      "metadata": {
        "id": "zyAERtVXTZkj"
      }
    },
    {
      "cell_type": "markdown",
      "source": [
        "**Q. 4:** Where and how are instance attributes created?\n",
        "\n",
        "**Ans 4:** Unlike class attributes, instance attributes are not shared by objects.Every object has its own copy of the instance attribute.They are created in init method.How they are created is Explained below:"
      ],
      "metadata": {
        "id": "pq_9ZMTnTarq"
      }
    },
    {
      "cell_type": "code",
      "source": [
        "class student:\n",
        "    def __init__(self,name,roll_no):\n",
        "        self.name=name\n",
        "        self.roll_no=roll_no\n",
        "    def __str__(self):\n",
        "        return f\"This is {self.name}(an instance of a class student)\"\n",
        "student1=student(\"Tanay Choubey\",71)\n",
        "print(student1.name)\n",
        "print(student1.roll_no)"
      ],
      "metadata": {
        "colab": {
          "base_uri": "https://localhost:8080/"
        },
        "id": "_T1UTixCTReS",
        "outputId": "438a437e-5a57-4a90-fec8-195ab20682e7"
      },
      "execution_count": 3,
      "outputs": [
        {
          "output_type": "stream",
          "name": "stdout",
          "text": [
            "Tanay Choubey\n",
            "71\n"
          ]
        }
      ]
    },
    {
      "cell_type": "markdown",
      "source": [
        "\n",
        "\n",
        "---\n",
        "\n"
      ],
      "metadata": {
        "id": "16Pm5u0LUiKI"
      }
    },
    {
      "cell_type": "markdown",
      "source": [
        "**Q. 5:** What does the term \"self\" in a Python class mean?\n",
        "\n",
        "**Ans 5:** Self represents the instance of the class. By using the “self” keyword we can access the attributes and methods of the class in python. It binds the attributes with the given arguments.The reason you need to use self. is because Python does not use the @ syntax to refer to instance attributes. Python decided to do methods in a way that makes the instance to which the method belongs be passed automatically, but not received automatically: the first parameter of methods is the instance the method is called on."
      ],
      "metadata": {
        "id": "CP8ogTnXUjEW"
      }
    },
    {
      "cell_type": "markdown",
      "source": [
        "\n",
        "\n",
        "---\n",
        "\n"
      ],
      "metadata": {
        "id": "8nQIDUZUWGfC"
      }
    },
    {
      "cell_type": "markdown",
      "source": [
        "**Q. 6:** How does a Python class handle operator overloading?\n",
        "\n",
        "**Ans 6:** Python Classes handle operator overloading by using special methods called Magic methods, these special methods usually begin and end with __ (double underscore).\n",
        "\n",
        "Example: Magic methods for basic arithmetic operators are:\n",
        "\n",
        "- ``+ -> __add__()``\n",
        "- ``- -> __sub__()``\n",
        "- ``* -> __mul__()``\n",
        "- ``/ -> __div__()``"
      ],
      "metadata": {
        "id": "6oCPAHGJWHtt"
      }
    },
    {
      "cell_type": "code",
      "source": [
        "class Book:\n",
        "    def __init__(self,pages):\n",
        "        self.pages = pages\n",
        "    def __add__(self,other):\n",
        "        return self.pages + other.pages\n",
        "b1 = Book(300)\n",
        "b2 = Book(200)\n",
        "print(f'The total number of pages in 2 books is {b1+b2}')"
      ],
      "metadata": {
        "colab": {
          "base_uri": "https://localhost:8080/"
        },
        "id": "oc1vQMXvUWC_",
        "outputId": "34d6e96c-dc84-4849-feba-023ba08be5d1"
      },
      "execution_count": 4,
      "outputs": [
        {
          "output_type": "stream",
          "name": "stdout",
          "text": [
            "The total number of pages in 2 books is 500\n"
          ]
        }
      ]
    },
    {
      "cell_type": "markdown",
      "source": [
        "\n",
        "\n",
        "---\n",
        "\n"
      ],
      "metadata": {
        "id": "mRa2T1waYdsb"
      }
    },
    {
      "cell_type": "markdown",
      "source": [
        "**Q. 7:** When do you consider allowing operator overloading of your classes?\n",
        "\n",
        "**Ans 7:**  Operator overloading should be considered when creating a class that needs to have an intuitive way of performing specific operations. For example, if a class needs to be able to add two instances of itself together, then operator overloading may be a helpful solution."
      ],
      "metadata": {
        "id": "q7wphq8AYelK"
      }
    },
    {
      "cell_type": "markdown",
      "source": [
        "\n",
        "\n",
        "---\n",
        "\n"
      ],
      "metadata": {
        "id": "C3B45G7NY24O"
      }
    },
    {
      "cell_type": "markdown",
      "source": [
        "**Q. 8:** What is the most popular form of operator overloading?\n",
        "\n",
        "**Ans 8:** Most popular form of operator overloading is defining functions that take the operands as arguments and return the result of the operation. This is known as operator functions, or operator overloads. This allows the programmer to create custom operators for their own types."
      ],
      "metadata": {
        "id": "IVSF3aRbY3vp"
      }
    },
    {
      "cell_type": "markdown",
      "source": [
        "\n",
        "\n",
        "---\n",
        "\n"
      ],
      "metadata": {
        "id": "CqiW8V0bZu25"
      }
    },
    {
      "cell_type": "markdown",
      "source": [
        "**Q. 9:** What are the two most important concepts to grasp in order to comprehend Python OOP code?\n",
        "\n",
        "**Ans 9:** \n",
        "\n",
        "- Classes: Classes are the fundamental building blocks of object-oriented programming, allowing you to create objects that have attributes and behaviors.\n",
        "\n",
        "- Inheritance: Inheritance is the ability for classes to take on the attributes and behaviors of another class, allowing for code reuse and improved maintainability.\n"
      ],
      "metadata": {
        "id": "NIOz5Iz2Zv51"
      }
    },
    {
      "cell_type": "markdown",
      "source": [
        "\n",
        "\n",
        "---\n",
        "\n"
      ],
      "metadata": {
        "id": "taAQSX95aYbe"
      }
    }
  ]
}