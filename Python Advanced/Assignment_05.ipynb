{
  "nbformat": 4,
  "nbformat_minor": 0,
  "metadata": {
    "colab": {
      "provenance": []
    },
    "kernelspec": {
      "name": "python3",
      "display_name": "Python 3"
    },
    "language_info": {
      "name": "python"
    }
  },
  "cells": [
    {
      "cell_type": "markdown",
      "source": [
        "# **Assignment 5**"
      ],
      "metadata": {
        "id": "svLBVf698M1K"
      }
    },
    {
      "cell_type": "markdown",
      "source": [
        "**Q. 1:** What is the meaning of multiple inheritance?\n",
        "\n",
        "**Ans 1:** Inheritence is nothing but reusing the code of Parent class by the child class. Similary when a child class inherits its properties from multiple Parent classes this scenario is called Multiple Inheritence."
      ],
      "metadata": {
        "id": "mm4QbxPC8Ri1"
      }
    },
    {
      "cell_type": "code",
      "source": [
        "class Parent_1:\n",
        "    pass\n",
        "class Parent_2:\n",
        "    pass\n",
        "class child(Parent_1,Parent_2):\n",
        "    pass"
      ],
      "metadata": {
        "id": "jRRFNBLE9kyx"
      },
      "execution_count": 1,
      "outputs": []
    },
    {
      "cell_type": "markdown",
      "source": [
        "\n",
        "\n",
        "---\n",
        "\n"
      ],
      "metadata": {
        "id": "bM2xIFJX9vns"
      }
    },
    {
      "cell_type": "markdown",
      "source": [
        "**Q. 2:** What is the concept of delegation?\n",
        "\n",
        "**Ans 2:** Delegation is an object oriented technique (also called a design pattern). Lets say you have an object x and want to change the behaviour of just one of its methods. You can create a new class thst provides a new implementation of the method you're interested in changing and delegates all other methods to the corresponding method of x.\n",
        "\n",
        "The delegation is accomplished via the getattr method: consult the language reference for more information about controlling attribute access."
      ],
      "metadata": {
        "id": "Y39paT229wj-"
      }
    },
    {
      "cell_type": "markdown",
      "source": [
        "\n",
        "\n",
        "---\n",
        "\n"
      ],
      "metadata": {
        "id": "F7e4T73m-P5P"
      }
    },
    {
      "cell_type": "markdown",
      "source": [
        "**Q. 3:** What is the concept of composition?\n",
        "\n",
        "**Ans 3:** Composition allows an object to be composed of other object which are called as components. The object does not have direct access to the components state but can control the behavior of methods."
      ],
      "metadata": {
        "id": "L1W_dqWk-RBk"
      }
    },
    {
      "cell_type": "code",
      "source": [
        "class Engine:\n",
        "    def start(self):\n",
        "        print(\"Engine Started\")\n",
        "    \n",
        "class Car:\n",
        "    def __init__(self, engine):\n",
        "        self.engine = engine\n",
        "    \n",
        "    def start(self):\n",
        "        self.engine.start()\n",
        "        print(\"Car Started\")\n",
        "\n",
        "\n",
        "engine = Engine()\n",
        "car = Car(engine=engine)\n",
        "car.start()"
      ],
      "metadata": {
        "colab": {
          "base_uri": "https://localhost:8080/"
        },
        "id": "n_EFX1xF9n_K",
        "outputId": "ba9d6e3c-618d-40cd-a497-b5372779c8b3"
      },
      "execution_count": 2,
      "outputs": [
        {
          "output_type": "stream",
          "name": "stdout",
          "text": [
            "Engine Started\n",
            "Car Started\n"
          ]
        }
      ]
    },
    {
      "cell_type": "markdown",
      "source": [
        "\n",
        "\n",
        "---\n",
        "\n"
      ],
      "metadata": {
        "id": "67bUZ4mX_FlR"
      }
    },
    {
      "cell_type": "markdown",
      "source": [
        "**Q. 4:** What are bound methods and how do we use them?\n",
        "\n",
        "**Ans 4:** A bound method is the one which is dependent on the instance of the class as the first arguments.It passes the instance \n",
        "as the first argument which is used to access the variables and functions.All functions in the class are by default \n",
        "bound methods."
      ],
      "metadata": {
        "id": "BfC0F0kQ_Ga5"
      }
    },
    {
      "cell_type": "code",
      "source": [
        "class Sample:\n",
        "    def fun(self,some_value):\n",
        "        self.some_value=some_value\n",
        "s=Sample()\n",
        "print(s.fun)"
      ],
      "metadata": {
        "colab": {
          "base_uri": "https://localhost:8080/"
        },
        "id": "DtbYp_9X_uVb",
        "outputId": "3eeed5e6-6665-4d19-b66b-6922225b16b5"
      },
      "execution_count": 3,
      "outputs": [
        {
          "output_type": "stream",
          "name": "stdout",
          "text": [
            "<bound method Sample.fun of <__main__.Sample object at 0x7feb03154760>>\n"
          ]
        }
      ]
    },
    {
      "cell_type": "markdown",
      "source": [
        "\n",
        "\n",
        "---\n",
        "\n"
      ],
      "metadata": {
        "id": "o_Nt_IXh_zbQ"
      }
    },
    {
      "cell_type": "markdown",
      "source": [
        "**Q. 5:** What is the purpose of pseudoprivate attributes?\n",
        "\n",
        "**Ans 5:** Pseudoprivate attributes are also useful in larger frameworks or tools, both to avoid introducing new method names that might accidentally hide definitions elsewhere in the class tree and to reduce the chance of internal methods being replaced by names defined lower in the tree. If a method is intended for use only within a class that may be mixed into other classes, the double underscore prefix ensures that the method won't interfere with other names in the tree, especially in multiple-inheritance scenarios.\n",
        "\n",
        "Pseudoprivate names also prevent subclasses from accidentally redefining the internal method's names:"
      ],
      "metadata": {
        "id": "QLEfHKHK_0uG"
      }
    },
    {
      "cell_type": "code",
      "source": [
        "class Class:\n",
        "    def __init__(self) -> None:\n",
        "        self.__value = 0\n",
        "    \n",
        "    def get_value(self):\n",
        "        return self.__value\n",
        "    \n",
        "    def set_value(self, value):\n",
        "        self.__value = value\n",
        "\n",
        "objA = Class()\n",
        "#print(objA.__value)\n",
        "print(objA.get_value())\n",
        "\n",
        "objA.set_value(10)\n",
        "print(objA.get_value())"
      ],
      "metadata": {
        "colab": {
          "base_uri": "https://localhost:8080/"
        },
        "id": "z3CtVwb1_x3o",
        "outputId": "e6b77c89-8f11-4460-c85c-d7a49b87566c"
      },
      "execution_count": 4,
      "outputs": [
        {
          "output_type": "stream",
          "name": "stdout",
          "text": [
            "0\n",
            "10\n"
          ]
        }
      ]
    },
    {
      "cell_type": "markdown",
      "source": [
        "\n",
        "\n",
        "---\n",
        "\n"
      ],
      "metadata": {
        "id": "1cXlOGaAAlNu"
      }
    }
  ]
}