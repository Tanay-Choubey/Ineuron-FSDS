{
  "nbformat": 4,
  "nbformat_minor": 0,
  "metadata": {
    "colab": {
      "provenance": []
    },
    "kernelspec": {
      "name": "python3",
      "display_name": "Python 3"
    },
    "language_info": {
      "name": "python"
    }
  },
  "cells": [
    {
      "cell_type": "markdown",
      "source": [
        "# **Assignment 16**"
      ],
      "metadata": {
        "id": "Cd7xgdynnlKt"
      }
    },
    {
      "cell_type": "markdown",
      "source": [
        "**Q. 1:** Create a list called years_list, starting with the year of your birth, and each year thereafter until the year of your fifth birthday. For example, if you were born in 1980. the list would be years_list = [1980, 1981, 1982, 1983, 1984, 1985].\n",
        "\n",
        "**Ans 1:** "
      ],
      "metadata": {
        "id": "lKBlOzh9nse9"
      }
    },
    {
      "cell_type": "code",
      "source": [
        "years_list = [i for i in range(1996,1996+6)]\n",
        "print(years_list)"
      ],
      "metadata": {
        "colab": {
          "base_uri": "https://localhost:8080/"
        },
        "id": "04OBN95sSlov",
        "outputId": "5352ff27-f10e-4f98-f87a-fb07d3554764"
      },
      "execution_count": 1,
      "outputs": [
        {
          "output_type": "stream",
          "name": "stdout",
          "text": [
            "[1996, 1997, 1998, 1999, 2000, 2001]\n"
          ]
        }
      ]
    },
    {
      "cell_type": "markdown",
      "source": [
        "\n",
        "\n",
        "---\n",
        "\n"
      ],
      "metadata": {
        "id": "BJYljZHdTU_D"
      }
    },
    {
      "cell_type": "markdown",
      "source": [
        "**Q. 2:** In which year in years_list was your third birthday? Remember, you were 0 years of age for your first year.\n",
        "\n",
        "**Ans 2:** "
      ],
      "metadata": {
        "id": "b8_PPiCTTYHG"
      }
    },
    {
      "cell_type": "code",
      "source": [
        "years_list[3]"
      ],
      "metadata": {
        "colab": {
          "base_uri": "https://localhost:8080/"
        },
        "id": "N4TwAQnTTyTt",
        "outputId": "5eae17e1-cb28-448b-f534-76c2f1908d4d"
      },
      "execution_count": 4,
      "outputs": [
        {
          "output_type": "execute_result",
          "data": {
            "text/plain": [
              "1999"
            ]
          },
          "metadata": {},
          "execution_count": 4
        }
      ]
    },
    {
      "cell_type": "markdown",
      "source": [
        "\n",
        "\n",
        "---\n",
        "\n"
      ],
      "metadata": {
        "id": "6xF-K3Q_UHT2"
      }
    },
    {
      "cell_type": "markdown",
      "source": [
        "**Q. 3:** In the years list, which year were you the oldest?\n",
        "\n",
        "**Ans 3:** "
      ],
      "metadata": {
        "id": "YhwBDkZ0UKhE"
      }
    },
    {
      "cell_type": "code",
      "execution_count": 5,
      "metadata": {
        "id": "3MgfNFo2mQEH",
        "colab": {
          "base_uri": "https://localhost:8080/"
        },
        "outputId": "1bfb18b1-eb7f-408a-da90-67d5c39c185e"
      },
      "outputs": [
        {
          "output_type": "execute_result",
          "data": {
            "text/plain": [
              "2001"
            ]
          },
          "metadata": {},
          "execution_count": 5
        }
      ],
      "source": [
        "years_list[-1]"
      ]
    },
    {
      "cell_type": "markdown",
      "source": [
        "\n",
        "\n",
        "---\n",
        "\n"
      ],
      "metadata": {
        "id": "j0zxyo-fUp3T"
      }
    },
    {
      "cell_type": "markdown",
      "source": [
        "**Q. 4:** Make a list called things with these three strings as elements: \"mozzarella\", \"cinderella\", \"salmonella\".\n",
        "\n",
        "**Ans 4:** "
      ],
      "metadata": {
        "id": "DYHYYpVIUq_D"
      }
    },
    {
      "cell_type": "code",
      "source": [
        "things = [\"mozzarella\", \"cinderella\", \"salmonella\"]\n",
        "things"
      ],
      "metadata": {
        "colab": {
          "base_uri": "https://localhost:8080/"
        },
        "id": "ttU5kh_hVOi9",
        "outputId": "f4f3b9fc-40fe-4828-ee97-ba6fd16b0bb2"
      },
      "execution_count": 6,
      "outputs": [
        {
          "output_type": "execute_result",
          "data": {
            "text/plain": [
              "['mozzarella', 'cinderella', 'salmonella']"
            ]
          },
          "metadata": {},
          "execution_count": 6
        }
      ]
    },
    {
      "cell_type": "markdown",
      "source": [
        "\n",
        "\n",
        "---\n",
        "\n"
      ],
      "metadata": {
        "id": "5EPuA4rgVTAi"
      }
    },
    {
      "cell_type": "markdown",
      "source": [
        "**Q. 5:** Capitalize the element in things that refers to a person and then print the list. Did it change the element in the list?\n",
        "\n",
        "**Ans 5:** "
      ],
      "metadata": {
        "id": "NxF0wATUVVWi"
      }
    },
    {
      "cell_type": "code",
      "source": [
        "things = ['mozzarella', 'cinderella', 'salmonella']\n",
        "for ele in range(len(things)):\n",
        "    if things[ele] == 'cinderella':\n",
        "        things[ele] = things[ele].capitalize()\n",
        "print(things)"
      ],
      "metadata": {
        "colab": {
          "base_uri": "https://localhost:8080/"
        },
        "id": "5qyKk8UjWbsJ",
        "outputId": "0ed7f752-e9a6-40e3-ba52-4ff55beaa316"
      },
      "execution_count": 7,
      "outputs": [
        {
          "output_type": "stream",
          "name": "stdout",
          "text": [
            "['mozzarella', 'Cinderella', 'salmonella']\n"
          ]
        }
      ]
    },
    {
      "cell_type": "markdown",
      "source": [
        "\n",
        "\n",
        "---\n",
        "\n"
      ],
      "metadata": {
        "id": "-y5pg7MiXlTK"
      }
    },
    {
      "cell_type": "markdown",
      "source": [
        "**Q. 6:** Make a surprise list with the elements \"Groucho\" , \"Chico\" and \"Harpo\".\n",
        "\n",
        "**Ans 6:** "
      ],
      "metadata": {
        "id": "w_mknKuwXnvL"
      }
    },
    {
      "cell_type": "code",
      "source": [
        "surprise_list = ['Groucho','Chico','Harpo']\n",
        "surprise_list"
      ],
      "metadata": {
        "colab": {
          "base_uri": "https://localhost:8080/"
        },
        "id": "vc_95WgoUdft",
        "outputId": "be69e8aa-e028-447d-f43e-bb984d9c3fc8"
      },
      "execution_count": 8,
      "outputs": [
        {
          "output_type": "execute_result",
          "data": {
            "text/plain": [
              "['Groucho', 'Chico', 'Harpo']"
            ]
          },
          "metadata": {},
          "execution_count": 8
        }
      ]
    },
    {
      "cell_type": "markdown",
      "source": [
        "\n",
        "\n",
        "---\n",
        "\n"
      ],
      "metadata": {
        "id": "dBeN_YFmZGtV"
      }
    },
    {
      "cell_type": "markdown",
      "source": [
        "**Q. 7:** Lowercase the last element of the surprise list, reverse it, and then capitalize it.\n",
        "\n",
        "**Ans 7:** "
      ],
      "metadata": {
        "id": "TIFwkv6QZHyY"
      }
    },
    {
      "cell_type": "code",
      "source": [
        "surprise_list = ['Groucho','Chico','Harpo']"
      ],
      "metadata": {
        "id": "PMc6aUFjY_iE"
      },
      "execution_count": 9,
      "outputs": []
    },
    {
      "cell_type": "code",
      "source": [
        "surprise_list[-1].lower()"
      ],
      "metadata": {
        "colab": {
          "base_uri": "https://localhost:8080/",
          "height": 36
        },
        "id": "moqwYAY3ZgLl",
        "outputId": "8501fb65-9ec6-429f-e181-62cdd573fb41"
      },
      "execution_count": 10,
      "outputs": [
        {
          "output_type": "execute_result",
          "data": {
            "text/plain": [
              "'harpo'"
            ],
            "application/vnd.google.colaboratory.intrinsic+json": {
              "type": "string"
            }
          },
          "metadata": {},
          "execution_count": 10
        }
      ]
    },
    {
      "cell_type": "code",
      "source": [
        "surprise_list[-1][::-1]"
      ],
      "metadata": {
        "colab": {
          "base_uri": "https://localhost:8080/",
          "height": 36
        },
        "id": "SaNn1SG3Zkhy",
        "outputId": "c45d384c-6f53-4138-a019-5608b1a03a3c"
      },
      "execution_count": 11,
      "outputs": [
        {
          "output_type": "execute_result",
          "data": {
            "text/plain": [
              "'opraH'"
            ],
            "application/vnd.google.colaboratory.intrinsic+json": {
              "type": "string"
            }
          },
          "metadata": {},
          "execution_count": 11
        }
      ]
    },
    {
      "cell_type": "code",
      "source": [
        "surprise_list[-1][::-1].capitalize()"
      ],
      "metadata": {
        "colab": {
          "base_uri": "https://localhost:8080/",
          "height": 36
        },
        "id": "ppUobMRdZn6Q",
        "outputId": "7dc94e6a-fd2b-4722-c2a8-d5422751bfa7"
      },
      "execution_count": 12,
      "outputs": [
        {
          "output_type": "execute_result",
          "data": {
            "text/plain": [
              "'Oprah'"
            ],
            "application/vnd.google.colaboratory.intrinsic+json": {
              "type": "string"
            }
          },
          "metadata": {},
          "execution_count": 12
        }
      ]
    },
    {
      "cell_type": "markdown",
      "source": [
        "\n",
        "\n",
        "---\n",
        "\n"
      ],
      "metadata": {
        "id": "GkShsnA5Zz_t"
      }
    },
    {
      "cell_type": "markdown",
      "source": [
        "**Q. 8:** Make an English-to-French dictionary called e2f and print it. Here are your starter words: dog is chien, cat is chat, and walrus is morse.\n",
        "\n",
        "**Ans 8:** "
      ],
      "metadata": {
        "id": "zbiJkN0TZ0_o"
      }
    },
    {
      "cell_type": "code",
      "source": [
        "e2f = {'dog':'chien','cat':'chat','walrus':'morse'}\n",
        "print(e2f)"
      ],
      "metadata": {
        "colab": {
          "base_uri": "https://localhost:8080/"
        },
        "id": "WwKEps2TaLHQ",
        "outputId": "c791c0b1-02da-4b14-836a-f43d6886dec4"
      },
      "execution_count": 14,
      "outputs": [
        {
          "output_type": "stream",
          "name": "stdout",
          "text": [
            "{'dog': 'chien', 'cat': 'chat', 'walrus': 'morse'}\n"
          ]
        }
      ]
    },
    {
      "cell_type": "markdown",
      "source": [
        "\n",
        "\n",
        "---\n",
        "\n"
      ],
      "metadata": {
        "id": "JqspKp0Cal_d"
      }
    },
    {
      "cell_type": "markdown",
      "source": [
        "**Q. 9:** Write the French word for walrus in your three-word dictionary e2f.\n",
        "\n",
        "**Ans 9:** "
      ],
      "metadata": {
        "id": "FLuLyL6faU5h"
      }
    },
    {
      "cell_type": "code",
      "source": [
        "e2f['walrus']"
      ],
      "metadata": {
        "colab": {
          "base_uri": "https://localhost:8080/",
          "height": 36
        },
        "id": "_LIyiQDcZq3v",
        "outputId": "b4cbbb77-1702-4ab4-b7f2-471d3df7f426"
      },
      "execution_count": 15,
      "outputs": [
        {
          "output_type": "execute_result",
          "data": {
            "text/plain": [
              "'morse'"
            ],
            "application/vnd.google.colaboratory.intrinsic+json": {
              "type": "string"
            }
          },
          "metadata": {},
          "execution_count": 15
        }
      ]
    },
    {
      "cell_type": "markdown",
      "source": [
        "\n",
        "\n",
        "---\n",
        "\n"
      ],
      "metadata": {
        "id": "B6vI05uoanQF"
      }
    },
    {
      "cell_type": "markdown",
      "source": [
        "**Q. 10:** Make a French-to-English dictionary called f2e from e2f. Use the items method.\n",
        "\n",
        "**Ans 10:** "
      ],
      "metadata": {
        "id": "6fL7N7_WaoNR"
      }
    },
    {
      "cell_type": "code",
      "source": [
        "f2e = dict([ele[::-1] for ele in e2f.items()])\n",
        "print(f2e)"
      ],
      "metadata": {
        "colab": {
          "base_uri": "https://localhost:8080/"
        },
        "id": "u-NrIgWsalBS",
        "outputId": "8b4b299e-bc30-4dab-da3c-2c067cea2787"
      },
      "execution_count": 16,
      "outputs": [
        {
          "output_type": "stream",
          "name": "stdout",
          "text": [
            "{'chien': 'dog', 'chat': 'cat', 'morse': 'walrus'}\n"
          ]
        }
      ]
    },
    {
      "cell_type": "markdown",
      "source": [
        "\n",
        "\n",
        "---\n",
        "\n"
      ],
      "metadata": {
        "id": "J_6RoVt9bJhp"
      }
    },
    {
      "cell_type": "markdown",
      "source": [
        "**Q. 11:** Print the English version of the French word chien using f2e.\n",
        "\n",
        "**Ans 11:** "
      ],
      "metadata": {
        "id": "L0yijUpBbKqW"
      }
    },
    {
      "cell_type": "code",
      "source": [
        "f2e['chien']"
      ],
      "metadata": {
        "colab": {
          "base_uri": "https://localhost:8080/",
          "height": 36
        },
        "id": "tpG1sTiMbGhJ",
        "outputId": "5544f2fb-3d26-4c39-e5d7-14d7af859c59"
      },
      "execution_count": 17,
      "outputs": [
        {
          "output_type": "execute_result",
          "data": {
            "text/plain": [
              "'dog'"
            ],
            "application/vnd.google.colaboratory.intrinsic+json": {
              "type": "string"
            }
          },
          "metadata": {},
          "execution_count": 17
        }
      ]
    },
    {
      "cell_type": "markdown",
      "source": [
        "\n",
        "\n",
        "---\n",
        "\n"
      ],
      "metadata": {
        "id": "oAxf4ZejbZf5"
      }
    },
    {
      "cell_type": "markdown",
      "source": [
        "**Q. 12:** Make and print a set of English words from the keys in e2f.\n",
        "\n",
        "**Ans 12:** "
      ],
      "metadata": {
        "id": "O_lLwRlIbaro"
      }
    },
    {
      "cell_type": "code",
      "source": [
        "print(list(e2f.keys()))"
      ],
      "metadata": {
        "colab": {
          "base_uri": "https://localhost:8080/"
        },
        "id": "hWxfVvMgbYSH",
        "outputId": "4aa4cc8d-d48d-4e13-f868-8c4f02ff11ca"
      },
      "execution_count": 18,
      "outputs": [
        {
          "output_type": "stream",
          "name": "stdout",
          "text": [
            "['dog', 'cat', 'walrus']\n"
          ]
        }
      ]
    },
    {
      "cell_type": "markdown",
      "source": [
        "\n",
        "\n",
        "---\n",
        "\n"
      ],
      "metadata": {
        "id": "vy5Om-lGcOIo"
      }
    },
    {
      "cell_type": "markdown",
      "source": [
        "**Q. 13:** Make a multilevel dictionary called life. Use these strings for the topmost keys: 'animals', 'plants', and 'other'. Make the 'animals' key refer to another dictionary with the keys 'cats', 'octopi', and 'emus'. Make the 'cats' key refer to a list of strings with the values 'Henri', 'Grumpy', and 'Lucy'. Make all the other keys refer to empty dictionaries.\n",
        "\n",
        "**Ans 13:** "
      ],
      "metadata": {
        "id": "XowaUw4BcPaU"
      }
    },
    {
      "cell_type": "code",
      "source": [
        "life = {\n",
        "    'animals':{\n",
        "        'cats':['Henri','Grumpy','Lucy'],\n",
        "        'octopi':{},\n",
        "        'emus':{}\n",
        "    },\n",
        "    'plants':{},\n",
        "    'other':{}\n",
        "}\n",
        "print(life)"
      ],
      "metadata": {
        "colab": {
          "base_uri": "https://localhost:8080/"
        },
        "id": "BrxITeKFcM04",
        "outputId": "de2cd5cd-8d0f-4dad-cc0f-fb0e312b77db"
      },
      "execution_count": 19,
      "outputs": [
        {
          "output_type": "stream",
          "name": "stdout",
          "text": [
            "{'animals': {'cats': ['Henri', 'Grumpy', 'Lucy'], 'octopi': {}, 'emus': {}}, 'plants': {}, 'other': {}}\n"
          ]
        }
      ]
    },
    {
      "cell_type": "markdown",
      "source": [
        "\n",
        "\n",
        "---\n",
        "\n"
      ],
      "metadata": {
        "id": "ZWSgy_VlcrwP"
      }
    },
    {
      "cell_type": "markdown",
      "source": [
        "**Q. 14:** Print the top-level keys of life.\n",
        "\n",
        "**Ans 14:** "
      ],
      "metadata": {
        "id": "w2E-SdrrcuZA"
      }
    },
    {
      "cell_type": "code",
      "source": [
        "print(list(life.keys()))"
      ],
      "metadata": {
        "colab": {
          "base_uri": "https://localhost:8080/"
        },
        "id": "31xIwRU9cmqH",
        "outputId": "c22a5502-089f-4607-9198-9ad8bb4a63f0"
      },
      "execution_count": 20,
      "outputs": [
        {
          "output_type": "stream",
          "name": "stdout",
          "text": [
            "['animals', 'plants', 'other']\n"
          ]
        }
      ]
    },
    {
      "cell_type": "markdown",
      "source": [
        "\n",
        "\n",
        "---\n",
        "\n"
      ],
      "metadata": {
        "id": "oDwft2XHdGkZ"
      }
    },
    {
      "cell_type": "markdown",
      "source": [
        "**Q. 15:** Print the keys for life['animals'].\n",
        "\n",
        "**Ans 15:** "
      ],
      "metadata": {
        "id": "laxYXDWEdHlR"
      }
    },
    {
      "cell_type": "code",
      "source": [
        "print(list(life['animals'].keys()))"
      ],
      "metadata": {
        "colab": {
          "base_uri": "https://localhost:8080/"
        },
        "id": "z-QLiUMudTMo",
        "outputId": "d8e8aa1e-17bc-439a-b30e-a49fe24fc0f3"
      },
      "execution_count": 21,
      "outputs": [
        {
          "output_type": "stream",
          "name": "stdout",
          "text": [
            "['cats', 'octopi', 'emus']\n"
          ]
        }
      ]
    },
    {
      "cell_type": "markdown",
      "source": [
        "\n",
        "\n",
        "---\n",
        "\n"
      ],
      "metadata": {
        "id": "za0YaiYqdcPs"
      }
    },
    {
      "cell_type": "markdown",
      "source": [
        "**Q. 16:** Print the values for life['animals']['cats']\n",
        "\n",
        "**Ans 16:** "
      ],
      "metadata": {
        "id": "Fa2x5qG1dc_9"
      }
    },
    {
      "cell_type": "code",
      "source": [
        "print(life['animals']['cats'])"
      ],
      "metadata": {
        "colab": {
          "base_uri": "https://localhost:8080/"
        },
        "id": "CY9LD7SidEa3",
        "outputId": "a48fb7ef-bd6f-4c31-f701-f1a4dba3f39e"
      },
      "execution_count": 22,
      "outputs": [
        {
          "output_type": "stream",
          "name": "stdout",
          "text": [
            "['Henri', 'Grumpy', 'Lucy']\n"
          ]
        }
      ]
    },
    {
      "cell_type": "markdown",
      "source": [
        "\n",
        "\n",
        "---\n",
        "\n"
      ],
      "metadata": {
        "id": "pfGRBcCGd57Z"
      }
    }
  ]
}