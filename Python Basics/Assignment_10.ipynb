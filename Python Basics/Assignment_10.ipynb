{
  "nbformat": 4,
  "nbformat_minor": 0,
  "metadata": {
    "colab": {
      "provenance": []
    },
    "kernelspec": {
      "name": "python3",
      "display_name": "Python 3"
    },
    "language_info": {
      "name": "python"
    }
  },
  "cells": [
    {
      "cell_type": "markdown",
      "source": [
        "# **Assignment 10**"
      ],
      "metadata": {
        "id": "SMVztORUHOQW"
      }
    },
    {
      "cell_type": "markdown",
      "source": [
        "**Q. 1 :** How do you distinguish between shutil.copy() and shutil.copytree()?\n",
        "\n",
        "**Ans 1 :** The shutil.copy() function will copy a single file, while shutil.copytree() will copy an entire folder, along with all its contents."
      ],
      "metadata": {
        "id": "yEh6iZw-HUgu"
      }
    },
    {
      "cell_type": "markdown",
      "source": [
        "\n",
        "\n",
        "---\n",
        "\n"
      ],
      "metadata": {
        "id": "RoLLs-f6J8Wu"
      }
    },
    {
      "cell_type": "markdown",
      "source": [
        "**Q. 2 :** What function is used to rename files?\n",
        "\n",
        "**Ans 2 :** os.rename() function is used to rename files or directories using a python program."
      ],
      "metadata": {
        "id": "blQvXQFXJ9iV"
      }
    },
    {
      "cell_type": "markdown",
      "source": [
        "\n",
        "\n",
        "---\n",
        "\n"
      ],
      "metadata": {
        "id": "tyMZ_-RnKWZN"
      }
    },
    {
      "cell_type": "markdown",
      "source": [
        "**Q. 3 :** What is the difference between the delete functions in the send2trash and shutil modules?\n",
        "\n",
        "**Ans 3 :** The send2trash functions will move a file or folder to the recycle bin, while shutil functions will permanently delete files and folders."
      ],
      "metadata": {
        "id": "F83ecfqwKXOm"
      }
    },
    {
      "cell_type": "markdown",
      "source": [
        "\n",
        "\n",
        "---\n",
        "\n"
      ],
      "metadata": {
        "id": "u2mwMgQ5Kxn9"
      }
    },
    {
      "cell_type": "markdown",
      "source": [
        "**Q. 4 :** ZipFile objects have a close() method just like File objects’ close() method. What ZipFile method is equivalent to File objects’ open() method?\n",
        "\n",
        "**Ans 4 :** ZipFile Module provides a method called as zipfile.ZipFile() to read and write to zipFiles. It takes arugments such as filename and mode.\n",
        "\n",
        "zipfile.ZipFile('filename', mode = 'r')"
      ],
      "metadata": {
        "id": "PJNDtirsKyc9"
      }
    },
    {
      "cell_type": "markdown",
      "source": [
        "\n",
        "\n",
        "---\n",
        "\n"
      ],
      "metadata": {
        "id": "egPNyyeaLaLV"
      }
    },
    {
      "cell_type": "markdown",
      "source": [
        "**Q. 5 :** Create a programme that searches a folder tree for files with a certain file extension (such as .pdf or .jpg). Copy these files from whatever location they are in to a new folder.\n",
        "\n",
        "**Ans 5 :**"
      ],
      "metadata": {
        "id": "xSrlpy5_MJZd"
      }
    },
    {
      "cell_type": "code",
      "source": [
        "import os\n",
        "import shutil\n",
        "\n",
        "def search_copy(source,destination,extensions):\n",
        "    source = os.path.abspath(source)\n",
        "    destination = os.path.abspath(destination)\n",
        "    for foldername, subfolder, filenames in os.walk(source):\n",
        "        print(f'Folder Name ➞ {foldername}',end='\\n\\n')\n",
        "        print(f'Sub Folders ➞ {subfolder}',end='\\n\\n')\n",
        "        print(f'Files ➞ {filenames}',end='\\n\\n')\n",
        "        for filename in filenames:\n",
        "            fileName,extension = os.path.splitext(filename)\n",
        "            if extension in extensions:\n",
        "                targetFile = foldername+os.path.sep+fileName+extension\n",
        "                shutil.copy(targetFile, destination)\n",
        "        print(f'Files copied successfully from {source} to {destination}')\n",
        "    \n",
        "extensions = ['.pdf','.jpg','.ipynb']\n",
        "source = 'Source Folder'\n",
        "destination = 'Destination Folder'\n",
        "search_copy(source, destination, extensions)"
      ],
      "metadata": {
        "id": "MqCY-I-wOwQU"
      },
      "execution_count": null,
      "outputs": []
    },
    {
      "cell_type": "markdown",
      "source": [
        "\n",
        "\n",
        "---\n",
        "\n"
      ],
      "metadata": {
        "id": "qmo5VfLRPDO0"
      }
    }
  ]
}