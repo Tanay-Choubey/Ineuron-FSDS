{
  "nbformat": 4,
  "nbformat_minor": 0,
  "metadata": {
    "colab": {
      "provenance": []
    },
    "kernelspec": {
      "name": "python3",
      "display_name": "Python 3"
    },
    "language_info": {
      "name": "python"
    }
  },
  "cells": [
    {
      "cell_type": "markdown",
      "source": [
        "# **Assignment 13**"
      ],
      "metadata": {
        "id": "sxaEU2157vxh"
      }
    },
    {
      "cell_type": "markdown",
      "source": [
        "**Q. 1:** What advantages do Excel spreadsheets have over CSV spreadsheets?\n",
        "\n",
        "**Ans 1:** The Advantages of Excel over CSV are:\n",
        "\n",
        "Excel (XLS and XLSX) file formats are better for storing and analysing complex data.\n",
        "An Excel not only stores data but can also do operations on the data using macros, formulas etc.\n",
        "CSV files are plain-text files, Does not contain formatting, formulas, macros, etc. It is also known as flat files."
      ],
      "metadata": {
        "id": "nc0zifPQ7nNd"
      }
    },
    {
      "cell_type": "markdown",
      "source": [
        "\n",
        "\n",
        "---\n",
        "\n"
      ],
      "metadata": {
        "id": "H2AgvMEm8TfF"
      }
    },
    {
      "cell_type": "markdown",
      "source": [
        "**Q. 2:** What do you pass to csv.reader() and csv.writer() to create reader and writer objects?\n",
        "\n",
        "**Ans 2:** "
      ],
      "metadata": {
        "id": "2lrLdj4s8VFQ"
      }
    },
    {
      "cell_type": "code",
      "source": [
        "import csv\n",
        "with open('text.csv', 'r') as file:\n",
        "    reader = csv.reader(file)\n",
        "    for row in reader:\n",
        "        print(row)"
      ],
      "metadata": {
        "id": "J2G2qzzl9BK4"
      },
      "execution_count": null,
      "outputs": []
    },
    {
      "cell_type": "markdown",
      "source": [
        "\n",
        "\n",
        "---\n",
        "\n"
      ],
      "metadata": {
        "id": "QAq6Kcab9KXy"
      }
    },
    {
      "cell_type": "markdown",
      "source": [
        "**Q. 3:** What modes do File objects for reader and writer objects need to be opened in?\n",
        "\n",
        "**Ans 3:** For csv.reader(iterable_file_object), the file objects needed to be opened in read mode mode='r' Whereas for csv.writer(iterable_file_object) the file objects needed to be opened in write mode mode='w'. "
      ],
      "metadata": {
        "id": "pPO59Aw-9L2k"
      }
    },
    {
      "cell_type": "markdown",
      "source": [
        "\n",
        "\n",
        "---\n",
        "\n"
      ],
      "metadata": {
        "id": "2cysjEBt9v74"
      }
    },
    {
      "cell_type": "markdown",
      "source": [
        "**Q. 4:** What method takes a list argument and writes it to a CSV file?\n",
        "\n",
        "**Ans 4:** csv.writer class provides two methods for writing to CSV. They are writerow() and writerows(). writerow() method writes a single row at a time. Whereas writerows() method is used to write multiple rows at a time."
      ],
      "metadata": {
        "id": "spX5yTwY9w0i"
      }
    },
    {
      "cell_type": "markdown",
      "source": [
        "\n",
        "\n",
        "---\n",
        "\n"
      ],
      "metadata": {
        "id": "3sWrOCks-D3J"
      }
    },
    {
      "cell_type": "markdown",
      "source": [
        "**Q. 5:** What do the keyword arguments delimiter and line terminator do?\n",
        "\n",
        "**Ans 5:** The delimiter argument changes the string used to separate cells in a row. The lineterminator argument changes the string used to separate rows."
      ],
      "metadata": {
        "id": "eXqWUPvN-EvJ"
      }
    },
    {
      "cell_type": "markdown",
      "source": [
        "\n",
        "\n",
        "---\n",
        "\n"
      ],
      "metadata": {
        "id": "dO4iA8xn-Z82"
      }
    },
    {
      "cell_type": "markdown",
      "source": [
        "**Q. 6:** What function takes a string of JSON data and returns a Python data structure?\n",
        "\n",
        "**Ans 6:**  "
      ],
      "metadata": {
        "id": "jfuhMPYh-bS5"
      }
    },
    {
      "cell_type": "code",
      "source": [
        "import json\n",
        "my_details_json ='''{\n",
        "    \"Name\": \"Tanay Choubey\",\n",
        "    \"Qualification\": \"Bachelor of Engineering\",\n",
        "    \"Stream\": \"Mechanical Engineering\"\n",
        "}'''\n",
        "print(my_details_json)\n",
        "print(f'Type of my_details_json is {type(my_details_json)}')\n",
        "my_details = json.loads(my_details_json)\n",
        "print(my_details)\n",
        "print(f'Type of my_details is {type(my_details)}')"
      ],
      "metadata": {
        "colab": {
          "base_uri": "https://localhost:8080/"
        },
        "id": "WRq0SXrG-_Z1",
        "outputId": "39cd5cda-f9f3-4ff2-f42f-616f0ebcdba4"
      },
      "execution_count": 2,
      "outputs": [
        {
          "output_type": "stream",
          "name": "stdout",
          "text": [
            "{\n",
            "    \"Name\": \"Tanay Choubey\",\n",
            "    \"Qualification\": \"Bachelor of Engineering\",\n",
            "    \"Stream\": \"Mechanical Engineering\"\n",
            "}\n",
            "Type of my_details_json is <class 'str'>\n",
            "{'Name': 'Tanay Choubey', 'Qualification': 'Bachelor of Engineering', 'Stream': 'Mechanical Engineering'}\n",
            "Type of my_details is <class 'dict'>\n"
          ]
        }
      ]
    },
    {
      "cell_type": "markdown",
      "source": [
        "\n",
        "\n",
        "---\n",
        "\n"
      ],
      "metadata": {
        "id": "Lp9BKchr_Via"
      }
    },
    {
      "cell_type": "markdown",
      "source": [
        "**Q. 7:** What function takes a Python data structure and returns a string of JSON data?\n",
        "\n",
        "**Ans 7:**  "
      ],
      "metadata": {
        "id": "UIwD_Spw_Wlc"
      }
    },
    {
      "cell_type": "code",
      "source": [
        "import json\n",
        "my_details = {\n",
        "    'Name':'Tanay Choubey',\n",
        "    'Qualification':'Bachelor of Engineering',\n",
        "    'Stream':'Mechanical Engineering'\n",
        "}\n",
        "print(my_details)\n",
        "print(f'Type of my_details is {type(my_details)}')\n",
        "my_details_json = json.dumps(my_details, indent=4, sort_keys=True)\n",
        "print(my_details_json)\n",
        "print(f'Type of my_details_json is {type(my_details_json)}')"
      ],
      "metadata": {
        "colab": {
          "base_uri": "https://localhost:8080/"
        },
        "id": "30TBcLFn_SL4",
        "outputId": "d6406268-1fe4-408d-d9e2-3e82a110a612"
      },
      "execution_count": 3,
      "outputs": [
        {
          "output_type": "stream",
          "name": "stdout",
          "text": [
            "{'Name': 'Tanay Choubey', 'Qualification': 'Bachelor of Engineering', 'Stream': 'Mechanical Engineering'}\n",
            "Type of my_details is <class 'dict'>\n",
            "{\n",
            "    \"Name\": \"Tanay Choubey\",\n",
            "    \"Qualification\": \"Bachelor of Engineering\",\n",
            "    \"Stream\": \"Mechanical Engineering\"\n",
            "}\n",
            "Type of my_details_json is <class 'str'>\n"
          ]
        }
      ]
    },
    {
      "cell_type": "markdown",
      "source": [
        "\n",
        "\n",
        "---\n",
        "\n"
      ],
      "metadata": {
        "id": "hlaGF8BsAQd7"
      }
    }
  ]
}