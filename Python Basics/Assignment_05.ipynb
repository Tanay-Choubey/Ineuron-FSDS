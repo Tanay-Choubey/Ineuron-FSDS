{
  "nbformat": 4,
  "nbformat_minor": 0,
  "metadata": {
    "colab": {
      "provenance": []
    },
    "kernelspec": {
      "name": "python3",
      "display_name": "Python 3"
    },
    "language_info": {
      "name": "python"
    }
  },
  "cells": [
    {
      "cell_type": "markdown",
      "source": [
        "# **Assignment 5**"
      ],
      "metadata": {
        "id": "iEN6L4meg5cs"
      }
    },
    {
      "cell_type": "markdown",
      "source": [
        "Q. 1 : What does an empty dictionary's code look like?\n",
        "\n",
        "Ans 1 : d = {} \n",
        "\n"
      ],
      "metadata": {
        "id": "0WJp2k-9g-nt"
      }
    },
    {
      "cell_type": "markdown",
      "source": [
        "\n",
        "\n",
        "---\n",
        "\n"
      ],
      "metadata": {
        "id": "nR3vGqJBiXF3"
      }
    },
    {
      "cell_type": "markdown",
      "source": [
        "Q. 2 : What is the value of dictionary value with key 'foo' and the value 42?\n",
        "\n",
        "Ans 2 : d = {'foo' : 42}"
      ],
      "metadata": {
        "id": "cI1K2TZfiYQQ"
      }
    },
    {
      "cell_type": "markdown",
      "source": [
        "\n",
        "\n",
        "---\n",
        "\n"
      ],
      "metadata": {
        "id": "Tp6r4n-kjN-N"
      }
    },
    {
      "cell_type": "markdown",
      "source": [
        "Q. 3 : What is the most significant distinction between a dictionary and a list? \n",
        "\n",
        "Ans 3 : The dictionary is created using {} or dict() whereas the list is created using [] or list()"
      ],
      "metadata": {
        "id": "39OkuGSjjPb5"
      }
    },
    {
      "cell_type": "markdown",
      "source": [
        "\n",
        "\n",
        "---\n",
        "\n"
      ],
      "metadata": {
        "id": "y831bXIPkEed"
      }
    },
    {
      "cell_type": "markdown",
      "source": [
        "Q. 4 : What happens if you try to access spam ['foo'] if spam is {'bar':100} ? \n",
        "\n",
        "Ans 4 : It will throw an error. As below :"
      ],
      "metadata": {
        "id": "pCoC_dv-kGFL"
      }
    },
    {
      "cell_type": "code",
      "source": [
        "spam = {'bar' : 100}"
      ],
      "metadata": {
        "id": "CdXMg4rgkgU-"
      },
      "execution_count": 7,
      "outputs": []
    },
    {
      "cell_type": "code",
      "source": [
        "spam['foo']"
      ],
      "metadata": {
        "colab": {
          "base_uri": "https://localhost:8080/",
          "height": 165
        },
        "id": "ipQ4pO6DkpVn",
        "outputId": "fe2ae24f-bae4-499e-950a-fc52854cac55"
      },
      "execution_count": 6,
      "outputs": [
        {
          "output_type": "error",
          "ename": "KeyError",
          "evalue": "ignored",
          "traceback": [
            "\u001b[0;31m---------------------------------------------------------------------------\u001b[0m",
            "\u001b[0;31mKeyError\u001b[0m                                  Traceback (most recent call last)",
            "\u001b[0;32m<ipython-input-6-9b5a94d1de8d>\u001b[0m in \u001b[0;36m<module>\u001b[0;34m\u001b[0m\n\u001b[0;32m----> 1\u001b[0;31m \u001b[0mspam\u001b[0m\u001b[0;34m[\u001b[0m\u001b[0;34m'foo'\u001b[0m\u001b[0;34m]\u001b[0m\u001b[0;34m\u001b[0m\u001b[0;34m\u001b[0m\u001b[0m\n\u001b[0m",
            "\u001b[0;31mKeyError\u001b[0m: 'foo'"
          ]
        }
      ]
    },
    {
      "cell_type": "markdown",
      "source": [
        "\n",
        "\n",
        "---\n",
        "\n"
      ],
      "metadata": {
        "id": "uoo3HnbdnX5q"
      }
    },
    {
      "cell_type": "markdown",
      "source": [
        "Q. 5 : If a dictionary is stored in spam, what is the difference between the expressions 'cat' in spam and 'cat' in spam.keys()?\n",
        "\n",
        "Ans 5 : There is no difference. The in operator checks whether a value exists as a key in the dictionary.\n",
        "\n",
        "*  'cat' in spam: This expression checks whether there is a key 'cat' in the dictionary.\n",
        "\n",
        "* 'cat' in spam.keys(): This will checks whether there is a key 'cat' in spam.   \n",
        "\n",
        "\n"
      ],
      "metadata": {
        "id": "Qe4W9DVvk6Hh"
      }
    },
    {
      "cell_type": "markdown",
      "source": [
        "\n",
        "\n",
        "---\n",
        "\n"
      ],
      "metadata": {
        "id": "H0p6CpH_nZXd"
      }
    },
    {
      "cell_type": "markdown",
      "source": [
        "Q. 6 : If a dictionary is stored in spam, what is the difference between the expressions 'cat' in spam and 'cat' in spam.values()?\n",
        "\n",
        "Ans 6 : Difference:\n",
        "\n",
        "*  'cat' in spam: This expression checks whether there is a 'cat' KEY in the dictionary.\n",
        "\n",
        "*  'cat' in spam.values(): This will checks whether there is a value 'cat' in spam."
      ],
      "metadata": {
        "id": "IGNH_1Bonb6e"
      }
    },
    {
      "cell_type": "markdown",
      "source": [
        "\n",
        "\n",
        "---\n",
        "\n"
      ],
      "metadata": {
        "id": "q0RNDSIzoVrJ"
      }
    },
    {
      "cell_type": "markdown",
      "source": [
        "Q. 7 : What is a shortcut for the following code?\n",
        "\n",
        "if 'color' not in spam:\n",
        "\n",
        "spam['color'] = 'black'\n",
        "\n",
        "Ans 7 : "
      ],
      "metadata": {
        "id": "XG2Y8_Mznasb"
      }
    },
    {
      "cell_type": "code",
      "source": [
        "spam = {\"cloth\" : \"shirt\", \"fabric\" : \"cotton\", \"price\" : 2000}\n",
        "\n",
        "print(spam)"
      ],
      "metadata": {
        "colab": {
          "base_uri": "https://localhost:8080/"
        },
        "id": "N8XqtTt5pFL2",
        "outputId": "11116b3e-19a3-4f56-9860-a84b8e78b1fe"
      },
      "execution_count": 8,
      "outputs": [
        {
          "output_type": "stream",
          "name": "stdout",
          "text": [
            "{'cloth': 'shirt', 'fabric': 'cotton', 'price': 2000}\n"
          ]
        }
      ]
    },
    {
      "cell_type": "code",
      "source": [
        "# shortcut code \n",
        "\n",
        "spam.setdefault('color', 'black')"
      ],
      "metadata": {
        "colab": {
          "base_uri": "https://localhost:8080/",
          "height": 36
        },
        "id": "0lSgAOkppvpS",
        "outputId": "624266e6-b5ea-42e0-b820-866d3f713aac"
      },
      "execution_count": 9,
      "outputs": [
        {
          "output_type": "execute_result",
          "data": {
            "text/plain": [
              "'black'"
            ],
            "application/vnd.google.colaboratory.intrinsic+json": {
              "type": "string"
            }
          },
          "metadata": {},
          "execution_count": 9
        }
      ]
    },
    {
      "cell_type": "code",
      "source": [
        "spam"
      ],
      "metadata": {
        "id": "K-h1no7RqIwk",
        "colab": {
          "base_uri": "https://localhost:8080/"
        },
        "outputId": "ad768532-084c-470d-d462-cea0d106a425"
      },
      "execution_count": 10,
      "outputs": [
        {
          "output_type": "execute_result",
          "data": {
            "text/plain": [
              "{'cloth': 'shirt', 'fabric': 'cotton', 'price': 2000, 'color': 'black'}"
            ]
          },
          "metadata": {},
          "execution_count": 10
        }
      ]
    },
    {
      "cell_type": "markdown",
      "source": [
        "\n",
        "\n",
        "---\n",
        "\n"
      ],
      "metadata": {
        "id": "qfki1Ijsq-HT"
      }
    },
    {
      "cell_type": "markdown",
      "source": [
        "Q. 8 : How do you \"pretty print\" dictionary values using which module and function?\n",
        "\n",
        "Ans 8 : By importing pprint and using pprint.pprint(dict_name). As below :"
      ],
      "metadata": {
        "id": "BSZP7DcRrBi4"
      }
    },
    {
      "cell_type": "code",
      "source": [
        "import pprint"
      ],
      "metadata": {
        "id": "oHEWwloSsN65"
      },
      "execution_count": 11,
      "outputs": []
    },
    {
      "cell_type": "code",
      "source": [
        "print(spam)"
      ],
      "metadata": {
        "colab": {
          "base_uri": "https://localhost:8080/"
        },
        "id": "KOWu1SU4sVxB",
        "outputId": "1407696f-b1d3-49bc-d05c-3931044992d5"
      },
      "execution_count": 12,
      "outputs": [
        {
          "output_type": "stream",
          "name": "stdout",
          "text": [
            "{'cloth': 'shirt', 'fabric': 'cotton', 'price': 2000, 'color': 'black'}\n"
          ]
        }
      ]
    },
    {
      "cell_type": "code",
      "source": [
        "pprint.pprint(spam)"
      ],
      "metadata": {
        "colab": {
          "base_uri": "https://localhost:8080/"
        },
        "id": "hbXDLKBTsdvh",
        "outputId": "3f169c41-f8a4-4b6a-dd99-2c23e7d1e162"
      },
      "execution_count": 13,
      "outputs": [
        {
          "output_type": "stream",
          "name": "stdout",
          "text": [
            "{'cloth': 'shirt', 'color': 'black', 'fabric': 'cotton', 'price': 2000}\n"
          ]
        }
      ]
    },
    {
      "cell_type": "markdown",
      "source": [
        "\n",
        "\n",
        "---\n",
        "\n"
      ],
      "metadata": {
        "id": "v_zvbQGZsjye"
      }
    }
  ]
}