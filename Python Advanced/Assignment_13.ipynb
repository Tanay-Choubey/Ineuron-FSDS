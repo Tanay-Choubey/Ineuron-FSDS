{
  "nbformat": 4,
  "nbformat_minor": 0,
  "metadata": {
    "colab": {
      "provenance": []
    },
    "kernelspec": {
      "name": "python3",
      "display_name": "Python 3"
    },
    "language_info": {
      "name": "python"
    }
  },
  "cells": [
    {
      "cell_type": "markdown",
      "source": [
        "# **Assignment 13**"
      ],
      "metadata": {
        "id": "Out11h4utmYb"
      }
    },
    {
      "cell_type": "markdown",
      "source": [
        "**Q. 1:** Can you create a programme or function that employs both positive and negative indexing? Is there any repercussion if you do so?\n",
        "\n",
        "**Ans 1:** Python supports negative indexing of an iterable object.We can access the elements of a object from the end by indexes starting from -1,-2,-3...There is no repercurssion if we use either positive or negative indexing."
      ],
      "metadata": {
        "id": "mCiUistLtrP6"
      }
    },
    {
      "cell_type": "code",
      "source": [
        "my_list = [1,2,3,4,5]\n",
        "\n",
        "print(\"Positive Indexing\")\n",
        "for i in range(len(my_list)):\n",
        "    print(my_list[i], end=', ')\n",
        "\n",
        "print('\\n')\n",
        "\n",
        "print(\"Negative Indexing\")    \n",
        "for i in range(-1, -len(my_list)-1, -1):\n",
        "    print(my_list[i], end=', ')"
      ],
      "metadata": {
        "colab": {
          "base_uri": "https://localhost:8080/"
        },
        "id": "7qk3B5_XvC_2",
        "outputId": "9271b506-f1ba-4bf9-fa64-a8a13e7fca27"
      },
      "execution_count": 1,
      "outputs": [
        {
          "output_type": "stream",
          "name": "stdout",
          "text": [
            "Positive Indexing\n",
            "1, 2, 3, 4, 5, \n",
            "\n",
            "Negative Indexing\n",
            "5, 4, 3, 2, 1, "
          ]
        }
      ]
    },
    {
      "cell_type": "markdown",
      "source": [
        "\n",
        "\n",
        "---\n",
        "\n"
      ],
      "metadata": {
        "id": "yKFTJRYovRGw"
      }
    },
    {
      "cell_type": "markdown",
      "source": [
        "**Q. 2:** What is the most effective way of starting with 1,000 elements in a Python list? Assume that all elements should be set to the same value.\n",
        "\n",
        "**Ans 2:**  "
      ],
      "metadata": {
        "id": "_4Sg1rSGvSCp"
      }
    },
    {
      "cell_type": "code",
      "source": [
        "start_list = [1 for x in range(1001)] # Quick Way to Create a List Using List Comprehension\n",
        "print(start_list)"
      ],
      "metadata": {
        "colab": {
          "base_uri": "https://localhost:8080/"
        },
        "id": "-Y_6fkS_vGsC",
        "outputId": "39a66bb4-061a-419b-a159-692fad3f84aa"
      },
      "execution_count": 2,
      "outputs": [
        {
          "output_type": "stream",
          "name": "stdout",
          "text": [
            "[1, 1, 1, 1, 1, 1, 1, 1, 1, 1, 1, 1, 1, 1, 1, 1, 1, 1, 1, 1, 1, 1, 1, 1, 1, 1, 1, 1, 1, 1, 1, 1, 1, 1, 1, 1, 1, 1, 1, 1, 1, 1, 1, 1, 1, 1, 1, 1, 1, 1, 1, 1, 1, 1, 1, 1, 1, 1, 1, 1, 1, 1, 1, 1, 1, 1, 1, 1, 1, 1, 1, 1, 1, 1, 1, 1, 1, 1, 1, 1, 1, 1, 1, 1, 1, 1, 1, 1, 1, 1, 1, 1, 1, 1, 1, 1, 1, 1, 1, 1, 1, 1, 1, 1, 1, 1, 1, 1, 1, 1, 1, 1, 1, 1, 1, 1, 1, 1, 1, 1, 1, 1, 1, 1, 1, 1, 1, 1, 1, 1, 1, 1, 1, 1, 1, 1, 1, 1, 1, 1, 1, 1, 1, 1, 1, 1, 1, 1, 1, 1, 1, 1, 1, 1, 1, 1, 1, 1, 1, 1, 1, 1, 1, 1, 1, 1, 1, 1, 1, 1, 1, 1, 1, 1, 1, 1, 1, 1, 1, 1, 1, 1, 1, 1, 1, 1, 1, 1, 1, 1, 1, 1, 1, 1, 1, 1, 1, 1, 1, 1, 1, 1, 1, 1, 1, 1, 1, 1, 1, 1, 1, 1, 1, 1, 1, 1, 1, 1, 1, 1, 1, 1, 1, 1, 1, 1, 1, 1, 1, 1, 1, 1, 1, 1, 1, 1, 1, 1, 1, 1, 1, 1, 1, 1, 1, 1, 1, 1, 1, 1, 1, 1, 1, 1, 1, 1, 1, 1, 1, 1, 1, 1, 1, 1, 1, 1, 1, 1, 1, 1, 1, 1, 1, 1, 1, 1, 1, 1, 1, 1, 1, 1, 1, 1, 1, 1, 1, 1, 1, 1, 1, 1, 1, 1, 1, 1, 1, 1, 1, 1, 1, 1, 1, 1, 1, 1, 1, 1, 1, 1, 1, 1, 1, 1, 1, 1, 1, 1, 1, 1, 1, 1, 1, 1, 1, 1, 1, 1, 1, 1, 1, 1, 1, 1, 1, 1, 1, 1, 1, 1, 1, 1, 1, 1, 1, 1, 1, 1, 1, 1, 1, 1, 1, 1, 1, 1, 1, 1, 1, 1, 1, 1, 1, 1, 1, 1, 1, 1, 1, 1, 1, 1, 1, 1, 1, 1, 1, 1, 1, 1, 1, 1, 1, 1, 1, 1, 1, 1, 1, 1, 1, 1, 1, 1, 1, 1, 1, 1, 1, 1, 1, 1, 1, 1, 1, 1, 1, 1, 1, 1, 1, 1, 1, 1, 1, 1, 1, 1, 1, 1, 1, 1, 1, 1, 1, 1, 1, 1, 1, 1, 1, 1, 1, 1, 1, 1, 1, 1, 1, 1, 1, 1, 1, 1, 1, 1, 1, 1, 1, 1, 1, 1, 1, 1, 1, 1, 1, 1, 1, 1, 1, 1, 1, 1, 1, 1, 1, 1, 1, 1, 1, 1, 1, 1, 1, 1, 1, 1, 1, 1, 1, 1, 1, 1, 1, 1, 1, 1, 1, 1, 1, 1, 1, 1, 1, 1, 1, 1, 1, 1, 1, 1, 1, 1, 1, 1, 1, 1, 1, 1, 1, 1, 1, 1, 1, 1, 1, 1, 1, 1, 1, 1, 1, 1, 1, 1, 1, 1, 1, 1, 1, 1, 1, 1, 1, 1, 1, 1, 1, 1, 1, 1, 1, 1, 1, 1, 1, 1, 1, 1, 1, 1, 1, 1, 1, 1, 1, 1, 1, 1, 1, 1, 1, 1, 1, 1, 1, 1, 1, 1, 1, 1, 1, 1, 1, 1, 1, 1, 1, 1, 1, 1, 1, 1, 1, 1, 1, 1, 1, 1, 1, 1, 1, 1, 1, 1, 1, 1, 1, 1, 1, 1, 1, 1, 1, 1, 1, 1, 1, 1, 1, 1, 1, 1, 1, 1, 1, 1, 1, 1, 1, 1, 1, 1, 1, 1, 1, 1, 1, 1, 1, 1, 1, 1, 1, 1, 1, 1, 1, 1, 1, 1, 1, 1, 1, 1, 1, 1, 1, 1, 1, 1, 1, 1, 1, 1, 1, 1, 1, 1, 1, 1, 1, 1, 1, 1, 1, 1, 1, 1, 1, 1, 1, 1, 1, 1, 1, 1, 1, 1, 1, 1, 1, 1, 1, 1, 1, 1, 1, 1, 1, 1, 1, 1, 1, 1, 1, 1, 1, 1, 1, 1, 1, 1, 1, 1, 1, 1, 1, 1, 1, 1, 1, 1, 1, 1, 1, 1, 1, 1, 1, 1, 1, 1, 1, 1, 1, 1, 1, 1, 1, 1, 1, 1, 1, 1, 1, 1, 1, 1, 1, 1, 1, 1, 1, 1, 1, 1, 1, 1, 1, 1, 1, 1, 1, 1, 1, 1, 1, 1, 1, 1, 1, 1, 1, 1, 1, 1, 1, 1, 1, 1, 1, 1, 1, 1, 1, 1, 1, 1, 1, 1, 1, 1, 1, 1, 1, 1, 1, 1, 1, 1, 1, 1, 1, 1, 1, 1, 1, 1, 1, 1, 1, 1, 1, 1, 1, 1, 1, 1, 1, 1, 1, 1, 1, 1, 1, 1, 1, 1, 1, 1, 1, 1, 1, 1, 1, 1, 1, 1, 1, 1, 1, 1, 1, 1, 1, 1, 1, 1, 1, 1, 1, 1, 1, 1, 1, 1, 1, 1, 1, 1, 1, 1, 1, 1, 1, 1, 1, 1, 1, 1, 1, 1, 1, 1, 1, 1, 1, 1, 1, 1, 1, 1, 1, 1, 1, 1, 1, 1, 1, 1, 1, 1, 1, 1, 1, 1, 1, 1, 1, 1, 1, 1, 1, 1, 1, 1, 1, 1, 1, 1, 1, 1, 1, 1, 1, 1, 1, 1, 1, 1, 1, 1, 1, 1, 1, 1, 1, 1, 1, 1, 1, 1, 1, 1, 1, 1, 1, 1, 1, 1, 1, 1, 1, 1, 1, 1, 1, 1, 1, 1, 1, 1, 1, 1, 1, 1, 1, 1, 1, 1, 1, 1, 1, 1, 1, 1, 1, 1, 1, 1, 1, 1, 1, 1, 1, 1, 1, 1, 1, 1, 1, 1, 1, 1, 1, 1, 1, 1, 1, 1, 1, 1, 1, 1, 1, 1, 1, 1, 1, 1, 1, 1, 1, 1, 1, 1, 1, 1, 1]\n"
          ]
        }
      ]
    },
    {
      "cell_type": "markdown",
      "source": [
        "\n",
        "\n",
        "---\n",
        "\n"
      ],
      "metadata": {
        "id": "dy9k42eHvvnr"
      }
    },
    {
      "cell_type": "markdown",
      "source": [
        "**Q. 3:** How do you slice a list to get any other part while missing the rest? (For example, suppose you want to make a new list with the elements first, third, fifth, seventh, and so on.)\n",
        "\n",
        "**Ans 3:** "
      ],
      "metadata": {
        "id": "6hV5X0f_vw7A"
      }
    },
    {
      "cell_type": "code",
      "source": [
        "my_list = [x for x in range(1,15)]\n",
        "print(f'my_list -> {my_list}')\n",
        "sliced_list = my_list[::2]\n",
        "print(f'sliced_list -> {sliced_list}')"
      ],
      "metadata": {
        "colab": {
          "base_uri": "https://localhost:8080/"
        },
        "id": "to4ZcbDNvrcm",
        "outputId": "a1cf12a3-4d52-423a-e35d-3a8f88669247"
      },
      "execution_count": 3,
      "outputs": [
        {
          "output_type": "stream",
          "name": "stdout",
          "text": [
            "my_list -> [1, 2, 3, 4, 5, 6, 7, 8, 9, 10, 11, 12, 13, 14]\n",
            "sliced_list -> [1, 3, 5, 7, 9, 11, 13]\n"
          ]
        }
      ]
    },
    {
      "cell_type": "markdown",
      "source": [
        "\n",
        "\n",
        "---\n",
        "\n"
      ],
      "metadata": {
        "id": "WeeKuB-cwHX6"
      }
    },
    {
      "cell_type": "markdown",
      "source": [
        "**Q. 4:** Explain the distinctions between indexing and slicing.\n",
        "\n",
        "**Ans 4:** Indexing is the way of accessing a single element of the object by its index or position, Where as, slicing enables us to access the sub parts of object. Slicing can be done using indexes."
      ],
      "metadata": {
        "id": "oJPPMKpowIvJ"
      }
    },
    {
      "cell_type": "code",
      "source": [
        "my_list = [x for x in range(1,15)]\n",
        "print(f'my_list -> {my_list}')\n",
        "print(f'Example of indexing -> {my_list[1], my_list[5]}')\n",
        "print(f'Example of slicing -> {my_list[1:5]}')"
      ],
      "metadata": {
        "colab": {
          "base_uri": "https://localhost:8080/"
        },
        "id": "qgWVVoh2wGJG",
        "outputId": "e9ba2d6d-b154-4c80-ec30-e85ad2243783"
      },
      "execution_count": 4,
      "outputs": [
        {
          "output_type": "stream",
          "name": "stdout",
          "text": [
            "my_list -> [1, 2, 3, 4, 5, 6, 7, 8, 9, 10, 11, 12, 13, 14]\n",
            "Example of indexing -> (2, 6)\n",
            "Example of slicing -> [2, 3, 4, 5]\n"
          ]
        }
      ]
    },
    {
      "cell_type": "markdown",
      "source": [
        "\n",
        "\n",
        "---\n",
        "\n"
      ],
      "metadata": {
        "id": "Z5VwIBtTw2_8"
      }
    },
    {
      "cell_type": "markdown",
      "source": [
        "**Q. 5:** What happens if one of the slicing expression's indexes is out of range?\n",
        "\n",
        "**Ans 5:** The slicing operation doesn't raise an error if one of the indices are out of range.This is in not in the case of indexing if you index an element that is out of bounds, Python will throw out of bounds error.However,with slicing it simply returns an existing accessed elements.It stops accessing elements after the end of the object is reached."
      ],
      "metadata": {
        "id": "fayrDgsZw4QK"
      }
    },
    {
      "cell_type": "code",
      "source": [
        "my_list = [x for x in range(1,15)]\n",
        "my_list = [x for x in range(1,15)]\n",
        "print(f'my_list -> {my_list}')\n",
        "print(f'Case #1 -> {my_list[20:]}')\n",
        "print(f'Case #2 -> {my_list[10:100]}')"
      ],
      "metadata": {
        "colab": {
          "base_uri": "https://localhost:8080/"
        },
        "id": "56ya5ykKwspT",
        "outputId": "60ac76c8-a1ef-4858-9594-3ac882b83524"
      },
      "execution_count": 5,
      "outputs": [
        {
          "output_type": "stream",
          "name": "stdout",
          "text": [
            "my_list -> [1, 2, 3, 4, 5, 6, 7, 8, 9, 10, 11, 12, 13, 14]\n",
            "Case #1 -> []\n",
            "Case #2 -> [11, 12, 13, 14]\n"
          ]
        }
      ]
    },
    {
      "cell_type": "markdown",
      "source": [
        "\n",
        "\n",
        "---\n",
        "\n"
      ],
      "metadata": {
        "id": "lnxLEV9NxPLd"
      }
    },
    {
      "cell_type": "markdown",
      "source": [
        "**Q. 6:** If you pass a list to a function, and if you want the function to be able to change the values of the list—so that the list is different after the function returns—what action should you do?\n",
        "\n",
        "**Ans 6:**  Always use return statement, if we want the see the changes in the input list."
      ],
      "metadata": {
        "id": "6yFOsaRKxQQu"
      }
    },
    {
      "cell_type": "code",
      "source": [
        "my_list = [1,2,3,4,5,6]\n",
        "def modify_list(in_list):\n",
        "    in_list.append(200)\n",
        "    return in_list\n",
        "print(modify_list(my_list))"
      ],
      "metadata": {
        "colab": {
          "base_uri": "https://localhost:8080/"
        },
        "id": "cQ-kgJx7xI1J",
        "outputId": "637f8178-6ebe-4e2a-cbd3-d8eb06ac0f90"
      },
      "execution_count": 6,
      "outputs": [
        {
          "output_type": "stream",
          "name": "stdout",
          "text": [
            "[1, 2, 3, 4, 5, 6, 200]\n"
          ]
        }
      ]
    },
    {
      "cell_type": "markdown",
      "source": [
        "\n",
        "\n",
        "---\n",
        "\n"
      ],
      "metadata": {
        "id": "6wXGYovyxz5W"
      }
    },
    {
      "cell_type": "markdown",
      "source": [
        "**Q. 7:** What is the concept of an unbalanced matrix?\n",
        "\n",
        "**Ans 7:** A matrix is balanced if all cells in the matrix are balenced and a cell of the matrix is balanced if the number of cells in that matrix that are adjacent to that cell is strictly greater than the value written in this cell.Adjacent cell means cells in the top,down,left,and right cell of each cell if it exists."
      ],
      "metadata": {
        "id": "aou9A2lyx1A9"
      }
    },
    {
      "cell_type": "code",
      "source": [
        "import numpy as np\n",
        "mat= np.matrix([[1,2,3],[4,5,6],[7,8,9]])\n",
        "mat\n",
        "#This is unbalenced matrix"
      ],
      "metadata": {
        "colab": {
          "base_uri": "https://localhost:8080/"
        },
        "id": "Z8PIAqmyxyC3",
        "outputId": "8e955218-edce-4d61-eaa7-e1ed335cfd12"
      },
      "execution_count": 7,
      "outputs": [
        {
          "output_type": "execute_result",
          "data": {
            "text/plain": [
              "matrix([[1, 2, 3],\n",
              "        [4, 5, 6],\n",
              "        [7, 8, 9]])"
            ]
          },
          "metadata": {},
          "execution_count": 7
        }
      ]
    },
    {
      "cell_type": "markdown",
      "source": [
        "\n",
        "\n",
        "---\n",
        "\n"
      ],
      "metadata": {
        "id": "-pr-hzawyMTZ"
      }
    },
    {
      "cell_type": "markdown",
      "source": [
        "**Q. 8:** Why is it necessary to use either list comprehension or a loop to create arbitrarily large matrices?\n",
        "\n",
        "**Ans 8:** It is necessary to use either list comprehension or a loop to create arbitrarily large matrices because it is not possible to specify the size of a matrix literally in Python. Instead, you need to create a matrix by constructing a list of lists and using list comprehension or a loop to fill it with values. This allows you to create a matrix of any size, depending on the values you specify."
      ],
      "metadata": {
        "id": "PGnoq7HFyNPj"
      }
    },
    {
      "cell_type": "markdown",
      "source": [
        "\n",
        "\n",
        "---\n",
        "\n"
      ],
      "metadata": {
        "id": "RLc95pJcybM0"
      }
    }
  ]
}