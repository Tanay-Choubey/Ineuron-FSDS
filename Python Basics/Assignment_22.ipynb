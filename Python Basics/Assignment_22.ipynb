{
  "nbformat": 4,
  "nbformat_minor": 0,
  "metadata": {
    "colab": {
      "provenance": []
    },
    "kernelspec": {
      "name": "python3",
      "display_name": "Python 3"
    },
    "language_info": {
      "name": "python"
    }
  },
  "cells": [
    {
      "cell_type": "markdown",
      "source": [
        "# **Assignment 22**"
      ],
      "metadata": {
        "id": "VmbZmTx9N01H"
      }
    },
    {
      "cell_type": "markdown",
      "source": [
        "**Q. 1:** What is the result of the code, and explain?\n",
        "\n",
        "&gt;&gt;&gt; X = &#39;iNeuron&#39;\n",
        "\n",
        "&gt;&gt;&gt; def func():\n",
        "\n",
        "print(X)\n",
        "\n",
        "&gt;&gt;&gt; func()\n",
        "\n",
        "**Ans 1:** The global variables are accessible inside the functions in python.\n",
        "But we can not access function variable outside function. \n",
        "Since x is global variable we are able to print it in side the function solution : 'iNeuron' ."
      ],
      "metadata": {
        "id": "g51M4DVwN8Xl"
      }
    },
    {
      "cell_type": "code",
      "source": [
        "X = 'iNeuron'\n",
        "def func():\n",
        "    print(X)\n",
        "func()"
      ],
      "metadata": {
        "colab": {
          "base_uri": "https://localhost:8080/"
        },
        "id": "kR4srUSEPgR2",
        "outputId": "f261cdf2-e7f1-422a-e035-9cf47f21a554"
      },
      "execution_count": 1,
      "outputs": [
        {
          "output_type": "stream",
          "name": "stdout",
          "text": [
            "iNeuron\n"
          ]
        }
      ]
    },
    {
      "cell_type": "markdown",
      "source": [
        "\n",
        "\n",
        "---\n",
        "\n"
      ],
      "metadata": {
        "id": "P_Lw4Tz5Pf2H"
      }
    },
    {
      "cell_type": "markdown",
      "source": [
        "**Q. 2:** What is the result of the code, and explain?\n",
        "\n",
        "&gt;&gt;&gt; X = &#39;iNeuron&#39;\n",
        "\n",
        "&gt;&gt;&gt; def func():\n",
        "\n",
        "X = &#39;NI!&#39;\n",
        "\n",
        "&gt;&gt;&gt; func()\n",
        "\n",
        "&gt;&gt;&gt; print(X)\n",
        "\n",
        "**Ans 2:** The global variables are access in side the functions in python. But we can not access function variable out side function.\n",
        "Since x is golbal variable we are able to print it out side of the function solution = 'iNeuron'"
      ],
      "metadata": {
        "id": "vVKfQnPsQGgG"
      }
    },
    {
      "cell_type": "code",
      "source": [
        "X = 'iNeuron'\n",
        "def func():\n",
        "    X = 'NI!'\n",
        "\n",
        "func()\n",
        "print(X)"
      ],
      "metadata": {
        "colab": {
          "base_uri": "https://localhost:8080/"
        },
        "id": "xv43KP9NQrgl",
        "outputId": "8ecd2f43-678a-44cd-aff6-ee1389f25487"
      },
      "execution_count": 2,
      "outputs": [
        {
          "output_type": "stream",
          "name": "stdout",
          "text": [
            "iNeuron\n"
          ]
        }
      ]
    },
    {
      "cell_type": "markdown",
      "source": [
        "\n",
        "\n",
        "---\n",
        "\n"
      ],
      "metadata": {
        "id": "CWxbYqo_Q3jQ"
      }
    },
    {
      "cell_type": "markdown",
      "source": [
        "**Q. 3:** What does this code print, and why?\n",
        "\n",
        "&gt;&gt;&gt; X = &#39;iNeuron&#39;\n",
        "\n",
        "&gt;&gt;&gt; def func():\n",
        "\n",
        "X = &#39;NI&#39;\n",
        "\n",
        "print(X)\n",
        "\n",
        "&gt;&gt;&gt; func()\n",
        "\n",
        "&gt;&gt;&gt; print(X)\n",
        "\n",
        "**Ans 3:**  The global variables are access in side the functions in python. But we can not access function variable out side function.\n",
        "X is updated with 'NI' which is local to function and its immutable. its name space is with in the function solution = 'NI!', 'iNeuron'"
      ],
      "metadata": {
        "id": "jl0QQH_8Q4sX"
      }
    },
    {
      "cell_type": "code",
      "source": [
        "X = 'iNeuron'\n",
        "def func():\n",
        "    X = 'NI!'\n",
        "    print(X)\n",
        "\n",
        "func()\n",
        "print(X)"
      ],
      "metadata": {
        "colab": {
          "base_uri": "https://localhost:8080/"
        },
        "id": "hBTKKiI4Q1-9",
        "outputId": "e198ac32-a379-476d-e05d-1a19a8d4b6c6"
      },
      "execution_count": 3,
      "outputs": [
        {
          "output_type": "stream",
          "name": "stdout",
          "text": [
            "NI!\n",
            "iNeuron\n"
          ]
        }
      ]
    },
    {
      "cell_type": "markdown",
      "source": [
        "\n",
        "\n",
        "---\n",
        "\n"
      ],
      "metadata": {
        "id": "zUxx0xyDRV1O"
      }
    },
    {
      "cell_type": "markdown",
      "source": [
        "**Q. 4:** What output does this code produce? Why?\n",
        "\n",
        "&gt;&gt;&gt; X = &#39;iNeuron&#39;\n",
        "\n",
        "&gt;&gt;&gt; def func():\n",
        "\n",
        "global X\n",
        "\n",
        "X = &#39;NI&#39;\n",
        "\n",
        "&gt;&gt;&gt; func()\n",
        "\n",
        "&gt;&gt;&gt; print(X)\n",
        "\n",
        "**Ans 4:** Since the X inside function is made Global, it will be accesible outside of the function too. Now X will have new value.\n",
        "\n",
        "Solution : 'NI!', 'NI!'"
      ],
      "metadata": {
        "id": "3UlN4rUMRW1W"
      }
    },
    {
      "cell_type": "code",
      "source": [
        "X = 'iNeuron'\n",
        "def func():\n",
        "    global X\n",
        "    X = 'NI!'\n",
        "    print(X)\n",
        "\n",
        "func()\n",
        "print(X)"
      ],
      "metadata": {
        "colab": {
          "base_uri": "https://localhost:8080/"
        },
        "id": "Dw_FblGJRUip",
        "outputId": "0b78a997-a7fa-4ea0-feb8-63b03d0d675c"
      },
      "execution_count": 4,
      "outputs": [
        {
          "output_type": "stream",
          "name": "stdout",
          "text": [
            "NI!\n",
            "NI!\n"
          ]
        }
      ]
    },
    {
      "cell_type": "markdown",
      "source": [
        "\n",
        "\n",
        "---\n",
        "\n"
      ],
      "metadata": {
        "id": "6evhu948R6Fe"
      }
    },
    {
      "cell_type": "markdown",
      "source": [
        "**Q. 5:** What about this code—what’s the output, and why?\n",
        "\n",
        "&gt;&gt;&gt; X = &#39;iNeuron&#39;\n",
        "\n",
        "&gt;&gt;&gt; def func():\n",
        "\n",
        "X = &#39;NI&#39;\n",
        "\n",
        "def nested():\n",
        "\n",
        "print(X)\n",
        "\n",
        "nested()\n",
        "\n",
        "&gt;&gt;&gt; func()\n",
        "\n",
        "&gt;&gt;&gt; X\n",
        "\n",
        "**Ans 5:** The above code will print NI followed by iNeuron, this is because the global varaible X is unchanged and the method nested has access to the X declared in its enclosing function func."
      ],
      "metadata": {
        "id": "24HjuwikR6zW"
      }
    },
    {
      "cell_type": "code",
      "source": [
        "X = 'iNeuron'\n",
        "def func():\n",
        "    X = 'NI'\n",
        "    def nested():\n",
        "        print(X)\n",
        "    nested()\n",
        "func()\n",
        "X"
      ],
      "metadata": {
        "colab": {
          "base_uri": "https://localhost:8080/",
          "height": 53
        },
        "id": "DeCnh0iaR5Su",
        "outputId": "3a25d950-1bb0-47e4-d288-8c20eb4e21d5"
      },
      "execution_count": 6,
      "outputs": [
        {
          "output_type": "stream",
          "name": "stdout",
          "text": [
            "NI\n"
          ]
        },
        {
          "output_type": "execute_result",
          "data": {
            "text/plain": [
              "'iNeuron'"
            ],
            "application/vnd.google.colaboratory.intrinsic+json": {
              "type": "string"
            }
          },
          "metadata": {},
          "execution_count": 6
        }
      ]
    },
    {
      "cell_type": "markdown",
      "source": [
        "\n",
        "\n",
        "---\n",
        "\n"
      ],
      "metadata": {
        "id": "oVTCoZ4GSs96"
      }
    },
    {
      "cell_type": "markdown",
      "source": [
        "**Q. 6:** How about this code: what is its output in Python 3, and explain?\n",
        "\n",
        "&gt;&gt;&gt; def func():\n",
        "\n",
        "X = &#39;NI&#39;\n",
        "\n",
        "def nested():\n",
        "\n",
        "nonlocal X\n",
        "\n",
        "X = &#39;Spam&#39;\n",
        "\n",
        "nested()\n",
        "\n",
        "print(X)\n",
        "\n",
        "&gt;&gt;&gt; func()\n",
        "\n",
        "**Ans 6:** The output of the code is Spam. nonlocal keyword in python is used to declare a variable as not local.Hence the statement X = \"Spam\" is modified in the global scope. hence the output of print(X) statement is Spam."
      ],
      "metadata": {
        "id": "Pfr5Xn6jStx6"
      }
    },
    {
      "cell_type": "code",
      "source": [
        "def func():\n",
        "    X = 'NI'\n",
        "    def nested():\n",
        "        nonlocal X\n",
        "        X = 'Spam'\n",
        "    nested()\n",
        "    print(X)\n",
        "func()"
      ],
      "metadata": {
        "colab": {
          "base_uri": "https://localhost:8080/"
        },
        "id": "zsbYABUjS7mX",
        "outputId": "1e243d9e-77b3-47a1-bf9b-7b69c6468aba"
      },
      "execution_count": 7,
      "outputs": [
        {
          "output_type": "stream",
          "name": "stdout",
          "text": [
            "Spam\n"
          ]
        }
      ]
    },
    {
      "cell_type": "markdown",
      "source": [
        "\n",
        "\n",
        "---\n",
        "\n"
      ],
      "metadata": {
        "id": "rLoy3DNFTMOW"
      }
    }
  ]
}