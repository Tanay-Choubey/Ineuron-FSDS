{
  "nbformat": 4,
  "nbformat_minor": 0,
  "metadata": {
    "colab": {
      "provenance": []
    },
    "kernelspec": {
      "name": "python3",
      "display_name": "Python 3"
    },
    "language_info": {
      "name": "python"
    }
  },
  "cells": [
    {
      "cell_type": "markdown",
      "source": [
        "# **Assignment 05**"
      ],
      "metadata": {
        "id": "uUMIlyMMO97T"
      }
    },
    {
      "cell_type": "markdown",
      "source": [
        "**Q. 1:** What are the key tasks that machine learning entails? What does data pre-processing imply?\n",
        "\n",
        "**Ans 1:** The key tasks that machine learning entails include:\n",
        "\n",
        "1. Data Collection: Collecting data from sources such as databases, APIs, and web scraping.\n",
        "\n",
        "2. Data Pre-Processing: This involves cleaning the data, removing irrelevant or incomplete data, and formatting the data into a format that is suitable for machine learning algorithms.\n",
        "\n",
        "3. Feature Engineering: This involves creating new features or transforming existing features to make them more suitable for machine learning algorithms.\n",
        "\n",
        "4. Modeling: This involves selecting an appropriate machine learning algorithm and training it on the data.\n",
        "\n",
        "5. Evaluation: This involves evaluating the performance of the model on test data and making adjustments as necessary.\n",
        "\n",
        "Data pre-processing implies cleaning and transforming the data into a format that is suitable for machine learning algorithms. This includes removing irrelevant or incomplete data, creating new features or transforming existing features, and formatting the data into a format suitable for machine learning algorithms."
      ],
      "metadata": {
        "id": "kTthNLgIPD-y"
      }
    },
    {
      "cell_type": "markdown",
      "source": [
        "\n",
        "\n",
        "---\n",
        "\n"
      ],
      "metadata": {
        "id": "3vawBYwkQBW3"
      }
    },
    {
      "cell_type": "markdown",
      "source": [
        "**Q. 2:** Describe quantitative and qualitative data in depth. Make a distinction between the two?\n",
        "\n",
        "**Ans 2:** \n",
        "\n",
        "1. Quatitative data:- This Type Of Data Type Consists Of Numerical Values.\n",
        "\n",
        "- Discrete Data Type: The Numeric Data Which Have Discrete Values Or Whole Numbers like no of cars, etc.\n",
        "\n",
        "- Continuous Data Type: The Numerical Measures Which Can Take The Value Within A Certain Range like hieght, weight, etc.\n",
        "\n",
        "2. Qualitative Data Type: These Are The Data Types That Cannot Be Expressed In Numbers.\n",
        "\n",
        "- Structured Data: This Type Of Data Is Either Number Or Words like good or bad.\n",
        "\n",
        "- Unstructured Data: This Type Of Data Does Not Have The Proper Format like images."
      ],
      "metadata": {
        "id": "1q5pG46iQCon"
      }
    },
    {
      "cell_type": "markdown",
      "source": [
        "\n",
        "\n",
        "---\n",
        "\n"
      ],
      "metadata": {
        "id": "7bsAmZYRRYJW"
      }
    },
    {
      "cell_type": "markdown",
      "source": [
        "**Q. 3:** Create a basic data collection that includes some sample records. Have at least one attribute from each of the machine learning data types?\n",
        "\n",
        "**Ans 3:** Data collection from api, web scraping or free resources. all the data types are in diffrent dataset."
      ],
      "metadata": {
        "id": "BYOLyGs_RZlB"
      }
    },
    {
      "cell_type": "markdown",
      "source": [
        "\n",
        "\n",
        "---\n",
        "\n"
      ],
      "metadata": {
        "id": "c3mKy1wIR9wg"
      }
    },
    {
      "cell_type": "markdown",
      "source": [
        "**Q. 4:** What are the various causes of machine learning data issues? What are the ramifications?\n",
        "\n",
        "**Ans 4:** Noisy data, dirty data, and incomplete data are the quintessential enemies of ideal Machine Learning. The solution to this conundrum is to take the time to evaluate and scope data with meticulous data governance, data integration, and data exploration until you get clear data. Ramifications or major issues in machine learning are:\n",
        "\n",
        "1. Five practical issues in machine learning and the business implications Data quality.\n",
        "2. Machine learning systems rely on data.\n",
        "3. The complexity and quality trade-off.\n",
        "4. Sampling bias in data.\n",
        "5. Changing expectations and concept drift.\n",
        "6. Monitoring and maintenance."
      ],
      "metadata": {
        "id": "PLfjWHEHR-jk"
      }
    },
    {
      "cell_type": "markdown",
      "source": [
        "\n",
        "\n",
        "---\n",
        "\n"
      ],
      "metadata": {
        "id": "2urk9vBdSatv"
      }
    },
    {
      "cell_type": "markdown",
      "source": [
        "**Q. 5:** Demonstrate various approaches to categorical data exploration with appropriate examples?\n",
        "\n",
        "**Ans 5:** Exploring categorical data can involve creating frequency distributions, inspecting distributions of means across categories, and visualizing counts and proportions. For example, a frequency distribution of gender can be used to compare the number of males and females in a population."
      ],
      "metadata": {
        "id": "Rff_EPK9Sb-d"
      }
    },
    {
      "cell_type": "markdown",
      "source": [
        "\n",
        "\n",
        "---\n",
        "\n"
      ],
      "metadata": {
        "id": "_7sPBh04Tmoy"
      }
    },
    {
      "cell_type": "markdown",
      "source": [
        "**Q. 6:** How would the learning activity be affected if certain variables have missing values? Having said that, what can be done about it?\n",
        "\n",
        "**Ans 6:** The learning activity would be affected if certain variables have missing values as the machine learning algorithm would not be able to use them to make accurate predictions. To address this problem, missing values can be imputed by replacing them with the mean, median, or mode of the data set or a predictive algorithm can be used to estimate the missing values."
      ],
      "metadata": {
        "id": "7S7WuBsBTn7V"
      }
    },
    {
      "cell_type": "markdown",
      "source": [
        "\n",
        "\n",
        "---\n",
        "\n"
      ],
      "metadata": {
        "id": "X0j6bUujT4Ha"
      }
    },
    {
      "cell_type": "markdown",
      "source": [
        "**Q. 7:** Describe the various methods for dealing with missing data values in depth.\n",
        "\n",
        "**Ans 7:** The Various Methods for dealing with missing data values are:\n",
        "\n",
        "1. Delete the observations: If there is a large number of observations in the dataset, where all the classes to be predicted are sufficiently represented in the training data, then try deleting the missing value observations, which would not bring significant change in your feed to your model. For Example Implement this method in a given dataset, we can delete the entire row which contains missing values.\n",
        "\n",
        "2. Replace missing values with the most frequent value: You can always impute them based on Mode in the case of categorical variables, just make sure you don’t have highly skewed class distributions.\n",
        "\n",
        "3. Develop a model to predict missing values: One smart way of doing this could be training a classifier over your columns with missing values as a dependent variable against other features of your data set and trying to impute based on the newly trained classifier. "
      ],
      "metadata": {
        "id": "1oti8c2KT5Jj"
      }
    },
    {
      "cell_type": "markdown",
      "source": [
        "\n",
        "\n",
        "---\n",
        "\n"
      ],
      "metadata": {
        "id": "A8gqAcbaUcBs"
      }
    },
    {
      "cell_type": "markdown",
      "source": [
        "**Q. 8:** What are the various data pre-processing techniques? Explain dimensionality reduction and function selection in a few words.\n",
        "\n",
        "**Ans 8:** Data pre-processing techniques include data cleaning, data transformation, data integration, data reduction, data discretization, and data normalization.\n",
        "Dimensionality reduction is a technique that reduces the number of random variables (dimensions) in a dataset to a more manageable size. It is used to reduce the complexity of a dataset so that it can be more easily analyzed and interpreted.\n",
        "Feature selection is a technique used to select a subset of the most relevant features in a dataset for use in a model. It is used to reduce the number of features in a dataset so that the model can focus on the most important ones."
      ],
      "metadata": {
        "id": "tJlCiSWOUdZM"
      }
    },
    {
      "cell_type": "markdown",
      "source": [
        "\n",
        "\n",
        "---\n",
        "\n"
      ],
      "metadata": {
        "id": "EN7no2O8U_-H"
      }
    },
    {
      "cell_type": "markdown",
      "source": [
        "**Q. 9:**\n",
        "\n",
        "1. What is the IQR? What criteria are used to assess it?\n",
        "2. Describe the various components of a box plot in detail? When will the lower whisker surpass the upper whisker in length? How can box plots be used to identify outliers?\n",
        "\n",
        "**Ans 9:** The following is the brief notes on the following topics:\n",
        "\n",
        "1. What is the IQR? What criteria are used to assess it?\n",
        "\n",
        "- Q1 is the first quartile of the data, i.e., to say 25% of the data lies between minimum and Q1.\n",
        "- Q3 is the third quartile of the data, i.e., to say 75% of the data lies between minimum and Q3.\n",
        "- The difference between Q3 and Q1 is called the Inter-Quartile Range or IQR.\n",
        "\n",
        "2. Describe the various components of a box plot in detail? When will the lower whisker surpass the upper whisker in length? How can box plots be used to identify outliers?\n",
        "\n",
        "- minimum is the minimum value in the dataset\n",
        "- maximum is the maximum value in the dataset.\n",
        "- So the difference between the two tells us about the range of dataset.\n",
        "- The median is the median (or centre point), also called second quartile, of the data (resulting from the fact that the data is ordered).\n",
        "- Q1 is the first quartile of the data, i.e., to say 25% of the data lies between minimum and Q1.\n",
        "- Q3 is the third quartile of the data, i.e., to say 75%\n",
        "- When the data is left skewed, lower whisker will be longer than upper whisker.\n",
        "- To detect the outliers this method is used, we define a new range, let’s call it decision range, and any data point lying outside this range is considered as outlier and is accordingly dealt with. The range is as given below:\n",
        "\n",
        "Lower Bound: (Q1 - 1.5 * IQR)Upper Bound: (Q3 + 1.5 * IQR)\n",
        "\n",
        "- The difference between Q3 and Q1 is called the Inter-Quartile Range or IQR."
      ],
      "metadata": {
        "id": "FsaQroQ0VAy-"
      }
    },
    {
      "cell_type": "markdown",
      "source": [
        "\n",
        "\n",
        "---\n",
        "\n"
      ],
      "metadata": {
        "id": "b6UevMipWoNi"
      }
    },
    {
      "cell_type": "markdown",
      "source": [
        "**Q. 10:** Make brief notes on any two of the following ?\n",
        "1. Data collected at regular intervals\n",
        "2. The gap between the quartiles\n",
        "3. Use a cross-tab\n",
        "\n",
        "**Ans 10:** The following are the brief notes about:\n",
        "\n",
        "1. Data collected at regular intervals:\n",
        "\n",
        "- Interval data is one of the two types of discrete data.\n",
        "- An example of interval data is the data collected on a thermometer—its gradation or markings are equidistant.\n",
        "- Unlike ordinal data, interval data always take numerical values where the distance between two points on the scale is standardised and equal.\n",
        "2. The gap between the quartiles:\n",
        "\n",
        "- Q1 is the first quartile of the data, i.e., to say 25% of the data lies between minimum and Q1.\n",
        "- Q3 is the third quartile of the data, i.e., to say 75% of the data lies between minimum and Q3.\n",
        "- The difference between Q3 and Q1 is called the Inter-Quartile Range or IQR."
      ],
      "metadata": {
        "id": "q2sxmrWnWqhd"
      }
    },
    {
      "cell_type": "markdown",
      "source": [
        "\n",
        "\n",
        "---\n",
        "\n"
      ],
      "metadata": {
        "id": "Ya2Ls9fiYaoI"
      }
    },
    {
      "cell_type": "markdown",
      "source": [
        "**Q. 11:** Make a comparison between ?\n",
        "1. Data with nominal and ordinal values\n",
        "2. Histogram and box plot\n",
        "3. The average and median\n",
        "\n",
        "**Ans 11:** The following are the brief notes about:\n",
        "\n",
        "- The average and median: The mean (informally, the “average“) is found by adding all of the numbers together and dividing by the number of items in the set: 10 + 10 + 20 + 40 + 70 / 5 = 30. The median is found by ordering the set from lowest to highest and finding the exact middle. The median is just the middle number: 20\n",
        "\n",
        "- Histogram and barplot: Histograms and box plots are very similar in that they both help to visualize and describe numeric data. Although histograms are better in determining the underlying distribution of the data, box plots allow you to compare multiple data sets better than histograms as they are less detailed and take up less space.\n"
      ],
      "metadata": {
        "id": "LcJ9JqAhXb-P"
      }
    },
    {
      "cell_type": "markdown",
      "source": [
        "\n",
        "\n",
        "---\n",
        "\n"
      ],
      "metadata": {
        "id": "gjGosMx0YYb_"
      }
    }
  ]
}