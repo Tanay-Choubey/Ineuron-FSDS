{
  "nbformat": 4,
  "nbformat_minor": 0,
  "metadata": {
    "colab": {
      "provenance": []
    },
    "kernelspec": {
      "name": "python3",
      "display_name": "Python 3"
    },
    "language_info": {
      "name": "python"
    }
  },
  "cells": [
    {
      "cell_type": "markdown",
      "source": [
        "# **Assignment 4**"
      ],
      "metadata": {
        "id": "BDx_GkxUvycN"
      }
    },
    {
      "cell_type": "markdown",
      "source": [
        "**Q. 1:** Which two operator overloading methods can you use in your classes to support iteration?\n",
        "\n",
        "**Ans 1:** `__iter__` and `__next__` are the operator overloading methods in python that support iteration and are collectively called iterator protocol.\n",
        "\n",
        "- `__iter__`returns the iterator object and is called at the start of loop in our respective class.\n",
        "- `__next__` is called at each loop increment, it returns the incremented value. Also Stopiteration is raised when there is no value to return."
      ],
      "metadata": {
        "id": "tyBnc_04v29m"
      }
    },
    {
      "cell_type": "code",
      "source": [
        "class Counter:\n",
        "    def __init__(self,low,high):\n",
        "        self.current = low\n",
        "        self.high = high\n",
        "    def __iter__(self):\n",
        "        return self\n",
        "    def __next__(self):\n",
        "        if self.current > self.high:\n",
        "            raise StopIteration\n",
        "        else:\n",
        "            self.current += 1\n",
        "            return self.current - 1\n",
        "for ele in Counter(3,32):\n",
        "    print(ele, end=\" \")"
      ],
      "metadata": {
        "colab": {
          "base_uri": "https://localhost:8080/"
        },
        "id": "hXA-Bu291fOv",
        "outputId": "8b2cfe2d-1c48-4078-8e25-fc3080170e70"
      },
      "execution_count": 1,
      "outputs": [
        {
          "output_type": "stream",
          "name": "stdout",
          "text": [
            "3 4 5 6 7 8 9 10 11 12 13 14 15 16 17 18 19 20 21 22 23 24 25 26 27 28 29 30 31 32 "
          ]
        }
      ]
    },
    {
      "cell_type": "markdown",
      "source": [
        "\n",
        "\n",
        "---\n",
        "\n"
      ],
      "metadata": {
        "id": "3OR-CkxL14Xe"
      }
    },
    {
      "cell_type": "markdown",
      "source": [
        "**Q. 2:** In what contexts do the two operator overloading methods manage printing?\n",
        "\n",
        "**Ans 2:** `__str__` and `__repr__` are two operator overloading methods that manage printing.\n",
        "\n",
        "1. In Short, the difference between both these operators is the goal of `__repr__` is to be unambiguous and `__str__` is to be readable.\n",
        "\n",
        "2. Whenever we are printing any object reference internally `__str__` method will be called by default.\n",
        "\n",
        "3. The main purpose of `__str__` is for readability. it prints the informal string representation of an object, one that is useful for printing the object. it may not be possible to convert result string to original object.\n",
        "\n",
        "4. `__repr__` is used to print official string representation of an object, so it includes all information and development. "
      ],
      "metadata": {
        "id": "MjHgR3_l2AhE"
      }
    },
    {
      "cell_type": "markdown",
      "source": [
        "\n",
        "\n",
        "---\n",
        "\n"
      ],
      "metadata": {
        "id": "D3CJMgZm3hBX"
      }
    },
    {
      "cell_type": "markdown",
      "source": [
        "**Q. 3:** In a class, how do you intercept slice operations?\n",
        "\n",
        "**Ans 3:**  In a class use of slice() in `__getitem__` method is used for intercept slice operation. This slice method is provided with start integer number, stop integer number and step integer number.\n",
        "\n",
        "Example: `__getitem__(slice(start,stop,step))`"
      ],
      "metadata": {
        "id": "_fORQUlR3iGH"
      }
    },
    {
      "cell_type": "markdown",
      "source": [
        "\n",
        "\n",
        "---\n",
        "\n"
      ],
      "metadata": {
        "id": "YdmfimyX4ucS"
      }
    },
    {
      "cell_type": "markdown",
      "source": [
        "**Q. 4:**  In a class, how do you capture in-place addition?\n",
        "\n",
        "**Ans 4:** In a class, `__iadd__` method is used to capture the in-place addition."
      ],
      "metadata": {
        "id": "le1JOTmN4vlJ"
      }
    },
    {
      "cell_type": "code",
      "source": [
        "class Add:\n",
        "    def __init__(self, num):\n",
        "        self.num = num\n",
        "    \n",
        "    def __iadd__(self, digit):\n",
        "        self.num += digit.num\n",
        "        return self.num\n",
        "\n",
        "n = Add(num=700)\n",
        "d = Add(num=77)\n",
        "n += d\n",
        "print('Addition = ', n)"
      ],
      "metadata": {
        "colab": {
          "base_uri": "https://localhost:8080/"
        },
        "id": "K5Cln9MF11qS",
        "outputId": "6c5ce2f9-fdf3-40ec-9bd2-c97debb487c3"
      },
      "execution_count": 5,
      "outputs": [
        {
          "output_type": "stream",
          "name": "stdout",
          "text": [
            "Addition =  777\n"
          ]
        }
      ]
    },
    {
      "cell_type": "markdown",
      "source": [
        "\n",
        "\n",
        "---\n",
        "\n"
      ],
      "metadata": {
        "id": "xmJ7zlJw6mPT"
      }
    },
    {
      "cell_type": "markdown",
      "source": [
        "**Q. 5:** When is it appropriate to use operator overloading?\n",
        "\n",
        "**Ans 5:** Operator overloading is used when we want to use an operator other than its normal operation to have different meaning according to the context required in user defined function."
      ],
      "metadata": {
        "id": "G2U3JkOd6nTL"
      }
    },
    {
      "cell_type": "code",
      "source": [
        "class Book:\n",
        "    def __init__(self,pages):\n",
        "        self.pages = pages\n",
        "    def __add__(self,other):\n",
        "        return self.pages+other.pages\n",
        "b1 = Book(441)\n",
        "b2 = Book(447)\n",
        "print(f'Total Number of Pages -> {b1+b2}')"
      ],
      "metadata": {
        "colab": {
          "base_uri": "https://localhost:8080/"
        },
        "id": "ZERHuoNJ6jba",
        "outputId": "91841db9-f3be-4b71-b4e3-6d8a8280549d"
      },
      "execution_count": 4,
      "outputs": [
        {
          "output_type": "stream",
          "name": "stdout",
          "text": [
            "Total Number of Pages -> 888\n"
          ]
        }
      ]
    },
    {
      "cell_type": "markdown",
      "source": [
        "\n",
        "\n",
        "---\n",
        "\n"
      ],
      "metadata": {
        "id": "CXNaKe5C7G3r"
      }
    }
  ]
}