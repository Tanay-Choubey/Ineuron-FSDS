{
  "nbformat": 4,
  "nbformat_minor": 0,
  "metadata": {
    "colab": {
      "provenance": []
    },
    "kernelspec": {
      "name": "python3",
      "display_name": "Python 3"
    },
    "language_info": {
      "name": "python"
    }
  },
  "cells": [
    {
      "cell_type": "markdown",
      "source": [
        "# **Assignment 12**"
      ],
      "metadata": {
        "id": "vuiJXRfLtrlO"
      }
    },
    {
      "cell_type": "markdown",
      "source": [
        "**Q. 1:** In what modes should the PdfFileReader() and PdfFileWriter() File objects will be opened?\n",
        "\n",
        "**Ans 1:** For PdfFileReader() file objects should be opened in rb -> read binary mode, Whereas for PdfFileWriter() file objects should be opened in wb -> write binary mode."
      ],
      "metadata": {
        "id": "ZIUYiSB6t57x"
      }
    },
    {
      "cell_type": "markdown",
      "source": [
        "\n",
        "\n",
        "---\n"
      ],
      "metadata": {
        "id": "0899nyU9xQC0"
      }
    },
    {
      "cell_type": "markdown",
      "source": [
        "**Q. 2:** From a PdfFileReader object, how do you get a Page object for page 5?\n",
        "\n",
        "**Ans 2:** Calling getPage(4) will return a Page object for About This Book, since page 0 is the first page."
      ],
      "metadata": {
        "id": "Cnv0SAp5xV7h"
      }
    },
    {
      "cell_type": "code",
      "execution_count": null,
      "metadata": {
        "id": "fjlLbMCotpjd"
      },
      "outputs": [],
      "source": [
        "# Example Code:\n",
        "from PyPDF2 import PdfFileReader\n",
        "pdf_reader = PdfFileReader(file_path)\n",
        "for page in pdf_reader.getNumPages():\n",
        "    pdf_reader.getPage(page)"
      ]
    },
    {
      "cell_type": "markdown",
      "source": [
        "\n",
        "\n",
        "---\n",
        "\n"
      ],
      "metadata": {
        "id": "Th_v5aVsy7WZ"
      }
    },
    {
      "cell_type": "markdown",
      "source": [
        "**Q. 3:** What PdfFileReader variable stores the number of pages in the PDF document?\n",
        "\n",
        "**Ans 3:** getNumPages() method of PdfFileReader class stores the no pages in a PDF document."
      ],
      "metadata": {
        "id": "IficFw1oy8dS"
      }
    },
    {
      "cell_type": "markdown",
      "source": [
        "\n",
        "\n",
        "---\n",
        "\n"
      ],
      "metadata": {
        "id": "smbMXOqKzfCp"
      }
    },
    {
      "cell_type": "markdown",
      "source": [
        "**Q. 4:** If a PdfFileReader object’s PDF is encrypted with the password swordfish, what must you do before you can obtain Page objects from it?\n",
        "\n",
        "**Ans 4:** If a PdfFileReader object’s PDF is encrypted with the password swordfish and we are not aware of it, we will first read the Pdf using the PdfFileReader Class. PdfFileReader class provides a attribute called isEncrypted to check whether a pdf is encrypted or not. The method returns true if a pdf is encrypted and vice versa. If pdf is encrypted we will use the decrypt() method provided by PdfFileReader class and then we will try to read the contents/pages of the pdf, else PyPDF2 will raise the following error PyPDF2.utils.PdfReadError: file has not been decrypted."
      ],
      "metadata": {
        "id": "azdOUV5UzgHy"
      }
    },
    {
      "cell_type": "code",
      "source": [
        "#Example Code:\n",
        "from PyPDF2 import PdfFileReader\n",
        "pdf_reader = PdfFileReader(file_path)\n",
        "if pdf_reader.isEncrypted: # to check whether the pdf is encrypted or not\n",
        "    pdf_reader.decrypt(\"swordfish\")\n",
        "for page in pdf_reader.pages:\n",
        "    print(page.extractText()) # to print the text data of a page from pdf"
      ],
      "metadata": {
        "id": "gr8jTBWy0YLA"
      },
      "execution_count": null,
      "outputs": []
    },
    {
      "cell_type": "markdown",
      "source": [
        "\n",
        "\n",
        "---\n",
        "\n"
      ],
      "metadata": {
        "id": "_vCD5qax0Mt1"
      }
    },
    {
      "cell_type": "markdown",
      "source": [
        "**Q. 5:** What methods do you use to rotate a page?\n",
        "\n",
        "**Ans 5:** The rotateClockwise() and rotateCounterClockwise() methods. The degrees to rotate is passed as an integer argument."
      ],
      "metadata": {
        "id": "Zfr_bEko0Nz5"
      }
    },
    {
      "cell_type": "markdown",
      "source": [
        "\n",
        "\n",
        "---\n",
        "\n"
      ],
      "metadata": {
        "id": "QTFdH0Yt0pws"
      }
    },
    {
      "cell_type": "markdown",
      "source": [
        "**Q. 6:** What is the difference between a Run object and a Paragraph object?\n",
        "\n",
        "**Ans 6:** Paragraph object is needed to get paragraph from a document , Run object is needed whenever text style changes in a paragraph."
      ],
      "metadata": {
        "id": "gK6k9Dld0qqP"
      }
    },
    {
      "cell_type": "markdown",
      "source": [
        "\n",
        "\n",
        "---\n",
        "\n"
      ],
      "metadata": {
        "id": "ETCRE9MW1ZMS"
      }
    },
    {
      "cell_type": "markdown",
      "source": [
        "**Q. 7:** How do you obtain a list of Paragraph objects for a Document object that’s stored in a variable named doc?\n",
        "\n",
        "**Ans 7:** "
      ],
      "metadata": {
        "id": "C1mGTJfj1aFi"
      }
    },
    {
      "cell_type": "code",
      "source": [
        "# Firstly :\n",
        "\n",
        "!pip install docx"
      ],
      "metadata": {
        "id": "qArWYZxe1z5i"
      },
      "execution_count": null,
      "outputs": []
    },
    {
      "cell_type": "code",
      "source": [
        "# For Example : \n",
        "from docx import Document\n",
        "doc = Document(\"sample_file.docx\") # Path of the Docx file\n",
        "print(doc.paragraphs) # Prints the list of Paragraph objects for a Document\n",
        "for paragraph in doc.paragraphs:\n",
        "    print(paragraph.text) # Prints the text in the paragraph"
      ],
      "metadata": {
        "id": "KgvgwXTy2B4K"
      },
      "execution_count": null,
      "outputs": []
    },
    {
      "cell_type": "markdown",
      "source": [
        "\n",
        "\n",
        "---\n",
        "\n"
      ],
      "metadata": {
        "id": "Zls7WotY2SEs"
      }
    },
    {
      "cell_type": "markdown",
      "source": [
        "**Q. 8:** What type of object has bold, underline, italic, strike, and outline variables?\n",
        "\n",
        "**Ans 8:** Run object has bold, underline, italic, strike, and outline variables. The text in a Word document is more than just a string. It has font, size, color, and other styling information associated with it."
      ],
      "metadata": {
        "id": "0EFMc4JK2T-h"
      }
    },
    {
      "cell_type": "markdown",
      "source": [
        "\n",
        "\n",
        "---\n",
        "\n"
      ],
      "metadata": {
        "id": "DGlVdl5U3AFG"
      }
    },
    {
      "cell_type": "markdown",
      "source": [
        "**Q. 9:** What is the difference between False, True, and None for the bold variable?\n",
        "\n",
        "**Ans 9:** "
      ],
      "metadata": {
        "id": "SNaiqquh3BGI"
      }
    },
    {
      "cell_type": "code",
      "source": [
        "bold = True  # Style Set to Bold\n",
        "bold = False # Style Not Set to Bold\n",
        "bold = None # Style is Not Applicable"
      ],
      "metadata": {
        "id": "-tL9awnd3sNu"
      },
      "execution_count": 1,
      "outputs": []
    },
    {
      "cell_type": "markdown",
      "source": [
        "\n",
        "\n",
        "---\n",
        "\n"
      ],
      "metadata": {
        "id": "6Npsr_-6337E"
      }
    },
    {
      "cell_type": "markdown",
      "source": [
        "**Q. 10:** How do you create a Document object for a new Word document?\n",
        "\n",
        "**Ans 10:** "
      ],
      "metadata": {
        "id": "oIR7ZiCw3459"
      }
    },
    {
      "cell_type": "code",
      "source": [
        "# For Example:\n",
        "\n",
        "from docx import Document\n",
        "document = Document()\n",
        "document.add_paragraph(\"iNeuron Data Science\")\n",
        "document.save('mydocument.docx')"
      ],
      "metadata": {
        "id": "uxsGocx04nie"
      },
      "execution_count": null,
      "outputs": []
    },
    {
      "cell_type": "markdown",
      "source": [
        "\n",
        "\n",
        "---\n",
        "\n"
      ],
      "metadata": {
        "id": "XWBkEULy4xDO"
      }
    },
    {
      "cell_type": "markdown",
      "source": [
        "**Q. 11:** How do you add a paragraph with the text 'Hello, there!' to a Document object stored in a variable named doc?\n",
        "\n",
        "**Ans 11:** "
      ],
      "metadata": {
        "id": "8fytxOJ54yLj"
      }
    },
    {
      "cell_type": "code",
      "source": [
        "# For Example:\n",
        "\n",
        "from docx import Document\n",
        "doc = Document()\n",
        "doc.add_paragraph('Hello, there!')\n",
        "doc.save('hello.docx')"
      ],
      "metadata": {
        "id": "8Hb-u92J5GZF"
      },
      "execution_count": null,
      "outputs": []
    },
    {
      "cell_type": "markdown",
      "source": [
        "\n",
        "\n",
        "---\n",
        "\n"
      ],
      "metadata": {
        "id": "-7EO4Jh75U9D"
      }
    },
    {
      "cell_type": "markdown",
      "source": [
        "**Q. 12:** What integers represent the levels of headings available in Word documents?\n",
        "\n",
        "**Ans 12:** There are a total of 5 levels statring for 0 to 4. "
      ],
      "metadata": {
        "id": "JyB670885W2y"
      }
    },
    {
      "cell_type": "markdown",
      "source": [
        "\n",
        "\n",
        "---\n",
        "\n"
      ],
      "metadata": {
        "id": "wy2-kmjg55Ib"
      }
    }
  ]
}