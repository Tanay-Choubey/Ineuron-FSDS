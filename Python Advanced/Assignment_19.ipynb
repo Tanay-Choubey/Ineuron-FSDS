{
  "nbformat": 4,
  "nbformat_minor": 0,
  "metadata": {
    "colab": {
      "provenance": []
    },
    "kernelspec": {
      "name": "python3",
      "display_name": "Python 3"
    },
    "language_info": {
      "name": "python"
    }
  },
  "cells": [
    {
      "cell_type": "markdown",
      "source": [
        "# **Assignment 19**"
      ],
      "metadata": {
        "id": "34H82P_ExZon"
      }
    },
    {
      "cell_type": "markdown",
      "source": [
        "**Q. 1:** Define the relationship between a class and its instances. Is it a one-to-one or a one-to-many partnership, for example?\n",
        "\n",
        "**Ans 1:** The relationship between a class and its instances is a one-to-many relationship. This means that a single class can be used to create multiple instances, which are individual objects that belong to the class. Each instance has its own state and behavior, which is defined by the class, but the instances are distinct from one another and can have different values for their attributes.\n",
        "\n",
        "Example : consider a Dog class that defines the behavior and characteristics of a dog. You can create multiple instances of the Dog class, such as a spot instance and a rufus instance, which represent two individual dogs. Each instance will have its own attributes, such as breed, name, and age, which can be set to different values for each instance."
      ],
      "metadata": {
        "id": "kq8gFKwxyBju"
      }
    },
    {
      "cell_type": "markdown",
      "source": [
        "\n",
        "\n",
        "---\n",
        "\n"
      ],
      "metadata": {
        "id": "YnXUc5YWzqBn"
      }
    },
    {
      "cell_type": "markdown",
      "source": [
        "**Q. 2:** What kind of data is held only in an instance?\n",
        "\n",
        "**Ans 2:** Instance objects contains the Instance variables which are specific to that specific Instance object."
      ],
      "metadata": {
        "id": "XroU4naHzrER"
      }
    },
    {
      "cell_type": "markdown",
      "source": [
        "\n",
        "\n",
        "---\n",
        "\n"
      ],
      "metadata": {
        "id": "4DF8MnpJz8wp"
      }
    },
    {
      "cell_type": "markdown",
      "source": [
        "**Q. 3:** What kind of knowledge is stored in a class?\n",
        "\n",
        "**Ans 3:** Class data is knowledge that is shared among all instances of a class. This can include class variables, class methods, and other information that is associated with the class as a whole, rather than with individual instances. Class data is stored in the class and is shared by all instances of the class."
      ],
      "metadata": {
        "id": "X6j8zi9n0J_c"
      }
    },
    {
      "cell_type": "markdown",
      "source": [
        "\n",
        "\n",
        "---\n",
        "\n"
      ],
      "metadata": {
        "id": "xjYTcjcG01hn"
      }
    },
    {
      "cell_type": "markdown",
      "source": [
        "**Q. 4:** What exactly is a method, and how is it different from a regular function?\n",
        "\n",
        "**Ans 4:** The methods with a class can be used to access the insatnce variables of its instance. So,the object's state can be modified by its method. Function can't access the attributes of an instance of a class or can't modify the state of the object. "
      ],
      "metadata": {
        "id": "OxJNxjX3021y"
      }
    },
    {
      "cell_type": "markdown",
      "source": [
        "\n",
        "\n",
        "---\n",
        "\n"
      ],
      "metadata": {
        "id": "nx1Zosav1tOO"
      }
    },
    {
      "cell_type": "markdown",
      "source": [
        "**Q. 5:** Is inheritance supported in Python, and if so, what is the syntax?\n",
        "\n",
        "**Ans 5:** Yes, Python supports inheritance. The Types of Inheritence Supported by Python are:\n",
        "\n",
        "1. Simple Inheritence.\n",
        "\n",
        "2. Multiple Inheritence.\n",
        "\n",
        "3. Multilevel Inheritence.\n",
        "\n",
        "4. Hybrid Inheritence.\n",
        "\n",
        "5. Hierracial Inheritence."
      ],
      "metadata": {
        "id": "Ic59C0N31uwI"
      }
    },
    {
      "cell_type": "code",
      "source": [
        "class Person:\n",
        "    def __init__(self, fname, lname):\n",
        "        self.first_name = fname\n",
        "        self.last_name = lname\n",
        "class Student(Person):\n",
        "    pass"
      ],
      "metadata": {
        "id": "Ct1YLQEh1sMc"
      },
      "execution_count": 1,
      "outputs": []
    },
    {
      "cell_type": "markdown",
      "source": [
        "\n",
        "\n",
        "---\n",
        "\n"
      ],
      "metadata": {
        "id": "s1N7M9ox2sw_"
      }
    },
    {
      "cell_type": "markdown",
      "source": [
        "**Q. 6:** How much encapsulation (making instance or class variables private) does Python support?\n",
        "\n",
        "**Ans 6:** Encapasulation prevents from accessing accidentally,but not intentionally.The private attributes and methods are not really hidden.The private attributes can be accessed within the object method."
      ],
      "metadata": {
        "id": "b6c4XyJq2u7j"
      }
    },
    {
      "cell_type": "markdown",
      "source": [
        "\n",
        "\n",
        "---\n",
        "\n"
      ],
      "metadata": {
        "id": "KAyC0zlK3Gzz"
      }
    },
    {
      "cell_type": "markdown",
      "source": [
        "**Q. 7:** How do you distinguish between a class variable and an instance variable?\n",
        "\n",
        "**Ans 7:** A class variable is a variable that is shared among all instances of a class. An instance variable is a variable that is specific to a particular instance of a class and is not shared among instances.\n",
        "\n",
        "To distinguish between a class variable and an instance variable in Python, you can look at the location of the variable definition. Class variables are defined at the class level, outside of any instance methods, and are usually accessed using the class name. Instance variables are defined inside instance methods and are accessed using the self keyword. "
      ],
      "metadata": {
        "id": "qwdoWT6Y3ICy"
      }
    },
    {
      "cell_type": "markdown",
      "source": [
        "\n",
        "\n",
        "---\n",
        "\n"
      ],
      "metadata": {
        "id": "ueEG8dBT3_Cn"
      }
    },
    {
      "cell_type": "markdown",
      "source": [
        "**Q. 8:** When, if ever, can self be included in a class's method definitions?\n",
        "\n",
        "**Ans 8:** Yes, self can included in class method definations to access the instance variables inside class methods."
      ],
      "metadata": {
        "id": "lWLxtgks3_5U"
      }
    },
    {
      "cell_type": "markdown",
      "source": [
        "\n",
        "\n",
        "---\n",
        "\n"
      ],
      "metadata": {
        "id": "itR8G83o4xGX"
      }
    },
    {
      "cell_type": "markdown",
      "source": [
        "**Q. 9:** What is the difference between the _ _add_ _ and the _ _radd_ _ methods?\n",
        "\n",
        "**Ans 9:** \n",
        "\n",
        "- The _ _add_ _ method is used to define the behavior of the + operator when it is applied to instances of a class.\n",
        "\n",
        "- The _ _radd_ _ method is used to define the behavior of the + operator when it is applied to the right operand and the left operand is an instance of a different class."
      ],
      "metadata": {
        "id": "Y2Z6MUes4yH-"
      }
    },
    {
      "cell_type": "markdown",
      "source": [
        "\n",
        "\n",
        "---\n",
        "\n"
      ],
      "metadata": {
        "id": "bclHYUMh7K8b"
      }
    },
    {
      "cell_type": "markdown",
      "source": [
        "**Q. 10:** When is it necessary to use a reflection method? When do you not need it, even though you support the operation in question?\n",
        "\n",
        "**Ans 10:** Reflection method we often encounter the requirement that a method in the executing object, or a variable in the calling object, or a field of the object should be assigned, while the method name or field name can not be determined when encoding the code, and need to be input in the form of passing strings through parameters."
      ],
      "metadata": {
        "id": "lcccaWXQ7L7O"
      }
    },
    {
      "cell_type": "markdown",
      "source": [
        "\n",
        "\n",
        "---\n",
        "\n"
      ],
      "metadata": {
        "id": "MoFpMySJ7qyv"
      }
    },
    {
      "cell_type": "markdown",
      "source": [
        "**Q. 11:** What is the _ _iadd_ _ method called?\n",
        "\n",
        "**Ans 11:** The _ _iadd_ _ method is called the \"in-place addition\" method. It is a reflection method in Python that is used to define the behavior of the += operator when it is applied to an instance of a class. The _ _iadd_ _ method is similar to the _ _add_ _ method, but it is used to modify the instance in place rather than returning a new instance."
      ],
      "metadata": {
        "id": "8y1klFLP7r7i"
      }
    },
    {
      "cell_type": "markdown",
      "source": [
        "\n",
        "\n",
        "---\n",
        "\n"
      ],
      "metadata": {
        "id": "DMNs5_ep8kNf"
      }
    },
    {
      "cell_type": "markdown",
      "source": [
        "**Q. 12:** Is the _ _init_ _ method inherited by subclasses? What do you do if you need to customize its behavior within a subclass?\n",
        "\n",
        "**Ans 12:** Yes, _ _init_ _ method will be inherited by subclasses. if we want to customize its behaviour within a subclass we can use super() method."
      ],
      "metadata": {
        "id": "_B2YNOpI8lcQ"
      }
    },
    {
      "cell_type": "markdown",
      "source": [
        "\n",
        "\n",
        "---\n",
        "\n"
      ],
      "metadata": {
        "id": "NLVWollJ9Nrh"
      }
    }
  ]
}