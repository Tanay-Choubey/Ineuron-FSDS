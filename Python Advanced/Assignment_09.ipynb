{
  "nbformat": 4,
  "nbformat_minor": 0,
  "metadata": {
    "colab": {
      "provenance": []
    },
    "kernelspec": {
      "name": "python3",
      "display_name": "Python 3"
    },
    "language_info": {
      "name": "python"
    }
  },
  "cells": [
    {
      "cell_type": "markdown",
      "source": [
        "# **Assignment 9**"
      ],
      "metadata": {
        "id": "CXhIMpTgMm3g"
      }
    },
    {
      "cell_type": "markdown",
      "source": [
        "**Q. 1:** In Python 3.X, what are the names and functions of string object types?\n",
        "\n",
        "**Ans 1:** The following are the names and functions of string object types in Python 3.X :\n",
        "\n",
        "- 'str': The most common string object type in Python used to represent a sequence of characters.\n",
        "\n",
        "- 'bytes': This is a string object type that represents a sequence of bytes used to store data that may contain non-ASCII characters, and it is also immutable.\n",
        "\n",
        "- 'bytearray': This is similar to the bytes object type, but it is mutable (meaning it can be modified after it is created). It is used to store data that may contain non-ASCII characters, and it allows for more flexibility in terms of manipulation.\n",
        "\n",
        "- 'memoryview': This is a string object type that allows for the creation of views on data in memory, without making a copy of it. It is useful for efficiently manipulating large amounts of data, and it is mutable.\n",
        "\n",
        "- 'format string': This is a string object type that is used to create formatted strings using special syntax. It is often used in conjunction with the \"format()\" method to insert values into a string. It is immutable."
      ],
      "metadata": {
        "id": "q1V_VA7mMqz1"
      }
    },
    {
      "cell_type": "markdown",
      "source": [
        "\n",
        "\n",
        "---\n",
        "\n"
      ],
      "metadata": {
        "id": "zymzu_B2NkSJ"
      }
    },
    {
      "cell_type": "markdown",
      "source": [
        "**Q. 2:** How do the string forms in Python 3.X vary in terms of operations?\n",
        "\n",
        "**Ans 2:** In Python3 default format of strings is Unicode Whereas in Pyton2 we need to explicitly mention Unicode value using u."
      ],
      "metadata": {
        "id": "Zxaj3289NnJj"
      }
    },
    {
      "cell_type": "markdown",
      "source": [
        "\n",
        "\n",
        "---\n",
        "\n"
      ],
      "metadata": {
        "id": "46YaFsulOTY8"
      }
    },
    {
      "cell_type": "markdown",
      "source": [
        "**Q. 3:** In Python 3.X, how do you put non-ASCII Unicode characters in a string?\n",
        "\n",
        "**Ans 3:** As we know, there are only 127 ASCII characters in ascci table.It stores symbols, letters, whitespace characters,non\n",
        "printable characters, which are very less. So Python 3 has adopted unicode encoding of strings. For non ASCII u can get\n",
        "any value more than 127."
      ],
      "metadata": {
        "id": "7KCu6YsGOXka"
      }
    },
    {
      "cell_type": "code",
      "source": [
        "s=\"Tanay\"\n",
        "s+=chr(128)+chr(169)\n",
        "print(s)"
      ],
      "metadata": {
        "colab": {
          "base_uri": "https://localhost:8080/"
        },
        "id": "3aHHNkOAOvuo",
        "outputId": "3e8d94f6-7d5d-4d83-83a2-2c5e2390f4cb"
      },
      "execution_count": 1,
      "outputs": [
        {
          "output_type": "stream",
          "name": "stdout",
          "text": [
            "Tanay©\n"
          ]
        }
      ]
    },
    {
      "cell_type": "markdown",
      "source": [
        "\n",
        "\n",
        "---\n",
        "\n"
      ],
      "metadata": {
        "id": "hweoohwkO8UM"
      }
    },
    {
      "cell_type": "markdown",
      "source": [
        "**Q. 4:** In Python 3.X, what are the key differences between text-mode and binary-mode files?\n",
        "\n",
        "**Ans 4:** The major difference between these two is that a text file contains textual information in the form of alphabets, digits and special characters or symbols. On the other hand, a binary file contains bytes or a compiled version of a text file.\n",
        "\n",
        "When a file is opened in text mode, reading its data automatically decodes its content (as per the platform default or as per provided encoding), and returns it as a str; writing operation takes a str, and automatically encodes it before transferring to the file. Text mode files also support universal end-of-line translation, and encoding specification arguments.\n",
        "\n",
        "When a file is opened in binary mode by adding a b to the mode string argument in the open() call, reading its data does not decode it in any way, and simply returns its content raw and unchanged, as a bytes object; writing takes a bytes object and transfers it to the file unchanged. Binary-mode files also accept a bytearray object for the content to be written to the file."
      ],
      "metadata": {
        "id": "as9OqKm7O9cA"
      }
    },
    {
      "cell_type": "markdown",
      "source": [
        "\n",
        "\n",
        "---\n",
        "\n"
      ],
      "metadata": {
        "id": "ujprqhAoPeCB"
      }
    },
    {
      "cell_type": "markdown",
      "source": [
        "**Q. 5:** How can you interpret a Unicode text file containing text encoded in a different encoding than your platform's default?\n",
        "\n",
        "**Ans 5:** Use of encode() and decode() method can be used to you interpret a Unicode text file containing text encoded in a different encoding than your platform's default, by default encoding parameter is UTF-8."
      ],
      "metadata": {
        "id": "ds4038miPhSW"
      }
    },
    {
      "cell_type": "markdown",
      "source": [
        "\n",
        "\n",
        "---\n",
        "\n"
      ],
      "metadata": {
        "id": "clijmJp_Pyc8"
      }
    },
    {
      "cell_type": "markdown",
      "source": [
        "**Q. 6:** What is the best way to make a Unicode text file in a particular encoding format?\n",
        "\n",
        "**Ans 6:** To make a Unicode text file in a particular encoding format in Python, you can use the codecs module to specify the encoding when writing the file."
      ],
      "metadata": {
        "id": "YsQRYY4yP0eI"
      }
    },
    {
      "cell_type": "code",
      "source": [
        "import io\n",
        "import codecs\n",
        "\n",
        "# Write a UTF-8 encoded file\n",
        "with io.open(\"file.txt\", \"wb\") as f:\n",
        "    encoded_text = codecs.encode(\"Text to be written\", \"utf-8\")\n",
        "    f.write(encoded_text)"
      ],
      "metadata": {
        "id": "mZMaMFHcQkYn"
      },
      "execution_count": 2,
      "outputs": []
    },
    {
      "cell_type": "markdown",
      "source": [
        "\n",
        "\n",
        "---\n",
        "\n"
      ],
      "metadata": {
        "id": "_UrzfbnNQyEM"
      }
    },
    {
      "cell_type": "markdown",
      "source": [
        "**Q. 7:** What qualifies ASCII text as a form of Unicode text?\n",
        "\n",
        "**Ans 7:** Unicode represents most written languages in the world. ASCII has its equivalent in Unicode. The difference between ASCII and Unicode is that ASCII represents lowercase letters (a-z), uppercase letters (A-Z), digits (0–9) and symbols such as punctuation marks while Unicode represents letters of English, Arabic, Greek etc. mathematical symbols, historical scripts, emoji covering a wide range of characters than ASCII."
      ],
      "metadata": {
        "id": "i-p3VzcSQzbt"
      }
    },
    {
      "cell_type": "markdown",
      "source": [
        "\n",
        "\n",
        "---\n",
        "\n"
      ],
      "metadata": {
        "id": "8-TDBIzwRnVx"
      }
    },
    {
      "cell_type": "markdown",
      "source": [
        "**Q. 8:** How much of an effect does the change in string types in Python 3.X have on your code?\n",
        "\n",
        "**Ans 8:** The change in string types in Python 3.X can have a significant effect on code, especially if the code was written for Python 2 and makes use of the str type, which represents bytes in Python 2 and Unicode text in Python 3. This can cause problems with character encoding and decoding, and may require changes to the code to handle the different string types."
      ],
      "metadata": {
        "id": "gsiB8mvpRomw"
      }
    },
    {
      "cell_type": "markdown",
      "source": [
        "\n",
        "\n",
        "---\n",
        "\n"
      ],
      "metadata": {
        "id": "cz8RvCv2SGEi"
      }
    }
  ]
}