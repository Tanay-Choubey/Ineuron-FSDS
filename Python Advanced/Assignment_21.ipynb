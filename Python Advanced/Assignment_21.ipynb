{
  "nbformat": 4,
  "nbformat_minor": 0,
  "metadata": {
    "colab": {
      "provenance": []
    },
    "kernelspec": {
      "name": "python3",
      "display_name": "Python 3"
    },
    "language_info": {
      "name": "python"
    }
  },
  "cells": [
    {
      "cell_type": "markdown",
      "source": [
        "# **Assignment 21**"
      ],
      "metadata": {
        "id": "e-EBn65h8k71"
      }
    },
    {
      "cell_type": "markdown",
      "source": [
        "**Q. 1:** What is a probability distribution, exactly? If the values are meant to be random, how can you predict them at all?\n",
        "\n",
        "**Ans 1:** A probability distribution describes how a random variable is distributed.\n",
        "\n",
        "It tells us which values a random variable is most likely to take on and which values are less likely. Based on the previous data and the occurences of the random event, we can predict the outcome in terms of probabilities."
      ],
      "metadata": {
        "id": "QbE6CF9J8pNi"
      }
    },
    {
      "cell_type": "markdown",
      "source": [
        "\n",
        "\n",
        "---\n",
        "\n"
      ],
      "metadata": {
        "id": "X609F-c-CzIU"
      }
    },
    {
      "cell_type": "markdown",
      "source": [
        "**Q. 2:** Is there a distinction between true random numbers and pseudo-random numbers, if there is one? Why are the latter considered “good enough”?\n",
        "\n",
        "**Ans 2:** The difference between between true random number (TRN) and pseudo-random number(PRN),is that TRN's are unpredictable physical values means (like atmostpheric noise),and PRN are generated using mathematical agorithms (completely computer generated).The PRN's are good enough as they follow a uniform distribution and the seed for generating PRN is unpredictable and unknown."
      ],
      "metadata": {
        "id": "aqeV1DRSCz75"
      }
    },
    {
      "cell_type": "markdown",
      "source": [
        "\n",
        "\n",
        "---\n",
        "\n"
      ],
      "metadata": {
        "id": "lHL7Xt5nDQa5"
      }
    },
    {
      "cell_type": "markdown",
      "source": [
        "**Q. 3:** What are the two main factors that influence the behaviour of a \"normal\" probability distribution?\n",
        "\n",
        "**Ans 3:** Normal Probability Distribution are influenced by two factors: Mean and Variance."
      ],
      "metadata": {
        "id": "ShBnyYrhDR3W"
      }
    },
    {
      "cell_type": "markdown",
      "source": [
        "\n",
        "\n",
        "---\n",
        "\n"
      ],
      "metadata": {
        "id": "IEb32A1ZDslm"
      }
    },
    {
      "cell_type": "markdown",
      "source": [
        "**Q. 4:** Provide a real-life example of a normal distribution?\n",
        "\n",
        "**Ans 4:** A fair rolling of dice is also a good example of normal distribution."
      ],
      "metadata": {
        "id": "B6-n52wiDtyb"
      }
    },
    {
      "cell_type": "markdown",
      "source": [
        "\n",
        "\n",
        "---\n",
        "\n"
      ],
      "metadata": {
        "id": "qS-TlCbMEHKN"
      }
    },
    {
      "cell_type": "markdown",
      "source": [
        "**Q. 5:** In the short term, how can you expect a probability distribution to behave? What do you think will happen as the number of trials grows?\n",
        "\n",
        "**Ans 5:** Variance will decrease with number of trials. In probability theory and statistics, a probability distribution is the mathematical function that gives the probabilities of occurrence of different possible outcomes for an experiment.It is a mathematical description of a random phenomenon in terms of its sample space and the probabilities of events (subsets of the sample space)."
      ],
      "metadata": {
        "id": "1Ox32CSUEIkU"
      }
    },
    {
      "cell_type": "markdown",
      "source": [
        "\n",
        "\n",
        "---\n",
        "\n"
      ],
      "metadata": {
        "id": "cnyOe8_sFNBe"
      }
    },
    {
      "cell_type": "markdown",
      "source": [
        "**Q. 6:** What kind of object can be shuffled by using random.shuffle?\n",
        "\n",
        "**Ans 6:** lists (list), strings (str) and tuples (tuple) objects can be shuffled by using random.shuffle."
      ],
      "metadata": {
        "id": "2phuahcqFOM_"
      }
    },
    {
      "cell_type": "markdown",
      "source": [
        "\n",
        "\n",
        "---\n",
        "\n"
      ],
      "metadata": {
        "id": "V_VXRSpbFmOK"
      }
    },
    {
      "cell_type": "markdown",
      "source": [
        "**Q. 7:** Describe the math package's general categories of functions?\n",
        "\n",
        "**Ans 7:** The Math package's general categories of functions are:\n",
        "\n",
        "- Trigonometric functions\n",
        "- Quadratic functions\n",
        "- Exponential functions\n",
        "- Hyperbolic functions\n",
        "- Periodic functions\n",
        "- Arithmetic functions\n",
        "- Logarithimic functions\n",
        "- Conversions to Integer"
      ],
      "metadata": {
        "id": "q5Dx2fDRFnHt"
      }
    },
    {
      "cell_type": "markdown",
      "source": [
        "\n",
        "\n",
        "---\n",
        "\n"
      ],
      "metadata": {
        "id": "yAfzLdFYGBZk"
      }
    },
    {
      "cell_type": "markdown",
      "source": [
        "**Q. 8:** What is the relationship between exponentiation and logarithms?\n",
        "\n",
        "**Ans 8:** Exponentiation and logarithms are inverse of each other."
      ],
      "metadata": {
        "id": "cGp2fkUoGCjB"
      }
    },
    {
      "cell_type": "markdown",
      "source": [
        "\n",
        "\n",
        "---\n",
        "\n"
      ],
      "metadata": {
        "id": "OFwOvqxyGaYn"
      }
    },
    {
      "cell_type": "markdown",
      "source": [
        "**Q. 9:** What are the three logarithmic functions that Python supports?\n",
        "\n",
        "**Ans 9:** \n",
        "\n",
        "1. log2(x) - logarithmic value of x to base 2.\n",
        "2. log10(x) - logarithmic value of x to base 10.\n",
        "3. log1p(x) - This function is used to compute logarithm(1+x) ."
      ],
      "metadata": {
        "id": "5PhyoRP1GcDI"
      }
    },
    {
      "cell_type": "markdown",
      "source": [
        "\n",
        "\n",
        "---\n",
        "\n"
      ],
      "metadata": {
        "id": "9-BRiEbDHCbd"
      }
    }
  ]
}