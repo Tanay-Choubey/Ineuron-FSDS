{
  "nbformat": 4,
  "nbformat_minor": 0,
  "metadata": {
    "colab": {
      "provenance": []
    },
    "kernelspec": {
      "name": "python3",
      "display_name": "Python 3"
    },
    "language_info": {
      "name": "python"
    }
  },
  "cells": [
    {
      "cell_type": "markdown",
      "source": [
        "# **Assignment 17**"
      ],
      "metadata": {
        "id": "gNZdNOFgXN-_"
      }
    },
    {
      "cell_type": "markdown",
      "source": [
        "**Q. 1:** Explain the difference between greedy and non-greedy syntax with visual terms in as few words as possible. What is the bare minimum effort required to transform a greedy pattern into a non-greedy one? What characters or characters can you introduce or change?\n",
        "\n",
        "**Ans 1:** The Main difference between Greedy and Non Greedy Match Syntax is that the Greedy Match will try to match as many repetitions of the quantified pattern as possible Whereas the Non Greedy Match will try to match as few repetitions of the quantified pattern as possible so that it still can match the pattern in the given string."
      ],
      "metadata": {
        "id": "gjIrCXWNXdAy"
      }
    },
    {
      "cell_type": "code",
      "source": [
        "import re\n",
        "print(re.findall(\"v*\", \"vvvvvv\")) # Greedy Match Synatx\n",
        "print(re.findall(\"v*?\", \"vvvvvv\")) # Non Greddy Syntax"
      ],
      "metadata": {
        "colab": {
          "base_uri": "https://localhost:8080/"
        },
        "id": "DeEVGumhYefW",
        "outputId": "de76e24a-6ab1-4b11-cfe1-d4e242708c58"
      },
      "execution_count": 1,
      "outputs": [
        {
          "output_type": "stream",
          "name": "stdout",
          "text": [
            "['vvvvvv', '']\n",
            "['', 'v', '', 'v', '', 'v', '', 'v', '', 'v', '', 'v', '']\n"
          ]
        }
      ]
    },
    {
      "cell_type": "markdown",
      "source": [
        "\n",
        "\n",
        "---\n",
        "\n"
      ],
      "metadata": {
        "id": "7niswCE3Y4Z5"
      }
    },
    {
      "cell_type": "markdown",
      "source": [
        "**Q. 2:** When exactly does greedy versus non-greedy make a difference? What if you're looking for a non-greedy match but the only one available is greedy?\n",
        "\n",
        "**Ans 2:** Greedy versus non-greedy matching makes a difference when the pattern being matched can occur multiple times within the target string. A greedy match will consume as many characters as possible, while a non-greedy match will consume as few characters as possible.\n",
        "\n",
        "If you are looking for a non-greedy match but the only one available is greedy, you may end up with a match that is larger than expected. In this case, you may need to modify the pattern to make it non-greedy or use a different technique to achieve the desired results."
      ],
      "metadata": {
        "id": "qWKEcqQEY7Gp"
      }
    },
    {
      "cell_type": "markdown",
      "source": [
        "\n",
        "\n",
        "---\n",
        "\n"
      ],
      "metadata": {
        "id": "pTD_-zz4Z0dk"
      }
    },
    {
      "cell_type": "markdown",
      "source": [
        "**Q. 3:** In a simple match of a string, which looks only for one match and does not do any replacement, is the use of a nontagged group likely to make any practical difference?\n",
        "\n",
        "**Ans 3:** In this Case The Non Tagged Group will not make any diffrence in this case."
      ],
      "metadata": {
        "id": "JhrBZAysZ7UJ"
      }
    },
    {
      "cell_type": "code",
      "source": [
        "import re\n",
        "phoneNumRegex = re.compile(r'\\d\\d\\d')\n",
        "num = phoneNumRegex.search('My number is 987-654-3210.')\n",
        "print(f'Phone number found -> {num.group()}') # Non Tagged group\n",
        "print(f'Phone number found -> {num.group(0)}') # Tagged Group"
      ],
      "metadata": {
        "colab": {
          "base_uri": "https://localhost:8080/"
        },
        "id": "qKhjeqPoab7L",
        "outputId": "09b7bdbb-bf9c-4d93-ecf5-ae82639eccf2"
      },
      "execution_count": 2,
      "outputs": [
        {
          "output_type": "stream",
          "name": "stdout",
          "text": [
            "Phone number found -> 987\n",
            "Phone number found -> 987\n"
          ]
        }
      ]
    },
    {
      "cell_type": "markdown",
      "source": [
        "\n",
        "\n",
        "---\n",
        "\n"
      ],
      "metadata": {
        "id": "yewTwSnWaqur"
      }
    },
    {
      "cell_type": "markdown",
      "source": [
        "**Q. 4:** Describe a scenario in which using a nontagged category would have a significant impact on the program's outcomes.\n",
        "\n",
        "**Ans 4:** Here in the below Code Snippet . decimal is not tagged or captured. Hence, it will be useful in scenarios where the separator of value in a string is of no use and we need to capture only the values."
      ],
      "metadata": {
        "id": "_R-Awo-narjJ"
      }
    },
    {
      "cell_type": "code",
      "source": [
        "import re\n",
        "text='321.654'\n",
        "pattern=r'(\\d+)(?:.)(\\d+)'\n",
        "regobj=re.compile(pattern)\n",
        "matobj=regobj.search(text)\n",
        "matobj.groups()"
      ],
      "metadata": {
        "colab": {
          "base_uri": "https://localhost:8080/"
        },
        "id": "7enq_DMJamRU",
        "outputId": "9e7b8ff7-093b-4ba6-f54a-33ecb7dd6214"
      },
      "execution_count": 3,
      "outputs": [
        {
          "output_type": "execute_result",
          "data": {
            "text/plain": [
              "('321', '654')"
            ]
          },
          "metadata": {},
          "execution_count": 3
        }
      ]
    },
    {
      "cell_type": "markdown",
      "source": [
        "\n",
        "\n",
        "---\n",
        "\n"
      ],
      "metadata": {
        "id": "1LilXwPObdmD"
      }
    },
    {
      "cell_type": "markdown",
      "source": [
        "**Q. 5:** Unlike a normal regex pattern, a look-ahead condition does not consume the characters it examines. Describe a situation in which this could make a difference in the results of your programme.\n",
        "\n",
        "**Ans 5:** While counting the number of multiple lines or mutiple sentence in a string the positive look ahead makes a difference, without which we wont get the correct count of lines or sentences in a string."
      ],
      "metadata": {
        "id": "CTZeLuiZbebm"
      }
    },
    {
      "cell_type": "markdown",
      "source": [
        "\n",
        "\n",
        "---\n",
        "\n"
      ],
      "metadata": {
        "id": "4rvV-YErb7lL"
      }
    },
    {
      "cell_type": "markdown",
      "source": [
        "**Q. 6:** In standard expressions, what is the difference between positive look-ahead and negative look-ahead?\n",
        "\n",
        "**Ans 6:** Positive look-ahead and negative look-ahead are both zero-width assertions that allow you to check for the presence or absence of a pattern within a string without actually consuming any characters. Positive look-ahead checks for the presence of the pattern, while negative look-ahead checks for its absence.\n",
        "\n",
        "Example, the pattern \"\\b(?=\\d)\" would match any word boundary that is followed by a digit, while \"\\b(?!\\d)\" would match any word boundary that is not followed by a digit."
      ],
      "metadata": {
        "id": "jzS-dLgzb8aL"
      }
    },
    {
      "cell_type": "markdown",
      "source": [
        "\n",
        "\n",
        "---\n",
        "\n"
      ],
      "metadata": {
        "id": "gNSXMAzQeDsf"
      }
    },
    {
      "cell_type": "markdown",
      "source": [
        "**Q. 7:** What is the benefit of referring to groups by name rather than by number in a standard expression?\n",
        "\n",
        "**Ans 7:** The benfit of referring to the groups by name is that:\n",
        "\n",
        "- The code is clear. \n",
        "\n",
        "- It is easier to maintain the code."
      ],
      "metadata": {
        "id": "QI6r5BR_eF8E"
      }
    },
    {
      "cell_type": "markdown",
      "source": [
        "\n",
        "\n",
        "---\n",
        "\n"
      ],
      "metadata": {
        "id": "di1SXrOderiQ"
      }
    },
    {
      "cell_type": "markdown",
      "source": [
        "**Q. 8:** Can you identify repeated items within a target string using named groups, as in \"The cow jumped over the moon\"?\n",
        "\n",
        "**Ans 8:** "
      ],
      "metadata": {
        "id": "2QMb_WaIeuD-"
      }
    },
    {
      "cell_type": "code",
      "source": [
        "import re\n",
        "text = \"The cow jumped over the moon\"\n",
        "regobj=re.compile(r'(?P<w1>The)',re.I)\n",
        "regobj.findall(text)"
      ],
      "metadata": {
        "colab": {
          "base_uri": "https://localhost:8080/"
        },
        "id": "9me-9i5BfTKB",
        "outputId": "73518ae8-00ff-489b-b2e9-fbea5a9b3b0f"
      },
      "execution_count": 4,
      "outputs": [
        {
          "output_type": "execute_result",
          "data": {
            "text/plain": [
              "['The', 'the']"
            ]
          },
          "metadata": {},
          "execution_count": 4
        }
      ]
    },
    {
      "cell_type": "markdown",
      "source": [
        "\n",
        "\n",
        "---\n",
        "\n"
      ],
      "metadata": {
        "id": "V99Wd-JhfmY3"
      }
    },
    {
      "cell_type": "markdown",
      "source": [
        "**Q. 9:** When parsing a string, what is at least one thing that the Scanner interface does for you that the re.findall feature does not?\n",
        "\n",
        "**Ans 9:** The Scanner interface allows you to specify a specific pattern to search for in the string, whereas re.findall simply returns all occurrences of a pattern within the string. This allows for more precise and targeted parsing of the string."
      ],
      "metadata": {
        "id": "XzIrK3MSfnTX"
      }
    },
    {
      "cell_type": "markdown",
      "source": [
        "\n",
        "\n",
        "---\n",
        "\n"
      ],
      "metadata": {
        "id": "r5rLrsX_gdbT"
      }
    },
    {
      "cell_type": "markdown",
      "source": [
        "**Q. 10:** Does a scanner object have to be named scanner?\n",
        "\n",
        "**Ans 10:** The scanner object need not be named scanner.It may have any name."
      ],
      "metadata": {
        "id": "94sxAnLhgeSW"
      }
    },
    {
      "cell_type": "markdown",
      "source": [
        "\n",
        "\n",
        "---\n",
        "\n"
      ],
      "metadata": {
        "id": "FOeHPw3ihBWy"
      }
    }
  ]
}