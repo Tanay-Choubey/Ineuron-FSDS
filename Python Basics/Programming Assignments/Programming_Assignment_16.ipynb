{
  "nbformat": 4,
  "nbformat_minor": 0,
  "metadata": {
    "colab": {
      "provenance": []
    },
    "kernelspec": {
      "name": "python3",
      "display_name": "Python 3"
    },
    "language_info": {
      "name": "python"
    }
  },
  "cells": [
    {
      "cell_type": "markdown",
      "source": [
        "# **Programming Assignment 16**"
      ],
      "metadata": {
        "id": "SuD0o4nubBcT"
      }
    },
    {
      "cell_type": "markdown",
      "source": [
        "**Q. 1:** Write a function that stutters a word as if someone is struggling to read it. The first two letters are repeated twice with an ellipsis ... and space after each, and then the word is pronounced with a question mark?\n",
        "\n",
        "Examples:\n",
        "\n",
        "*stutter(\"incredible\") ➞ \"in... in... incredible?\"*\n",
        "\n",
        "*stutter(\"enthusiastic\") ➞ \"en... en... enthusiastic?\"*\n",
        "\n",
        "*stutter(\"outstanding\") ➞ \"ou... ou... outstanding?\"*\n",
        "\n",
        "Hint :- Assume all input is in lower case and at least two characters long.\n",
        "\n",
        "**Ans 1:** "
      ],
      "metadata": {
        "id": "A9LPd0-HbGkB"
      }
    },
    {
      "cell_type": "code",
      "source": [
        "def stutter(word:str):\n",
        "    print(f\"{word[:2]}... {word[:2]}... {word}?\")\n",
        "    \n",
        "stutter('incredible') \n",
        "stutter('enthusiastic') \n",
        "stutter('outstanding')"
      ],
      "metadata": {
        "colab": {
          "base_uri": "https://localhost:8080/"
        },
        "id": "dnSw7gZQeZYY",
        "outputId": "eda426d1-67ec-4950-e12e-48c78cb80ea5"
      },
      "execution_count": 1,
      "outputs": [
        {
          "output_type": "stream",
          "name": "stdout",
          "text": [
            "in... in... incredible?\n",
            "en... en... enthusiastic?\n",
            "ou... ou... outstanding?\n"
          ]
        }
      ]
    },
    {
      "cell_type": "markdown",
      "source": [
        "\n",
        "\n",
        "---\n",
        "\n"
      ],
      "metadata": {
        "id": "D_FEMkK4esXY"
      }
    },
    {
      "cell_type": "markdown",
      "source": [
        "**Q. 2:** 2.Create a function that takes an angle in radians and returns the corresponding angle in degrees rounded to one decimal place.\n",
        "\n",
        "Examples: \n",
        "\n",
        "*radians_to_degrees(1) ➞ 57.3*\n",
        "\n",
        "*radians_to_degrees(20) ➞ 1145.9*\n",
        "\n",
        "*radians_to_degrees(50) ➞ 2864.8*\n",
        "\n",
        "**Ans 2:** "
      ],
      "metadata": {
        "id": "s9T1WEEvetU3"
      }
    },
    {
      "cell_type": "code",
      "source": [
        "def radians_to_degrees(rads):\n",
        "    return round(57.295779513 * rads, 1)\n",
        "\n",
        "print(radians_to_degrees(1))\n",
        "print(radians_to_degrees(20))\n",
        "print(radians_to_degrees(50))"
      ],
      "metadata": {
        "colab": {
          "base_uri": "https://localhost:8080/"
        },
        "id": "Wim60lfwfa4h",
        "outputId": "598ea602-af7f-496e-d16e-8592530737d6"
      },
      "execution_count": 2,
      "outputs": [
        {
          "output_type": "stream",
          "name": "stdout",
          "text": [
            "57.3\n",
            "1145.9\n",
            "2864.8\n"
          ]
        }
      ]
    },
    {
      "cell_type": "markdown",
      "source": [
        "\n",
        "\n",
        "---\n",
        "\n"
      ],
      "metadata": {
        "id": "HmO8fl64fgi7"
      }
    },
    {
      "cell_type": "markdown",
      "source": [
        "**Q. 3:** In this challenge, establish if a given integer num is a Curzon number. If 1 plus 2 elevated to num is exactly divisible by 1 plus 2 multiplied by num, then num is a Curzon number.\n",
        "\n",
        "Given a non-negative integer num, implement a function that returns True if num is a Curzon number, or False otherwise.\n",
        "\n",
        "is_curzon(5) ➞ True\n",
        "- 2 ** 5 + 1 = 33\n",
        "- 2 * 5 + 1 = 11\n",
        "- 33 is a multiple of 11\n",
        "\n",
        "is_curzon(10) ➞ False\n",
        "- 2 ** 10 + 1 = 1025\n",
        "- 2 * 10 + 1 = 21\n",
        "- 1025 is not a multiple of 21\n",
        "\n",
        "is_curzon(14) ➞ True\n",
        "- 2 ** 14 + 1 = 16385\n",
        "- 2 * 14 + 1 = 29\n",
        "- 16385 is a multiple of 29\n",
        "\n",
        "**Ans 3:** "
      ],
      "metadata": {
        "id": "k1M7f1HEfhIS"
      }
    },
    {
      "cell_type": "code",
      "source": [
        "def is_curzon(n):\n",
        "    \n",
        "    if (1 + 2 ** n) % (1 + 2*n) == 0:\n",
        "        return True\n",
        "    \n",
        "    return False\n",
        "\n",
        "print(is_curzon(5)) # True\n",
        "print(is_curzon(10)) # False\n",
        "print(is_curzon(14)) # True"
      ],
      "metadata": {
        "colab": {
          "base_uri": "https://localhost:8080/"
        },
        "id": "oxQOWmsBfb5a",
        "outputId": "89cce6e9-d41c-4c05-af56-72bb84699047"
      },
      "execution_count": 3,
      "outputs": [
        {
          "output_type": "stream",
          "name": "stdout",
          "text": [
            "True\n",
            "False\n",
            "True\n"
          ]
        }
      ]
    },
    {
      "cell_type": "markdown",
      "source": [
        "\n",
        "\n",
        "---\n",
        "\n"
      ],
      "metadata": {
        "id": "s2wao65Tg0Uo"
      }
    },
    {
      "cell_type": "markdown",
      "source": [
        "**Q. 4:** Given the side length x find the area of a hexagon?\n",
        "\n",
        "![Area-of-a-Hexagon.jpg](data:image/jpeg;base64,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)\n",
        "\n",
        "Examples:\n",
        "\n",
        "*area_of_hexagon(1) ➞ 2.6*\n",
        "\n",
        "*area_of_hexagon(2) ➞ 10.4*\n",
        "\n",
        "*area_of_hexagon(3) ➞ 23.4*\n",
        "\n",
        "**Ans 4:** "
      ],
      "metadata": {
        "id": "b_BXzKTyi5-I"
      }
    },
    {
      "cell_type": "code",
      "source": [
        "import math\n",
        "def areaOfHexagon():\n",
        "    in_num = int(input('Enter the side length of a Hexagon: '))\n",
        "    out_num = ((3*math.sqrt(3))/2)*(pow(in_num,2))\n",
        "    print(f'Area for Hexagon of sidelength {in_num} ➞ {out_num:.1f}')\n",
        "    \n",
        "for x in range(3):\n",
        "    areaOfHexagon()"
      ],
      "metadata": {
        "colab": {
          "base_uri": "https://localhost:8080/"
        },
        "id": "HL-YUKpgjCag",
        "outputId": "cfb6c1b7-4efd-4957-f40e-09e29cb2e41b"
      },
      "execution_count": 1,
      "outputs": [
        {
          "output_type": "stream",
          "name": "stdout",
          "text": [
            "Enter the side length of a Hexagon: 1\n",
            "Area for Hexagon of sidelength 1 ➞ 2.6\n",
            "Enter the side length of a Hexagon: 2\n",
            "Area for Hexagon of sidelength 2 ➞ 10.4\n",
            "Enter the side length of a Hexagon: 3\n",
            "Area for Hexagon of sidelength 3 ➞ 23.4\n"
          ]
        }
      ]
    },
    {
      "cell_type": "markdown",
      "source": [
        "\n",
        "\n",
        "---\n",
        "\n"
      ],
      "metadata": {
        "id": "QVireXrAjZBX"
      }
    },
    {
      "cell_type": "markdown",
      "source": [
        "**Q. 5:** Create a function that returns a base-2 (binary) representation of a base-10 (decimal) string number. To convert is simple: ((2) means base-2 and (10) means base-10) 10101001(2) = 1 + 8 + 32 + 128.\n",
        "\n",
        "Going from right to left, the value of the most right bit is 1, now from that every bit to the left\n",
        "will be x2 the value, value of an 8 bit binary numbers are (256, 128, 64, 32, 16, 8, 4, 2, 1).\n",
        "\n",
        "Examples:\n",
        "\n",
        "*binary(1) ➞ \"1\"*\n",
        "- *1x1 = 1*\n",
        "\n",
        "*binary(5) ➞ \"101\"*\n",
        "- *1x1+ 1x4 = 5*\n",
        "\n",
        "binary(10) ➞ \"1010\" \n",
        "- *1x2 + 1x8 = 10*\n",
        "\n",
        "**Ans 5:** "
      ],
      "metadata": {
        "id": "KlaVvqdHjZ1W"
      }
    },
    {
      "cell_type": "code",
      "source": [
        "def get_binary():\n",
        "    in_num = int(input(\"Enter a Number:\"))\n",
        "    out_num = bin(in_num).replace('0b','')\n",
        "    print(f'Binary of {in_num} ➞ {out_num}')\n",
        "\n",
        "for i in range(3):\n",
        "    get_binary()"
      ],
      "metadata": {
        "colab": {
          "base_uri": "https://localhost:8080/"
        },
        "id": "qFQW_Bl1knOB",
        "outputId": "1160ab9d-051b-49c0-ce9d-be572ab495ea"
      },
      "execution_count": 2,
      "outputs": [
        {
          "output_type": "stream",
          "name": "stdout",
          "text": [
            "Enter a Number:1\n",
            "Binary of 1 ➞ 1\n",
            "Enter a Number:5\n",
            "Binary of 5 ➞ 101\n",
            "Enter a Number:10\n",
            "Binary of 10 ➞ 1010\n"
          ]
        }
      ]
    },
    {
      "cell_type": "markdown",
      "source": [
        "\n",
        "\n",
        "---\n",
        "\n"
      ],
      "metadata": {
        "id": "y0qd9Fjekyc-"
      }
    }
  ]
}