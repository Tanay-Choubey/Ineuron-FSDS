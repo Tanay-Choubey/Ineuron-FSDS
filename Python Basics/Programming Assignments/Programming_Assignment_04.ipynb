{
  "nbformat": 4,
  "nbformat_minor": 0,
  "metadata": {
    "colab": {
      "provenance": []
    },
    "kernelspec": {
      "name": "python3",
      "display_name": "Python 3"
    },
    "language_info": {
      "name": "python"
    }
  },
  "cells": [
    {
      "cell_type": "markdown",
      "source": [
        "# **Programming Assignment 4**"
      ],
      "metadata": {
        "id": "jkjSjHnYc7ns"
      }
    },
    {
      "cell_type": "markdown",
      "source": [
        "**Q. 1:** Write a Python Program to find the factorial of a number?\n",
        "\n",
        "**Ans 1:** "
      ],
      "metadata": {
        "id": "T7ZOIKTddEIU"
      }
    },
    {
      "cell_type": "code",
      "execution_count": 1,
      "metadata": {
        "colab": {
          "base_uri": "https://localhost:8080/"
        },
        "id": "_aL1fLE8czbi",
        "outputId": "eea915e9-8cf1-4e89-84b0-b704ea42a7bf"
      },
      "outputs": [
        {
          "output_type": "stream",
          "name": "stdout",
          "text": [
            "Enter a number: 11\n",
            "\n",
            "Factorial of 11: 39916800\n"
          ]
        }
      ],
      "source": [
        "num = int(input(\"Enter a number: \"))\n",
        "\n",
        "fact = 1\n",
        "for i in range(num, 0, -1):\n",
        "    fact = fact*i\n",
        "    \n",
        "print(\"\\nFactorial of {}: {}\".format(num, fact))"
      ]
    },
    {
      "cell_type": "markdown",
      "source": [
        "\n",
        "\n",
        "---\n",
        "\n"
      ],
      "metadata": {
        "id": "xswk7t7MehIN"
      }
    },
    {
      "cell_type": "markdown",
      "source": [
        "**Q. 2:** Write a Python Program to display the multiplication table?\n",
        "\n",
        "**Ans 2:** "
      ],
      "metadata": {
        "id": "BjHcoeSreimb"
      }
    },
    {
      "cell_type": "code",
      "source": [
        "num = int(input(\"Enter a number: \"))\n",
        "\n",
        "for i in range(1, 11):\n",
        "    print(\"{} x {} = {}\".format(num, i, num*i))"
      ],
      "metadata": {
        "colab": {
          "base_uri": "https://localhost:8080/"
        },
        "id": "kaBnfLxWeHIT",
        "outputId": "5818b1ea-7db5-4306-9037-187be13c1a0b"
      },
      "execution_count": 3,
      "outputs": [
        {
          "output_type": "stream",
          "name": "stdout",
          "text": [
            "Enter a number: 20\n",
            "20 x 1 = 20\n",
            "20 x 2 = 40\n",
            "20 x 3 = 60\n",
            "20 x 4 = 80\n",
            "20 x 5 = 100\n",
            "20 x 6 = 120\n",
            "20 x 7 = 140\n",
            "20 x 8 = 160\n",
            "20 x 9 = 180\n",
            "20 x 10 = 200\n"
          ]
        }
      ]
    },
    {
      "cell_type": "markdown",
      "source": [
        "\n",
        "\n",
        "---\n",
        "\n"
      ],
      "metadata": {
        "id": "DQSLLdxifKoU"
      }
    },
    {
      "cell_type": "markdown",
      "source": [
        "**Q. 3:** Write a Python Program to print the fibonacci sequence?\n",
        "\n",
        "**Ans 3:** "
      ],
      "metadata": {
        "id": "VilCourqfLwx"
      }
    },
    {
      "cell_type": "code",
      "source": [
        "fibo_length = int(input(\"Enter a length: \"))\n",
        "\n",
        "a = 0\n",
        "b = 1\n",
        "print(a, end = ' ')\n",
        "print(b, end = ' ')\n",
        "while(fibo_length-2 > 0):\n",
        "    nt = a + b\n",
        "    print(nt, end = ' ')\n",
        "    a = b\n",
        "    b = nt\n",
        "    \n",
        "    fibo_length -= 1"
      ],
      "metadata": {
        "colab": {
          "base_uri": "https://localhost:8080/"
        },
        "id": "V0tBldzHiiHt",
        "outputId": "ea96ac9c-1af7-42c9-dacb-cf843949c1cf"
      },
      "execution_count": 10,
      "outputs": [
        {
          "output_type": "stream",
          "name": "stdout",
          "text": [
            "Enter a length: 20\n",
            "0 1 1 2 3 5 8 13 21 34 55 89 144 233 377 610 987 1597 2584 4181 "
          ]
        }
      ]
    },
    {
      "cell_type": "markdown",
      "source": [
        "\n",
        "\n",
        "---\n",
        "\n"
      ],
      "metadata": {
        "id": "ffrsJHgdjF_G"
      }
    },
    {
      "cell_type": "markdown",
      "source": [
        "**Q. 4:** Write a Python Program to Check Armstrong Number?\n",
        "\n",
        "**Ans 4:** "
      ],
      "metadata": {
        "id": "kN7OVLgmjGz5"
      }
    },
    {
      "cell_type": "code",
      "source": [
        "num = int(input(\"Enter a number: \"))\n",
        "sum = 0\n",
        "temp = num\n",
        "while temp > 0:\n",
        "   digit = temp % 10\n",
        "   sum += digit ** 3\n",
        "   temp //= 10\n",
        "if num == sum:\n",
        "   print(num,\"is an Armstrong number\")\n",
        "else:\n",
        "   print(num,\"is not an Armstrong number\")"
      ],
      "metadata": {
        "colab": {
          "base_uri": "https://localhost:8080/"
        },
        "id": "rZgHiubdjDyh",
        "outputId": "71a1888e-8f47-4ebe-80de-3d06d567c9d0"
      },
      "execution_count": 11,
      "outputs": [
        {
          "output_type": "stream",
          "name": "stdout",
          "text": [
            "Enter a number: 153\n",
            "153 is an Armstrong number\n"
          ]
        }
      ]
    },
    {
      "cell_type": "markdown",
      "source": [
        "\n",
        "\n",
        "---\n",
        "\n"
      ],
      "metadata": {
        "id": "8B-DCpG0j3vd"
      }
    },
    {
      "cell_type": "markdown",
      "source": [
        "**Q. 5:** Write a Python Program to Find Armstrong number in an interval?\n",
        "\n",
        "**Ans 5:** "
      ],
      "metadata": {
        "id": "yp2nJDDpj40x"
      }
    },
    {
      "cell_type": "code",
      "source": [
        "def checkArmstrongNumber(in_num, storage):\n",
        "    sum = 0\n",
        "    for char in range(len(in_num)):\n",
        "        sum = sum + pow(int(in_num[char]),3)\n",
        "    if sum == int(in_num):\n",
        "        storage.append(int(in_num))\n",
        "\n",
        "start_interval = int(input('Enter the Start of the Interval: '))\n",
        "end_interval = int(input('Enter the End of the Interval: '))\n",
        "list_of_armstrong = []\n",
        "\n",
        "if start_interval > end_interval:\n",
        "    print(\"Start Interval Cannot be Greater than End Interval\")\n",
        "else:\n",
        "    for number in range(start_interval,end_interval+1):\n",
        "        checkArmstrongNumber(str(number),list_of_armstrong)\n",
        "    print(f'The Armstrong numbers between {start_interval} and {end_interval} are {list_of_armstrong}')"
      ],
      "metadata": {
        "colab": {
          "base_uri": "https://localhost:8080/"
        },
        "id": "CqVocBaZjvCn",
        "outputId": "1453a268-693e-4037-a1c1-c422731d2f4b"
      },
      "execution_count": 12,
      "outputs": [
        {
          "output_type": "stream",
          "name": "stdout",
          "text": [
            "Enter the Start of the Interval: 1\n",
            "Enter the End of the Interval: 2000\n",
            "The Armstrong numbers between 1 and 2000 are [1, 153, 370, 371, 407]\n"
          ]
        }
      ]
    },
    {
      "cell_type": "markdown",
      "source": [
        "\n",
        "\n",
        "---\n",
        "\n"
      ],
      "metadata": {
        "id": "p0NGgowFkv9L"
      }
    },
    {
      "cell_type": "markdown",
      "source": [
        "**Q. 6:** Write a Python Program to sum of natural numbers?\n",
        "\n",
        "**Ans 6:** "
      ],
      "metadata": {
        "id": "NO4wCsxZkx-Z"
      }
    },
    {
      "cell_type": "code",
      "source": [
        "num = int(input(\"Enter a number: \"))  \n",
        "  \n",
        "if num < 0:  \n",
        "   print(\"Enter a positive number\")  \n",
        "else:  \n",
        "   sum = 0  \n",
        "   while(num > 0):  \n",
        "       sum += num  \n",
        "       num -= 1  \n",
        "   print(\"The sum is\",sum)"
      ],
      "metadata": {
        "colab": {
          "base_uri": "https://localhost:8080/"
        },
        "id": "5XHTwNd8kkOP",
        "outputId": "877168ed-b453-4429-e69e-d974cacc4d2c"
      },
      "execution_count": 13,
      "outputs": [
        {
          "output_type": "stream",
          "name": "stdout",
          "text": [
            "Enter a number: 100\n",
            "The sum is 5050\n"
          ]
        }
      ]
    },
    {
      "cell_type": "markdown",
      "source": [
        "\n",
        "\n",
        "---\n",
        "\n"
      ],
      "metadata": {
        "id": "bnMbh7cwlOma"
      }
    }
  ]
}