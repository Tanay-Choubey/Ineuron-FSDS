{
  "nbformat": 4,
  "nbformat_minor": 0,
  "metadata": {
    "colab": {
      "provenance": []
    },
    "kernelspec": {
      "name": "python3",
      "display_name": "Python 3"
    },
    "language_info": {
      "name": "python"
    }
  },
  "cells": [
    {
      "cell_type": "markdown",
      "source": [
        "# **Assignment 24**"
      ],
      "metadata": {
        "id": "pR4nAPMgbZcA"
      }
    },
    {
      "cell_type": "markdown",
      "source": [
        "**Q. 1:** What is the relationship between def statements and lambda expressions?\n",
        "\n",
        "**Ans 1:** \n",
        "\n",
        "* def keyword is used to create named function in python, Function naming follows the same rules of writing identifiers in Python.\n",
        "\n",
        "* Lambdas are one-line functions without a name, in other words using lambdas we can create anonymous functions in python. Lambda functions work practically the same as any other method in Python. Lambdas differ from normal Python methods because they can have only one expression, and they can't contain any statements and their return type is a function object."
      ],
      "metadata": {
        "id": "azTFngC1bgkC"
      }
    },
    {
      "cell_type": "markdown",
      "source": [
        "\n",
        "\n",
        "---\n",
        "\n"
      ],
      "metadata": {
        "id": "oj4TYEs6cc6W"
      }
    },
    {
      "cell_type": "markdown",
      "source": [
        "**Q. 2:** What is the benefit of lambda?\n",
        "\n",
        "**Ans 2:** The following are some of the benefits of lambda expressions:\n",
        "\n",
        "1. Can be used to create Nameless/Anonymous functions inside some complex functions if we are planning to use it only once.\n",
        "2. Moderate to small functions can be created in a single line.\n",
        "3. Fuctions created using lambda expressions can be assigned to a variable and can be used by simply calling the variable."
      ],
      "metadata": {
        "id": "2Y6ZAzQKcdmW"
      }
    },
    {
      "cell_type": "markdown",
      "source": [
        "\n",
        "\n",
        "---\n",
        "\n"
      ],
      "metadata": {
        "id": "nw5JZGq9c_Cm"
      }
    },
    {
      "cell_type": "markdown",
      "source": [
        "**Q. 3:** Compare and contrast map, filter, and reduce.\n",
        "\n",
        "**Ans 3:** The differences between map, filter and reduce are:\n",
        "\n",
        "1. map(): The map() function is a type of higher-order. This function takes another function as a parameter along with a sequence of iterables and returns an output after applying the function to each iterable present in the sequence.\n",
        "\n",
        "2. filter(): The filter() function is used to create an output list consisting of values for which the function returns true.\n",
        "\n",
        "3. reduce(): The reduce() function, as the name describes, applies a given function to the iterables and returns a single value."
      ],
      "metadata": {
        "id": "w2ofKRdwdAON"
      }
    },
    {
      "cell_type": "code",
      "source": [
        "from functools import reduce\n",
        "\n",
        "# map function\n",
        "print('Map ->',list(map(lambda x:x+x, [1,2,3,4])))\n",
        "\n",
        "# fitler function\n",
        "print('Filter ->',list(filter(lambda x:x%2 !=0, [1,2,3,4])))\n",
        "\n",
        "# reduce function\n",
        "print('Reduce ->',reduce(lambda x,y:x+y, [1,2,3,4]))"
      ],
      "metadata": {
        "colab": {
          "base_uri": "https://localhost:8080/"
        },
        "id": "Zb6UhZq2g2Pq",
        "outputId": "bf7a4521-7a90-480f-aae8-f591c287631b"
      },
      "execution_count": 1,
      "outputs": [
        {
          "output_type": "stream",
          "name": "stdout",
          "text": [
            "Map -> [2, 4, 6, 8]\n",
            "Filter -> [1, 3]\n",
            "Reduce -> 10\n"
          ]
        }
      ]
    },
    {
      "cell_type": "markdown",
      "source": [
        "\n",
        "\n",
        "---\n",
        "\n"
      ],
      "metadata": {
        "id": "-Lu9u_unhG4f"
      }
    },
    {
      "cell_type": "markdown",
      "source": [
        "**Q. 4:** What are function annotations, and how are they used?\n",
        "\n",
        "**Ans 4:** Function annotation is the standard way to access the metadata with the arguments and the return value of the function. These are optional Python expressions that get allied to different parts of the function. They get evaluated only during the compile-time and have no significance during the run-time of the code. They do not have any significance or meaning associated with them until accessed by some third-party libraries. They are used to type check the functions by declaring the type of the parameters and the return value for the functions. The string-based annotations help us to improve the help messages.\n",
        "\n",
        "Syntax : def func(a: 'int') -> 'int': pass\n",
        "\n",
        "Annotations for simple parameters: def func(x: 'float'=10.8, y: 'argument2'): In the above code the argument, ‘x’ of the function func, has been annotated to float data type and the argument ‘y’ has a string-based annotation. The argument can also be assigned to a default value using a ‘=’ symbol followed by the default value. These default values are optional to the code.\n",
        "\n",
        "Annotations for return values: def func(a: expression) -> 'int': The annotations for the return value is written after the ‘->’ symbol."
      ],
      "metadata": {
        "id": "JAx9tg2QhH5P"
      }
    },
    {
      "cell_type": "markdown",
      "source": [
        "\n",
        "\n",
        "---\n",
        "\n"
      ],
      "metadata": {
        "id": "Uh-3iQYIho8w"
      }
    },
    {
      "cell_type": "markdown",
      "source": [
        "**Q. 5:** What are recursive functions, and how are they used?\n",
        "\n",
        "**Ans 5:** A recursive function is a function that calls itself during its execution. This means that the function will continue to call itself and repeat its behavior until some condition is met to return a result."
      ],
      "metadata": {
        "id": "8XAxguJjhps4"
      }
    },
    {
      "cell_type": "code",
      "source": [
        "def fact(x):\n",
        "    if x == 1 :\n",
        "        return 1\n",
        "    else :\n",
        "        return x * fact(x-1)           #recurtion\n",
        "    \n",
        "fact(5)"
      ],
      "metadata": {
        "colab": {
          "base_uri": "https://localhost:8080/"
        },
        "id": "Jud8MzkYg71O",
        "outputId": "e4a27f5c-f3f4-4875-e326-616a142257e6"
      },
      "execution_count": 2,
      "outputs": [
        {
          "output_type": "execute_result",
          "data": {
            "text/plain": [
              "120"
            ]
          },
          "metadata": {},
          "execution_count": 2
        }
      ]
    },
    {
      "cell_type": "markdown",
      "source": [
        "\n",
        "\n",
        "---\n",
        "\n"
      ],
      "metadata": {
        "id": "6mXzvZGAjJG_"
      }
    },
    {
      "cell_type": "markdown",
      "source": [
        "**Q. 6:** What are some general design guidelines for coding functions?\n",
        "\n",
        "**Ans 6:** Some of the general design guidelines for coding functions are:\n",
        "\n",
        "1. Always use a docstring to explain the functionality of the function\n",
        "2. avoid using or limited use of global variables\n",
        "3. Proper Identation to increase the code readability\n",
        "4. try to follow a naming convention for function names (pascalCase or camelCase) and stick with the same convention throughout the application.\n",
        "5. Avoid using digits while choosing a variable name\n",
        "6. try to use a name for the function which conveys the purpose of the function\n",
        "7. Local variables should be named using camelCase format (ex: localVariable) whereas Global variables names should be using PascalCase (ex:GlobalVariable).\n",
        "8. Constant should be represented in allcaps (ex:CONSTANT)."
      ],
      "metadata": {
        "id": "RRSd0gRCjVnI"
      }
    },
    {
      "cell_type": "markdown",
      "source": [
        "\n",
        "\n",
        "---\n",
        "\n"
      ],
      "metadata": {
        "id": "9rRyRPIpj2BI"
      }
    },
    {
      "cell_type": "markdown",
      "source": [
        "**Q. 7:** Name three or more ways that functions can communicate results to a caller.\n",
        "\n",
        "**Ans 7:** The that functions can communicate results to a caller are:\n",
        "\n",
        "1. Function can return single value.\n",
        "2. Can return multiple values, tuple.\n",
        "3. can return list,dictionary.\n",
        "4. can return function object.\n",
        "5. can return class object (ex: SQL Connection object).\n",
        "6. can update an output variable.\n",
        "7. can update a global variable.\n",
        "8. can update/create a file.\n",
        "\n"
      ],
      "metadata": {
        "id": "ss-BtvJGj3mI"
      }
    },
    {
      "cell_type": "markdown",
      "source": [
        "\n",
        "\n",
        "---\n",
        "\n"
      ],
      "metadata": {
        "id": "us5TsbRDkso_"
      }
    }
  ]
}