{
  "nbformat": 4,
  "nbformat_minor": 0,
  "metadata": {
    "colab": {
      "provenance": []
    },
    "kernelspec": {
      "name": "python3",
      "display_name": "Python 3"
    },
    "language_info": {
      "name": "python"
    }
  },
  "cells": [
    {
      "cell_type": "markdown",
      "source": [
        "# **Assignment 02**"
      ],
      "metadata": {
        "id": "uAuBLGerhJVR"
      }
    },
    {
      "cell_type": "markdown",
      "source": [
        "**Q.1 :** What are the two values of the Boolean data type? How do you write them?\n",
        "\n",
        "**Ans 1 :** There are 2 values of Boolean Data Type:\n",
        "1. True\n",
        "2. False\n",
        "\n",
        "We have to use capital T and F and with the rest of the word in lowercase.\n"
      ],
      "metadata": {
        "id": "Buncatl8hrm5"
      }
    },
    {
      "cell_type": "markdown",
      "source": [
        "**Q.2 :** What are the three different types of Boolean operators?\n",
        "\n",
        "**Ans 2 :** The different types of Boolean operators are:\n",
        "\n",
        "1. or \n",
        "2. and\n",
        "3. not\n",
        "\n"
      ],
      "metadata": {
        "id": "CRmtyWUpj7lw"
      }
    },
    {
      "cell_type": "markdown",
      "source": [
        "**Q.3 :** Make a list of each Boolean operator's truth tables (i.e. every possible combination of Boolean values for the operator and what it evaluate)?\n",
        "\n",
        "**Ans 3 :** The Truth tables for the boolean tables are as follows:\n",
        "\n",
        "\n",
        "\n",
        "1.  **Truth Table for 'and' operator:**\n",
        "\n",
        "True and True is True\n",
        "\n",
        "True and False is False\n",
        "\n",
        "False and True is False\n",
        "\n",
        "False and False is False\n",
        "\n",
        "2. **Truth Table for 'or' operator:**\n",
        "\n",
        "True or True is True\n",
        "\n",
        "True or False is True\n",
        "\n",
        "False or True is True\n",
        "\n",
        "False or False is False\n",
        "\n",
        "3. **Truth Table for 'not' operator:**\n",
        "\n",
        "True not is False\n",
        "\n",
        "False not is True\n",
        "\n"
      ],
      "metadata": {
        "id": "7BdcDZ_8kwAA"
      }
    },
    {
      "cell_type": "markdown",
      "source": [
        "**Q.4 :** What are the values of the following expressions ?\n",
        "\n",
        "*   (5 > 4) and (3 == 5)\n",
        "*   not (5 > 4)\n",
        "*   (5 > 4) or (3 == 5)\n",
        "*   not ((5 > 4) or (3 == 5))\n",
        "*   (True and True) and (True == False)\n",
        "*   (not False) or (not True)\n",
        "\n",
        "**Ans 4 :** Value are as follows:"
      ],
      "metadata": {
        "id": "sgWfEPgqpgIA"
      }
    },
    {
      "cell_type": "code",
      "source": [
        "(5 > 4) and (3 == 5)"
      ],
      "metadata": {
        "colab": {
          "base_uri": "https://localhost:8080/"
        },
        "id": "jAUBU3KcpZaL",
        "outputId": "4809932b-15d3-4aa4-bb32-4afb5322d8a1"
      },
      "execution_count": 1,
      "outputs": [
        {
          "output_type": "execute_result",
          "data": {
            "text/plain": [
              "False"
            ]
          },
          "metadata": {},
          "execution_count": 1
        }
      ]
    },
    {
      "cell_type": "code",
      "source": [
        "not (5 > 4)"
      ],
      "metadata": {
        "colab": {
          "base_uri": "https://localhost:8080/"
        },
        "id": "49rXyAcfq3Pc",
        "outputId": "4261c561-cfe0-446b-e2fe-38ee2bd81ce0"
      },
      "execution_count": 2,
      "outputs": [
        {
          "output_type": "execute_result",
          "data": {
            "text/plain": [
              "False"
            ]
          },
          "metadata": {},
          "execution_count": 2
        }
      ]
    },
    {
      "cell_type": "code",
      "source": [
        "(5 > 4) or (3 == 5)"
      ],
      "metadata": {
        "colab": {
          "base_uri": "https://localhost:8080/"
        },
        "id": "83g3qHinq_EJ",
        "outputId": "f962ae4d-d361-4c17-b640-e0e7e8cb7246"
      },
      "execution_count": 3,
      "outputs": [
        {
          "output_type": "execute_result",
          "data": {
            "text/plain": [
              "True"
            ]
          },
          "metadata": {},
          "execution_count": 3
        }
      ]
    },
    {
      "cell_type": "code",
      "source": [
        "not ((5 > 4) or (3 == 5))"
      ],
      "metadata": {
        "colab": {
          "base_uri": "https://localhost:8080/"
        },
        "id": "x8W2HGonrG_s",
        "outputId": "a641c9c1-ae32-40ae-9a3c-4deffdaf3520"
      },
      "execution_count": 4,
      "outputs": [
        {
          "output_type": "execute_result",
          "data": {
            "text/plain": [
              "False"
            ]
          },
          "metadata": {},
          "execution_count": 4
        }
      ]
    },
    {
      "cell_type": "code",
      "source": [
        "(True and True) and (True == False)"
      ],
      "metadata": {
        "colab": {
          "base_uri": "https://localhost:8080/"
        },
        "id": "ZWsIbYo_rJsa",
        "outputId": "35131c72-cd60-4b60-d14a-bd540b42e10b"
      },
      "execution_count": 5,
      "outputs": [
        {
          "output_type": "execute_result",
          "data": {
            "text/plain": [
              "False"
            ]
          },
          "metadata": {},
          "execution_count": 5
        }
      ]
    },
    {
      "cell_type": "code",
      "source": [
        "(not False) or (not True)"
      ],
      "metadata": {
        "colab": {
          "base_uri": "https://localhost:8080/"
        },
        "id": "2n_H6Bj0rRYO",
        "outputId": "6ccc7a51-8066-4dee-d50c-d12db4065329"
      },
      "execution_count": 6,
      "outputs": [
        {
          "output_type": "execute_result",
          "data": {
            "text/plain": [
              "True"
            ]
          },
          "metadata": {},
          "execution_count": 6
        }
      ]
    },
    {
      "cell_type": "markdown",
      "source": [
        "**Q.5 :** What are the six comparison operators?\n",
        "\n",
        "**Ans 5 :** The Six comparision operators available in python are:\n",
        "\n",
        "== , != , < , > , <= , =>"
      ],
      "metadata": {
        "id": "lBMMe8tHrYGW"
      }
    },
    {
      "cell_type": "markdown",
      "source": [
        "**Q.6 :** How do you tell the difference between the equal to and assignment operators? Describe a condition and when you would use one.\n",
        "\n",
        "**Ans 6 :** \n",
        "\n",
        "*  ' = ' : single equals to sign is used for the assignment operation\n",
        "*   ' == ' : double equals to sign is used for the equal to condition check.\n",
        "\n"
      ],
      "metadata": {
        "id": "d_aGOxdZsAQX"
      }
    },
    {
      "cell_type": "code",
      "source": [
        "a = 100\n",
        "if a == 200:\n",
        "    print(\"True\")\n",
        "else:\n",
        "    print(\"False\")"
      ],
      "metadata": {
        "colab": {
          "base_uri": "https://localhost:8080/"
        },
        "id": "ebNN9nhzrVDm",
        "outputId": "0c78205f-a12c-459e-f8fe-04a890ffb102"
      },
      "execution_count": 7,
      "outputs": [
        {
          "output_type": "stream",
          "name": "stdout",
          "text": [
            "False\n"
          ]
        }
      ]
    },
    {
      "cell_type": "markdown",
      "source": [
        "In this code we used a variable a to assign the value 100 and using if condition to compare the value of a to 200 and check whether the result is True or False."
      ],
      "metadata": {
        "id": "G9D77nZYt3fS"
      }
    },
    {
      "cell_type": "markdown",
      "source": [
        "**Q.7 :** Identify the three blocks in this code:\n",
        "\n",
        "spam = 0\n",
        "\n",
        "if spam == 10:\n",
        "\n",
        "print('eggs')\n",
        "\n",
        "if spam > 5:\n",
        "\n",
        "print('bacon')\n",
        "\n",
        "else:\n",
        "\n",
        "print('ham')\n",
        "\n",
        "print('spam')\n",
        "\n",
        "print('spam')"
      ],
      "metadata": {
        "id": "r6SS8iPSv32V"
      }
    },
    {
      "cell_type": "markdown",
      "source": [
        "**Ans 7 :**"
      ],
      "metadata": {
        "id": "YJ7SrRyxxqV3"
      }
    },
    {
      "cell_type": "code",
      "source": [
        "spam = 0\n",
        "\n",
        "if spam == 10:  ## Block 1\n",
        "    print('eggs')\n",
        "    \n",
        "if spam > 5:    ## Block 2\n",
        "    print('bacon')\n",
        "    \n",
        "else:           ## Block 3\n",
        "    print('ham')\n",
        "    print('spam')\n",
        "    print('spam')"
      ],
      "metadata": {
        "colab": {
          "base_uri": "https://localhost:8080/"
        },
        "id": "PIXyIBWCtGl3",
        "outputId": "b7df74c1-87dc-48af-d6c0-b9704f313883"
      },
      "execution_count": 9,
      "outputs": [
        {
          "output_type": "stream",
          "name": "stdout",
          "text": [
            "ham\n",
            "spam\n",
            "spam\n"
          ]
        }
      ]
    },
    {
      "cell_type": "markdown",
      "source": [
        "**Q.8 :**  Write code that prints Hello if 1 is stored in spam, prints Howdy if 2 is stored in spam, and prints Greetings! if anything else is stored in spam.\n",
        "\n",
        "**Ans 8 :**"
      ],
      "metadata": {
        "id": "jD-Z-qadyoau"
      }
    },
    {
      "cell_type": "code",
      "source": [
        "spam = int(input())\n",
        "if spam == 1:\n",
        "    print(\"Hello\")\n",
        "elif spam == 2:\n",
        "    print(\"Howdy\")\n",
        "else :\n",
        "    print(\"Greetings!\")"
      ],
      "metadata": {
        "colab": {
          "base_uri": "https://localhost:8080/"
        },
        "id": "JlR9BayOyV34",
        "outputId": "d47b1107-7374-4f91-fe37-7d3fdd54c9d4"
      },
      "execution_count": 10,
      "outputs": [
        {
          "output_type": "stream",
          "name": "stdout",
          "text": [
            "2\n",
            "Howdy\n"
          ]
        }
      ]
    },
    {
      "cell_type": "markdown",
      "source": [
        "**Q.9 :** If your programme is stuck in an endless loop, what keys you’ll press?\n",
        "\n",
        "**Ans 9 :** Press Ctrl + C to stop a program stuck in an infinite loop."
      ],
      "metadata": {
        "id": "FLdAbVfCzvsq"
      }
    },
    {
      "cell_type": "markdown",
      "source": [
        "**Q. 10 :** How can you tell the difference between break and continue?\n",
        "\n",
        "**Ans 10 :** \n",
        "\n",
        "*   break : It is used to break the loop and exit from the loop.\n",
        "*   continue : It is used to skip the current iteration of the loop and continue with the next iteration.\n",
        "\n"
      ],
      "metadata": {
        "id": "-KSewE7n0GFW"
      }
    },
    {
      "cell_type": "markdown",
      "source": [
        "**Q. 11 :** In a for loop, what is the difference between range(10), range(0, 10), and range(0, 10, 1)?\n",
        "\n",
        "**Ans 11 :** They all do the same thing as follows:"
      ],
      "metadata": {
        "id": "fjasqTL_2IiW"
      }
    },
    {
      "cell_type": "code",
      "source": [
        "for i in range(10):\n",
        "    print(i, end = ' ')"
      ],
      "metadata": {
        "colab": {
          "base_uri": "https://localhost:8080/"
        },
        "id": "jRa_yevv1w7P",
        "outputId": "6465bb2f-b2d4-487d-edb6-275328672b43"
      },
      "execution_count": 11,
      "outputs": [
        {
          "output_type": "stream",
          "name": "stdout",
          "text": [
            "0 1 2 3 4 5 6 7 8 9 "
          ]
        }
      ]
    },
    {
      "cell_type": "code",
      "source": [
        "for i in range(0,10):\n",
        "    print(i, end = ' ')"
      ],
      "metadata": {
        "colab": {
          "base_uri": "https://localhost:8080/"
        },
        "id": "T3CfqJHx2vDV",
        "outputId": "09a4805f-2242-421b-ee77-ec190db5abd3"
      },
      "execution_count": 12,
      "outputs": [
        {
          "output_type": "stream",
          "name": "stdout",
          "text": [
            "0 1 2 3 4 5 6 7 8 9 "
          ]
        }
      ]
    },
    {
      "cell_type": "code",
      "source": [
        "for i in range(0, 10, 1):\n",
        "    print(i, end = ' ')"
      ],
      "metadata": {
        "colab": {
          "base_uri": "https://localhost:8080/"
        },
        "id": "W0wwydqD22GY",
        "outputId": "170bd42a-492b-4855-c52f-736267a64d34"
      },
      "execution_count": 13,
      "outputs": [
        {
          "output_type": "stream",
          "name": "stdout",
          "text": [
            "0 1 2 3 4 5 6 7 8 9 "
          ]
        }
      ]
    },
    {
      "cell_type": "markdown",
      "source": [
        "**Q. 12 :** Write a short program that prints the numbers 1 to 10 using a for loop. Then write an equivalent program that prints the numbers 1 to 10 using a while loop.\n",
        "\n",
        "**Ans 12 :**"
      ],
      "metadata": {
        "id": "t4Keg_9-3uS9"
      }
    },
    {
      "cell_type": "code",
      "source": [
        "# Using for loop\n",
        "\n",
        "for i in range(1, 11):\n",
        "    print(i, end = ' ')"
      ],
      "metadata": {
        "colab": {
          "base_uri": "https://localhost:8080/"
        },
        "id": "FbPyGSMb3BuU",
        "outputId": "c1a264ff-da64-4016-9b88-34aef0b300d7"
      },
      "execution_count": 16,
      "outputs": [
        {
          "output_type": "stream",
          "name": "stdout",
          "text": [
            "1 2 3 4 5 6 7 8 9 10 "
          ]
        }
      ]
    },
    {
      "cell_type": "code",
      "source": [
        "# Using while loop\n",
        "\n",
        "i = 1\n",
        "while i < 11:\n",
        "    print(i, end = ' ')\n",
        "    i += 1"
      ],
      "metadata": {
        "colab": {
          "base_uri": "https://localhost:8080/"
        },
        "id": "5sW1yosS7lus",
        "outputId": "36f4ab67-21de-4d80-9424-de60a8ce5242"
      },
      "execution_count": 17,
      "outputs": [
        {
          "output_type": "stream",
          "name": "stdout",
          "text": [
            "1 2 3 4 5 6 7 8 9 10 "
          ]
        }
      ]
    },
    {
      "cell_type": "markdown",
      "source": [
        "**Q. 13 :** If you had a function named bacon() inside a module named spam, how would you call it after importing spam?\n",
        "\n",
        "**Ans 13 :** This function can be called with spam.bacon()"
      ],
      "metadata": {
        "id": "8DI-Ldey8Jbm"
      }
    },
    {
      "cell_type": "code",
      "source": [],
      "metadata": {
        "id": "B4i-IAYk77vk"
      },
      "execution_count": null,
      "outputs": []
    }
  ]
}