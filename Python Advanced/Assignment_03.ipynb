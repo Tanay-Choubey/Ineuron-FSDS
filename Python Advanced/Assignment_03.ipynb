{
  "nbformat": 4,
  "nbformat_minor": 0,
  "metadata": {
    "colab": {
      "provenance": []
    },
    "kernelspec": {
      "name": "python3",
      "display_name": "Python 3"
    },
    "language_info": {
      "name": "python"
    }
  },
  "cells": [
    {
      "cell_type": "markdown",
      "source": [
        "# **Assignment 3**"
      ],
      "metadata": {
        "id": "NwERJPfSbw6I"
      }
    },
    {
      "cell_type": "markdown",
      "source": [
        "**Q. 1:** What is the concept of an abstract superclass?\n",
        "\n",
        "**Ans 1:** An abstract class/superclass can be considered as a blueprint for other classes. It allows you to create a set of methods that must be created within any child classes built from the abstract class. A class which contains one or more abstract methods is called an abstract class.\n",
        "\n",
        "Whereas an abstract method is a method that has a declaration but does not have an implementation."
      ],
      "metadata": {
        "id": "CUdoRCGCb5ru"
      }
    },
    {
      "cell_type": "code",
      "execution_count": 1,
      "metadata": {
        "colab": {
          "base_uri": "https://localhost:8080/"
        },
        "id": "fUPPDplBbq46",
        "outputId": "9448b405-97a8-40ca-f28a-7612ce8069c0"
      },
      "outputs": [
        {
          "output_type": "stream",
          "name": "stdout",
          "text": [
            "area: 200\n"
          ]
        }
      ],
      "source": [
        "import abc\n",
        "class Shape(metaclass=abc.ABCMeta):\n",
        "    @abc.abstractmethod\n",
        "    def area(self):\n",
        "        pass\n",
        "class Rectangle(Shape):\n",
        "    def __init__(self,x,y):\n",
        "        self.l=x\n",
        "        self.b=y\n",
        "    def area(self):\n",
        "        return self.l*self.b\n",
        "\n",
        "r=Rectangle(10,20)\n",
        "print(\"area:\",r.area())"
      ]
    },
    {
      "cell_type": "markdown",
      "source": [
        "\n",
        "\n",
        "---\n",
        "\n"
      ],
      "metadata": {
        "id": "vtNejWyogNrJ"
      }
    },
    {
      "cell_type": "markdown",
      "source": [
        "**Q. 2:** What happens when a class statement's top level contains a basic assignment statement?\n",
        "\n",
        "**Ans 2:** When a Class statement's top level contains a basic assignment statement, it is usually treated as a class attribute or class level variable where as assignment statements inside methods are treated as instance attributes or local attributes.\n",
        "\n",
        "When an instance of a class is created, a single copy of class attributes is maintained and shared to all instances of class where as each instance object maintains its own copy of instance variables."
      ],
      "metadata": {
        "id": "jBh8JOlwgOoh"
      }
    },
    {
      "cell_type": "code",
      "source": [
        "class Human:\n",
        "    species = 'Homesapiens' # class attribute\n",
        "    def __init__(self,name,gender):\n",
        "        self.name = name # instance attributes\n",
        "        self.gender = gender"
      ],
      "metadata": {
        "id": "nhLc-Skdf5Rp"
      },
      "execution_count": 2,
      "outputs": []
    },
    {
      "cell_type": "markdown",
      "source": [
        "\n",
        "\n",
        "---\n",
        "\n"
      ],
      "metadata": {
        "id": "u64UasFLg9zH"
      }
    },
    {
      "cell_type": "markdown",
      "source": [
        "**Q. 3:** Why does a class need to manually call a superclass's init method?\n",
        "\n",
        "**Ans 3:** Calling a superclass's init method allows the subclass to access and use attributes and methods from the parent class. It is necessary to manually call the parent class's init method in order to initialize the attributes and methods of the parent class, so that they are available for use in the subclass."
      ],
      "metadata": {
        "id": "tpUzHQ1Vg_Eh"
      }
    },
    {
      "cell_type": "markdown",
      "source": [
        "\n",
        "\n",
        "---\n",
        "\n"
      ],
      "metadata": {
        "id": "3CE9_j3shfeP"
      }
    },
    {
      "cell_type": "markdown",
      "source": [
        "**Q. 4:** How can you augment, instead of completely replacing, an inherited method?\n",
        "\n",
        "**Ans 4:** super() method can be used to augment, instead of completely replacing, an inherited method. "
      ],
      "metadata": {
        "id": "t9zy63TahgiD"
      }
    },
    {
      "cell_type": "code",
      "source": [
        "class Human:\n",
        "    def __init__(self,name,gender):\n",
        "        self.name = name\n",
        "        self.gender = gender\n",
        "class Employee(Human):\n",
        "    def __init__(self,name,gender,salary):\n",
        "        super().__init__(name,gender) \n",
        "        self.salary = salary\n",
        "emp_1 = Employee('Tanay','Male',30000)\n",
        "print(emp_1.__dict__) "
      ],
      "metadata": {
        "colab": {
          "base_uri": "https://localhost:8080/"
        },
        "id": "2RaRRmRFg6m0",
        "outputId": "abce0f6e-3b26-4aa9-fe99-510620bde62c"
      },
      "execution_count": 3,
      "outputs": [
        {
          "output_type": "stream",
          "name": "stdout",
          "text": [
            "{'name': 'Tanay', 'gender': 'Male', 'salary': 30000}\n"
          ]
        }
      ]
    },
    {
      "cell_type": "markdown",
      "source": [
        "\n",
        "\n",
        "---\n",
        "\n"
      ],
      "metadata": {
        "id": "5jDfc-3Qib9T"
      }
    },
    {
      "cell_type": "markdown",
      "source": [
        "**Q. 5:** How is the local scope of a class different from that of a function?\n",
        "\n",
        "**Ans 5:** A Variable which is defined inside a function is local to that function. it is accesible from the point at which it is defined until the end of the function, and exists for as long as the function is existing.\n",
        "\n",
        "Similary a variable inside of a class also has a local variable scope. Variables which are defined in the class body (but outside all methods) are called as class level variables or class attributes. they can be referenced by there bare names within the same scope, but they can also be accessed from outside this scope if we use the attribute access operator (.) . on a class or an instance of the class."
      ],
      "metadata": {
        "id": "lKwB9_rsidNb"
      }
    },
    {
      "cell_type": "code",
      "source": [
        "def hello(name):\n",
        "    name = name\n",
        "    print(f'You\\'re name is {name}')\n",
        "hello('Tanay Choubey')\n",
        "try:\n",
        "    name\n",
        "except NameError:\n",
        "    print('Name varible is not available outside hello function scope')\n",
        "\n",
        "class Person:\n",
        "    species = \"HomeSapines\"\n",
        "    def __init__(self):\n",
        "        pass\n",
        "print(Person.species) # Accessing species using class name\n",
        "Male = Person()\n",
        "print(Male.species) # Accessing species using instance of class"
      ],
      "metadata": {
        "colab": {
          "base_uri": "https://localhost:8080/"
        },
        "id": "2lpLFVzyiSXH",
        "outputId": "522667ae-9126-477d-d85c-e4b42b7fc4a5"
      },
      "execution_count": 4,
      "outputs": [
        {
          "output_type": "stream",
          "name": "stdout",
          "text": [
            "You're name is Tanay Choubey\n",
            "Name varible is not available outside hello function scope\n",
            "HomeSapines\n",
            "HomeSapines\n"
          ]
        }
      ]
    },
    {
      "cell_type": "markdown",
      "source": [
        "\n",
        "\n",
        "---\n",
        "\n"
      ],
      "metadata": {
        "id": "ABaqpcBikkgG"
      }
    }
  ]
}