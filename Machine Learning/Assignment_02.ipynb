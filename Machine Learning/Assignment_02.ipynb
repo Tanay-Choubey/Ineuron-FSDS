{
  "nbformat": 4,
  "nbformat_minor": 0,
  "metadata": {
    "colab": {
      "provenance": []
    },
    "kernelspec": {
      "name": "python3",
      "display_name": "Python 3"
    },
    "language_info": {
      "name": "python"
    }
  },
  "cells": [
    {
      "cell_type": "markdown",
      "source": [
        "# **Assignment 02**"
      ],
      "metadata": {
        "id": "xzvYRTJ1z8-B"
      }
    },
    {
      "cell_type": "markdown",
      "source": [
        "**Q. 1:** What is the concept of human learning? Please give two examples.\n",
        "\n",
        "**Ans 1:** Human learning is the form of learning which requires higher order mental processes like thinking, reasoning, intelligence, etc.We learn different concepts from childhood. For example: When we see a dog and attach the term 'dog', we learn that the word dog refers to a particular animal.\n",
        "\n",
        "- Learning through Association - Classical Conditioning.\n",
        "- Learning through consequences – Operant Conditioning.\n",
        "- Learning through observation – Modeling/Observational Learning."
      ],
      "metadata": {
        "id": "nxBnBu1f0Q2U"
      }
    },
    {
      "cell_type": "markdown",
      "source": [
        "\n",
        "\n",
        "---\n",
        "\n"
      ],
      "metadata": {
        "id": "zREYESOy1sl2"
      }
    },
    {
      "cell_type": "markdown",
      "source": [
        "**Q. 2:** What different forms of human learning are there? Are there any machine learning equivalents?\n",
        "\n",
        "**Ans 2:** Different Forms of ML are as follows :\n",
        "\n",
        "- Artificial Intelligence Learning Theories. Machine Learning. Reinforcement Learning. Supervised Learning. Unsupervised Learning.\n",
        "- ML equivalents like Linear regression, decision trees, random forest and support vector machines are some commonly used techniques that are actually examples of supervised learning."
      ],
      "metadata": {
        "id": "AebhVdIE1tdl"
      }
    },
    {
      "cell_type": "markdown",
      "source": [
        "\n",
        "\n",
        "---\n",
        "\n"
      ],
      "metadata": {
        "id": "IWB8LuM42YEF"
      }
    },
    {
      "cell_type": "markdown",
      "source": [
        "**Q. 3:** What is machine learning, and how does it work? What are the key responsibilities of machine learning?\n",
        "\n",
        "**Ans 3:** Machine learning is a type of artificial intelligence that involves training algorithms on data to allow them to learn how to perform tasks without explicit programming. The key responsibilities of machine learning include:\n",
        "\n",
        "- Collecting and preparing data for use in training\n",
        "- Selecting and tuning models to be trained on the data\n",
        "- Evaluating the performance of the trained models\n",
        "- Deploying the models to perform tasks in real-world settings\n",
        "- Monitoring and maintaining the models over time to ensure they continue to perform well."
      ],
      "metadata": {
        "id": "eBrpB7kY2Zti"
      }
    },
    {
      "cell_type": "markdown",
      "source": [
        "\n",
        "\n",
        "---\n",
        "\n"
      ],
      "metadata": {
        "id": "omzbaRzV22wf"
      }
    },
    {
      "cell_type": "markdown",
      "source": [
        "**Q. 4:** Define the terms \"penalty\" and \"reward\" in the context of reinforcement learning.\n",
        "\n",
        "**Ans 4:** A Reinforcement Learning Algorithm, which may also be referred to as an agent, learns by interacting with its environment. The agent receives rewards by performing correctly and penalties for performing incorrectly. The agent learns without intervention from a human by maximizing its reward and minimizing its penalty. Example: Suppose there is an AI agent present within a maze environment, and his goal is to find the diamond. The agent interacts with the environment by performing some actions, and based on those actions, the state of the agent gets changed, and it also receives a reward or penalty as feedback."
      ],
      "metadata": {
        "id": "XHoGYPHB24B_"
      }
    },
    {
      "cell_type": "markdown",
      "source": [
        "\n",
        "\n",
        "---\n",
        "\n"
      ],
      "metadata": {
        "id": "Jt2S02vYAy-Y"
      }
    },
    {
      "cell_type": "markdown",
      "source": [
        "**Q. 5:**  Explain the term \"learning as a search\".\n",
        "\n",
        "**Ans 5:** Learning can be viewed as a search through the space of all sentences in a concept description language for a sentence that best describes the data. Alternatively, it can be viewed as a search through all hypotheses in a hypothesis space. Concept learning can be viewed as the task of searching through a large space of hypotheses implicitly defined by the hypothesis representation. The goal of this search is to find the hypothesis that best fits the training examples."
      ],
      "metadata": {
        "id": "Te2pgmixA0pZ"
      }
    },
    {
      "cell_type": "markdown",
      "source": [
        "\n",
        "\n",
        "---\n",
        "\n"
      ],
      "metadata": {
        "id": "JC7OLW8SDXMX"
      }
    },
    {
      "cell_type": "markdown",
      "source": [
        "**Q. 6:** What are the various goals of machine learning? What is the relationship between these and human learning?\n",
        "\n",
        "**Ans 6:** The Goal of machine learning, closely coupled with the goal of AI, is to achieve a through understanding about the nature of learning process (both human learning and other forms of learning), about the computational aspects of learning behaviors, and to implant the learning capability in computer systems. he Goals of Machine Learning. The goal of ML, in simples w ords, is to understand the nature of (human and other forms of) learn- ing, and to build learning capability in computers. To b e more specific, there are three aspects of the goals of ML. (1) T o make the computers smarter , more intelligent. The more direct objecti ve i n this aspect is to develop systems (programs) for specific practical learning tasks in application domains. (2) T o dev elop computational models of human learning process and perform computer simulations. The study in this aspect is also called cognitive modeling. (3) T o explore new learning methods and de velop general learning algorithms independent of applica- tions.\n",
        "\n",
        "Humans have the ability to learn, however with the progress in artificial intelligence, machine learning has become a resource which can augment or even replace human learning. Learning does not happen all at once, but it builds upon and is shaped by previous knowledge. Humans acquire knowledge through experience either directly or shared by others. Machines acquire knowledge through experience shared in the form of past data. We have the terms, Knowledge, Skill, and Memory being used to define intelligence. Just because you have good memory, that does not mean you are intelligent."
      ],
      "metadata": {
        "id": "NZxIi9vbDYbh"
      }
    },
    {
      "cell_type": "markdown",
      "source": [
        "\n",
        "\n",
        "---\n",
        "\n"
      ],
      "metadata": {
        "id": "4XM0qY1eEHXF"
      }
    },
    {
      "cell_type": "markdown",
      "source": [
        "**Q. 7:**  Illustrate the various elements of machine learning using a real-life illustration.\n",
        "\n",
        "**Ans 7:** The Various elements of the the Machine Learning are:\n",
        "\n",
        "1. Data\n",
        "2. Task\n",
        "3. Model\n",
        "4. Loss Function\n",
        "5. Learning Algorithm\n",
        "6. Evaluation"
      ],
      "metadata": {
        "id": "Eyg6Af-BEIle"
      }
    },
    {
      "cell_type": "markdown",
      "source": [
        "\n",
        "\n",
        "---\n",
        "\n"
      ],
      "metadata": {
        "id": "iikheQxtFLmK"
      }
    },
    {
      "cell_type": "markdown",
      "source": [
        "**Q. 8:** Provide an example of the abstraction method.\n",
        "\n",
        "**Ans 8:** Abstraction is the process of removing unnecessary detail and complexity to focus on the essential elements of a problem. For example, a software developer could use abstraction to reduce the complexity of a program by creating functions that take a wide range of inputs and return output without revealing the internal details of the code."
      ],
      "metadata": {
        "id": "ipUp4n-wFMo0"
      }
    },
    {
      "cell_type": "markdown",
      "source": [
        "\n",
        "\n",
        "---\n",
        "\n"
      ],
      "metadata": {
        "id": "1O9TKIIKFwkA"
      }
    },
    {
      "cell_type": "markdown",
      "source": [
        "**Q. 9:** What is the concept of generalization? What function does it play in the machine learning process?\n",
        "\n",
        "**Ans 9:** Generalization in machine learning is the ability of a model to make accurate predictions on new, unseen data. The purpose of generalization is to ensure that a model can generalize well to new situations and make accurate predictions on unseen examples.\n",
        "\n",
        "To evaluate the generalization ability of a model, we use a validation dataset, which is a set of examples that the model has not seen during the training process. The model is tested on this validation dataset, and the performance of the model is evaluated. This process allows us to evaluate how well the model generalizes to new examples and adjust the model as necessary."
      ],
      "metadata": {
        "id": "dRJ78QeLFxpS"
      }
    },
    {
      "cell_type": "markdown",
      "source": [
        "\n",
        "\n",
        "---\n",
        "\n"
      ],
      "metadata": {
        "id": "53R2iCZTG-MO"
      }
    },
    {
      "cell_type": "markdown",
      "source": [
        "**Q. 10:** What is classification, exactly? What are the main distinctions between classification and regression?\n",
        "\n",
        "**Ans 10:** Classification is a type of supervised learning in which the goal is to predict a categorical label for a given input. The output is discrete and can be one of several predefined labels. For example, classifying an email as spam or not spam, or classifying an image as showing a specific object or not.\n",
        "\n",
        "Regression, on the other hand, is a type of supervised learning in which the goal is to predict a continuous value for a given input. The output is a real-valued number, rather than a predefined label. For example, predicting the price of a house based on its size and location, or predicting the temperature based on the time of the day.\n",
        "\n",
        "So, the main distinction between classification and regression is that classification is used to predict a discrete label, while regression is used to predict a continuous value. Another distinction is that classification is used when the output variable is categorical, and regression is used when the output variable is numerical."
      ],
      "metadata": {
        "id": "POydYbQ2G_Jr"
      }
    },
    {
      "cell_type": "markdown",
      "source": [
        "\n",
        "\n",
        "---\n",
        "\n"
      ],
      "metadata": {
        "id": "LIG5RMLFH2IZ"
      }
    },
    {
      "cell_type": "markdown",
      "source": [
        "**Q. 11:** What is regression, and how does it work? Give an example of a real-world problem that was solved using regression?\n",
        "\n",
        "**Ans 11:** Regression is a Supervised Machine Learning technique which is used to predict continuous values. The ultimate goal of a regression algorithm is to plot a best-fit line or a curve between the data.\n",
        "\n",
        "The three main metrics that are used for evaluating the trained regression model are Variance, Bias and Error.\n",
        "\n",
        "A simple linear regression real life example could mean you finding a relationship between the revenue and temperature, with a sample size for revenue as the dependent variable. In case of multiple variable regression, you can find the relationship between temperature, pricing and number of workers to the revenue."
      ],
      "metadata": {
        "id": "Oq_FZFM7H26Y"
      }
    },
    {
      "cell_type": "markdown",
      "source": [
        "\n",
        "\n",
        "---\n",
        "\n"
      ],
      "metadata": {
        "id": "IHWhLAIlIKUq"
      }
    },
    {
      "cell_type": "markdown",
      "source": [
        "**Q. 12:** Describe the clustering mechanism in detail.\n",
        "\n",
        "**Ans 12:** Clustering is the task of dividing the population or data points into a number of groups such that data points in the same groups are more similar to other data points in the same group than those in other groups. There are lots of algorithm are used to make aluster like:-\n",
        "\n",
        "- K mean clustering.\n",
        "- DBSCAN (Density-Based Spatial Clustering of Applications with Noise).\n",
        "- Hierarchy and Agglomerative."
      ],
      "metadata": {
        "id": "5t4Z8uQgIMnB"
      }
    },
    {
      "cell_type": "markdown",
      "source": [
        "\n",
        "\n",
        "---\n",
        "\n"
      ],
      "metadata": {
        "id": "5r9Wb--JJQ_T"
      }
    },
    {
      "cell_type": "markdown",
      "source": [
        "**Q. 13:** Make brief observations on two of the following topics:\n",
        "\n",
        "1. Machine learning algorithms are used\n",
        "\n",
        "2. Studying under supervision\n",
        "\n",
        "3. Studying without supervision\n",
        "\n",
        "4. Reinforcement learning is a form of learning based on positive reinforcement.\n",
        "\n",
        "**Ans 13:** The breif observations on the following two topics is:\n",
        "\n",
        "- Machine learning algorithms are used: At its Most basic, Machine Learning uses programmed algorithms that receive and analyse input data to predict output values within an acceptable range. As new data is fed to these algorithms, they learn and optimise their operations to improve performance, developing intelligence over time.\n",
        "\n",
        "- Studying Under Supervision: In machine learning, there are two important categories- Supervised and Unsupervised learning.Supervised learning, an algorithm learns from a training dataset. We know the correct answers or desired output, the algorithm makes predictions using the given dataset and is corrected by the “supervisor”."
      ],
      "metadata": {
        "id": "pKdVJB6FJR7N"
      }
    },
    {
      "cell_type": "markdown",
      "source": [
        "\n",
        "\n",
        "---\n",
        "\n"
      ],
      "metadata": {
        "id": "GqCLFOz7J5HJ"
      }
    }
  ]
}