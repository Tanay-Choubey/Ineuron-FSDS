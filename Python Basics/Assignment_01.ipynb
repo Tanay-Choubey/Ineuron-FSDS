{
  "nbformat": 4,
  "nbformat_minor": 0,
  "metadata": {
    "colab": {
      "provenance": []
    },
    "kernelspec": {
      "name": "python3",
      "display_name": "Python 3"
    },
    "language_info": {
      "name": "python"
    }
  },
  "cells": [
    {
      "cell_type": "markdown",
      "source": [
        "## **Assignment 1**\n",
        "\n",
        "\n",
        "\n"
      ],
      "metadata": {
        "id": "FH5tmeTyXJri"
      }
    },
    {
      "cell_type": "markdown",
      "source": [
        "**Q.1 :** In the below elements which of them are values or an expression? eg:- values can be\n",
        "integer or string and expressions will be mathematical operators.\n",
        "* , 'hello' , -87.8 , - , / , + , 6\n",
        "\n",
        "\n",
        "**Ans 1 :** There are 4 Operators and 3 Expressions in following elements, They are:\n",
        "\n",
        "**Expressions**: 'hello' , 87.8 , 6\n",
        "\n",
        "**Operators**: * , - , / , +"
      ],
      "metadata": {
        "id": "zNdSQj-8XMl5"
      }
    },
    {
      "cell_type": "markdown",
      "source": [
        "**Q.2 :** What is the difference between string and variable?\n",
        "\n",
        "\n",
        "**Ans 2 :** A Variable is used to store of information, and a String is a type of a Variable. A String is a group of characters or a single character usually enclosed in Double quotes \" \" or single quotes ' '."
      ],
      "metadata": {
        "id": "VDUkxWw2Y1my"
      }
    },
    {
      "cell_type": "markdown",
      "source": [
        "**Q. 3 :** Describe three different Data Types.\n",
        "\n",
        "\n",
        "**Ans 3 :** There are different types of data types in Python. Three of them built-in Python data types are:\n",
        "\n",
        "1. **int data type:** We can use int data type to represent whole numbers (integral values).\n",
        "2. **float data type:** We can use float data type to represent floating point values (decimal values).\n",
        "3. **complex data type:** Complex number is represented by complex class. It is specified as (real part) + (imaginary part)j.\n",
        "\n",
        "\n"
      ],
      "metadata": {
        "id": "o6pE-2-xY1GZ"
      }
    },
    {
      "cell_type": "code",
      "source": [
        "# Example for int data type\n",
        "a = 123\n",
        "print(a, type(a))\n",
        "# Example for float data type\n",
        "b = 2.5\n",
        "print(b, type(b))\n",
        "# Example for Complex data type\n",
        "c = 2 + 3j\n",
        "print(c, type(c))"
      ],
      "metadata": {
        "colab": {
          "base_uri": "https://localhost:8080/"
        },
        "id": "mTavVLaMAGyd",
        "outputId": "d1c301e2-2b77-439e-b0fb-e0af8d83c885"
      },
      "execution_count": 19,
      "outputs": [
        {
          "output_type": "stream",
          "name": "stdout",
          "text": [
            "123 <class 'int'>\n",
            "2.5 <class 'float'>\n",
            "(2+3j) <class 'complex'>\n"
          ]
        }
      ]
    },
    {
      "cell_type": "markdown",
      "source": [
        "**Q. 4 :** What is an expression made up of? What do all expressions do?\n",
        "\n",
        "**Ans 4:** An expression is a combination of values, variables, operators, and calls to functions. Expressions need to be evaluated. If we ask Python to print an expression, the interpreter evaluates the expression and displays the result."
      ],
      "metadata": {
        "id": "nAvy8ydSY1C_"
      }
    },
    {
      "cell_type": "code",
      "source": [
        "# Example of Constant Expressions\n",
        "x = 10+20*6/2\n",
        "  \n",
        "print(x)"
      ],
      "metadata": {
        "colab": {
          "base_uri": "https://localhost:8080/"
        },
        "id": "0TOfybfYEdNi",
        "outputId": "d56d3dd6-6d70-489c-b39b-cd103f4316ae"
      },
      "execution_count": 7,
      "outputs": [
        {
          "output_type": "stream",
          "name": "stdout",
          "text": [
            "70.0\n"
          ]
        }
      ]
    },
    {
      "cell_type": "markdown",
      "source": [
        "**Q. 5 :** This assignment statements, like spam = 10. What is the difference between an expression and a statement?\n",
        "\n",
        "**Ans 5 :** The main difference in statement and expression is, if you can print it, or assign it to a variable, it’s an expression. If you can’t, it’s a statement.\n",
        "\n",
        "For example : \" spam = 10 * a \" is a assignment statement whereas the \" 10 * a \" is an expression."
      ],
      "metadata": {
        "id": "3PdASPX_Fthd"
      }
    },
    {
      "cell_type": "markdown",
      "source": [
        "**Q.6** : After running the following code, what does the variable bacon contain?\n",
        "\n",
        "bacon = 22\n",
        "\n",
        "bacon + 1\n",
        "\n",
        "**Ans 6** : bacon will contain 22 because the bacon variable contains 22 and the bacon + 1 expression does not reassign the value in bacon."
      ],
      "metadata": {
        "id": "UNm4JwblKLhM"
      }
    },
    {
      "cell_type": "code",
      "source": [
        "# For Example :\n",
        "\n",
        "bacon = 22\n",
        "bacon + 1"
      ],
      "metadata": {
        "colab": {
          "base_uri": "https://localhost:8080/"
        },
        "id": "r_KZAfiWErQI",
        "outputId": "d774bad3-9358-478e-ab56-f8aaaa863429"
      },
      "execution_count": 8,
      "outputs": [
        {
          "output_type": "execute_result",
          "data": {
            "text/plain": [
              "23"
            ]
          },
          "metadata": {},
          "execution_count": 8
        }
      ]
    },
    {
      "cell_type": "code",
      "source": [
        "bacon"
      ],
      "metadata": {
        "colab": {
          "base_uri": "https://localhost:8080/"
        },
        "id": "I1D6muBpMe_v",
        "outputId": "b85a7d70-1808-43ed-fc4d-5001b0e8df79"
      },
      "execution_count": 9,
      "outputs": [
        {
          "output_type": "execute_result",
          "data": {
            "text/plain": [
              "22"
            ]
          },
          "metadata": {},
          "execution_count": 9
        }
      ]
    },
    {
      "cell_type": "markdown",
      "source": [
        "**Q.7 :** What should the values of the following two terms be?\n",
        "'spam' + 'spamspam'\n",
        "'spam' * 3\n",
        "\n",
        "**Ans 7 :** \n",
        "\n",
        "*   'spam' + 'spamspam' = 'spamspamspam'\n",
        "*   'spam' * 3 = 'spamspamspam'\n",
        "\n"
      ],
      "metadata": {
        "id": "a8Ipt3bdMqWM"
      }
    },
    {
      "cell_type": "code",
      "source": [
        "# For Example :\n",
        "'spam' + 'spamspam'\n"
      ],
      "metadata": {
        "colab": {
          "base_uri": "https://localhost:8080/",
          "height": 36
        },
        "id": "5q3Sp20ZMimh",
        "outputId": "dee5eb05-79b4-4ca0-9f54-685c97dcb7f8"
      },
      "execution_count": 10,
      "outputs": [
        {
          "output_type": "execute_result",
          "data": {
            "text/plain": [
              "'spamspamspam'"
            ],
            "application/vnd.google.colaboratory.intrinsic+json": {
              "type": "string"
            }
          },
          "metadata": {},
          "execution_count": 10
        }
      ]
    },
    {
      "cell_type": "code",
      "source": [
        "'spam' * 3"
      ],
      "metadata": {
        "colab": {
          "base_uri": "https://localhost:8080/",
          "height": 36
        },
        "id": "1U4-JC9yOHnK",
        "outputId": "b67e502f-9282-46f4-c7fa-15b2d55b0427"
      },
      "execution_count": 11,
      "outputs": [
        {
          "output_type": "execute_result",
          "data": {
            "text/plain": [
              "'spamspamspam'"
            ],
            "application/vnd.google.colaboratory.intrinsic+json": {
              "type": "string"
            }
          },
          "metadata": {},
          "execution_count": 11
        }
      ]
    },
    {
      "cell_type": "markdown",
      "source": [
        "Both will give same outcome."
      ],
      "metadata": {
        "id": "M2nNNFTbOTtM"
      }
    },
    {
      "cell_type": "markdown",
      "source": [
        "**Q.8 :** Why is eggs a valid variable name while 100 is invalid?\n",
        "\n",
        "**Ans 8 :** Because the variable declartion in python is that the variable name must start with a alphabate or underscore '_'."
      ],
      "metadata": {
        "id": "hrPKS0MnOkYU"
      }
    },
    {
      "cell_type": "markdown",
      "source": [
        "**Q.9 :** What three functions can be used to get the integer, floating-point number, or string version of a value?\n",
        "\n",
        "**Ans 9 :** The int(),float(),and str() functions will evaluate to the integer,floating-point number,string version of the value passed to them."
      ],
      "metadata": {
        "id": "HmT2Z7y9PbfE"
      }
    },
    {
      "cell_type": "code",
      "source": [
        "# For Example :\n",
        "\n",
        "int(12.43)"
      ],
      "metadata": {
        "colab": {
          "base_uri": "https://localhost:8080/"
        },
        "id": "Lho-D2uTOLyP",
        "outputId": "aab683fd-16f6-4883-ee6a-d7d7dcebc593"
      },
      "execution_count": 16,
      "outputs": [
        {
          "output_type": "execute_result",
          "data": {
            "text/plain": [
              "12"
            ]
          },
          "metadata": {},
          "execution_count": 16
        }
      ]
    },
    {
      "cell_type": "code",
      "source": [
        "int(\"1234\")"
      ],
      "metadata": {
        "colab": {
          "base_uri": "https://localhost:8080/"
        },
        "id": "EqB_TBvhQcNk",
        "outputId": "89ca4baf-1ba6-4642-956c-5484b6582772"
      },
      "execution_count": 13,
      "outputs": [
        {
          "output_type": "execute_result",
          "data": {
            "text/plain": [
              "1234"
            ]
          },
          "metadata": {},
          "execution_count": 13
        }
      ]
    },
    {
      "cell_type": "code",
      "source": [
        "float(123)"
      ],
      "metadata": {
        "colab": {
          "base_uri": "https://localhost:8080/"
        },
        "id": "KtB5RIhHQgu2",
        "outputId": "b4011dd0-0d96-4e78-8b80-3e8596e5776c"
      },
      "execution_count": 14,
      "outputs": [
        {
          "output_type": "execute_result",
          "data": {
            "text/plain": [
              "123.0"
            ]
          },
          "metadata": {},
          "execution_count": 14
        }
      ]
    },
    {
      "cell_type": "code",
      "source": [
        "str(123)"
      ],
      "metadata": {
        "colab": {
          "base_uri": "https://localhost:8080/",
          "height": 36
        },
        "id": "7McaizeEQmxi",
        "outputId": "0453782f-361e-4ef5-b525-def1c9423fdc"
      },
      "execution_count": 15,
      "outputs": [
        {
          "output_type": "execute_result",
          "data": {
            "text/plain": [
              "'123'"
            ],
            "application/vnd.google.colaboratory.intrinsic+json": {
              "type": "string"
            }
          },
          "metadata": {},
          "execution_count": 15
        }
      ]
    },
    {
      "cell_type": "markdown",
      "source": [
        "**Q.10:** Why does this expression cause an error? How can you fix it?\n",
        "\n",
        "'I have eaten ' + 99 + ' burritos.'\n",
        "\n",
        "**Ans 10:** The cause of error is 99 because 99 is not a string. 99 must be typecasted to a string to fix this error."
      ],
      "metadata": {
        "id": "hObAc4ueQyJs"
      }
    },
    {
      "cell_type": "code",
      "source": [
        "#Error :\n",
        "\n",
        "'I have eaten ' + 99 + ' burritos.'"
      ],
      "metadata": {
        "colab": {
          "base_uri": "https://localhost:8080/",
          "height": 200
        },
        "id": "Y6FrVixkQrg2",
        "outputId": "a8899ee5-d84a-43c0-ee90-09e1440ec87d"
      },
      "execution_count": 17,
      "outputs": [
        {
          "output_type": "error",
          "ename": "TypeError",
          "evalue": "ignored",
          "traceback": [
            "\u001b[0;31m---------------------------------------------------------------------------\u001b[0m",
            "\u001b[0;31mTypeError\u001b[0m                                 Traceback (most recent call last)",
            "\u001b[0;32m<ipython-input-17-04755e27d4f0>\u001b[0m in \u001b[0;36m<module>\u001b[0;34m\u001b[0m\n\u001b[1;32m      1\u001b[0m \u001b[0;31m#Error :\u001b[0m\u001b[0;34m\u001b[0m\u001b[0;34m\u001b[0m\u001b[0;34m\u001b[0m\u001b[0m\n\u001b[1;32m      2\u001b[0m \u001b[0;34m\u001b[0m\u001b[0m\n\u001b[0;32m----> 3\u001b[0;31m \u001b[0;34m'I have eaten '\u001b[0m \u001b[0;34m+\u001b[0m \u001b[0;36m99\u001b[0m \u001b[0;34m+\u001b[0m \u001b[0;34m' burritos.'\u001b[0m\u001b[0;34m\u001b[0m\u001b[0;34m\u001b[0m\u001b[0m\n\u001b[0m",
            "\u001b[0;31mTypeError\u001b[0m: can only concatenate str (not \"int\") to str"
          ]
        }
      ]
    },
    {
      "cell_type": "code",
      "source": [
        "#Fix :\n",
        "\n",
        "'I have eaten ' + str(99) + ' burritos.'"
      ],
      "metadata": {
        "colab": {
          "base_uri": "https://localhost:8080/",
          "height": 36
        },
        "id": "WW5ykn6cSOVE",
        "outputId": "24293af3-3dec-4894-dc78-c2bfbe0cb530"
      },
      "execution_count": 18,
      "outputs": [
        {
          "output_type": "execute_result",
          "data": {
            "text/plain": [
              "'I have eaten 99 burritos.'"
            ],
            "application/vnd.google.colaboratory.intrinsic+json": {
              "type": "string"
            }
          },
          "metadata": {},
          "execution_count": 18
        }
      ]
    }
  ]
}