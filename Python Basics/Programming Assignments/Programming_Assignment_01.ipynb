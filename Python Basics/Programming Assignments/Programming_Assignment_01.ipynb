{
  "nbformat": 4,
  "nbformat_minor": 0,
  "metadata": {
    "colab": {
      "provenance": []
    },
    "kernelspec": {
      "name": "python3",
      "display_name": "Python 3"
    },
    "language_info": {
      "name": "python"
    }
  },
  "cells": [
    {
      "cell_type": "markdown",
      "source": [
        "# **Programming Assignment 1**"
      ],
      "metadata": {
        "id": "W4KWYhbZsuts"
      }
    },
    {
      "cell_type": "markdown",
      "source": [
        "**Q. 1:** Write a Python program to print 'Hello Python'?\n",
        "\n",
        "**Ans 1:** "
      ],
      "metadata": {
        "id": "ci4uk9MttBYi"
      }
    },
    {
      "cell_type": "code",
      "source": [
        "print('Hello Python')"
      ],
      "metadata": {
        "colab": {
          "base_uri": "https://localhost:8080/"
        },
        "id": "VlMy2LlbvJ09",
        "outputId": "2d790b57-c45e-4458-cb8b-30312b3dddec"
      },
      "execution_count": 1,
      "outputs": [
        {
          "output_type": "stream",
          "name": "stdout",
          "text": [
            "Hello Python\n"
          ]
        }
      ]
    },
    {
      "cell_type": "markdown",
      "source": [
        "\n",
        "\n",
        "---\n",
        "\n"
      ],
      "metadata": {
        "id": "p0RtSfOswznt"
      }
    },
    {
      "cell_type": "markdown",
      "source": [
        "**Q. 2:** Write a Python program to do arithmetic operations addition and division?\n",
        "\n",
        "**Ans 2:** "
      ],
      "metadata": {
        "id": "CyPkes7_w0_q"
      }
    },
    {
      "cell_type": "code",
      "source": [
        "a = 100\n",
        "b = 4\n",
        "\n",
        "## Addition\n",
        "add = a + b\n",
        "## Division\n",
        "div = a/b\n",
        "\n",
        "print(add)\n",
        "print(div)"
      ],
      "metadata": {
        "colab": {
          "base_uri": "https://localhost:8080/"
        },
        "id": "WzTyLa5kwItt",
        "outputId": "987c9ee2-9df6-4a3f-c9cb-eca2122282e0"
      },
      "execution_count": 2,
      "outputs": [
        {
          "output_type": "stream",
          "name": "stdout",
          "text": [
            "104\n",
            "25.0\n"
          ]
        }
      ]
    },
    {
      "cell_type": "markdown",
      "source": [
        "\n",
        "\n",
        "---\n",
        "\n"
      ],
      "metadata": {
        "id": "b-W4c2NXyD0s"
      }
    },
    {
      "cell_type": "markdown",
      "source": [
        "**Q. 3:** Write a Python program to find the area of a triangle?\n",
        "\n",
        "**Ans 3:** "
      ],
      "metadata": {
        "id": "048yDwEJyFIG"
      }
    },
    {
      "cell_type": "code",
      "source": [
        "height = int(input('Enter height of triangle: '))\n",
        "base = int(input('Enter base of triangle: '))\n",
        "\n",
        "area = height*base/2\n",
        "\n",
        "print(\"Area of triangle:\", area)"
      ],
      "metadata": {
        "colab": {
          "base_uri": "https://localhost:8080/"
        },
        "id": "Ey0dSxmWyd7P",
        "outputId": "7c907203-ccd5-4cc4-cee1-b99ced300be0"
      },
      "execution_count": 3,
      "outputs": [
        {
          "output_type": "stream",
          "name": "stdout",
          "text": [
            "Enter height of triangle: 12\n",
            "Enter base of triangle: 15\n",
            "Area of triangle: 90.0\n"
          ]
        }
      ]
    },
    {
      "cell_type": "markdown",
      "source": [
        "\n",
        "\n",
        "---\n",
        "\n"
      ],
      "metadata": {
        "id": "zj1i-dVs0hYb"
      }
    },
    {
      "cell_type": "markdown",
      "source": [
        "**Q. 4:** Write a Python program to swap two variables?\n",
        "\n",
        "**Ans 4:** "
      ],
      "metadata": {
        "id": "FECz7EHG0jtn"
      }
    },
    {
      "cell_type": "code",
      "source": [
        "a = int(input(\"Enter First Number: \"))\n",
        "b = int(input(\"Enter Second Number: \"))\n",
        "\n",
        "print(\"\\nInitial Value of a =\", a)\n",
        "print(\"Initial Value of b =\", b)\n",
        "\n",
        "temp = a\n",
        "a = b\n",
        "b = temp\n",
        "\n",
        "print(\"\\nAfter swaping value of a =\", a)\n",
        "print(\"After swaping value of b =\", b)"
      ],
      "metadata": {
        "colab": {
          "base_uri": "https://localhost:8080/"
        },
        "id": "qMBucI1O0Bgv",
        "outputId": "64deb325-194e-4650-fc4e-5e798242b61d"
      },
      "execution_count": 6,
      "outputs": [
        {
          "output_type": "stream",
          "name": "stdout",
          "text": [
            "Enter First Number: 100\n",
            "Enter Second Number: 200\n",
            "\n",
            "Initial Value of a = 100\n",
            "Initial Value of b = 200\n",
            "\n",
            "After swaping value of a = 200\n",
            "After swaping value of b = 100\n"
          ]
        }
      ]
    },
    {
      "cell_type": "markdown",
      "source": [
        "\n",
        "\n",
        "---\n",
        "\n"
      ],
      "metadata": {
        "id": "bCv2kVfb6-Wm"
      }
    },
    {
      "cell_type": "markdown",
      "source": [
        "**Q. 5:** Write a Python program to generate a random number?\n",
        "\n",
        "**Ans 5:** "
      ],
      "metadata": {
        "id": "SABeZN326_iA"
      }
    },
    {
      "cell_type": "code",
      "source": [
        "import random\n",
        "n = random.randint(1,1000)\n",
        "print(n)"
      ],
      "metadata": {
        "colab": {
          "base_uri": "https://localhost:8080/"
        },
        "id": "9am83ELt6g0R",
        "outputId": "c70a0f53-3e1b-4198-fad9-cf235de2db2d"
      },
      "execution_count": 7,
      "outputs": [
        {
          "output_type": "stream",
          "name": "stdout",
          "text": [
            "930\n"
          ]
        }
      ]
    },
    {
      "cell_type": "markdown",
      "source": [
        "\n",
        "\n",
        "---\n",
        "\n"
      ],
      "metadata": {
        "id": "GLoMebGi7w9T"
      }
    }
  ]
}