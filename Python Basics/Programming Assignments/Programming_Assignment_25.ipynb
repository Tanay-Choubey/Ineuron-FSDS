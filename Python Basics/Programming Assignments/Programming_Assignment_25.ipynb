{
  "nbformat": 4,
  "nbformat_minor": 0,
  "metadata": {
    "colab": {
      "provenance": []
    },
    "kernelspec": {
      "name": "python3",
      "display_name": "Python 3"
    },
    "language_info": {
      "name": "python"
    }
  },
  "cells": [
    {
      "cell_type": "markdown",
      "source": [
        "# **Programming Assignment 25**"
      ],
      "metadata": {
        "id": "q5p9wffhowmv"
      }
    },
    {
      "cell_type": "markdown",
      "source": [
        "**Q. 1:** Create a function that takes three integer arguments (a, b, c) and returns the amount of integers which are of equal value.\n",
        "\n",
        "Examples:\n",
        "\n",
        "equal(3, 4, 3) ➞ 2\n",
        "\n",
        "equal(1, 1, 1) ➞ 3\n",
        "\n",
        "equal(3, 4, 1) ➞ 0\n",
        "\n",
        "Notes:\n",
        "\n",
        "Your function must return 0, 2 or 3.\n",
        "\n",
        "**Ans 1:** "
      ],
      "metadata": {
        "id": "GxSI2G14o08n"
      }
    },
    {
      "cell_type": "code",
      "source": [
        "def equal(a,b,c):\n",
        "    if a==b==c:\n",
        "        print(f'{a,b,c} ➞ {3}')\n",
        "    elif a==b or b==c:\n",
        "        print(f'{a,b,c} ➞ {2}')\n",
        "    else:\n",
        "        print(f'{a,b,c} ➞ {0}')\n",
        "\n",
        "equal(3, 4, 3)\n",
        "equal(1, 1, 1)\n",
        "equal(3, 4, 1)"
      ],
      "metadata": {
        "colab": {
          "base_uri": "https://localhost:8080/"
        },
        "id": "OozGGN5-uwXW",
        "outputId": "3da60470-3be3-4002-865e-bbd1a3a45252"
      },
      "execution_count": 1,
      "outputs": [
        {
          "output_type": "stream",
          "name": "stdout",
          "text": [
            "(3, 4, 3) ➞ 0\n",
            "(1, 1, 1) ➞ 3\n",
            "(3, 4, 1) ➞ 0\n"
          ]
        }
      ]
    },
    {
      "cell_type": "markdown",
      "source": [
        "\n",
        "\n",
        "---\n",
        "\n"
      ],
      "metadata": {
        "id": "auCvnsEPu2Vl"
      }
    },
    {
      "cell_type": "markdown",
      "source": [
        "**Q. 2:** Write a function that converts a dictionary into a list of keys-values tuples.\n",
        "\n",
        "Examples:\n",
        "\n",
        "dict_to_list({ \"D\": 1, \"B\": 2, \"C\": 3 }) ➞ [(\"B\", 2), (\"C\", 3), (\"D\", 1)] \n",
        "\n",
        "dict_to_list({ \"likes\": 2, \"dislikes\": 3, \"followers\": 10 }) ➞ [(\"dislikes\", 3), (\"followers\", 10), (\"likes\", 2)]\n",
        "\n",
        "Notes:\n",
        "\n",
        "Return the elements in the list in alphabetical order.\n",
        "\n",
        "**Ans 2:** "
      ],
      "metadata": {
        "id": "2WkVZs2ku3QV"
      }
    },
    {
      "cell_type": "code",
      "source": [
        "def dict_to_list(dict):\n",
        "    list = []\n",
        "    for keys,values in dict.items():\n",
        "        list.append((keys,values))\n",
        "    print(f'dict_to_list({dict}) ➞ {list}')\n",
        "    \n",
        "dict_to_list({\"D\": 1,\"B\": 2,\"C\": 3})\n",
        "dict_to_list({\"likes\": 2,\"dislikes\": 3,\"followers\": 10})"
      ],
      "metadata": {
        "colab": {
          "base_uri": "https://localhost:8080/"
        },
        "id": "_EzGk_b3vane",
        "outputId": "7ec1d0c2-7ae6-4b60-8ebb-f184393367de"
      },
      "execution_count": 2,
      "outputs": [
        {
          "output_type": "stream",
          "name": "stdout",
          "text": [
            "dict_to_list({'D': 1, 'B': 2, 'C': 3}) ➞ [('D', 1), ('B', 2), ('C', 3)]\n",
            "dict_to_list({'likes': 2, 'dislikes': 3, 'followers': 10}) ➞ [('likes', 2), ('dislikes', 3), ('followers', 10)]\n"
          ]
        }
      ]
    },
    {
      "cell_type": "markdown",
      "source": [
        "\n",
        "\n",
        "---\n",
        "\n"
      ],
      "metadata": {
        "id": "zZJh4TRNvUyN"
      }
    },
    {
      "cell_type": "markdown",
      "source": [
        "**Q. 3:** Write a function that creates a dictionary with each (key, value) pair being the (lower case, upper case) versions of a letter, respectively.\n",
        "\n",
        "Examples:\n",
        "\n",
        "mapping([\"p\", \"s\"]) ➞ { \"p\": \"P\", \"s\": \"S\" }\n",
        "\n",
        "mapping([\"a\", \"b\", \"c\"]) ➞ { \"a\": \"A\", \"b\": \"B\", \"c\": \"C\" }\n",
        "\n",
        "mapping([\"a\", \"v\", \"y\", \"z\"]) ➞ { \"a\": \"A\", \"v\": \"V\", \"y\": \"Y\", \"z\": \"Z\" }\n",
        "\n",
        "Notes:\n",
        "\n",
        "All of the letters in the input list will always be lowercase.\n",
        "\n",
        "**Ans 3:** "
      ],
      "metadata": {
        "id": "Rmx6nWJuvn_t"
      }
    },
    {
      "cell_type": "code",
      "source": [
        "def mapping(list):\n",
        "    out_dict = {}\n",
        "    for i in list:\n",
        "        out_dict[i] = i.upper()\n",
        "    print(f'mapping({list}) ➞ {out_dict}')\n",
        "    \n",
        "mapping([\"p\", \"s\"])\n",
        "mapping([\"a\", \"b\", \"c\"])\n",
        "mapping([\"a\", \"v\", \"y\", \"z\"])"
      ],
      "metadata": {
        "colab": {
          "base_uri": "https://localhost:8080/"
        },
        "id": "sqaxZtgDv1EF",
        "outputId": "a1bce81e-95cd-483d-aa6a-498f804ba775"
      },
      "execution_count": 3,
      "outputs": [
        {
          "output_type": "stream",
          "name": "stdout",
          "text": [
            "mapping(['p', 's']) ➞ {'p': 'P', 's': 'S'}\n",
            "mapping(['a', 'b', 'c']) ➞ {'a': 'A', 'b': 'B', 'c': 'C'}\n",
            "mapping(['a', 'v', 'y', 'z']) ➞ {'a': 'A', 'v': 'V', 'y': 'Y', 'z': 'Z'}\n"
          ]
        }
      ]
    },
    {
      "cell_type": "markdown",
      "source": [
        "\n",
        "\n",
        "---\n",
        "\n"
      ],
      "metadata": {
        "id": "U2fphz02v7t2"
      }
    },
    {
      "cell_type": "markdown",
      "source": [
        "**Q. 4:** Write a function, that replaces all vowels in a string with a specified vowel.\n",
        "\n",
        "Examples:\n",
        "\n",
        "vow_replace(\"apples and bananas\", \"u\") ➞ \"upplus und bununus\"\n",
        "\n",
        "vow_replace(\"cheese casserole\", \"o\") ➞ \"chooso cossorolo\"\n",
        "\n",
        "vow_replace(\"stuffed jalapeno poppers\", \"e\") ➞ \"steffed jelepene peppers\"\n",
        "\n",
        "Notes:\n",
        "\n",
        "All words will be lowercase. Y is not considered a vowel.\n",
        "\n",
        "**Ans 4:** "
      ],
      "metadata": {
        "id": "2lLweL1Zv8cN"
      }
    },
    {
      "cell_type": "code",
      "source": [
        "def vow_replace(in_string,vow_char):\n",
        "    vowels = ['a','e','i','o','u']\n",
        "    out_string = ''\n",
        "    for i in in_string:\n",
        "        if i in vowels:\n",
        "            out_string += vow_char\n",
        "        else:\n",
        "            out_string += i\n",
        "            \n",
        "    print(f'vow_replace(\"{in_string}\") ➞ {out_string}')\n",
        "    \n",
        "vow_replace(\"apples and bananas\", \"u\")\n",
        "vow_replace(\"cheese casserole\", \"o\")\n",
        "vow_replace(\"stuffed jalapeno poppers\", \"e\")"
      ],
      "metadata": {
        "colab": {
          "base_uri": "https://localhost:8080/"
        },
        "id": "0KxmvJfKwge1",
        "outputId": "0ff930f4-05a1-481b-c79e-f4dd3226543e"
      },
      "execution_count": 4,
      "outputs": [
        {
          "output_type": "stream",
          "name": "stdout",
          "text": [
            "vow_replace(\"apples and bananas\") ➞ upplus und bununus\n",
            "vow_replace(\"cheese casserole\") ➞ chooso cossorolo\n",
            "vow_replace(\"stuffed jalapeno poppers\") ➞ steffed jelepene peppers\n"
          ]
        }
      ]
    },
    {
      "cell_type": "markdown",
      "source": [
        "\n",
        "\n",
        "---\n",
        "\n"
      ],
      "metadata": {
        "id": "VJA7bJD5wjQ1"
      }
    },
    {
      "cell_type": "markdown",
      "source": [
        "**Q. 5:** Create a function that takes a string as input and capitalizes a letter if its ASCII code is even and returns its lower case version if its ASCII code is odd.\n",
        "\n",
        "Examples:\n",
        "\n",
        "ascii_capitalize(\"to be or not to be!\") ➞ \"To Be oR NoT To Be!\"\n",
        "\n",
        "ascii_capitalize(\"THE LITTLE MERMAID\") ➞ \"THe LiTTLe meRmaiD\"\n",
        "\n",
        "ascii_capitalize(\"Oh what a beautiful morning.\") ➞ \"oH wHaT a BeauTiFuL moRNiNg.\"\n",
        "\n",
        "**Ans 5:** "
      ],
      "metadata": {
        "id": "bjZP7jdXwj5E"
      }
    },
    {
      "cell_type": "code",
      "source": [
        "def ascii_capitalize(in_string):\n",
        "    out_string = ''\n",
        "    for i in in_string.lower():\n",
        "        if (ord(i)%2 == 0):\n",
        "            out_string += i.upper()\n",
        "        else:\n",
        "            out_string += i\n",
        "    print(f'ascii_capitalize(\"{in_string}\") ➞ \"{out_string}\"')\n",
        "\n",
        "ascii_capitalize(\"to be or not to be!\")\n",
        "ascii_capitalize(\"THE LITTLE MERMAID\")\n",
        "ascii_capitalize(\"Oh what a beautiful morning.\")"
      ],
      "metadata": {
        "colab": {
          "base_uri": "https://localhost:8080/"
        },
        "id": "JAg21r9YwyFj",
        "outputId": "27793815-26df-4aa3-957e-18aca7b4dd88"
      },
      "execution_count": 5,
      "outputs": [
        {
          "output_type": "stream",
          "name": "stdout",
          "text": [
            "ascii_capitalize(\"to be or not to be!\") ➞ \"To Be oR NoT To Be!\"\n",
            "ascii_capitalize(\"THE LITTLE MERMAID\") ➞ \"THe LiTTLe meRmaiD\"\n",
            "ascii_capitalize(\"Oh what a beautiful morning.\") ➞ \"oH wHaT a BeauTiFuL moRNiNg.\"\n"
          ]
        }
      ]
    },
    {
      "cell_type": "markdown",
      "source": [
        "\n",
        "\n",
        "---\n",
        "\n"
      ],
      "metadata": {
        "id": "krgTrr3bw5lz"
      }
    }
  ]
}