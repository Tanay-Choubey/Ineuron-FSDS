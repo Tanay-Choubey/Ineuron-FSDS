{
  "nbformat": 4,
  "nbformat_minor": 0,
  "metadata": {
    "colab": {
      "provenance": []
    },
    "kernelspec": {
      "name": "python3",
      "display_name": "Python 3"
    },
    "language_info": {
      "name": "python"
    }
  },
  "cells": [
    {
      "cell_type": "markdown",
      "source": [
        "# **Assignment 9**"
      ],
      "metadata": {
        "id": "E63NHDzz9lg5"
      }
    },
    {
      "cell_type": "markdown",
      "source": [
        "**Q.1:** To what does a relative path refer?\n",
        "\n",
        "**Ans 1:** The relative path is the path to some file with respect to your current working directory."
      ],
      "metadata": {
        "id": "LVMaWr3b97Ti"
      }
    },
    {
      "cell_type": "markdown",
      "source": [
        "\n",
        "\n",
        "---\n",
        "\n"
      ],
      "metadata": {
        "id": "7fSzOCA9-wRQ"
      }
    },
    {
      "cell_type": "markdown",
      "source": [
        "**Q.2:**  What does an absolute path start with your operating system?\n",
        "\n",
        "**Ans 2:** I am using Windows Operating System with Single Hard drive, so my absolute path starts with C:\\ ."
      ],
      "metadata": {
        "id": "HDjSJSt8-xI3"
      }
    },
    {
      "cell_type": "markdown",
      "source": [
        "\n",
        "\n",
        "---\n",
        "\n"
      ],
      "metadata": {
        "id": "VQASbqBR_wf_"
      }
    },
    {
      "cell_type": "markdown",
      "source": [
        "**Q.3:** What do the functions os.getcwd() and os.chdir() do?\n",
        "\n",
        "**Ans 3:** \n",
        "\n",
        "* os.getcwd() returns you the current working directory path.\n",
        "\n",
        "* os.chdir() is used to change the current working directory while running the program.\n",
        "\n"
      ],
      "metadata": {
        "id": "J8Jf6Vs7_xp_"
      }
    },
    {
      "cell_type": "markdown",
      "source": [
        "\n",
        "\n",
        "---\n",
        "\n"
      ],
      "metadata": {
        "id": "OookS8--ASx5"
      }
    },
    {
      "cell_type": "markdown",
      "source": [
        "**Q.4:** What are the . and .. folders?\n",
        "\n",
        "**Ans 4:** \n",
        "\n",
        "*   . single dot means the Current folder .\n",
        "*   .. double dot means the Parent folder .\n",
        "\n"
      ],
      "metadata": {
        "id": "6__FlZwvAVxH"
      }
    },
    {
      "cell_type": "markdown",
      "source": [
        "\n",
        "\n",
        "---\n",
        "\n"
      ],
      "metadata": {
        "id": "XhmJj4XcBb52"
      }
    },
    {
      "cell_type": "markdown",
      "source": [
        "**Q.5:** In C:\\bacon\\eggs\\spam.txt, which part is the dir name, and which part is the base name?\n",
        "\n",
        "**Ans 5:** In C:\\bacon\\eggs\\spam.txt\n",
        "\n",
        "*   The dir name is C:\\\\bacon\\\\eggs\n",
        "*   The Base name is spam.txt\n",
        "\n"
      ],
      "metadata": {
        "id": "q7lVGGLFBczG"
      }
    },
    {
      "cell_type": "markdown",
      "source": [
        "\n",
        "\n",
        "---\n",
        "\n"
      ],
      "metadata": {
        "id": "6f_nC6pPCK63"
      }
    },
    {
      "cell_type": "markdown",
      "source": [
        "**Q.6:** What are the three “mode” arguments that can be passed to the open() function?\n",
        "\n",
        "**Ans 6:** The three mode arguments that can be passed to the open() function are:\n",
        "\n",
        "*   'r' for read mode.\n",
        "*   'w' for write mode.\n",
        "*   'a' for append mode.\n",
        "\n"
      ],
      "metadata": {
        "id": "EOS51BCoCL2H"
      }
    },
    {
      "cell_type": "markdown",
      "source": [
        "\n",
        "\n",
        "---\n",
        "\n"
      ],
      "metadata": {
        "id": "TBnrHRzwDfUP"
      }
    },
    {
      "cell_type": "markdown",
      "source": [
        "**Q.7:** What happens if an existing file is opened in write mode?\n",
        "\n",
        "**Ans 7:** If an existing file is opened in write mode, then all the existing content from the file is erased and the new content will be added. This might result in loss of data if you wanted to have both existing and new data to existing in the file."
      ],
      "metadata": {
        "id": "58Aa0in4DgiG"
      }
    },
    {
      "cell_type": "markdown",
      "source": [
        "\n",
        "\n",
        "---\n",
        "\n"
      ],
      "metadata": {
        "id": "BVk4P49QEtSG"
      }
    },
    {
      "cell_type": "markdown",
      "source": [
        "**Q.8:** How do you tell the difference between read() and readlines()?\n",
        "\n",
        "**Ans 8:** \n",
        "\n",
        "*   The read() would treat each character in the file separately, meaning that the iteration would happen for every character.\n",
        "*  The readline() function, on the other hand, only reads a single line of the file. This means that if the first line of the file were three lines long, the readline() function would only parse (or iterate/operate) on the first line of the file.\n",
        "\n",
        "\n"
      ],
      "metadata": {
        "id": "I5Q8LVptEuk2"
      }
    },
    {
      "cell_type": "markdown",
      "source": [
        "\n",
        "\n",
        "---\n",
        "\n"
      ],
      "metadata": {
        "id": "gf1Fuyk8FWuv"
      }
    },
    {
      "cell_type": "markdown",
      "source": [
        "**Q. 9:** What data structure does a shelf value resemble?\n",
        "\n",
        "**Ans 9:** A shelf value resembles a dictionary value; it has keys and values, along with keys() and values() methods that work similarly to the dictionary methods of the same names."
      ],
      "metadata": {
        "id": "EH8YWN-EFX22"
      }
    },
    {
      "cell_type": "markdown",
      "source": [
        "\n",
        "\n",
        "---\n",
        "\n"
      ],
      "metadata": {
        "id": "SsURWqjVGKlu"
      }
    }
  ]
}