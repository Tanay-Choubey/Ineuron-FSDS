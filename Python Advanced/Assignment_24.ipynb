{
  "nbformat": 4,
  "nbformat_minor": 0,
  "metadata": {
    "colab": {
      "provenance": []
    },
    "kernelspec": {
      "name": "python3",
      "display_name": "Python 3"
    },
    "language_info": {
      "name": "python"
    }
  },
  "cells": [
    {
      "cell_type": "markdown",
      "source": [
        "# **Assignment 24**"
      ],
      "metadata": {
        "id": "aeEgY__lXCPP"
      }
    },
    {
      "cell_type": "markdown",
      "source": [
        "**Q. 1:** Is it permissible to use several import statements to import the same module? What would the goal be? Can you think of a situation where it would be beneficial?\n",
        "\n",
        "**Ans 1:** Yes, it is permissible to use several import statements to import the same module. It is used in case when we have to import multiple functions from same module."
      ],
      "metadata": {
        "id": "x2voVp_eXFd_"
      }
    },
    {
      "cell_type": "markdown",
      "source": [
        "\n",
        "\n",
        "---\n",
        "\n"
      ],
      "metadata": {
        "id": "Ix4866CkYWlt"
      }
    },
    {
      "cell_type": "markdown",
      "source": [
        "**Q. 2:** What are some of a module's characteristics? (Name at least one.)\n",
        "\n",
        "**Ans 2:** The following are some of a module's characteristics:\n",
        "\n",
        "`__name__` : It returns the name of the module\n",
        "\n",
        "`__doc__` : It denotes the documentation string line written in a module code.\n",
        "\n",
        "`__file__` : It holds the name and path of the module file from which it is loaded\n",
        "\n",
        "`__dict__` : It return a dictionary object of module attributes, functions and other definitions and their respective values"
      ],
      "metadata": {
        "id": "UsuWYLTQYXrN"
      }
    },
    {
      "cell_type": "markdown",
      "source": [
        "\n",
        "\n",
        "---\n",
        "\n"
      ],
      "metadata": {
        "id": "Z2UVJWvOZKuD"
      }
    },
    {
      "cell_type": "markdown",
      "source": [
        "**Q. 3:** Circular importing, such as when two modules import each other, can lead to dependencies and bugs that aren't visible. How can you go about creating a program that avoids mutual importing?\n",
        "\n",
        "**Ans 3:** Circular importing means importing the two modules in each other. If suppose we are wokring in MOD1.py file and it is importing some function say F2() from some other module say MOD2.PY file or we can do vice-versa. What will happen is: This will give an import error.\n",
        "\n",
        "This is because when we import F2() function from module MOD2.py, then this will execute MOD2.py file and in MOD2.py file, there is another statement of importing MOD1.py module.\n",
        "\n",
        "This will result in endless loop. To avoid this error, we can use if name == 'main'\n",
        "\n",
        "In this function, we can't directly refer to the function in the program. The addition of this sentence avoids the endless loop of the program . We can use an if name == \"main\" block to allow or prevent parts of code from being run when the modules are imported. When the Python interpreter reads a file, the name variable is set as main if the module being run, or as the module's name if it is imported."
      ],
      "metadata": {
        "id": "7MzwC7H3ZU32"
      }
    },
    {
      "cell_type": "markdown",
      "source": [
        "\n",
        "\n",
        "---\n",
        "\n"
      ],
      "metadata": {
        "id": "4FyHdCSVZnCI"
      }
    },
    {
      "cell_type": "markdown",
      "source": [
        "**Q. 4:** Why is `__all__` in Python?\n",
        "\n",
        "**Ans 4:** It provides list of all modules present in a library."
      ],
      "metadata": {
        "id": "qpwx5lUaZoG5"
      }
    },
    {
      "cell_type": "markdown",
      "source": [
        "\n",
        "\n",
        "---\n",
        "\n"
      ],
      "metadata": {
        "id": "dndMecMhaFKp"
      }
    },
    {
      "cell_type": "markdown",
      "source": [
        "**Q. 5:** In what situation is it useful to refer to the `__name__` attribute or the string '`__main__`'?\n",
        "\n",
        "**Ans 5:** During the time of execution of the code, if we want to refer the module in which we are working on, then we use name attribute. In that case it will return the module in which we are working on. Suppose if the module is being imported from some other module, then name will have the name of that module from where the current module has been imported. The current module in which we are working is refer to the string `__main __`.\n",
        "\n",
        "This built-in attributes prints the name of the class, type, function, method, descriptor, or generator instance.\n",
        "\n",
        "For example, if the python interpreter is running that module (the source file) as the main program, it sets the special name variable to have a value \"main\". If this file is being imported from another module, name will be set to the module's name."
      ],
      "metadata": {
        "id": "7pGlw2uOaGFP"
      }
    },
    {
      "cell_type": "markdown",
      "source": [
        "\n",
        "\n",
        "---\n",
        "\n"
      ],
      "metadata": {
        "id": "7wIPNAqOa-ha"
      }
    },
    {
      "cell_type": "markdown",
      "source": [
        "**Q. 6:** What are some of the benefits of attaching a program counter to the RPN interpreter application, which interprets an RPN script line by line?\n",
        "\n",
        "**Ans 6:** The function returns True if we can add operator to current expression:\n",
        "\n",
        "We scan the list and add +1 to counter when we meet a letter\n",
        "and we add -1 when we meet an operator (it reduces\n",
        "last two letters into 1 (say ab+ <--> a + b):"
      ],
      "metadata": {
        "id": "m_655l3ba_YX"
      }
    },
    {
      "cell_type": "code",
      "source": [
        "def can_add_operator(string_):\n",
        "    n = 0\n",
        "    for letter in string_:\n",
        "        if letter not in ['+', '-', '*', '/']:\n",
        "            n += 1\n",
        "        else:\n",
        "            n -= 1\n",
        "    result = n > 1\n",
        "    return result\n",
        "\n",
        "\n",
        "can_add_operator('abc') #False\n",
        "can_add_operator('abc')  #True"
      ],
      "metadata": {
        "colab": {
          "base_uri": "https://localhost:8080/"
        },
        "id": "D0B47h6ga901",
        "outputId": "d02ff727-236e-42f8-e784-906e155378cf"
      },
      "execution_count": 1,
      "outputs": [
        {
          "output_type": "execute_result",
          "data": {
            "text/plain": [
              "True"
            ]
          },
          "metadata": {},
          "execution_count": 1
        }
      ]
    },
    {
      "cell_type": "markdown",
      "source": [
        "\n",
        "\n",
        "---\n",
        "\n"
      ],
      "metadata": {
        "id": "y7GwtKOgbgC2"
      }
    },
    {
      "cell_type": "markdown",
      "source": [
        "**Q. 7:** What are the minimum expressions or statements (or both) that you'd need to render a basic programming language like RPN primitive but complete— that is, capable of carrying out any computerised task theoretically possible?\n",
        "\n",
        "**Ans 7:** Notations : +-/* These are the basic notations we require to carry out a computerised task ,like RPN Primitive. We also need a particular data structure fo staring elements from a statement except operators."
      ],
      "metadata": {
        "id": "qDqG3NE6bafG"
      }
    },
    {
      "cell_type": "markdown",
      "source": [
        "\n",
        "\n",
        "---\n",
        "\n"
      ],
      "metadata": {
        "id": "h4DaygnNb5ST"
      }
    }
  ]
}