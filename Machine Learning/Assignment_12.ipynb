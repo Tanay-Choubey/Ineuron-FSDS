{
  "nbformat": 4,
  "nbformat_minor": 0,
  "metadata": {
    "colab": {
      "provenance": []
    },
    "kernelspec": {
      "name": "python3",
      "display_name": "Python 3"
    },
    "language_info": {
      "name": "python"
    }
  },
  "cells": [
    {
      "cell_type": "markdown",
      "source": [
        "# **Assignment 12**"
      ],
      "metadata": {
        "id": "XY4Tl8qAsEYy"
      }
    },
    {
      "cell_type": "markdown",
      "source": [
        "**Q. 1:** What is prior probability? Give an example.\n",
        "\n",
        "**Ans 1:** Prior probability shows the likelihood of an outcome in a given dataset. For example, in the mortgage case, P(Y) is the default rate on a home mortgage, which is 2%. P(Y|X) is called the conditional probability, which provides the probability of an outcome given the evidence, that is, when the value of X is known."
      ],
      "metadata": {
        "id": "neVvSRWbsHEy"
      }
    },
    {
      "cell_type": "markdown",
      "source": [
        "\n",
        "\n",
        "---\n",
        "\n"
      ],
      "metadata": {
        "id": "b-Ff31Knsdnr"
      }
    },
    {
      "cell_type": "markdown",
      "source": [
        "**Q. 2:** What is posterior probability ? Give an example.\n",
        "\n",
        "**Ans 2:** Posterior probability is a revised probability that takes into account new available information. For example, let there be two urns, urn A having 5 black balls and 10 red balls and urn B having 10 black balls and 5 red balls."
      ],
      "metadata": {
        "id": "20FNrS7asePp"
      }
    },
    {
      "cell_type": "markdown",
      "source": [
        "\n",
        "\n",
        "---\n",
        "\n"
      ],
      "metadata": {
        "id": "d0T4HnJv01cf"
      }
    },
    {
      "cell_type": "markdown",
      "source": [
        "**Q. 3:** What is likelihood probability ? Give an example.\n",
        "\n",
        "**Ans 3:** Likelihood Function in Machine Learning and Data Science is the joint probability distribution(jpd) of the dataset given as a function of the parameter. Think of it as the probability of obtaining the observed data given the parameter values."
      ],
      "metadata": {
        "id": "O2DzYHwb05j3"
      }
    },
    {
      "cell_type": "markdown",
      "source": [
        "\n",
        "\n",
        "---\n",
        "\n"
      ],
      "metadata": {
        "id": "hWkBj2Nu1D11"
      }
    },
    {
      "cell_type": "markdown",
      "source": [
        "**Q. 4:** What is Naïve Bayes classifier? Why is it named so?\n",
        "\n",
        "**Ans 4:** Naive Bayes is a simple and powerful algorithum for predictive modeling .Naive bayes is called naive because it assumes that each input variable is independent .This is a strong assumption and unrealistic for real data however the techique is very effective on a large range og complex problems."
      ],
      "metadata": {
        "id": "hsBjDnR61EVG"
      }
    },
    {
      "cell_type": "markdown",
      "source": [
        "\n",
        "\n",
        "---\n",
        "\n"
      ],
      "metadata": {
        "id": "o0qSYGcJ1TAJ"
      }
    },
    {
      "cell_type": "markdown",
      "source": [
        "**Q. 5:** What is optimal Bayes classifier?\n",
        "\n",
        "**Ans 5:** The Bayes Optimal Classifier is a probabilistic model that makes the most probable prediction for a new example. Bayes Optimal Classifier is a probabilistic model that finds the most probable prediction using the training data and space of hypotheses to make a prediction for a new data instance."
      ],
      "metadata": {
        "id": "en3x0Q0V1T4R"
      }
    },
    {
      "cell_type": "markdown",
      "source": [
        "\n",
        "\n",
        "---\n",
        "\n"
      ],
      "metadata": {
        "id": "YmM3S0dK1f3n"
      }
    },
    {
      "cell_type": "markdown",
      "source": [
        "**Q. 6:** Write any two features of Bayesian learning methods.\n",
        "\n",
        "**Ans 6:** A probabilty distribution over observed data for each posssible hypotheisis.New instances can be classified by combining the predictions of multiple hypotheses, weighted by their probabilities."
      ],
      "metadata": {
        "id": "PEfjg7Uv1gdf"
      }
    },
    {
      "cell_type": "markdown",
      "source": [
        "\n",
        "\n",
        "---\n",
        "\n"
      ],
      "metadata": {
        "id": "ldBHpcDx1vfe"
      }
    },
    {
      "cell_type": "markdown",
      "source": [
        "**Q. 7:** Define the concept of consistent learners.\n",
        "\n",
        "**Ans 7:** Consistent Learners: A learner L using a hypothesis H and trained data D is said to be a consistent learner if it always outputs a hypothesis with zero erro on D whenever H contains such a hypothesis * By definition , a consistent learner must produce a hypotheisis in the version space for H given D."
      ],
      "metadata": {
        "id": "-vq9SalK1wFV"
      }
    },
    {
      "cell_type": "markdown",
      "source": [
        "\n",
        "\n",
        "---\n",
        "\n"
      ],
      "metadata": {
        "id": "aYp211aU19uT"
      }
    },
    {
      "cell_type": "markdown",
      "source": [
        "**Q. 8:** Write any two strengths of Bayes classifier.\n",
        "\n",
        "**Ans 8:** This algorithium works quickly and can save a lot of time.Naive Bayes is suitable for solving multi-class prediction problems.If its assumption of the independence of features holds true,it can perform better than other models and requires much less trained data."
      ],
      "metadata": {
        "id": "hUCYhNyC1-e7"
      }
    },
    {
      "cell_type": "markdown",
      "source": [
        "\n",
        "\n",
        "---\n",
        "\n"
      ],
      "metadata": {
        "id": "bY1GwtAs2FrL"
      }
    },
    {
      "cell_type": "markdown",
      "source": [
        "**Q. 9:** Write any two weaknesses of Bayes classifier.\n",
        "\n",
        "**Ans 9:** The greatest weakness of the naïve Bayes classifier is that it relies on an often-faulty assumption of equally important and independent features which results in biased posterior probabilities."
      ],
      "metadata": {
        "id": "2MQgvxEF2GTL"
      }
    },
    {
      "cell_type": "markdown",
      "source": [
        "\n",
        "\n",
        "---\n",
        "\n"
      ],
      "metadata": {
        "id": "5Ju30AZB2ZJm"
      }
    },
    {
      "cell_type": "markdown",
      "source": [
        "**Q. 10:** Explain how Naïve Bayes classifier is used for:\n",
        "1. Text classification\n",
        "2. Spam filtering\n",
        "3. Market sentiment analysis\n",
        "\n",
        "**Ans 10:** Navie Bayes Classifier is used for:\n",
        "\n",
        "- Text classification:\n",
        "\n",
        "The Naive Bayes classifier is a simple classifier that classifies based on probabilities of events. It is the applied commonly to text classification. With the training set, we can train a Naive Bayes classifier which we can use to automaticall categorize a new sentence.\n",
        "\n",
        "- Spam filtering:\n",
        "\n",
        "Naive Bayes classifiers work by correlating the use of tokens (typically words, or sometimes other things), with spam and non-spam e-mails and then using Bayes' theorem to calculate a probability that an email is or is not spam. It is one of the oldest ways of doing spam filtering, with roots in the 1990s.\n",
        "\n",
        "- Market sentiment analysis:\n",
        "\n",
        "Market Sentiment analysis is a field dedicated to extracting subjective emotions and feelings from text. One common use of sentiment analysis is to figure out if a text expresses negative or positive feelings. Naive Bayes is a popular algorithm for classifying text."
      ],
      "metadata": {
        "id": "wXj5qVii2Z1u"
      }
    },
    {
      "cell_type": "markdown",
      "source": [
        "\n",
        "\n",
        "---\n",
        "\n"
      ],
      "metadata": {
        "id": "RtVz21TR24FO"
      }
    }
  ]
}