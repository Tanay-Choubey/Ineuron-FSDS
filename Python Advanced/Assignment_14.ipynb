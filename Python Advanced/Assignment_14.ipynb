{
  "nbformat": 4,
  "nbformat_minor": 0,
  "metadata": {
    "colab": {
      "provenance": []
    },
    "kernelspec": {
      "name": "python3",
      "display_name": "Python 3"
    },
    "language_info": {
      "name": "python"
    }
  },
  "cells": [
    {
      "cell_type": "markdown",
      "source": [
        "# **Assignment 14**"
      ],
      "metadata": {
        "id": "rMODyqDrz1pu"
      }
    },
    {
      "cell_type": "markdown",
      "source": [
        "**Q. 1:** Is an assignment operator like += only for show? Is it possible that it would lead to faster results at the runtime?\n",
        "\n",
        "**Ans 1:** += is faster and easy to write for us. runtime of a += 5 is slightly less than a= a+5 but, the difference is really minor."
      ],
      "metadata": {
        "id": "Ovk8CA_Az8h2"
      }
    },
    {
      "cell_type": "markdown",
      "source": [
        "\n",
        "\n",
        "---\n",
        "\n"
      ],
      "metadata": {
        "id": "5NB97p690RlE"
      }
    },
    {
      "cell_type": "markdown",
      "source": [
        "**Q. 2:** What is the smallest no of statements you'd have to write in most programming languages to replace the Python expr a, b = a + b, a?\n",
        "\n",
        "**Ans 2:** Minimum number of lines required to write above code in languages other Python will be 4, two for assigning initial values for variables a and b, and two for reassignment i.e. a=a+b and b=a."
      ],
      "metadata": {
        "id": "Ym0hoCYI0SgK"
      }
    },
    {
      "cell_type": "markdown",
      "source": [
        "\n",
        "\n",
        "---\n",
        "\n"
      ],
      "metadata": {
        "id": "-YSu5HDz01pR"
      }
    },
    {
      "cell_type": "markdown",
      "source": [
        "**Q. 3:** In Python, what is the most effective way to set a list of 100 integers to 0?\n",
        "\n",
        "**Ans 3:** "
      ],
      "metadata": {
        "id": "HcthRJa402jm"
      }
    },
    {
      "cell_type": "code",
      "source": [
        "zero_list = [0 for x in range(100)]\n",
        "print(zero_list)"
      ],
      "metadata": {
        "colab": {
          "base_uri": "https://localhost:8080/"
        },
        "id": "KTLRqXwB1TOu",
        "outputId": "4540466d-1a93-4ed8-92ae-0623527dd4de"
      },
      "execution_count": 1,
      "outputs": [
        {
          "output_type": "stream",
          "name": "stdout",
          "text": [
            "[0, 0, 0, 0, 0, 0, 0, 0, 0, 0, 0, 0, 0, 0, 0, 0, 0, 0, 0, 0, 0, 0, 0, 0, 0, 0, 0, 0, 0, 0, 0, 0, 0, 0, 0, 0, 0, 0, 0, 0, 0, 0, 0, 0, 0, 0, 0, 0, 0, 0, 0, 0, 0, 0, 0, 0, 0, 0, 0, 0, 0, 0, 0, 0, 0, 0, 0, 0, 0, 0, 0, 0, 0, 0, 0, 0, 0, 0, 0, 0, 0, 0, 0, 0, 0, 0, 0, 0, 0, 0, 0, 0, 0, 0, 0, 0, 0, 0, 0, 0]\n"
          ]
        }
      ]
    },
    {
      "cell_type": "markdown",
      "source": [
        "\n",
        "\n",
        "---\n",
        "\n"
      ],
      "metadata": {
        "id": "vvP0zO5H1kjh"
      }
    },
    {
      "cell_type": "markdown",
      "source": [
        "**Q. 4:** What is the most effective way to initialise a list of 99 integers that repeats the sequence 1, 2, 3? S If necessary, show step-by-step instructions on how to accomplish this.\n",
        "\n",
        "**Ans 4:** "
      ],
      "metadata": {
        "id": "IuoRGew81l_t"
      }
    },
    {
      "cell_type": "code",
      "source": [
        "list1 = [i % 3 + 1 for i in range(99)]\n",
        "print(list1)"
      ],
      "metadata": {
        "colab": {
          "base_uri": "https://localhost:8080/"
        },
        "id": "G8gFWLSz2Awt",
        "outputId": "d70b210d-171a-4492-c771-aafb28aaeb67"
      },
      "execution_count": 3,
      "outputs": [
        {
          "output_type": "stream",
          "name": "stdout",
          "text": [
            "[1, 2, 3, 1, 2, 3, 1, 2, 3, 1, 2, 3, 1, 2, 3, 1, 2, 3, 1, 2, 3, 1, 2, 3, 1, 2, 3, 1, 2, 3, 1, 2, 3, 1, 2, 3, 1, 2, 3, 1, 2, 3, 1, 2, 3, 1, 2, 3, 1, 2, 3, 1, 2, 3, 1, 2, 3, 1, 2, 3, 1, 2, 3, 1, 2, 3, 1, 2, 3, 1, 2, 3, 1, 2, 3, 1, 2, 3, 1, 2, 3, 1, 2, 3, 1, 2, 3, 1, 2, 3, 1, 2, 3, 1, 2, 3, 1, 2, 3]\n"
          ]
        }
      ]
    },
    {
      "cell_type": "markdown",
      "source": [
        "\n",
        "\n",
        "---\n",
        "\n"
      ],
      "metadata": {
        "id": "d2hbkwCU2PZF"
      }
    },
    {
      "cell_type": "markdown",
      "source": [
        "**Q. 5:** If you're using IDLE to run a Python application, explain how to print a multidimensional list as efficiently?\n",
        "\n",
        "**Ans 5:** "
      ],
      "metadata": {
        "id": "QCmWvQAJ2QZZ"
      }
    },
    {
      "cell_type": "code",
      "source": [
        "my_list = [[1,1],[2,2],[3,3],[4,4],[5,5]] # 2 dimensional List\n",
        "for x in range(len(my_list)):\n",
        "    for y in range(len(my_list[x])):\n",
        "        print(my_list[x][y],end=\" \")"
      ],
      "metadata": {
        "colab": {
          "base_uri": "https://localhost:8080/"
        },
        "id": "OtK10Ya92nwk",
        "outputId": "9ffb587a-ed07-4b80-c3c4-91ef90575852"
      },
      "execution_count": 4,
      "outputs": [
        {
          "output_type": "stream",
          "name": "stdout",
          "text": [
            "1 1 2 2 3 3 4 4 5 5 "
          ]
        }
      ]
    },
    {
      "cell_type": "markdown",
      "source": [
        "\n",
        "\n",
        "---\n",
        "\n"
      ],
      "metadata": {
        "id": "wS6gPyas2mgl"
      }
    },
    {
      "cell_type": "markdown",
      "source": [
        "**Q. 6:** Is it possible to use list comprehension with a string? If so, how can you go about doing it?\n",
        "\n",
        "**Ans 6:** List comprehension with string is possible."
      ],
      "metadata": {
        "id": "0vLkNCnA2rxm"
      }
    },
    {
      "cell_type": "code",
      "source": [
        "my_list = [ele for ele in 'iNeuron']\n",
        "print(my_list)"
      ],
      "metadata": {
        "colab": {
          "base_uri": "https://localhost:8080/"
        },
        "id": "lCQ0CS1u2odV",
        "outputId": "5aeac113-5db1-4807-907e-90e89afc2a17"
      },
      "execution_count": 5,
      "outputs": [
        {
          "output_type": "stream",
          "name": "stdout",
          "text": [
            "['i', 'N', 'e', 'u', 'r', 'o', 'n']\n"
          ]
        }
      ]
    },
    {
      "cell_type": "markdown",
      "source": [
        "\n",
        "\n",
        "---\n",
        "\n"
      ],
      "metadata": {
        "id": "RnUtxmmH3PlF"
      }
    },
    {
      "cell_type": "markdown",
      "source": [
        "**Q. 7:** From the command line, how do you get support with a user-written Python programme? Is this possible from inside IDLE?\n",
        "\n",
        "**Ans 7:**\n",
        "\n",
        "Steps for command line:\n",
        "\n",
        "1. Open command prompt.\n",
        "2. Go to directory containing python program file(.py)\n",
        "3. Type \"python file_name.py\", press enter to run the file.\n",
        "\n",
        "Steps for python IDLE:\n",
        "\n",
        "1. Open python IDLE.\n",
        "2. Click on file>open>file_name.py\n",
        "3. Press F5 key to run the program "
      ],
      "metadata": {
        "id": "rZfJDj473Q7j"
      }
    },
    {
      "cell_type": "markdown",
      "source": [
        "\n",
        "\n",
        "---\n",
        "\n"
      ],
      "metadata": {
        "id": "Hq6urTtq30PX"
      }
    },
    {
      "cell_type": "markdown",
      "source": [
        "**Q. 8:** Functions are said to be “first-class objects” in Python but not in most other languages, such as C++ or Java. What can you do in Python with a function (callable object) that you can't do in C or C++?\n",
        "\n",
        "**Ans 8:** The tasks which can be performed with the functions in python are:\n",
        "\n",
        "- A function is an instance of the Object type.\n",
        "- You can store the function in a variable.\n",
        "- You can pass the function as a parameter to another function.\n",
        "- You can return the function from a function.\n",
        "- You can store them in data structures such as hash tables, lists,"
      ],
      "metadata": {
        "id": "0iUarZd831Jt"
      }
    },
    {
      "cell_type": "markdown",
      "source": [
        "\n",
        "\n",
        "---\n",
        "\n"
      ],
      "metadata": {
        "id": "RdNg8Jjz4O-5"
      }
    },
    {
      "cell_type": "markdown",
      "source": [
        "**Q. 9:** How do you distinguish between a wrapper, a wrapped feature, and a decorator?\n",
        "\n",
        "**Ans 9:** A wrapper, a wrapped feature, and a decorator are all same.They can be through of as functions which modify the functionality of another function.They help to make your code shorter and more \"Pythonic\". "
      ],
      "metadata": {
        "id": "oiEXVUxb4P6h"
      }
    },
    {
      "cell_type": "markdown",
      "source": [
        "\n",
        "\n",
        "---\n",
        "\n"
      ],
      "metadata": {
        "id": "XhGW7qLE4fXI"
      }
    },
    {
      "cell_type": "markdown",
      "source": [
        "**Q. 10:** If a function is a generator function, what does it return?\n",
        "\n",
        "**Ans 10:** If a function is a generator function,it does not return any values, instead,it return an iterator object,which we can iterate through to get values."
      ],
      "metadata": {
        "id": "WZQWPxyo4gQs"
      }
    },
    {
      "cell_type": "markdown",
      "source": [
        "\n",
        "\n",
        "---\n",
        "\n"
      ],
      "metadata": {
        "id": "qdHCAN7d4u6i"
      }
    },
    {
      "cell_type": "markdown",
      "source": [
        "**Q. 11:** What is the one improvement that must be made to a function in order for it to become a generator function in the Python language?\n",
        "\n",
        "**Ans 11:** Generator is a written as normal function but uses yield keyword to return values instead of return keyword."
      ],
      "metadata": {
        "id": "WzjGRKhB4v3N"
      }
    },
    {
      "cell_type": "markdown",
      "source": [
        "\n",
        "\n",
        "---\n",
        "\n"
      ],
      "metadata": {
        "id": "alMgb8eQ494q"
      }
    },
    {
      "cell_type": "markdown",
      "source": [
        "**Q. 12:** Identify at least one benefit of generators.\n",
        "\n",
        "**Ans 12:** 'yield' statement returns a sequence of values whereas 'return' statement generates a specific output. 'generator' is used when we want to iterate over a sequence without storing the entire sequence in memory."
      ],
      "metadata": {
        "id": "6jBMd-uo4_fh"
      }
    },
    {
      "cell_type": "markdown",
      "source": [
        "\n",
        "\n",
        "---\n",
        "\n"
      ],
      "metadata": {
        "id": "VpVPgJU25QTm"
      }
    }
  ]
}