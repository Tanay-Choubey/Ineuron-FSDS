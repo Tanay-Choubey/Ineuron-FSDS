{
  "nbformat": 4,
  "nbformat_minor": 0,
  "metadata": {
    "colab": {
      "provenance": []
    },
    "kernelspec": {
      "name": "python3",
      "display_name": "Python 3"
    },
    "language_info": {
      "name": "python"
    }
  },
  "cells": [
    {
      "cell_type": "markdown",
      "source": [
        "# **Assignment 01**"
      ],
      "metadata": {
        "id": "hzSDBU3KYiY-"
      }
    },
    {
      "cell_type": "markdown",
      "source": [
        "**Q. 1:** What does one mean by the term \"machine learning\" ?\n",
        "\n",
        "**Ans 1:** Machine learning is a branch of artificial intelligence (AI) and computer science which focuses on the use of data and algorithms to imitate the way that humans learn, gradually improving its accuracy."
      ],
      "metadata": {
        "id": "i3ToTcTtYnl0"
      }
    },
    {
      "cell_type": "markdown",
      "source": [
        "\n",
        "\n",
        "---\n",
        "\n"
      ],
      "metadata": {
        "id": "Xa6RJOYGZtxd"
      }
    },
    {
      "cell_type": "markdown",
      "source": [
        "**Q. 2:** Can you think of 4 distinct types of issues where it shines?\n",
        "\n",
        "**Ans 2:** The following are some of the issues where Machine Learning can be used:\n",
        "\n",
        "1. Traffic prediction.\n",
        "2. Speech Recognition.\n",
        "3. Image Recognition.\n",
        "4. Product recommendations.\n"
      ],
      "metadata": {
        "id": "RmVwXDJeZus1"
      }
    },
    {
      "cell_type": "markdown",
      "source": [
        "\n",
        "\n",
        "---\n",
        "\n"
      ],
      "metadata": {
        "id": "yADRBXyrgppS"
      }
    },
    {
      "cell_type": "markdown",
      "source": [
        "**Q. 3:** What is a labeled training set, and how does it work?\n",
        "\n",
        "**Ans 3:** A labeled training set is a collection of data where one of the features of data indicates the class the training example belongs to.A labeled training set is used in supervised learning algorithms."
      ],
      "metadata": {
        "id": "CIwSJy6GgqX8"
      }
    },
    {
      "cell_type": "markdown",
      "source": [
        "\n",
        "\n",
        "---\n",
        "\n"
      ],
      "metadata": {
        "id": "pJ-fxZuii13O"
      }
    },
    {
      "cell_type": "markdown",
      "source": [
        "**Q. 4:** What are the two most important tasks that are supervised?\n",
        "\n",
        "**Ans 4:** The two most common supervised learning tasks are:\n",
        "\n",
        "1. Regression \n",
        "2. Classification."
      ],
      "metadata": {
        "id": "4BBBVVk-i4Jn"
      }
    },
    {
      "cell_type": "markdown",
      "source": [
        "\n",
        "\n",
        "---\n",
        "\n"
      ],
      "metadata": {
        "id": "bEiWv0lnjuz_"
      }
    },
    {
      "cell_type": "markdown",
      "source": [
        "**Q. 5:** Can you think of four examples of unsupervised tasks?\n",
        "\n",
        "**Ans 5:** Four common Unsupervised Tasks are:\n",
        "\n",
        "1. Clustering.\n",
        "2. Visualization.\n",
        "3. Dimensionality Reduction.\n",
        "4. Association Rule Learning."
      ],
      "metadata": {
        "id": "0lgBL8n9jvh1"
      }
    },
    {
      "cell_type": "markdown",
      "source": [
        "\n",
        "\n",
        "---\n",
        "\n"
      ],
      "metadata": {
        "id": "3G3vyfHxmnNK"
      }
    },
    {
      "cell_type": "markdown",
      "source": [
        "**Q. 6:** State the machine learning model that would be best to make a robot walk through various unfamiliar terrains?\n",
        "\n",
        "**Ans 6:** Reinforced Learning models would be best to make a robot walk through various unfamiliar terrains."
      ],
      "metadata": {
        "id": "ooi1v1kimoHP"
      }
    },
    {
      "cell_type": "markdown",
      "source": [
        "\n",
        "\n",
        "---\n",
        "\n"
      ],
      "metadata": {
        "id": "t-n-JkGAoXAP"
      }
    },
    {
      "cell_type": "markdown",
      "source": [
        "**Q. 7:** Which algorithm will you use to divide your customers into different groups?\n",
        "\n",
        "**Ans 7:** The Best Algorithm to Segment Customers into different groups is either Supervised Learning (if the groups have known labels) or Unsupervised Learning (if there are no group labels)."
      ],
      "metadata": {
        "id": "kIH5Z9EZoX9M"
      }
    },
    {
      "cell_type": "markdown",
      "source": [
        "\n",
        "\n",
        "---\n",
        "\n"
      ],
      "metadata": {
        "id": "rp6O9yOfqPUs"
      }
    },
    {
      "cell_type": "markdown",
      "source": [
        "**Q. 8:** Will you consider the problem of spam detection to be a supervised or unsupervised learning problem?\n",
        "\n",
        "**Ans 8:** Spam detection is a Supervised Machine Learning problem because the labels are known (spam or no spam)."
      ],
      "metadata": {
        "id": "1sD8rClsqRTQ"
      }
    },
    {
      "cell_type": "markdown",
      "source": [
        "\n",
        "\n",
        "---\n",
        "\n"
      ],
      "metadata": {
        "id": "4DKuS_Lpq2gY"
      }
    },
    {
      "cell_type": "markdown",
      "source": [
        "**Q. 9:** What is the concept of an online learning system?\n",
        "\n",
        "**Ans 9:** An online learning system learns from new data on-the-fly.As a result the system is trained incremently either by using example at a time or using a mini-batch approach.This keeps each learning step cheap and memory efficent."
      ],
      "metadata": {
        "id": "birsL8Ozq4bh"
      }
    },
    {
      "cell_type": "markdown",
      "source": [
        "\n",
        "\n",
        "---\n",
        "\n"
      ],
      "metadata": {
        "id": "Eg3jgI-Frsp8"
      }
    },
    {
      "cell_type": "markdown",
      "source": [
        "**Q. 10:** What is out-of-core learning, and how does it differ from core learning?\n",
        "\n",
        "**Q. 10:** Out-of-core learning is used when a dataset is too large to fit into a computer's memory.The algorithum loads part of the data,run a training step,then repeats the process until it has run on all the data."
      ],
      "metadata": {
        "id": "b_16D6jrrtoM"
      }
    },
    {
      "cell_type": "markdown",
      "source": [
        "\n",
        "\n",
        "---\n",
        "\n"
      ],
      "metadata": {
        "id": "cmAATWWFspPh"
      }
    },
    {
      "cell_type": "markdown",
      "source": [
        "**Q. 11:** What kind of learning algorithm makes predictions using a similarity measure?\n",
        "\n",
        "**Ans 11:** Learning algorithm that relies on a similarity measure to make predictions is Instance Based Algorithm. The Machine Learning systems which are categorized as instance-based learning are the systems that learn the training examples by heart and then generalizes to new instances based on some similarity measure. It is called instance-based because it builds the hypotheses from the training instances. It is also known as memory-based learning or lazy-learning. The time complexity of this algorithm depends upon the size of training data. The worst-case time complexity of this algorithm is O (n), where n is the number of training instances.\n",
        "\n",
        "For example, If we were to create a spam filter with an instance-based learning algorithm, instead of just flagging emails that are already marked as spam emails, our spam filter would be programmed to also flag emails that are very similar to them. This requires a measure of resemblance between two emails. A similarity measure between two emails could be the same sender or the repetitive use of the same keywords or something else."
      ],
      "metadata": {
        "id": "DurR6cLDsqaf"
      }
    },
    {
      "cell_type": "markdown",
      "source": [
        "\n",
        "\n",
        "---\n",
        "\n"
      ],
      "metadata": {
        "id": "lpuXO6KgtN__"
      }
    },
    {
      "cell_type": "markdown",
      "source": [
        "**Q. 12:** What's the difference between a model parameter and a hyperparameter in a learning algorithm?\n",
        "\n",
        "**Ans 12:** Hyperparameter is a learning algorithm parameter whereas model parameter determines how the model will predict the new outcome."
      ],
      "metadata": {
        "id": "kMFrbEMktPPJ"
      }
    },
    {
      "cell_type": "markdown",
      "source": [
        "\n",
        "\n",
        "---\n",
        "\n"
      ],
      "metadata": {
        "id": "TBoVGEPNuJdq"
      }
    },
    {
      "cell_type": "markdown",
      "source": [
        "**Q. 13:** What are the criteria that model-based learning algorithms look for? What is the most popular method they use to achieve success? What method do they use to make predictions?\n",
        "\n",
        "**Ans 13:** The goal for a model-based algorithm is to be able to generalize to new examples. To do this, model based algorithms search for optimal values for the model's parameters, often called theta. This searching, or \"learning\", is what machine learning is all about. Model-based system learn by minimizing a cost function that measures how bad the system is at making predicitons on new data, plus a penalty for model complexity if the model is regularized. To make a prediction, a new instance's features are fed into a hypothesis function which uses the minimized theta found by repeatedly running the cost function."
      ],
      "metadata": {
        "id": "NgtUP6AVuKew"
      }
    },
    {
      "cell_type": "markdown",
      "source": [
        "\n",
        "\n",
        "---\n",
        "\n"
      ],
      "metadata": {
        "id": "sfSPckRZuuwx"
      }
    },
    {
      "cell_type": "markdown",
      "source": [
        "**Q. 14:** Can you name four of the most important Machine Learning challenges?\n",
        "\n",
        "**Ans 14:** Four main challenges in Machine Learning include the following:\n",
        "\n",
        "1. Overfitting the Data (using a model too complicated)\n",
        "2. Underfitting the data (using a simple model)\n",
        "3. Lacking in Data\n",
        "4. Non Representative Data."
      ],
      "metadata": {
        "id": "_GmTax7huwAt"
      }
    },
    {
      "cell_type": "markdown",
      "source": [
        "\n",
        "\n",
        "---\n",
        "\n"
      ],
      "metadata": {
        "id": "b5DshG7jvPag"
      }
    },
    {
      "cell_type": "markdown",
      "source": [
        "**Q. 15:** What happens if the model performs well on the training data but fails to generalize the results to new situations? Can you think of three different options?\n",
        "\n",
        "**Ans 15:** If the model performs poorly to new instances, then it has overfitted on the training data. To solve this, we can do any of the following three:\n",
        "\n",
        "- Get more data.\n",
        "- Implement a simpler model.\n",
        "- Eliminate outliers or noise from the existing data set."
      ],
      "metadata": {
        "id": "2Rzp-VbnvQLc"
      }
    },
    {
      "cell_type": "markdown",
      "source": [
        "\n",
        "\n",
        "---\n",
        "\n"
      ],
      "metadata": {
        "id": "J01ENuFBwS_N"
      }
    },
    {
      "cell_type": "markdown",
      "source": [
        "**Q. 16:** What exactly is a test set, and why would you need one?\n",
        "\n",
        "**Ans 16:** Test set is a set of data in which we see the performance of algorithm. It is necessary to determine how good (or bad) a model performs."
      ],
      "metadata": {
        "id": "MZDRBof1wT9c"
      }
    },
    {
      "cell_type": "markdown",
      "source": [
        "\n",
        "\n",
        "---\n",
        "\n"
      ],
      "metadata": {
        "id": "7pBPpSiMw9WS"
      }
    },
    {
      "cell_type": "markdown",
      "source": [
        "**Q. 17:** What is a validation set's purpose?\n",
        "\n",
        "**Ans 17:** Validation set is a set used to compare between different training models. Let's say we have a linear model and we want to perform some hyperparameter tuning to reduce the generalization error. One way to do this 100 different models with 100 different hyperparameter values using the training set and finding the generalization error with the test set. You find the best hyperparameter value gives you 5% generalization error.\n",
        "\n",
        "So you launch the model into production and find you're seeing 15% generalization error. This isn't going as expected. What happened?\n",
        "\n",
        "The problem is that for each iteration of hyperparameter tuning, you measured the generalization error then updated the model using the same test set. In other words, your produced the best generalization error for the test set. The test set no longer represents cases the model hasn't seen before.\n",
        "\n",
        "A common solution to this problem is to have a second holdout set called the validation set. You train multiple models with various hyperparameters using the training set, you select the model and hyperparameters that perform best on the validation set, and when you are happy about your model you run a single final test against the test set to get an estimate of the generalization error."
      ],
      "metadata": {
        "id": "PAriMA1Xw-iU"
      }
    },
    {
      "cell_type": "markdown",
      "source": [
        "\n",
        "\n",
        "---\n",
        "\n"
      ],
      "metadata": {
        "id": "RIKsPY7KxXGB"
      }
    },
    {
      "cell_type": "markdown",
      "source": [
        "**Q. 18:** What precisely is the train-dev kit, when will you need it, how do you put it to use?\n",
        "\n",
        "**Ans 18:** Cross validation is used to find the best algorihtm and its parameter without validation data. Instead of breaking the data into validation we use cross validation."
      ],
      "metadata": {
        "id": "CqCi5ggnxYAX"
      }
    },
    {
      "cell_type": "markdown",
      "source": [
        "\n",
        "\n",
        "---\n",
        "\n"
      ],
      "metadata": {
        "id": "QZo9-ZX7x9u1"
      }
    },
    {
      "cell_type": "markdown",
      "source": [
        "**Q. 19:** What could go wrong if you use the test set to tune hyperparameters?\n",
        "\n",
        "**Ans 19:** If you tune hyperparameters using the test sets, then it may not perform well on the out-of-sample data because the model is tuned just for that specific set. Our model will not be generalizable to new examples."
      ],
      "metadata": {
        "id": "r5CaTajdx_Eg"
      }
    },
    {
      "cell_type": "markdown",
      "source": [
        "\n",
        "\n",
        "---\n",
        "\n"
      ],
      "metadata": {
        "id": "z-Dga-HwyeHl"
      }
    }
  ]
}