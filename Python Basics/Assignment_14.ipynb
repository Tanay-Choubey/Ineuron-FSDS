{
  "nbformat": 4,
  "nbformat_minor": 0,
  "metadata": {
    "colab": {
      "provenance": []
    },
    "kernelspec": {
      "name": "python3",
      "display_name": "Python 3"
    },
    "language_info": {
      "name": "python"
    }
  },
  "cells": [
    {
      "cell_type": "markdown",
      "source": [
        "# **Assignment 14**"
      ],
      "metadata": {
        "id": "WKU2s18NPzCI"
      }
    },
    {
      "cell_type": "markdown",
      "source": [
        "**Q. 1:** What does RGBA stand for?\n",
        "\n",
        "**Ans 1:** RGBA is a four-channel format containing data for Red, Green, Blue, and an Alpha value. Where Alpha Represents the Opacity."
      ],
      "metadata": {
        "id": "fC3ZrzqIP4F5"
      }
    },
    {
      "cell_type": "markdown",
      "source": [
        "\n",
        "\n",
        "---\n",
        "\n"
      ],
      "metadata": {
        "id": "aviV5gbBSdVn"
      }
    },
    {
      "cell_type": "markdown",
      "source": [
        "**Q. 2:** From the Pillow module, how do you get the RGBA value of any images?\n",
        "\n",
        "**Ans 2:** A function call to ImageColor.getcolor('CornflowerBlue', 'RGBA') will return (100, 149, 237, 255), the RGBA value for that color."
      ],
      "metadata": {
        "id": "BXE2EYDlSeII"
      }
    },
    {
      "cell_type": "markdown",
      "source": [
        "\n",
        "\n",
        "---\n",
        "\n"
      ],
      "metadata": {
        "id": "yI2swu32Tr2A"
      }
    },
    {
      "cell_type": "markdown",
      "source": [
        "**Q. 3:** What is a box tuple, and how does it work?\n",
        "\n",
        "**Ans 3:** A box tuple is a tuple value of four integers: the left-edge x-coordinate, the top-edge y-coordinate,the width, and the height, respectively."
      ],
      "metadata": {
        "id": "QW9_qijfTsqv"
      }
    },
    {
      "cell_type": "markdown",
      "source": [
        "\n",
        "\n",
        "---\n",
        "\n"
      ],
      "metadata": {
        "id": "32owhBtQUIu2"
      }
    },
    {
      "cell_type": "markdown",
      "source": [
        "**Q. 4:** Use your image and load in notebook then, How can you find out the width and height of an Image object?\n",
        "\n",
        "**Ans 4:** "
      ],
      "metadata": {
        "id": "e_eLcYUnUJyW"
      }
    },
    {
      "cell_type": "code",
      "source": [
        "from PIL import Image\n",
        "pic = Image.open('Pic.jpg')\n",
        "print(f'Width, Height -> {pic.size}') # Approach 1\n",
        "print(f'Width, Height -> {pic.width},{pic.height}') # Approach 2\n",
        "width,height = pic.size\n",
        "print(f'Width, Height -> {width},{height}') # Approach 3"
      ],
      "metadata": {
        "id": "8bzT5IFLVKVB"
      },
      "execution_count": null,
      "outputs": []
    },
    {
      "cell_type": "markdown",
      "source": [
        "\n",
        "\n",
        "---\n",
        "\n"
      ],
      "metadata": {
        "id": "zeFBLqAjVxg_"
      }
    },
    {
      "cell_type": "markdown",
      "source": [
        "**Q. 5:** What method would you call to get Image object for a 100×100 image, excluding the lower-left quarter of it?\n",
        "\n",
        "**Ans 5:** "
      ],
      "metadata": {
        "id": "PZAlgc64Vzng"
      }
    },
    {
      "cell_type": "code",
      "source": [
        "from PIL import Image\n",
        "img = Image.open('Pic.jpg')\n",
        "new_img = img.crop((0,60,60,60))"
      ],
      "metadata": {
        "id": "Kz_fuFkpWXBX"
      },
      "execution_count": null,
      "outputs": []
    },
    {
      "cell_type": "markdown",
      "source": [
        "\n",
        "\n",
        "---\n",
        "\n"
      ],
      "metadata": {
        "id": "mwNpOusqWYSQ"
      }
    },
    {
      "cell_type": "markdown",
      "source": [
        "**Q. 6:** After making changes to an Image object, how could you save it as an image file?\n",
        "\n",
        "**Ans 6:** "
      ],
      "metadata": {
        "id": "sb2c77QNWZNX"
      }
    },
    {
      "cell_type": "code",
      "source": [
        "from PIL import Image\n",
        "pic = Image.open('Pic1.jpg')\n",
        "pic.save('Pic2.jpg')"
      ],
      "metadata": {
        "id": "KXBdal2LWr6W"
      },
      "execution_count": null,
      "outputs": []
    },
    {
      "cell_type": "markdown",
      "source": [
        "\n",
        "\n",
        "---\n",
        "\n"
      ],
      "metadata": {
        "id": "zhXmqndRWxXm"
      }
    },
    {
      "cell_type": "markdown",
      "source": [
        "**Q. 7:** What module contains Pillow’s shape-drawing code?\n",
        "\n",
        "**Ans 7:** Pillows ImageDraw module contains Shape drawing methods. The 'ImageDraw' module provides simple 2D graphics support for Image Object. Generally, we use this module to create new images, annotate or retouch existing images and to generate graphics on the fly for web use. The graphics commands support the drawing of shapes and annotation of text."
      ],
      "metadata": {
        "id": "yhe-nweRWyp2"
      }
    },
    {
      "cell_type": "markdown",
      "source": [
        "\n",
        "\n",
        "---\n",
        "\n"
      ],
      "metadata": {
        "id": "p92-_Np-XIT5"
      }
    },
    {
      "cell_type": "markdown",
      "source": [
        "**Q. 8:** Image objects do not have drawing methods. What kind of object does? How do you get this kind of object?\n",
        "\n",
        "**Ans 8:** ImageDraw objects have shape-drawing methods such as point(), line(), or rectangle().They are returned by passing the Image object to the ImageDraw.Draw() function."
      ],
      "metadata": {
        "id": "iOU_L1GEXR-m"
      }
    },
    {
      "cell_type": "markdown",
      "source": [
        "\n",
        "\n",
        "---\n",
        "\n"
      ],
      "metadata": {
        "id": "JE_BL-JeXq7u"
      }
    }
  ]
}