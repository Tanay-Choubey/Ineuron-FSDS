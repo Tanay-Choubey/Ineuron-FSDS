{
  "nbformat": 4,
  "nbformat_minor": 0,
  "metadata": {
    "colab": {
      "provenance": []
    },
    "kernelspec": {
      "name": "python3",
      "display_name": "Python 3"
    },
    "language_info": {
      "name": "python"
    }
  },
  "cells": [
    {
      "cell_type": "markdown",
      "source": [
        "# **Assignment 17**"
      ],
      "metadata": {
        "id": "-hwf1esZkWxz"
      }
    },
    {
      "cell_type": "markdown",
      "source": [
        "**Q. 1:**  Assign the value 7 to the variable guess_me. Then, write the conditional tests (if, else, and elif) to print the string 'too low' if guess_me is less than 7, 'too high' if greater than 7, and 'just right' if equal to 7.\n",
        "\n",
        "**Ans 1:** "
      ],
      "metadata": {
        "id": "BE674sXlkbfd"
      }
    },
    {
      "cell_type": "code",
      "source": [
        "def guess_me(guess_me):\n",
        "    if guess_me < 7:\n",
        "        print('too Low')\n",
        "    elif guess_me > 7:\n",
        "        print('too High')\n",
        "    else:\n",
        "        print('just Right')\n",
        "\n",
        "guess_me(guess_me=7)\n",
        "guess_me(guess_me=5)\n",
        "guess_me(guess_me=15)"
      ],
      "metadata": {
        "colab": {
          "base_uri": "https://localhost:8080/"
        },
        "id": "2IMMjoskk4Fg",
        "outputId": "6411c6d0-c745-4680-f8d6-f29c7f41b8b6"
      },
      "execution_count": 1,
      "outputs": [
        {
          "output_type": "stream",
          "name": "stdout",
          "text": [
            "just Right\n",
            "too Low\n",
            "too High\n"
          ]
        }
      ]
    },
    {
      "cell_type": "markdown",
      "source": [
        "\n",
        "\n",
        "---\n",
        "\n"
      ],
      "metadata": {
        "id": "sqiB8DqAlCiK"
      }
    },
    {
      "cell_type": "markdown",
      "source": [
        "**Q. 2:** Assign the value 7 to the variable guess_me and the value 1 to the variable start. Write a while loop that compares start with guess_me. Print too low if start is less than guess me. If start equals guess_me, print 'found it!' and exit the loop. If start is greater than guess_me, print 'oops' and exit the loop. Increment start at the end of the loop.\n",
        "\n",
        "**Ans 2:** "
      ],
      "metadata": {
        "id": "JVZPyIYalD1f"
      }
    },
    {
      "cell_type": "code",
      "source": [
        "guess_me = 7\n",
        "start = 1\n",
        "while True:\n",
        "    if start < guess_me:\n",
        "        print('too low')\n",
        "    elif start == guess_me:\n",
        "        print('found it!')\n",
        "        break\n",
        "    else:\n",
        "        print('oops')\n",
        "        break\n",
        "    start += 1"
      ],
      "metadata": {
        "colab": {
          "base_uri": "https://localhost:8080/"
        },
        "id": "GsMYqQTblkdf",
        "outputId": "8e79f10f-73a9-48c5-86d5-810058b2250b"
      },
      "execution_count": 2,
      "outputs": [
        {
          "output_type": "stream",
          "name": "stdout",
          "text": [
            "too low\n",
            "too low\n",
            "too low\n",
            "too low\n",
            "too low\n",
            "too low\n",
            "found it!\n"
          ]
        }
      ]
    },
    {
      "cell_type": "markdown",
      "source": [
        "\n",
        "\n",
        "---\n",
        "\n"
      ],
      "metadata": {
        "id": "IHLi44Ymlx8W"
      }
    },
    {
      "cell_type": "markdown",
      "source": [
        "**Q. 3:** Print the following values of the list [3, 2, 1, 0] using a for loop.\n",
        "\n",
        "**Ans 3:** "
      ],
      "metadata": {
        "id": "4F3P7oboly5C"
      }
    },
    {
      "cell_type": "code",
      "source": [
        "l = [3,2,1,0]\n",
        "\n",
        "for i in l :\n",
        "  print(i)"
      ],
      "metadata": {
        "colab": {
          "base_uri": "https://localhost:8080/"
        },
        "id": "wuOTGqZBk4xB",
        "outputId": "0c3c1faa-7e8f-4c86-fdbf-d1f9e0f3460b"
      },
      "execution_count": 3,
      "outputs": [
        {
          "output_type": "stream",
          "name": "stdout",
          "text": [
            "3\n",
            "2\n",
            "1\n",
            "0\n"
          ]
        }
      ]
    },
    {
      "cell_type": "markdown",
      "source": [
        "\n",
        "\n",
        "---\n",
        "\n"
      ],
      "metadata": {
        "id": "Bv5fvmBKm96H"
      }
    },
    {
      "cell_type": "markdown",
      "source": [
        "**Q. 4:** Use a list comprehension to make a list of the even numbers in range(10).\n",
        "\n",
        "**Ans 4:** "
      ],
      "metadata": {
        "id": "Mwl9e8cCm-0X"
      }
    },
    {
      "cell_type": "code",
      "source": [
        "even_list = [x for x in range(10) if x%2 == 0]\n",
        "even_list"
      ],
      "metadata": {
        "colab": {
          "base_uri": "https://localhost:8080/"
        },
        "id": "wFUmzklQmici",
        "outputId": "c10d44c5-c38f-4bee-f1c2-0c241ab7b45d"
      },
      "execution_count": 4,
      "outputs": [
        {
          "output_type": "execute_result",
          "data": {
            "text/plain": [
              "[0, 2, 4, 6, 8]"
            ]
          },
          "metadata": {},
          "execution_count": 4
        }
      ]
    },
    {
      "cell_type": "markdown",
      "source": [
        "\n",
        "\n",
        "---\n",
        "\n"
      ],
      "metadata": {
        "id": "NIedfCMcnbJ4"
      }
    },
    {
      "cell_type": "markdown",
      "source": [
        "**Q. 5:** Use a dictionary comprehension to create the dictionary squares. Use range(10) to return the keys, and use the square of each key as its value.\n",
        "\n",
        "**Ans 5:** "
      ],
      "metadata": {
        "id": "ZtqdKZpbndM3"
      }
    },
    {
      "cell_type": "code",
      "source": [
        "print({x:x**2 for x in range(10)})"
      ],
      "metadata": {
        "colab": {
          "base_uri": "https://localhost:8080/"
        },
        "id": "_am_XV3bnxyK",
        "outputId": "959cefee-4869-4565-cf6b-d38dc3ee5c2a"
      },
      "execution_count": 5,
      "outputs": [
        {
          "output_type": "stream",
          "name": "stdout",
          "text": [
            "{0: 0, 1: 1, 2: 4, 3: 9, 4: 16, 5: 25, 6: 36, 7: 49, 8: 64, 9: 81}\n"
          ]
        }
      ]
    },
    {
      "cell_type": "markdown",
      "source": [
        "\n",
        "\n",
        "---\n",
        "\n"
      ],
      "metadata": {
        "id": "MslBMyy6n7t_"
      }
    },
    {
      "cell_type": "markdown",
      "source": [
        "**Q. 6:** Construct the set odd from the odd numbers in the range using a set comprehension (10).\n",
        "\n",
        "**Ans 6:** "
      ],
      "metadata": {
        "id": "AAB45WBEn9NX"
      }
    },
    {
      "cell_type": "code",
      "source": [
        "print({x for x in range(10) if x%2 !=0})"
      ],
      "metadata": {
        "colab": {
          "base_uri": "https://localhost:8080/"
        },
        "id": "hW6G183-n0OQ",
        "outputId": "a898a347-43f9-46b2-fa07-b12e348874b2"
      },
      "execution_count": 6,
      "outputs": [
        {
          "output_type": "stream",
          "name": "stdout",
          "text": [
            "{1, 3, 5, 7, 9}\n"
          ]
        }
      ]
    },
    {
      "cell_type": "markdown",
      "source": [
        "\n",
        "\n",
        "---\n",
        "\n"
      ],
      "metadata": {
        "id": "-WXmOiwuo_tW"
      }
    },
    {
      "cell_type": "markdown",
      "source": [
        "**Q. 7:** Use a generator comprehension to return the string 'Got ' and a number for the numbers in range(10). Iterate through this by using a for loop.\n",
        "\n",
        "**Ans 7:** "
      ],
      "metadata": {
        "id": "3RgX2_46pA3I"
      }
    },
    {
      "cell_type": "code",
      "source": [
        "string_generator = ('Got ' + str(num) for num in range(10))\n",
        "for item in string_generator:\n",
        "    print(item)"
      ],
      "metadata": {
        "colab": {
          "base_uri": "https://localhost:8080/"
        },
        "id": "WewFvJBMogaE",
        "outputId": "cfb7c007-f72f-4aaf-e275-45537fd8e579"
      },
      "execution_count": 7,
      "outputs": [
        {
          "output_type": "stream",
          "name": "stdout",
          "text": [
            "Got 0\n",
            "Got 1\n",
            "Got 2\n",
            "Got 3\n",
            "Got 4\n",
            "Got 5\n",
            "Got 6\n",
            "Got 7\n",
            "Got 8\n",
            "Got 9\n"
          ]
        }
      ]
    },
    {
      "cell_type": "markdown",
      "source": [
        "\n",
        "\n",
        "---\n",
        "\n"
      ],
      "metadata": {
        "id": "btK4_meSpgp1"
      }
    },
    {
      "cell_type": "markdown",
      "source": [
        "**Q. 8:** Define a function called good that returns the list ['Harry', 'Ron', 'Hermione'].\n",
        "\n",
        "**Ans 8:** "
      ],
      "metadata": {
        "id": "z4trSEhQpiAD"
      }
    },
    {
      "cell_type": "code",
      "source": [
        "def good():\n",
        "    x =  ['Harry', 'Ron', 'Hermione']\n",
        "    return x\n",
        "print(good())"
      ],
      "metadata": {
        "colab": {
          "base_uri": "https://localhost:8080/"
        },
        "id": "FP08o3IspenH",
        "outputId": "27201ddd-8b40-40e9-86bb-7779cfa16774"
      },
      "execution_count": 8,
      "outputs": [
        {
          "output_type": "stream",
          "name": "stdout",
          "text": [
            "['Harry', 'Ron', 'Hermione']\n"
          ]
        }
      ]
    },
    {
      "cell_type": "markdown",
      "source": [
        "\n",
        "\n",
        "---\n",
        "\n"
      ],
      "metadata": {
        "id": "aZGMMW62p73D"
      }
    },
    {
      "cell_type": "markdown",
      "source": [
        "**Q. 9:** Define a generator function called get_odds that returns the odd numbers from range(10). Use a for loop to find and print the third value returned.\n",
        "\n",
        "**Ans 9:** "
      ],
      "metadata": {
        "id": "d8Cs-dpSp867"
      }
    },
    {
      "cell_type": "code",
      "source": [
        "def get_odds():\n",
        "        for number in range(1, 10, 2):\n",
        "            yield number\n",
        "count = 1\n",
        "for number in get_odds():\n",
        "    if count == 3:\n",
        "        print(f\"The third odd number is: {number}\")\n",
        "        break\n",
        "    count += 1"
      ],
      "metadata": {
        "colab": {
          "base_uri": "https://localhost:8080/"
        },
        "id": "jY88X1DNp4ta",
        "outputId": "3116552f-ac6d-498a-a4a0-e4b68d927b6a"
      },
      "execution_count": 9,
      "outputs": [
        {
          "output_type": "stream",
          "name": "stdout",
          "text": [
            "The third odd number is: 5\n"
          ]
        }
      ]
    },
    {
      "cell_type": "markdown",
      "source": [
        "\n",
        "\n",
        "---\n",
        "\n"
      ],
      "metadata": {
        "id": "o-QASzHnqW-k"
      }
    },
    {
      "cell_type": "markdown",
      "source": [
        "**Q. 10:** Define an exception called OopsException. Raise this exception to see what happens. Then write the code to catch this exception and print 'Caught an oops'.\n",
        "\n",
        "**Ans 10:** "
      ],
      "metadata": {
        "id": "9_VNKKzgqYRY"
      }
    },
    {
      "cell_type": "code",
      "source": [
        "class OopsException(Exception):\n",
        "    pass\n",
        "\n",
        "def raiseException(num):\n",
        "    if num < 0:\n",
        "        raise OopsException(num)\n",
        "\n",
        "try:\n",
        "    raiseException(-1)\n",
        "except OopsException as err:\n",
        "    print('Caught an oops', err)"
      ],
      "metadata": {
        "colab": {
          "base_uri": "https://localhost:8080/"
        },
        "id": "xWU2WUw9qVJb",
        "outputId": "115a0c63-4e07-4445-c931-17e6320e21ef"
      },
      "execution_count": 10,
      "outputs": [
        {
          "output_type": "stream",
          "name": "stdout",
          "text": [
            "Caught an oops -1\n"
          ]
        }
      ]
    },
    {
      "cell_type": "markdown",
      "source": [
        "\n",
        "\n",
        "---\n",
        "\n"
      ],
      "metadata": {
        "id": "a4cIOtM5rAlg"
      }
    },
    {
      "cell_type": "markdown",
      "source": [
        "**Q. 11:** Use zip() to make a dictionary called movies that pairs these lists: titles = ['Creature of Habit', 'Crewel Fate'] and plots = ['A nun turns into a monster', 'A haunted yarn shop'].\n",
        "\n",
        "**Ans 11:** "
      ],
      "metadata": {
        "id": "AVHuhV34rB-E"
      }
    },
    {
      "cell_type": "code",
      "source": [
        "titles = ['Creature of Habit', 'Crewel Fate']\n",
        "plots = ['A nun turns into a monster', 'A haunted yarn shop']\n",
        "output = dict(zip(titles,plots))\n",
        "print(output)"
      ],
      "metadata": {
        "colab": {
          "base_uri": "https://localhost:8080/"
        },
        "id": "gx4YsbaHq7rr",
        "outputId": "11efb909-69d5-44d4-c239-4a4af47d10d1"
      },
      "execution_count": 11,
      "outputs": [
        {
          "output_type": "stream",
          "name": "stdout",
          "text": [
            "{'Creature of Habit': 'A nun turns into a monster', 'Crewel Fate': 'A haunted yarn shop'}\n"
          ]
        }
      ]
    },
    {
      "cell_type": "markdown",
      "source": [
        "\n",
        "\n",
        "---\n",
        "\n"
      ],
      "metadata": {
        "id": "Q6p3QJ-Trdom"
      }
    }
  ]
}