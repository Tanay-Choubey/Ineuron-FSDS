{
  "nbformat": 4,
  "nbformat_minor": 0,
  "metadata": {
    "colab": {
      "provenance": []
    },
    "kernelspec": {
      "name": "python3",
      "display_name": "Python 3"
    },
    "language_info": {
      "name": "python"
    }
  },
  "cells": [
    {
      "cell_type": "markdown",
      "source": [
        "# **Assignment 18**"
      ],
      "metadata": {
        "id": "EnceQvnktCta"
      }
    },
    {
      "cell_type": "markdown",
      "source": [
        "**Q. 1:** Create a zoo.py file first. Define the hours() function, which prints the string 'Open 9-5 daily'. Then, use the interactive interpreter to import the zoo module and call its hours() function.\n",
        "\n",
        "**Ans 1:** "
      ],
      "metadata": {
        "id": "6cTjLUCUtJAp"
      }
    },
    {
      "cell_type": "code",
      "source": [
        "import zoo\n",
        "zoo.hours()"
      ],
      "metadata": {
        "colab": {
          "base_uri": "https://localhost:8080/"
        },
        "id": "5F0f-bvF0kSu",
        "outputId": "e6a1e0f9-6df2-4a72-f9b2-f544540e13b5"
      },
      "execution_count": 29,
      "outputs": [
        {
          "output_type": "stream",
          "name": "stdout",
          "text": [
            "Open 9-5 daily\n"
          ]
        }
      ]
    },
    {
      "cell_type": "markdown",
      "source": [
        "\n",
        "\n",
        "---\n",
        "\n"
      ],
      "metadata": {
        "id": "zO_auyrEthmY"
      }
    },
    {
      "cell_type": "markdown",
      "source": [
        "**Q. 2:**  In the interactive interpreter, import the zoo module as menagerie and call its hours() function.\n",
        "\n",
        "**Ans 2:** "
      ],
      "metadata": {
        "id": "EeJFaZvotioh"
      }
    },
    {
      "cell_type": "code",
      "source": [
        "import zoo as menagerie\n",
        "menagerie.hours()"
      ],
      "metadata": {
        "colab": {
          "base_uri": "https://localhost:8080/"
        },
        "id": "5h1MBL_y2W4m",
        "outputId": "92b811ef-b948-4228-ff05-be86639ebcf1"
      },
      "execution_count": 30,
      "outputs": [
        {
          "output_type": "stream",
          "name": "stdout",
          "text": [
            "Open 9-5 daily\n"
          ]
        }
      ]
    },
    {
      "cell_type": "markdown",
      "source": [
        "\n",
        "\n",
        "---\n",
        "\n"
      ],
      "metadata": {
        "id": "lGQCAKOl2mU-"
      }
    },
    {
      "cell_type": "markdown",
      "source": [
        "**Q. 3:** Using the interpreter, explicitly import and call the hours() function from zoo.\n",
        "\n",
        "**Ans 3:** "
      ],
      "metadata": {
        "id": "qep0OZ7c2ucJ"
      }
    },
    {
      "cell_type": "code",
      "source": [
        "from zoo import hours\n",
        "hours()"
      ],
      "metadata": {
        "colab": {
          "base_uri": "https://localhost:8080/"
        },
        "id": "6oj-erj62lja",
        "outputId": "c8592d4c-0c2c-44b0-fa09-ce34e06d3cde"
      },
      "execution_count": 31,
      "outputs": [
        {
          "output_type": "stream",
          "name": "stdout",
          "text": [
            "Open 9-5 daily\n"
          ]
        }
      ]
    },
    {
      "cell_type": "markdown",
      "source": [
        "\n",
        "\n",
        "---\n",
        "\n"
      ],
      "metadata": {
        "id": "v1RVqyUR3Kqy"
      }
    },
    {
      "cell_type": "markdown",
      "source": [
        "**Q. 4:** Import the hours() function as info and call it.\n",
        "\n",
        "**Ans 4:** "
      ],
      "metadata": {
        "id": "nNtwbhWH3Zz1"
      }
    },
    {
      "cell_type": "code",
      "source": [
        "from zoo import hours as info\n",
        "info()"
      ],
      "metadata": {
        "colab": {
          "base_uri": "https://localhost:8080/"
        },
        "id": "PMuD_3zA3Lxw",
        "outputId": "adcd6043-f21d-4962-fc10-9933a85fb7c2"
      },
      "execution_count": 32,
      "outputs": [
        {
          "output_type": "stream",
          "name": "stdout",
          "text": [
            "Open 9-5 daily\n"
          ]
        }
      ]
    },
    {
      "cell_type": "markdown",
      "source": [
        "\n",
        "\n",
        "---\n",
        "\n"
      ],
      "metadata": {
        "id": "oIe9eF6i39Od"
      }
    },
    {
      "cell_type": "markdown",
      "source": [
        "**Q. 5:** Create a plain dictionary with the key-value pairs 'a': 1, 'b': 2, and 'c': 3, and print it out.\n",
        "\n",
        "**Ans 5:** "
      ],
      "metadata": {
        "id": "EzEWBvah3-J1"
      }
    },
    {
      "cell_type": "code",
      "source": [
        "my_dict = {'a':1, 'b':2, 'c':3}\n",
        "print(my_dict)"
      ],
      "metadata": {
        "colab": {
          "base_uri": "https://localhost:8080/"
        },
        "id": "P2BMsvvE4Sh-",
        "outputId": "ab569e99-c2f9-472d-db87-c914d8ccd703"
      },
      "execution_count": 33,
      "outputs": [
        {
          "output_type": "stream",
          "name": "stdout",
          "text": [
            "{'a': 1, 'b': 2, 'c': 3}\n"
          ]
        }
      ]
    },
    {
      "cell_type": "markdown",
      "source": [
        "\n",
        "\n",
        "---\n",
        "\n"
      ],
      "metadata": {
        "id": "76awvr2J4i-O"
      }
    },
    {
      "cell_type": "markdown",
      "source": [
        "**Q. 6:** Make an OrderedDict called fancy from the same pairs listed in 5 and print it. Did it print in the same order as plain?\n",
        "\n",
        "**Ans 6:** "
      ],
      "metadata": {
        "id": "kIH9jFi24kax"
      }
    },
    {
      "cell_type": "code",
      "source": [
        "from collections import OrderedDict\n",
        "fancy = OrderedDict(my_dict)\n",
        "fancy"
      ],
      "metadata": {
        "colab": {
          "base_uri": "https://localhost:8080/"
        },
        "id": "t_KlWrz92eS0",
        "outputId": "c0db8791-a9dc-4fb1-ff16-fe8b9dd75488"
      },
      "execution_count": 35,
      "outputs": [
        {
          "output_type": "execute_result",
          "data": {
            "text/plain": [
              "OrderedDict([('a', 1), ('b', 2), ('c', 3)])"
            ]
          },
          "metadata": {},
          "execution_count": 35
        }
      ]
    },
    {
      "cell_type": "markdown",
      "source": [
        "\n",
        "\n",
        "---\n",
        "\n"
      ],
      "metadata": {
        "id": "9s-SwFRk5aMf"
      }
    },
    {
      "cell_type": "markdown",
      "source": [
        "**Q. 7:** Make a default dictionary called dict_of_lists and pass it the argument list. Make the list dict_of_lists['a'] and append the value 'something for a' to it in one assignment. Print dict_of_lists['a'].\n",
        "\n",
        "**Ans 7:** "
      ],
      "metadata": {
        "id": "t4OVhn1D5brm"
      }
    },
    {
      "cell_type": "code",
      "source": [
        "from collections import defaultdict\n",
        "dict_of_lists = defaultdict(list)\n",
        "dict_of_lists['a'].append('something for a')\n",
        "print(dict_of_lists['a'])"
      ],
      "metadata": {
        "colab": {
          "base_uri": "https://localhost:8080/"
        },
        "id": "nAcJtmCb49pV",
        "outputId": "daa898a9-2c44-4f0a-d4ba-82c1ac877b23"
      },
      "execution_count": 36,
      "outputs": [
        {
          "output_type": "stream",
          "name": "stdout",
          "text": [
            "['something for a']\n"
          ]
        }
      ]
    },
    {
      "cell_type": "markdown",
      "source": [
        "\n",
        "\n",
        "---\n",
        "\n"
      ],
      "metadata": {
        "id": "G9Xgqb715x-K"
      }
    }
  ]
}