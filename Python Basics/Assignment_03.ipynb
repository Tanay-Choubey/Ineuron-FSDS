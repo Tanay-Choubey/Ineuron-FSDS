{
  "nbformat": 4,
  "nbformat_minor": 0,
  "metadata": {
    "colab": {
      "provenance": []
    },
    "kernelspec": {
      "name": "python3",
      "display_name": "Python 3"
    },
    "language_info": {
      "name": "python"
    }
  },
  "cells": [
    {
      "cell_type": "markdown",
      "source": [
        "# Assignment 3"
      ],
      "metadata": {
        "id": "QOLpD_aqCWcW"
      }
    },
    {
      "cell_type": "markdown",
      "source": [
        "**Q.1 :** Why are functions advantageous to have in your programs?\n",
        "\n",
        "**Ans 1 :** Functions reduce the need for duplicate code. This makes programs shorter, easier to read, and easier to update. "
      ],
      "metadata": {
        "id": "WxW0wjo7C9B2"
      }
    },
    {
      "cell_type": "markdown",
      "source": [
        "\n",
        "\n",
        "---\n",
        "\n",
        "\n"
      ],
      "metadata": {
        "id": "JmkdBJksCzDS"
      }
    },
    {
      "cell_type": "markdown",
      "source": [
        "**Q.2 :** When does the code in a function run: when it's specified or when it's called?\n",
        "\n",
        "**Ans 2 :** The code in a function executes when the function is called, not when the function is specified."
      ],
      "metadata": {
        "id": "ToKzucX6E-9E"
      }
    },
    {
      "cell_type": "markdown",
      "source": [
        "\n",
        "\n",
        "---\n",
        "\n"
      ],
      "metadata": {
        "id": "Hpu2Z6_7FgZz"
      }
    },
    {
      "cell_type": "markdown",
      "source": [
        "**Q.3 :** What statement creates a function?\n",
        "\n",
        "**Ans 3 :** def(keyword) followed by function_name then parentheses.\n",
        "\n",
        "def function_name():"
      ],
      "metadata": {
        "id": "kX0hsVBBFhFa"
      }
    },
    {
      "cell_type": "code",
      "source": [
        "def function_name():\n",
        "  pass"
      ],
      "metadata": {
        "id": "PZdHrgEhCrX9"
      },
      "execution_count": 2,
      "outputs": []
    },
    {
      "cell_type": "markdown",
      "source": [
        "\n",
        "\n",
        "---\n",
        "\n"
      ],
      "metadata": {
        "id": "XasiIMuJL31G"
      }
    },
    {
      "cell_type": "markdown",
      "source": [
        "**Q.4 :** What is the difference between a function and a function call?\n",
        "\n",
        "**Ans 4 :** A function is procedure to achieve a particular result. while function call is using this function to achieve that task. Using a function to do a particular task any point in programe is called as function call."
      ],
      "metadata": {
        "id": "Hzc2jPFDH21y"
      }
    },
    {
      "cell_type": "markdown",
      "source": [
        "\n",
        "\n",
        "---\n",
        "\n"
      ],
      "metadata": {
        "id": "baf9B9MKL5rz"
      }
    },
    {
      "cell_type": "markdown",
      "source": [
        "**Q.5 :** How many global scopes are there in a Python program? How many local scopes?\n",
        "\n",
        "**Ans 5 :** There are 1 global scopes and 1 local scope in the python program."
      ],
      "metadata": {
        "id": "W9prmfy0LSpI"
      }
    },
    {
      "cell_type": "markdown",
      "source": [
        "\n",
        "\n",
        "---\n",
        "\n"
      ],
      "metadata": {
        "id": "U7tPH_HKL7IR"
      }
    },
    {
      "cell_type": "markdown",
      "source": [
        "**Q.6 :** What happens to variables in a local scope when the function call returns?\n",
        "\n",
        "**Ans 6 :** When a function returns, the local scope is destroyed, and all the variables in it are forgotten."
      ],
      "metadata": {
        "id": "u-p4qOkzL8z0"
      }
    },
    {
      "cell_type": "markdown",
      "source": [
        "\n",
        "\n",
        "---\n",
        "\n"
      ],
      "metadata": {
        "id": "zd6-PEL_NO3l"
      }
    },
    {
      "cell_type": "markdown",
      "source": [
        "**Q.7 :** What is the concept of a return value? Is it possible to have a return value in an expression?\n",
        "\n",
        "**Ans 7 :** A return value is the value that a function call evaluates to. Like any value, a return value can be used as part of an expression."
      ],
      "metadata": {
        "id": "8rTpDwh7NQ1w"
      }
    },
    {
      "cell_type": "markdown",
      "source": [
        "\n",
        "\n",
        "---\n",
        "\n"
      ],
      "metadata": {
        "id": "puKumivDOfru"
      }
    },
    {
      "cell_type": "markdown",
      "source": [
        "**Q.8 :** If a function does not have a return statement, what is the return value of a call to that function?\n",
        "\n",
        "**Ans 8 :** If a function does not have a return statement that means the function is not returning any values.\n",
        "\n",
        "In this case after function is executed completly it will return a NoneType."
      ],
      "metadata": {
        "id": "ohItJmdfOhyP"
      }
    },
    {
      "cell_type": "markdown",
      "source": [
        "\n",
        "\n",
        "---\n",
        "\n"
      ],
      "metadata": {
        "id": "yvJ22pqaPDkI"
      }
    },
    {
      "cell_type": "markdown",
      "source": [
        "**Q.9 :** How do you make a function variable refer to the global variable?\n",
        "\n",
        "**Ans 9 :** This can be achieved by using global keyword to redefine the variable and make the changes of variable as global change."
      ],
      "metadata": {
        "id": "Hk9AaRH9PEwS"
      }
    },
    {
      "cell_type": "markdown",
      "source": [
        "\n",
        "\n",
        "---\n",
        "\n"
      ],
      "metadata": {
        "id": "Q8Z4aE5YZNcF"
      }
    },
    {
      "cell_type": "markdown",
      "source": [
        "**Q. 10 :** What is the data type of None?\n",
        "\n",
        "**Ans 10 :** The data type of None is NoneType."
      ],
      "metadata": {
        "id": "VfesT-mmZhx9"
      }
    },
    {
      "cell_type": "markdown",
      "source": [
        "\n",
        "\n",
        "---\n",
        "\n"
      ],
      "metadata": {
        "id": "PnRNxPB7Z8hk"
      }
    },
    {
      "cell_type": "markdown",
      "source": [
        "**Q. 11 :** What does the sentence import areallyourpetsnamederic do?\n",
        "\n",
        "**Ans 11 :** The statement \"import areallyourpetsnamederic\" will import the module or package areallyourpetsnamederic."
      ],
      "metadata": {
        "id": "a6jNuSzzaC_U"
      }
    },
    {
      "cell_type": "markdown",
      "source": [
        "\n",
        "\n",
        "---\n",
        "\n"
      ],
      "metadata": {
        "id": "55-S0pWXaq98"
      }
    },
    {
      "cell_type": "markdown",
      "source": [
        "**Q. 12 :** If you had a bacon() feature in a spam module, what would you call it after importing spam?\n",
        "\n",
        "**Ans 12 :** This function can be called with spam.bacon() ."
      ],
      "metadata": {
        "id": "FlD_P7ohaspL"
      }
    },
    {
      "cell_type": "markdown",
      "source": [
        "\n",
        "\n",
        "---\n"
      ],
      "metadata": {
        "id": "Dydf8tMzcKoN"
      }
    },
    {
      "cell_type": "markdown",
      "source": [
        "**Q. 13 :** What can you do to save a programme from crashing if it encounters an error?\n",
        "\n",
        "**Ans 13 :** To save the program from crashing over a runtime error we can use the try and except statement.\n",
        "\n",
        "It will save from only the runtime error not the compile time error."
      ],
      "metadata": {
        "id": "B4zbpSGpcQCF"
      }
    },
    {
      "cell_type": "markdown",
      "source": [
        "\n",
        "\n",
        "---\n"
      ],
      "metadata": {
        "id": "3wi2tfY1dLgN"
      }
    },
    {
      "cell_type": "markdown",
      "source": [
        "**Q. 14 :** What is the purpose of the try clause? What is the purpose of the except clause?\n",
        "\n",
        "**Ans 14 :** Together try and except block is used to save programme from crashing when an error is encountered.\n",
        "\n",
        "* Try : Try block is used for any suspicious code which can throw a runtime error.\n",
        "\n",
        "* Except : Except block is used to catch error if any encountered inside try block."
      ],
      "metadata": {
        "id": "qFSV17HwdPj8"
      }
    }
  ]
}