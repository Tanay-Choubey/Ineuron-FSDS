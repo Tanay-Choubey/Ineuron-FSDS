{
  "nbformat": 4,
  "nbformat_minor": 0,
  "metadata": {
    "colab": {
      "provenance": []
    },
    "kernelspec": {
      "name": "python3",
      "display_name": "Python 3"
    },
    "language_info": {
      "name": "python"
    }
  },
  "cells": [
    {
      "cell_type": "markdown",
      "source": [
        "# **Assignment 25**"
      ],
      "metadata": {
        "id": "idNVPTfqltUh"
      }
    },
    {
      "cell_type": "markdown",
      "source": [
        "**Q. 1:** What is the difference between enclosing a list comprehension in square brackets and parentheses?\n",
        "\n",
        "**Ans 1:**  Enclosing a list comprehension in square brackets returns a list whereas enclosing a list comprehension in parentheses returns a generator object."
      ],
      "metadata": {
        "id": "CUE6Qbvjlzvo"
      }
    },
    {
      "cell_type": "code",
      "source": [
        "l1 = [ele for ele in range(10)]\n",
        "print(l1, type(l1))\n",
        "\n",
        "l2 = (ele for ele in range(10))\n",
        "print(l2, type(l2))"
      ],
      "metadata": {
        "colab": {
          "base_uri": "https://localhost:8080/"
        },
        "id": "diA4kjCVnSfp",
        "outputId": "6d187f6b-6e22-4979-932a-5e8bb0ea60d1"
      },
      "execution_count": 1,
      "outputs": [
        {
          "output_type": "stream",
          "name": "stdout",
          "text": [
            "[0, 1, 2, 3, 4, 5, 6, 7, 8, 9] <class 'list'>\n",
            "<generator object <genexpr> at 0x7fd174ed1ed0> <class 'generator'>\n"
          ]
        }
      ]
    },
    {
      "cell_type": "markdown",
      "source": [
        "\n",
        "\n",
        "---\n",
        "\n"
      ],
      "metadata": {
        "id": "9avTvO4GnnmX"
      }
    },
    {
      "cell_type": "markdown",
      "source": [
        "**Q. 2:** What is the relationship between generators and iterators?\n",
        "\n",
        "**Ans 2:** An iterator is an object which contains a countable number of values and it is used to iterate over iterable objects like list, tuples, sets, etc. Iterators are implemented using a class. It follows lazy evaluation where the evaluation of the expression will be on hold and stored in the memory until the item is called specifically which helps us to avoid repeated evaluation. As lazy evaluation is implemented, it requires only 1 memory location to process the value and when we are using a large dataset then, wastage of RAM space will be reduced the need to load the entire dataset at the same time will not be there.For an iterator: iter() keyword is used to create an iterator containing an iterable object.next() keyword is used to call the next element in the iterable object.\n",
        "\n",
        "Similarly Generators are an another way of creating iterators in a simple way where it uses the keyword yield statement instead of return statement in a defined function.Generators are implemented using a function. Just as iterators, generators also follow lazy evaluation. Here, the yield function returns the data without affecting or exiting the function. It will return a sequence of data in an iterable format where we need to iterate over the sequence to use the data as they won’t store the entire sequence in the memory."
      ],
      "metadata": {
        "id": "XPvu2u-inocn"
      }
    },
    {
      "cell_type": "code",
      "source": [
        "#Iterator\n",
        "\n",
        "iter_list = iter(['My', 'Name', 'Is', 'TAnay', 'Choubey'])\n",
        "\n",
        "print(type(iter_list))\n",
        "print(next(iter_list))\n",
        "print(next(iter_list))\n",
        "print(next(iter_list))\n",
        "print(next(iter_list))\n",
        "print(next(iter_list))"
      ],
      "metadata": {
        "colab": {
          "base_uri": "https://localhost:8080/"
        },
        "id": "l7SZWotfneoL",
        "outputId": "2d3ecb43-f6e4-48c1-b028-a3ef996bf878"
      },
      "execution_count": 2,
      "outputs": [
        {
          "output_type": "stream",
          "name": "stdout",
          "text": [
            "<class 'list_iterator'>\n",
            "My\n",
            "Name\n",
            "Is\n",
            "TAnay\n",
            "Choubey\n"
          ]
        }
      ]
    },
    {
      "cell_type": "code",
      "source": [
        "#Generator \n",
        "\n",
        "def sq(n):\n",
        "    for i in range(1, n+1):\n",
        "        yield i*i\n",
        "        \n",
        "sq(5)\n",
        "lst = sq(5)\n",
        "\n",
        "print(next(lst))\n",
        "print(next(lst))\n",
        "print(next(lst))\n",
        "print(next(lst))\n",
        "print(next(lst))\n"
      ],
      "metadata": {
        "colab": {
          "base_uri": "https://localhost:8080/"
        },
        "id": "9E2ZNg5zo1N5",
        "outputId": "f41e6deb-b6fc-4634-d8d0-92302b695bbc"
      },
      "execution_count": 5,
      "outputs": [
        {
          "output_type": "stream",
          "name": "stdout",
          "text": [
            "1\n",
            "4\n",
            "9\n",
            "16\n",
            "25\n"
          ]
        }
      ]
    },
    {
      "cell_type": "markdown",
      "source": [
        "\n",
        "\n",
        "---\n",
        "\n"
      ],
      "metadata": {
        "id": "3mJQMWKnpj2A"
      }
    },
    {
      "cell_type": "markdown",
      "source": [
        "**Q. 3:** What are the signs that a function is a generator function?\n",
        "\n",
        "**Ans 3:**  A generator function uses a yield statement instead of a return statement. A generator function will always return a iterable object called generator. where as a normal function can return a string/list/tuple/dict/NoneType etc."
      ],
      "metadata": {
        "id": "dTyvsjusplXQ"
      }
    },
    {
      "cell_type": "markdown",
      "source": [
        "\n",
        "\n",
        "---\n",
        "\n"
      ],
      "metadata": {
        "id": "N5l6xO3xp-fQ"
      }
    },
    {
      "cell_type": "markdown",
      "source": [
        "**Q. 4:** What is the purpose of a yield statement?\n",
        "\n",
        "**Ans 4:** A yield statement looks much like a return statement, except that instead of stopping execution of the function and returning, yield instead provides a value to the code looping over the generator and pauses execution of the generator function."
      ],
      "metadata": {
        "id": "GC_nHI53p_Ho"
      }
    },
    {
      "cell_type": "markdown",
      "source": [
        "\n",
        "\n",
        "---\n",
        "\n"
      ],
      "metadata": {
        "id": "4HQBXknEqac_"
      }
    },
    {
      "cell_type": "markdown",
      "source": [
        "**Q. 5:** What is the relationship between map calls and list comprehensions? Make a comparison and contrast between the two.\n",
        "\n",
        "**Ans 5:** The main differences between map calls and list comprehensiosn are:\n",
        "\n",
        "List comprehension is more concise and easier to read as compared to map.\n",
        "List comprehension allows filtering. In map, we have no such facility. For example, to print all odd numbers in range of 50, we can write [n for n in range(50) if n%2 != 0]. There is no alternate for it in map\n",
        "List comprehension are used when a list of results is required as final output.but map only returns a map object. it needs to be explicitly coverted to desired datatype.\n",
        "List comprehension is faster than map when we need to evaluate expressions that are too long or complicated to express\n",
        "Map is faster in case of calling an already defined function on a set of values."
      ],
      "metadata": {
        "id": "-o_Zc2n_qbj4"
      }
    },
    {
      "cell_type": "markdown",
      "source": [
        "\n",
        "\n",
        "---\n",
        "\n"
      ],
      "metadata": {
        "id": "U0KX-yT2qvs4"
      }
    }
  ]
}