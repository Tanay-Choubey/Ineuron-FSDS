{
  "nbformat": 4,
  "nbformat_minor": 0,
  "metadata": {
    "colab": {
      "provenance": []
    },
    "kernelspec": {
      "name": "python3",
      "display_name": "Python 3"
    },
    "language_info": {
      "name": "python"
    }
  },
  "cells": [
    {
      "cell_type": "markdown",
      "source": [
        "# **Assignment 11**"
      ],
      "metadata": {
        "id": "5f06qpqWNoJr"
      }
    },
    {
      "cell_type": "markdown",
      "source": [
        "**Q. 1:** Create an assert statement that throws an AssertionError if the variable spam is a negative integer.\n",
        "\n",
        "**Ans 1:** The assert statement is used to only continue the execution if the given condition evaluates to True."
      ],
      "metadata": {
        "id": "clGH-Z5hNv9R"
      }
    },
    {
      "cell_type": "code",
      "source": [
        "spam = -42\n",
        "assert spam >=0, 'Variable Spam should not be a -ve number'"
      ],
      "metadata": {
        "colab": {
          "base_uri": "https://localhost:8080/",
          "height": 182
        },
        "id": "o8sAHPnzim68",
        "outputId": "a8fd9a91-4666-42d5-f241-66a29e227b9d"
      },
      "execution_count": 1,
      "outputs": [
        {
          "output_type": "error",
          "ename": "AssertionError",
          "evalue": "ignored",
          "traceback": [
            "\u001b[0;31m---------------------------------------------------------------------------\u001b[0m",
            "\u001b[0;31mAssertionError\u001b[0m                            Traceback (most recent call last)",
            "\u001b[0;32m<ipython-input-1-2e44cd3ee464>\u001b[0m in \u001b[0;36m<module>\u001b[0;34m\u001b[0m\n\u001b[1;32m      1\u001b[0m \u001b[0mspam\u001b[0m \u001b[0;34m=\u001b[0m \u001b[0;34m-\u001b[0m\u001b[0;36m42\u001b[0m\u001b[0;34m\u001b[0m\u001b[0;34m\u001b[0m\u001b[0m\n\u001b[0;32m----> 2\u001b[0;31m \u001b[0;32massert\u001b[0m \u001b[0mspam\u001b[0m \u001b[0;34m>=\u001b[0m\u001b[0;36m0\u001b[0m\u001b[0;34m,\u001b[0m \u001b[0;34m'Variable Spam should not be a -ve number'\u001b[0m\u001b[0;34m\u001b[0m\u001b[0;34m\u001b[0m\u001b[0m\n\u001b[0m",
            "\u001b[0;31mAssertionError\u001b[0m: Variable Spam should not be a -ve number"
          ]
        }
      ]
    },
    {
      "cell_type": "markdown",
      "source": [
        "\n",
        "\n",
        "---\n",
        "\n"
      ],
      "metadata": {
        "id": "65LK5O7DlCp8"
      }
    },
    {
      "cell_type": "markdown",
      "source": [
        "**Q. 2:** Write an assert statement that triggers an AssertionError if the variables eggs and bacon contain strings that are the same as each other, even if their cases are different (that is, 'hello' and 'hello' are considered the same, and 'goodbye' and 'GOODbye' are also considered the same).\n",
        "\n",
        "**Ans 2:**  "
      ],
      "metadata": {
        "id": "9-NItVgbi9lf"
      }
    },
    {
      "cell_type": "code",
      "source": [
        "def raise_assert(egg,bacon):\n",
        "    egg = egg.upper()\n",
        "    bacon = bacon.upper()\n",
        "    assert not(egg == bacon), 'Eggs/Bacon should not be same, which are same now'"
      ],
      "metadata": {
        "id": "8lS_oid6kJmm"
      },
      "execution_count": 2,
      "outputs": []
    },
    {
      "cell_type": "code",
      "source": [
        "raise_assert(\"hello\" , \"HELLO\")"
      ],
      "metadata": {
        "colab": {
          "base_uri": "https://localhost:8080/",
          "height": 252
        },
        "id": "M7iLhM84iwN3",
        "outputId": "b5290fe3-2779-4fcf-f325-e990192108ac"
      },
      "execution_count": 3,
      "outputs": [
        {
          "output_type": "error",
          "ename": "AssertionError",
          "evalue": "ignored",
          "traceback": [
            "\u001b[0;31m---------------------------------------------------------------------------\u001b[0m",
            "\u001b[0;31mAssertionError\u001b[0m                            Traceback (most recent call last)",
            "\u001b[0;32m<ipython-input-3-20f00968ec05>\u001b[0m in \u001b[0;36m<module>\u001b[0;34m\u001b[0m\n\u001b[0;32m----> 1\u001b[0;31m \u001b[0mraise_assert\u001b[0m\u001b[0;34m(\u001b[0m\u001b[0;34m\"hello\"\u001b[0m \u001b[0;34m,\u001b[0m \u001b[0;34m\"HELLO\"\u001b[0m\u001b[0;34m)\u001b[0m\u001b[0;34m\u001b[0m\u001b[0;34m\u001b[0m\u001b[0m\n\u001b[0m",
            "\u001b[0;32m<ipython-input-2-aeff50e9b554>\u001b[0m in \u001b[0;36mraise_assert\u001b[0;34m(egg, bacon)\u001b[0m\n\u001b[1;32m      2\u001b[0m     \u001b[0megg\u001b[0m \u001b[0;34m=\u001b[0m \u001b[0megg\u001b[0m\u001b[0;34m.\u001b[0m\u001b[0mupper\u001b[0m\u001b[0;34m(\u001b[0m\u001b[0;34m)\u001b[0m\u001b[0;34m\u001b[0m\u001b[0;34m\u001b[0m\u001b[0m\n\u001b[1;32m      3\u001b[0m     \u001b[0mbacon\u001b[0m \u001b[0;34m=\u001b[0m \u001b[0mbacon\u001b[0m\u001b[0;34m.\u001b[0m\u001b[0mupper\u001b[0m\u001b[0;34m(\u001b[0m\u001b[0;34m)\u001b[0m\u001b[0;34m\u001b[0m\u001b[0;34m\u001b[0m\u001b[0m\n\u001b[0;32m----> 4\u001b[0;31m     \u001b[0;32massert\u001b[0m \u001b[0;32mnot\u001b[0m\u001b[0;34m(\u001b[0m\u001b[0megg\u001b[0m \u001b[0;34m==\u001b[0m \u001b[0mbacon\u001b[0m\u001b[0;34m)\u001b[0m\u001b[0;34m,\u001b[0m \u001b[0;34m'Eggs/Bacon should not be same, which are same now'\u001b[0m\u001b[0;34m\u001b[0m\u001b[0;34m\u001b[0m\u001b[0m\n\u001b[0m",
            "\u001b[0;31mAssertionError\u001b[0m: Eggs/Bacon should not be same, which are same now"
          ]
        }
      ]
    },
    {
      "cell_type": "code",
      "source": [
        "raise_assert(\"goodbye\" , \"GOODbye\")"
      ],
      "metadata": {
        "colab": {
          "base_uri": "https://localhost:8080/",
          "height": 252
        },
        "id": "n28Rs4qeka4b",
        "outputId": "238810a4-bd4b-49db-d4d2-b00e4c48d36f"
      },
      "execution_count": 4,
      "outputs": [
        {
          "output_type": "error",
          "ename": "AssertionError",
          "evalue": "ignored",
          "traceback": [
            "\u001b[0;31m---------------------------------------------------------------------------\u001b[0m",
            "\u001b[0;31mAssertionError\u001b[0m                            Traceback (most recent call last)",
            "\u001b[0;32m<ipython-input-4-b30f77f8cc82>\u001b[0m in \u001b[0;36m<module>\u001b[0;34m\u001b[0m\n\u001b[0;32m----> 1\u001b[0;31m \u001b[0mraise_assert\u001b[0m\u001b[0;34m(\u001b[0m\u001b[0;34m\"goodbye\"\u001b[0m \u001b[0;34m,\u001b[0m \u001b[0;34m\"GOODbye\"\u001b[0m\u001b[0;34m)\u001b[0m\u001b[0;34m\u001b[0m\u001b[0;34m\u001b[0m\u001b[0m\n\u001b[0m",
            "\u001b[0;32m<ipython-input-2-aeff50e9b554>\u001b[0m in \u001b[0;36mraise_assert\u001b[0;34m(egg, bacon)\u001b[0m\n\u001b[1;32m      2\u001b[0m     \u001b[0megg\u001b[0m \u001b[0;34m=\u001b[0m \u001b[0megg\u001b[0m\u001b[0;34m.\u001b[0m\u001b[0mupper\u001b[0m\u001b[0;34m(\u001b[0m\u001b[0;34m)\u001b[0m\u001b[0;34m\u001b[0m\u001b[0;34m\u001b[0m\u001b[0m\n\u001b[1;32m      3\u001b[0m     \u001b[0mbacon\u001b[0m \u001b[0;34m=\u001b[0m \u001b[0mbacon\u001b[0m\u001b[0;34m.\u001b[0m\u001b[0mupper\u001b[0m\u001b[0;34m(\u001b[0m\u001b[0;34m)\u001b[0m\u001b[0;34m\u001b[0m\u001b[0;34m\u001b[0m\u001b[0m\n\u001b[0;32m----> 4\u001b[0;31m     \u001b[0;32massert\u001b[0m \u001b[0;32mnot\u001b[0m\u001b[0;34m(\u001b[0m\u001b[0megg\u001b[0m \u001b[0;34m==\u001b[0m \u001b[0mbacon\u001b[0m\u001b[0;34m)\u001b[0m\u001b[0;34m,\u001b[0m \u001b[0;34m'Eggs/Bacon should not be same, which are same now'\u001b[0m\u001b[0;34m\u001b[0m\u001b[0;34m\u001b[0m\u001b[0m\n\u001b[0m",
            "\u001b[0;31mAssertionError\u001b[0m: Eggs/Bacon should not be same, which are same now"
          ]
        }
      ]
    },
    {
      "cell_type": "markdown",
      "source": [
        "\n",
        "\n",
        "---\n",
        "\n"
      ],
      "metadata": {
        "id": "ngYKoTtFlA8O"
      }
    },
    {
      "cell_type": "markdown",
      "source": [
        "**Q. 3:** Create an assert statement that throws an AssertionError every time.\n",
        "\n",
        "**Ans 3:** "
      ],
      "metadata": {
        "id": "wzXv1gb7lFrp"
      }
    },
    {
      "cell_type": "code",
      "source": [
        "def assert_always():\n",
        "    assert False, 'Always Shows Assertion Error'\n",
        "assert_always()"
      ],
      "metadata": {
        "colab": {
          "base_uri": "https://localhost:8080/",
          "height": 287
        },
        "id": "wWfY9JQlk5cu",
        "outputId": "ec765747-46e0-42f1-d091-675ad0b8282f"
      },
      "execution_count": 5,
      "outputs": [
        {
          "output_type": "error",
          "ename": "AssertionError",
          "evalue": "ignored",
          "traceback": [
            "\u001b[0;31m---------------------------------------------------------------------------\u001b[0m",
            "\u001b[0;31mAssertionError\u001b[0m                            Traceback (most recent call last)",
            "\u001b[0;32m<ipython-input-5-b25c0da8a33f>\u001b[0m in \u001b[0;36m<module>\u001b[0;34m\u001b[0m\n\u001b[1;32m      1\u001b[0m \u001b[0;32mdef\u001b[0m \u001b[0massert_always\u001b[0m\u001b[0;34m(\u001b[0m\u001b[0;34m)\u001b[0m\u001b[0;34m:\u001b[0m\u001b[0;34m\u001b[0m\u001b[0;34m\u001b[0m\u001b[0m\n\u001b[1;32m      2\u001b[0m     \u001b[0;32massert\u001b[0m \u001b[0;32mFalse\u001b[0m\u001b[0;34m,\u001b[0m \u001b[0;34m'Always Shows Assertion Error'\u001b[0m\u001b[0;34m\u001b[0m\u001b[0;34m\u001b[0m\u001b[0m\n\u001b[0;32m----> 3\u001b[0;31m \u001b[0massert_always\u001b[0m\u001b[0;34m(\u001b[0m\u001b[0;34m)\u001b[0m\u001b[0;34m\u001b[0m\u001b[0;34m\u001b[0m\u001b[0m\n\u001b[0m",
            "\u001b[0;32m<ipython-input-5-b25c0da8a33f>\u001b[0m in \u001b[0;36massert_always\u001b[0;34m()\u001b[0m\n\u001b[1;32m      1\u001b[0m \u001b[0;32mdef\u001b[0m \u001b[0massert_always\u001b[0m\u001b[0;34m(\u001b[0m\u001b[0;34m)\u001b[0m\u001b[0;34m:\u001b[0m\u001b[0;34m\u001b[0m\u001b[0;34m\u001b[0m\u001b[0m\n\u001b[0;32m----> 2\u001b[0;31m     \u001b[0;32massert\u001b[0m \u001b[0;32mFalse\u001b[0m\u001b[0;34m,\u001b[0m \u001b[0;34m'Always Shows Assertion Error'\u001b[0m\u001b[0;34m\u001b[0m\u001b[0;34m\u001b[0m\u001b[0m\n\u001b[0m\u001b[1;32m      3\u001b[0m \u001b[0massert_always\u001b[0m\u001b[0;34m(\u001b[0m\u001b[0;34m)\u001b[0m\u001b[0;34m\u001b[0m\u001b[0;34m\u001b[0m\u001b[0m\n",
            "\u001b[0;31mAssertionError\u001b[0m: Always Shows Assertion Error"
          ]
        }
      ]
    },
    {
      "cell_type": "markdown",
      "source": [
        "\n",
        "\n",
        "---\n",
        "\n"
      ],
      "metadata": {
        "id": "R7xGFol0lpJW"
      }
    },
    {
      "cell_type": "markdown",
      "source": [
        "**Q. 4:** What are the two lines that must be present in your software in order to call logging.debug()?\n",
        "\n",
        "**Ans 4:**"
      ],
      "metadata": {
        "id": "eejLvdXAlqLe"
      }
    },
    {
      "cell_type": "code",
      "source": [
        "import logging\n",
        "logging.basicConfig(filename = 'application_log.txt',level=logging.DEBUG, format=' %(asctime)s - %(levelname)s - %(message)s')"
      ],
      "metadata": {
        "id": "s9MwoMKglniA"
      },
      "execution_count": 11,
      "outputs": []
    },
    {
      "cell_type": "markdown",
      "source": [
        "\n",
        "\n",
        "---\n",
        "\n"
      ],
      "metadata": {
        "id": "vRPN0XOamTK3"
      }
    },
    {
      "cell_type": "markdown",
      "source": [
        "**Q. 5:** What are the two lines that your program must have in order to have logging.debug() send a logging message to a file named programLog.txt?\n",
        "\n",
        "**Ans 5:**  "
      ],
      "metadata": {
        "id": "uYo1RZZzmVYb"
      }
    },
    {
      "cell_type": "code",
      "source": [
        "import logging\n",
        "logging.basicConfig(filename = 'application_log.txt',level=logging.DEBUG, format=' %(asctime)s - %(levelname)s - %(message)s')\n",
        "logging.debug(\"Data Inserted Successfully\")\n",
        "logging.debug('Connection Closed Successfully')"
      ],
      "metadata": {
        "id": "rSOsCHirmROw"
      },
      "execution_count": 9,
      "outputs": []
    },
    {
      "cell_type": "code",
      "source": [
        "file = open(\"./application_log.txt\",\"r\")\n",
        "for record in file.readlines():\n",
        "    print(record)"
      ],
      "metadata": {
        "id": "oMYZzQsrnDyy"
      },
      "execution_count": null,
      "outputs": []
    },
    {
      "cell_type": "markdown",
      "source": [
        "\n",
        "\n",
        "---\n",
        "\n"
      ],
      "metadata": {
        "id": "Tsj1kTSTn1wN"
      }
    },
    {
      "cell_type": "markdown",
      "source": [
        "**Q. 6:** What are the five levels of logging?\n",
        "\n",
        "**Ans 6:** The Five levels of Logging provided by python's logging module are:\n",
        "\n",
        "\n",
        "1.   CRITICAL(50)\n",
        "2.   ERROR(40)\n",
        "3.   WARNING(30)\n",
        "4.   INFO(20)\n",
        "5.   DEBUG(10)\n",
        "\n"
      ],
      "metadata": {
        "id": "UJe8z0vEn3lq"
      }
    },
    {
      "cell_type": "markdown",
      "source": [
        "\n",
        "\n",
        "---\n",
        "\n"
      ],
      "metadata": {
        "id": "h8dZk8Vgpkl6"
      }
    },
    {
      "cell_type": "markdown",
      "source": [
        "**Q. 7:** What line of code would you add to your software to disable all logging messages?\n",
        "\n",
        "**Ans 7:** "
      ],
      "metadata": {
        "id": "glrNFlsspm7B"
      }
    },
    {
      "cell_type": "code",
      "source": [
        "logging.disable = True"
      ],
      "metadata": {
        "id": "THCq3cCLpjgL"
      },
      "execution_count": 13,
      "outputs": []
    },
    {
      "cell_type": "markdown",
      "source": [
        "\n",
        "\n",
        "---\n",
        "\n"
      ],
      "metadata": {
        "id": "M858BJ2pp8MD"
      }
    },
    {
      "cell_type": "markdown",
      "source": [
        "**Q. 8:** Why is using logging messages better than using print() to display the same message?\n",
        "\n",
        "**Ans 8:** It helps to see where and when a logging call is being made from. \n",
        "We can differentiate logging based on severity whereas print does not have any of them."
      ],
      "metadata": {
        "id": "XXj0Obc4p9q2"
      }
    },
    {
      "cell_type": "markdown",
      "source": [
        "\n",
        "\n",
        "---\n",
        "\n"
      ],
      "metadata": {
        "id": "L2ihJMOorAph"
      }
    },
    {
      "cell_type": "markdown",
      "source": [
        "**Q. 9:** What are the differences between the Step Over, Step In, and Step Out buttons in the debugger?\n",
        "\n",
        "**Ans 9:** The Differences between Step Over, Step In, Step Out buttons in debugger are:\n",
        "\n",
        "1.Step in - Step In button will cause the debugger to execute the next line of code and then pause again.\n",
        "\n",
        "2.Step Over - Step Over button will execute the next line of code, similar to the Step In button. However, if the next line of code is a function call, the Step Over button will “step over” the code in the function. The function’s code will be executed at full speed, and the debugger will pause as soon as the function call returns.\n",
        "\n",
        "3.Step out - Step Out button will cause the debugger to execute lines of code at full speed until it returns from the current function."
      ],
      "metadata": {
        "id": "orqfizE3rBiZ"
      }
    },
    {
      "cell_type": "markdown",
      "source": [
        "\n",
        "\n",
        "---\n",
        "\n"
      ],
      "metadata": {
        "id": "-N-A1JVprcWq"
      }
    },
    {
      "cell_type": "markdown",
      "source": [
        "**Q. 10:** After you click Continue, when will the debugger stop?\n",
        "\n",
        "**Ans 10:** After you click Continue, the debugger will stop when it has reached the end of the program or a line with a breakpoint."
      ],
      "metadata": {
        "id": "nSK0nivcrdlN"
      }
    },
    {
      "cell_type": "markdown",
      "source": [
        "\n",
        "\n",
        "---\n"
      ],
      "metadata": {
        "id": "PHfxNRtsr8vU"
      }
    },
    {
      "cell_type": "markdown",
      "source": [
        "**Q. 11:** What is the concept of a breakpoint?\n",
        "\n",
        "**Ans 11:** A breakpoint is a setting on a line of code that causes the debugger to pause when the program execution reaches the line."
      ],
      "metadata": {
        "id": "WqwRNwVTr_4y"
      }
    },
    {
      "cell_type": "markdown",
      "source": [
        "\n",
        "\n",
        "---\n",
        "\n"
      ],
      "metadata": {
        "id": "o0zL9A1csnls"
      }
    }
  ]
}