{
  "nbformat": 4,
  "nbformat_minor": 0,
  "metadata": {
    "colab": {
      "provenance": []
    },
    "kernelspec": {
      "name": "python3",
      "display_name": "Python 3"
    },
    "language_info": {
      "name": "python"
    }
  },
  "cells": [
    {
      "cell_type": "markdown",
      "source": [
        "# **Assignment 19**"
      ],
      "metadata": {
        "id": "nxtQPKnV8d-j"
      }
    },
    {
      "cell_type": "markdown",
      "source": [
        "**Q. 1:** Make a class called Thing with no contents and print it. Then, create an object called example from this class and also print it. Are the printed values the same or different?\n",
        "\n",
        "**Ans 1:** "
      ],
      "metadata": {
        "id": "BL1_NMDy-fXq"
      }
    },
    {
      "cell_type": "code",
      "source": [
        "class Thing:\n",
        "    pass\n",
        "\n",
        "print(Thing)\n",
        "\n",
        "example = Thing()\n",
        "print(example)"
      ],
      "metadata": {
        "colab": {
          "base_uri": "https://localhost:8080/"
        },
        "id": "Jt16DDHe-3-h",
        "outputId": "5d4df80c-8d69-4d73-917d-488b4c907396"
      },
      "execution_count": 1,
      "outputs": [
        {
          "output_type": "stream",
          "name": "stdout",
          "text": [
            "<class '__main__.Thing'>\n",
            "<__main__.Thing object at 0x7fbe579c99d0>\n"
          ]
        }
      ]
    },
    {
      "cell_type": "markdown",
      "source": [
        "\n",
        "\n",
        "---\n",
        "\n"
      ],
      "metadata": {
        "id": "JkSA1TDl-9VW"
      }
    },
    {
      "cell_type": "markdown",
      "source": [
        "**Q. 2:** Create a new class called Thing2 and add the value 'abc' to the letters class attribute. Letters should be printed.\n",
        "\n",
        "**Ans 2:** "
      ],
      "metadata": {
        "id": "WZUq9VyB--Va"
      }
    },
    {
      "cell_type": "code",
      "source": [
        "class Thing2:\n",
        "    letters = 'abc'\n",
        "    \n",
        "print(Thing2.letters)"
      ],
      "metadata": {
        "colab": {
          "base_uri": "https://localhost:8080/"
        },
        "id": "tD2fGS37-4nF",
        "outputId": "a3834916-481e-459c-b72d-3267b4c4a0e0"
      },
      "execution_count": 2,
      "outputs": [
        {
          "output_type": "stream",
          "name": "stdout",
          "text": [
            "abc\n"
          ]
        }
      ]
    },
    {
      "cell_type": "markdown",
      "source": [
        "\n",
        "\n",
        "---\n",
        "\n"
      ],
      "metadata": {
        "id": "ydyEE0MR_Mp4"
      }
    },
    {
      "cell_type": "markdown",
      "source": [
        "**Q. 3:** Make yet another class called, of course, Thing3. This time, assign the value 'xyz' to an instance (object) attribute called letters. Print letters. Do you need to make an object from the class to do this?\n",
        "\n",
        "**Ans 3:** "
      ],
      "metadata": {
        "id": "3NfxyOBg_Nlz"
      }
    },
    {
      "cell_type": "code",
      "source": [
        "class Thing3:    \n",
        "    def __init__(self):\n",
        "        self.letters = 'xyz'\n",
        "        \n",
        "try:        \n",
        "    print(Thing3.letters) # Will raise a syntax Error\n",
        "except:\n",
        "    my_thing = Thing3()\n",
        "    print(my_thing.letters)"
      ],
      "metadata": {
        "colab": {
          "base_uri": "https://localhost:8080/"
        },
        "id": "it6pDY0S_Li-",
        "outputId": "adadfcea-bddc-4358-fc94-1842017a39aa"
      },
      "execution_count": 3,
      "outputs": [
        {
          "output_type": "stream",
          "name": "stdout",
          "text": [
            "xyz\n"
          ]
        }
      ]
    },
    {
      "cell_type": "markdown",
      "source": [
        "\n",
        "\n",
        "---\n",
        "\n"
      ],
      "metadata": {
        "id": "iPXRBVwgADZc"
      }
    },
    {
      "cell_type": "markdown",
      "source": [
        "**Q. 4:** Create an Element class with the instance attributes name, symbol, and number. Create a class object with the values 'Hydrogen,' 'H,' and 1.\n",
        "\n",
        "**Ans 4:** "
      ],
      "metadata": {
        "id": "vff8x_gnAIZu"
      }
    },
    {
      "cell_type": "code",
      "source": [
        "class Element:\n",
        "    def __init__(self, name, symbol, number):\n",
        "        self.name = name\n",
        "        self.symbol = symbol\n",
        "        self.number = number\n",
        "\n",
        "obj = Element('Hydrogen', 'H', 1)\n",
        "print(obj.name, obj.symbol, obj.number)"
      ],
      "metadata": {
        "colab": {
          "base_uri": "https://localhost:8080/"
        },
        "id": "MOJVguQP_1pY",
        "outputId": "cf7c0d36-ff76-4cf1-bbe1-8d69e9e0f313"
      },
      "execution_count": 4,
      "outputs": [
        {
          "output_type": "stream",
          "name": "stdout",
          "text": [
            "Hydrogen H 1\n"
          ]
        }
      ]
    },
    {
      "cell_type": "markdown",
      "source": [
        "\n",
        "\n",
        "---\n",
        "\n"
      ],
      "metadata": {
        "id": "px4KqYb-AlAy"
      }
    },
    {
      "cell_type": "markdown",
      "source": [
        "**Q. 5:** Make a dictionary with these keys and values: 'name': 'Hydrogen', 'symbol': 'H', 'number': 1. Then, create an object called hydrogen from class Element using this dictionary.\n",
        "\n",
        "**Ans 5:** "
      ],
      "metadata": {
        "id": "O5lfY1JgAmVS"
      }
    },
    {
      "cell_type": "code",
      "source": [
        "dict1 = {'name':'Hydrogen', 'symbol':'H','number': 1}\n",
        "hydrogen = Element(**dict1) # using dictionary unpacking **\n",
        "print(hydrogen.name, hydrogen.symbol, hydrogen.number)"
      ],
      "metadata": {
        "colab": {
          "base_uri": "https://localhost:8080/"
        },
        "id": "hewkPKEhAjA-",
        "outputId": "303e94d8-579c-4376-aa57-2ec5f29e0d1b"
      },
      "execution_count": 5,
      "outputs": [
        {
          "output_type": "stream",
          "name": "stdout",
          "text": [
            "Hydrogen H 1\n"
          ]
        }
      ]
    },
    {
      "cell_type": "markdown",
      "source": [
        "\n",
        "\n",
        "---\n",
        "\n"
      ],
      "metadata": {
        "id": "PkvisqqXBZau"
      }
    },
    {
      "cell_type": "markdown",
      "source": [
        "**Q. 6:** For the Element class, define a method called dump() that prints the values of the object’s attributes (name, symbol, and number). Create the hydrogen object from this new definition and use dump() to print its attributes.\n",
        "\n",
        "\n",
        "**Ans 6:**  "
      ],
      "metadata": {
        "id": "YsTfQMvSBagr"
      }
    },
    {
      "cell_type": "code",
      "source": [
        "class Element:\n",
        "    def __init__(self, name, symbol, number):\n",
        "        self.name = name\n",
        "        self.symbol = symbol\n",
        "        self.number = number      \n",
        "    def dump(self):\n",
        "        print(self.name, self.symbol, self.number)\n",
        "        \n",
        "hydrogen = Element('Hydrogen','H',1)\n",
        "hydrogen.dump()"
      ],
      "metadata": {
        "colab": {
          "base_uri": "https://localhost:8080/"
        },
        "id": "YRyIEuzaBkjS",
        "outputId": "d183a768-e3ab-4df0-d4e8-85374db996b5"
      },
      "execution_count": 6,
      "outputs": [
        {
          "output_type": "stream",
          "name": "stdout",
          "text": [
            "Hydrogen H 1\n"
          ]
        }
      ]
    },
    {
      "cell_type": "markdown",
      "source": [
        "\n",
        "\n",
        "---\n",
        "\n"
      ],
      "metadata": {
        "id": "frBXFNDyB0di"
      }
    },
    {
      "cell_type": "markdown",
      "source": [
        "**Q. 7:** Call print(hydrogen). In the definition of Element, change the name of method dump to __str__, create a new hydrogen object, and call print(hydrogen) again. \n",
        "\n",
        "**Ans 7:** "
      ],
      "metadata": {
        "id": "w52fDa-XB1t9"
      }
    },
    {
      "cell_type": "code",
      "source": [
        "print(hydrogen)\n",
        "\n",
        "class Element:\n",
        "    def __init__(self, name, symbol, number):\n",
        "        self.name = name\n",
        "        self.symbol = symbol\n",
        "        self.number = number      \n",
        "    def __str__(self):\n",
        "        return f'{self.name} {self.symbol} {self.number}'\n",
        "        \n",
        "Hydrogen = Element('Hydrogen','H',1)\n",
        "print(Hydrogen)"
      ],
      "metadata": {
        "colab": {
          "base_uri": "https://localhost:8080/"
        },
        "id": "QsllM7qqBwHL",
        "outputId": "b6ba1040-7c72-4a69-df7a-893b4a52800f"
      },
      "execution_count": 8,
      "outputs": [
        {
          "output_type": "stream",
          "name": "stdout",
          "text": [
            "name = Hydrogen, symbol = H, number = 1\n",
            "Hydrogen H 1\n"
          ]
        }
      ]
    },
    {
      "cell_type": "markdown",
      "source": [
        "\n",
        "\n",
        "---\n",
        "\n"
      ],
      "metadata": {
        "id": "9dra6ITmCqxC"
      }
    },
    {
      "cell_type": "markdown",
      "source": [
        "**Q. 8:** Modify Element to make the attributes name, symbol, and number private. Define a getter property for each to return its value.\n",
        "\n",
        "**Ans 8:** "
      ],
      "metadata": {
        "id": "FQ5jOlkNCrzA"
      }
    },
    {
      "cell_type": "code",
      "source": [
        "class Element:\n",
        "    def __init__(self,name,symbol,number):\n",
        "        self.__name = name\n",
        "        self.__symbol = symbol\n",
        "        self.__number = number\n",
        "    \n",
        "    @property\n",
        "    def get_name(self):\n",
        "        return self.__name\n",
        "    \n",
        "    @property\n",
        "    def get_symbol(self):\n",
        "        return self.__symbol\n",
        "    \n",
        "    @property\n",
        "    def get_number(self):\n",
        "        return self.__number\n",
        "    \n",
        "hydrogen = Element('Hydrogen','H',1)\n",
        "print(hydrogen.get_name)\n",
        "print(hydrogen.get_symbol)\n",
        "print(hydrogen.get_number)"
      ],
      "metadata": {
        "colab": {
          "base_uri": "https://localhost:8080/"
        },
        "id": "W8jAOdHOC5xw",
        "outputId": "3b55143e-ba3c-4249-dfd7-ca72d3ea5fdf"
      },
      "execution_count": 9,
      "outputs": [
        {
          "output_type": "stream",
          "name": "stdout",
          "text": [
            "Hydrogen\n",
            "H\n",
            "1\n"
          ]
        }
      ]
    },
    {
      "cell_type": "markdown",
      "source": [
        "\n",
        "\n",
        "---\n",
        "\n"
      ],
      "metadata": {
        "id": "CNLFqL4ZC7c3"
      }
    },
    {
      "cell_type": "markdown",
      "source": [
        "**Q. 9:** Define three classes: Bear, Rabbit, and Octothorpe. For each, define only one method: eats(). This should return 'berries' (Bear), 'clover' (Rabbit), or 'campers' (Octothorpe). Create one object from each and print what it eats. \n",
        "\n",
        "**Ans 9:** "
      ],
      "metadata": {
        "id": "I97d-7TLC85x"
      }
    },
    {
      "cell_type": "code",
      "source": [
        "class Bear:\n",
        "    def eats(self):\n",
        "        return 'berries'\n",
        "\n",
        "class Rabbit:\n",
        "    def eats(self):\n",
        "        return 'clover'\n",
        "\n",
        "class Octothorpe:\n",
        "    def eats(self):\n",
        "        return 'campers'\n",
        "\n",
        "bear = Bear()\n",
        "rabbit = Rabbit()\n",
        "octo = Octothorpe()\n",
        "print(bear.eats(), rabbit.eats(), octo.eats())"
      ],
      "metadata": {
        "colab": {
          "base_uri": "https://localhost:8080/"
        },
        "id": "mU2fv6-5C6bp",
        "outputId": "3656705e-cef0-4379-f9a6-42801e5be7be"
      },
      "execution_count": 10,
      "outputs": [
        {
          "output_type": "stream",
          "name": "stdout",
          "text": [
            "berries clover campers\n"
          ]
        }
      ]
    },
    {
      "cell_type": "markdown",
      "source": [
        "\n",
        "\n",
        "---\n",
        "\n"
      ],
      "metadata": {
        "id": "v3ssxKK5DTXg"
      }
    },
    {
      "cell_type": "markdown",
      "source": [
        "**Q. 10:** Define these classes: Laser, Claw, and SmartPhone. Each has only one method: does(). This returns 'disintegrate' (Laser), 'crush' (Claw), or 'ring' (SmartPhone). Then, define the class Robot that has one instance (object) of each of these. Define a does() method for the Robot that prints what its component objects do.\n",
        "\n",
        "**Ans 10:** "
      ],
      "metadata": {
        "id": "8DW4lrFGDUcl"
      }
    },
    {
      "cell_type": "code",
      "source": [
        "class Laser:\n",
        "    def does(self):\n",
        "        return 'disintegrate'\n",
        "\n",
        "class Claw:\n",
        "    def does(self):\n",
        "        return 'crush'\n",
        "\n",
        "class SmartPhone:\n",
        "    def does(self):\n",
        "        return 'ring'\n",
        "        \n",
        "class Robot:\n",
        "    def __init__(self):\n",
        "        self.laser = Laser()\n",
        "        self.claw = Claw()\n",
        "        self.smartPhone = SmartPhone()\n",
        "        \n",
        "    def does(self):\n",
        "        print(f\"Laser: {self.laser.does()}\")\n",
        "        print(f\"Claw: {self.claw.does()}\")\n",
        "        print(f\"SmartPhone: {self.smartPhone.does()}\")\n",
        "        \n",
        "robo = Robot()\n",
        "robo.does()"
      ],
      "metadata": {
        "colab": {
          "base_uri": "https://localhost:8080/"
        },
        "id": "VKmlJ49PDR_4",
        "outputId": "5384e301-244f-4d85-8620-090347157e88"
      },
      "execution_count": 11,
      "outputs": [
        {
          "output_type": "stream",
          "name": "stdout",
          "text": [
            "Laser: disintegrate\n",
            "Claw: crush\n",
            "SmartPhone: ring\n"
          ]
        }
      ]
    },
    {
      "cell_type": "markdown",
      "source": [
        "\n",
        "\n",
        "---\n",
        "\n"
      ],
      "metadata": {
        "id": "KZykw19nD2dc"
      }
    }
  ]
}